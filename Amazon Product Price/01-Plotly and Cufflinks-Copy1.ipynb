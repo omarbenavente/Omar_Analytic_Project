{
 "cells": [
  {
   "cell_type": "markdown",
   "metadata": {},
   "source": [
    "___\n",
    "\n",
    "<a href='http://www.pieriandata.com'> <img src='../Pierian_Data_Logo.png' /></a>\n",
    "___\n",
    "# Plotly and Cufflinks"
   ]
  },
  {
   "cell_type": "markdown",
   "metadata": {},
   "source": [
    "Plotly is a library that allows you to create interactive plots that you can use in dashboards or websites (you can save them as html files or static images).\n",
    "\n",
    "## Installation\n",
    "\n",
    "In order for this all to work, you'll need to install plotly and cufflinks to call plots directly off of a pandas dataframe. These libraries are not currently available through **conda** but are available through **pip**. Install the libraries at your command line/terminal using:\n",
    "\n",
    "    pip install plotly\n",
    "    pip install cufflinks\n",
    "\n",
    "** NOTE: Make sure you only have one installation of Python on your computer when you do this, otherwise the installation may not work. **\n",
    "\n",
    "## Imports and Set-up"
   ]
  },
  {
   "cell_type": "code",
   "execution_count": 1,
   "metadata": {},
   "outputs": [],
   "source": [
    "import pandas as pd\n",
    "import numpy as np\n",
    "%matplotlib inline"
   ]
  },
  {
   "cell_type": "code",
   "execution_count": 2,
   "metadata": {},
   "outputs": [
    {
     "name": "stdout",
     "output_type": "stream",
     "text": [
      "5.18.0\n"
     ]
    }
   ],
   "source": [
    "from plotly import __version__\n",
    "from plotly.offline import download_plotlyjs, init_notebook_mode, plot, iplot\n",
    "\n",
    "print(__version__) # requires version >= 1.9.0"
   ]
  },
  {
   "cell_type": "code",
   "execution_count": 3,
   "metadata": {},
   "outputs": [],
   "source": [
    "import cufflinks as cf"
   ]
  },
  {
   "cell_type": "code",
   "execution_count": 4,
   "metadata": {},
   "outputs": [
    {
     "data": {
      "text/html": [
       "        <script type=\"text/javascript\">\n",
       "        window.PlotlyConfig = {MathJaxConfig: 'local'};\n",
       "        if (window.MathJax && window.MathJax.Hub && window.MathJax.Hub.Config) {window.MathJax.Hub.Config({SVG: {font: \"STIX-Web\"}});}\n",
       "        if (typeof require !== 'undefined') {\n",
       "        require.undef(\"plotly\");\n",
       "        requirejs.config({\n",
       "            paths: {\n",
       "                'plotly': ['https://cdn.plot.ly/plotly-2.27.0.min']\n",
       "            }\n",
       "        });\n",
       "        require(['plotly'], function(Plotly) {\n",
       "            window._Plotly = Plotly;\n",
       "        });\n",
       "        }\n",
       "        </script>\n",
       "        "
      ]
     },
     "metadata": {},
     "output_type": "display_data"
    }
   ],
   "source": [
    "# For Notebooks\n",
    "init_notebook_mode(connected=True)"
   ]
  },
  {
   "cell_type": "code",
   "execution_count": 5,
   "metadata": {},
   "outputs": [
    {
     "data": {
      "text/html": [
       "        <script type=\"text/javascript\">\n",
       "        window.PlotlyConfig = {MathJaxConfig: 'local'};\n",
       "        if (window.MathJax && window.MathJax.Hub && window.MathJax.Hub.Config) {window.MathJax.Hub.Config({SVG: {font: \"STIX-Web\"}});}\n",
       "        if (typeof require !== 'undefined') {\n",
       "        require.undef(\"plotly\");\n",
       "        requirejs.config({\n",
       "            paths: {\n",
       "                'plotly': ['https://cdn.plot.ly/plotly-2.27.0.min']\n",
       "            }\n",
       "        });\n",
       "        require(['plotly'], function(Plotly) {\n",
       "            window._Plotly = Plotly;\n",
       "        });\n",
       "        }\n",
       "        </script>\n",
       "        "
      ]
     },
     "metadata": {},
     "output_type": "display_data"
    }
   ],
   "source": [
    "# For offline use\n",
    "cf.go_offline()"
   ]
  },
  {
   "cell_type": "markdown",
   "metadata": {},
   "source": [
    "### Fake Data"
   ]
  },
  {
   "cell_type": "code",
   "execution_count": 6,
   "metadata": {},
   "outputs": [],
   "source": [
    "df = pd.DataFrame(np.random.randn(100,4),columns='A B C D'.split())"
   ]
  },
  {
   "cell_type": "code",
   "execution_count": 7,
   "metadata": {},
   "outputs": [
    {
     "data": {
      "text/html": [
       "<div>\n",
       "<style scoped>\n",
       "    .dataframe tbody tr th:only-of-type {\n",
       "        vertical-align: middle;\n",
       "    }\n",
       "\n",
       "    .dataframe tbody tr th {\n",
       "        vertical-align: top;\n",
       "    }\n",
       "\n",
       "    .dataframe thead th {\n",
       "        text-align: right;\n",
       "    }\n",
       "</style>\n",
       "<table border=\"1\" class=\"dataframe\">\n",
       "  <thead>\n",
       "    <tr style=\"text-align: right;\">\n",
       "      <th></th>\n",
       "      <th>A</th>\n",
       "      <th>B</th>\n",
       "      <th>C</th>\n",
       "      <th>D</th>\n",
       "    </tr>\n",
       "  </thead>\n",
       "  <tbody>\n",
       "    <tr>\n",
       "      <th>0</th>\n",
       "      <td>0.714278</td>\n",
       "      <td>0.021130</td>\n",
       "      <td>-0.943464</td>\n",
       "      <td>-0.983532</td>\n",
       "    </tr>\n",
       "    <tr>\n",
       "      <th>1</th>\n",
       "      <td>1.719903</td>\n",
       "      <td>-2.467978</td>\n",
       "      <td>1.344412</td>\n",
       "      <td>-0.602085</td>\n",
       "    </tr>\n",
       "    <tr>\n",
       "      <th>2</th>\n",
       "      <td>-0.656803</td>\n",
       "      <td>0.483335</td>\n",
       "      <td>0.172159</td>\n",
       "      <td>0.703816</td>\n",
       "    </tr>\n",
       "    <tr>\n",
       "      <th>3</th>\n",
       "      <td>-0.373926</td>\n",
       "      <td>0.233433</td>\n",
       "      <td>1.553711</td>\n",
       "      <td>1.984096</td>\n",
       "    </tr>\n",
       "    <tr>\n",
       "      <th>4</th>\n",
       "      <td>-0.316066</td>\n",
       "      <td>-0.013531</td>\n",
       "      <td>-0.891066</td>\n",
       "      <td>-0.723593</td>\n",
       "    </tr>\n",
       "  </tbody>\n",
       "</table>\n",
       "</div>"
      ],
      "text/plain": [
       "          A         B         C         D\n",
       "0  0.714278  0.021130 -0.943464 -0.983532\n",
       "1  1.719903 -2.467978  1.344412 -0.602085\n",
       "2 -0.656803  0.483335  0.172159  0.703816\n",
       "3 -0.373926  0.233433  1.553711  1.984096\n",
       "4 -0.316066 -0.013531 -0.891066 -0.723593"
      ]
     },
     "execution_count": 7,
     "metadata": {},
     "output_type": "execute_result"
    }
   ],
   "source": [
    "df.head()"
   ]
  },
  {
   "cell_type": "code",
   "execution_count": 8,
   "metadata": {},
   "outputs": [],
   "source": [
    "df2 = pd.DataFrame({'Category':['A','B','C'],'Values':[32,43,50]})"
   ]
  },
  {
   "cell_type": "code",
   "execution_count": 9,
   "metadata": {},
   "outputs": [
    {
     "data": {
      "text/html": [
       "<div>\n",
       "<style scoped>\n",
       "    .dataframe tbody tr th:only-of-type {\n",
       "        vertical-align: middle;\n",
       "    }\n",
       "\n",
       "    .dataframe tbody tr th {\n",
       "        vertical-align: top;\n",
       "    }\n",
       "\n",
       "    .dataframe thead th {\n",
       "        text-align: right;\n",
       "    }\n",
       "</style>\n",
       "<table border=\"1\" class=\"dataframe\">\n",
       "  <thead>\n",
       "    <tr style=\"text-align: right;\">\n",
       "      <th></th>\n",
       "      <th>Category</th>\n",
       "      <th>Values</th>\n",
       "    </tr>\n",
       "  </thead>\n",
       "  <tbody>\n",
       "    <tr>\n",
       "      <th>0</th>\n",
       "      <td>A</td>\n",
       "      <td>32</td>\n",
       "    </tr>\n",
       "    <tr>\n",
       "      <th>1</th>\n",
       "      <td>B</td>\n",
       "      <td>43</td>\n",
       "    </tr>\n",
       "    <tr>\n",
       "      <th>2</th>\n",
       "      <td>C</td>\n",
       "      <td>50</td>\n",
       "    </tr>\n",
       "  </tbody>\n",
       "</table>\n",
       "</div>"
      ],
      "text/plain": [
       "  Category  Values\n",
       "0        A      32\n",
       "1        B      43\n",
       "2        C      50"
      ]
     },
     "execution_count": 9,
     "metadata": {},
     "output_type": "execute_result"
    }
   ],
   "source": [
    "df2.head()"
   ]
  },
  {
   "cell_type": "markdown",
   "metadata": {},
   "source": [
    "## Using Cufflinks and iplot()\n",
    "\n",
    "* scatter\n",
    "* bar\n",
    "* box\n",
    "* spread\n",
    "* ratio\n",
    "* heatmap\n",
    "* surface\n",
    "* histogram\n",
    "* bubble"
   ]
  },
  {
   "cell_type": "markdown",
   "metadata": {},
   "source": [
    "## Scatter"
   ]
  },
  {
   "cell_type": "code",
   "execution_count": 10,
   "metadata": {},
   "outputs": [
    {
     "data": {
      "application/vnd.plotly.v1+json": {
       "config": {
        "linkText": "Export to plot.ly",
        "plotlyServerURL": "https://plot.ly",
        "showLink": true
       },
       "data": [
        {
         "line": {
          "color": "rgba(255, 153, 51, 1.0)",
          "dash": "solid",
          "shape": "linear",
          "width": 1.3
         },
         "marker": {
          "size": 10,
          "symbol": "circle"
         },
         "mode": "markers",
         "name": "B",
         "text": "",
         "type": "scatter",
         "x": [
          0.7142777740002493,
          1.7199028467107027,
          -0.656803403254399,
          -0.37392620679314936,
          -0.31606590443921007,
          0.35505889405438235,
          0.30268661008777253,
          -0.20025345133011221,
          -0.7836855248050619,
          -0.8001492342950658,
          0.5139621668662798,
          0.6479247398677027,
          -0.7211676148282345,
          0.7194291364909836,
          -0.2163419153726224,
          -0.4804535209362682,
          -0.714837323622347,
          1.1990673445619522,
          0.32378499945067485,
          0.32720073545032413,
          -1.2416640093536817,
          -1.0964978401145988,
          -2.1451300195809617,
          -0.4095271017607454,
          -0.45316941062315785,
          -1.122925074551881,
          1.534771250157007,
          0.8082105077168469,
          0.2029478602650499,
          0.8792395730528462,
          1.6238072982147747,
          -1.689598035108892,
          0.7172442956307108,
          1.4796357413226466,
          0.10848653839183443,
          0.2651199463165854,
          -0.448360276786736,
          -0.8717512540566079,
          -1.673236517973046,
          0.15762999583840775,
          0.3231114754169684,
          -2.132193362543313,
          -1.9211723050134575,
          0.2923166142946065,
          1.0379779669930023,
          0.04206636875091591,
          -0.6015462970886982,
          -0.7081127368965313,
          -0.13272123239646805,
          2.289950608975294,
          -0.1742026494967424,
          0.59635132291716,
          0.991485617310549,
          -0.15785058610376146,
          0.15891339279876676,
          1.323390106354316,
          0.7895370254885591,
          0.3639551791777413,
          -2.55375949966317,
          -0.939382779591616,
          -0.8616920966398784,
          0.7238203508712924,
          2.0611264931219995,
          -1.0673993007785716,
          1.4850336351104063,
          -0.17536273373016378,
          -0.6586113604808225,
          1.0852382724029959,
          0.09988394766108045,
          0.26697145343793954,
          -0.508604167253295,
          -0.8952623555402414,
          -0.6681146819732109,
          0.1744415811250902,
          -0.09704809142761688,
          -0.3951710675259424,
          0.724433828075461,
          0.19331020672322452,
          1.31690463122668,
          -0.5019748382265561,
          0.21407155559326627,
          -1.2923542370415495,
          0.6016718634605939,
          -0.16503701845514213,
          1.5203243551375871,
          -0.6557452100418191,
          1.1703097186619138,
          0.4213445354585947,
          1.1003148707214743,
          0.1503838317476397,
          -0.9970229620212248,
          -0.10549357398256586,
          0.3859715646698864,
          0.08402541190919727,
          0.1854135916396423,
          -1.2952897277314197,
          -0.4213245059694718,
          0.7618730883422946,
          -0.23464880537146648,
          -1.7371251770094929
         ],
         "y": [
          0.02113025316214141,
          -2.4679781393279625,
          0.483335436464977,
          0.23343275183544257,
          -0.013530670263819523,
          -0.25274605724693644,
          0.3473353391647001,
          0.05850946264135038,
          -0.33167398556150796,
          -0.5826505647985586,
          -0.5849294552086969,
          -0.31954105313749986,
          1.1986692559184746,
          0.5966633134733866,
          0.6735564992413137,
          -0.9235167788445138,
          -0.6352924694076183,
          1.9740394707525353,
          1.121083702891913,
          -1.4310412193140811,
          0.05236734426799687,
          1.1564237708409333,
          -0.862590797069598,
          0.9883197350285711,
          1.2405829125319803,
          -1.0349746567626237,
          1.1142415536603365,
          -0.510931014535598,
          0.33929255036864875,
          -1.7086447062048555,
          0.1623300555860231,
          -0.7894296447142766,
          0.27146494353613027,
          -0.9233581078784034,
          0.9239563585106843,
          1.240190084937,
          -0.24909041604582954,
          0.46770430331130614,
          1.087508384368392,
          0.7268497068857239,
          -1.9801224820571879,
          -0.3970011783608756,
          -0.8788799454353752,
          0.5246463683079379,
          -1.2308441568728488,
          1.1572020049571972,
          -1.9034609401747042,
          -0.044874475896686826,
          0.5636849694689087,
          -1.2124159074387677,
          1.528049782679351,
          1.2094085465743554,
          -0.6850443070661522,
          -0.9845636294532993,
          -0.9884039790626893,
          -0.262251577330043,
          1.9418229652153194,
          2.0214228285512976,
          -0.0966652922560624,
          -0.10214164808690887,
          0.06395063021477436,
          0.3820445412170909,
          0.2864661093929553,
          0.8494860488516242,
          -0.735311071083744,
          0.22491638213831677,
          -1.5771082822829272,
          0.34539482297280133,
          -0.403319262277709,
          -0.36892593978662797,
          -0.5724218689783241,
          -0.7071986529983127,
          0.4349982418571607,
          1.351847447933669,
          1.6166636282389513,
          0.10911788388401762,
          -2.2510302223138137,
          -0.6388474141987549,
          -0.7170590400106103,
          -0.3771644409300306,
          0.6891544594565927,
          -0.7584405091564508,
          0.6514487791821924,
          0.10571500752184819,
          -1.56410209229144,
          -0.661226422718267,
          0.6375051523459719,
          1.0505603467091036,
          -0.2043218769687843,
          0.18733893178586658,
          1.0311879603876744,
          0.6931802933281493,
          0.3879960879915357,
          -0.5919503305272049,
          0.02626106472165012,
          -0.5409760417361436,
          -0.10754065770234249,
          0.13368455578919725,
          0.47896581167577396,
          -0.11524343282222889
         ]
        }
       ],
       "layout": {
        "legend": {
         "bgcolor": "#F5F6F9",
         "font": {
          "color": "#4D5663"
         }
        },
        "paper_bgcolor": "#F5F6F9",
        "plot_bgcolor": "#F5F6F9",
        "template": {
         "data": {
          "bar": [
           {
            "error_x": {
             "color": "#2a3f5f"
            },
            "error_y": {
             "color": "#2a3f5f"
            },
            "marker": {
             "line": {
              "color": "#E5ECF6",
              "width": 0.5
             },
             "pattern": {
              "fillmode": "overlay",
              "size": 10,
              "solidity": 0.2
             }
            },
            "type": "bar"
           }
          ],
          "barpolar": [
           {
            "marker": {
             "line": {
              "color": "#E5ECF6",
              "width": 0.5
             },
             "pattern": {
              "fillmode": "overlay",
              "size": 10,
              "solidity": 0.2
             }
            },
            "type": "barpolar"
           }
          ],
          "carpet": [
           {
            "aaxis": {
             "endlinecolor": "#2a3f5f",
             "gridcolor": "white",
             "linecolor": "white",
             "minorgridcolor": "white",
             "startlinecolor": "#2a3f5f"
            },
            "baxis": {
             "endlinecolor": "#2a3f5f",
             "gridcolor": "white",
             "linecolor": "white",
             "minorgridcolor": "white",
             "startlinecolor": "#2a3f5f"
            },
            "type": "carpet"
           }
          ],
          "choropleth": [
           {
            "colorbar": {
             "outlinewidth": 0,
             "ticks": ""
            },
            "type": "choropleth"
           }
          ],
          "contour": [
           {
            "colorbar": {
             "outlinewidth": 0,
             "ticks": ""
            },
            "colorscale": [
             [
              0,
              "#0d0887"
             ],
             [
              0.1111111111111111,
              "#46039f"
             ],
             [
              0.2222222222222222,
              "#7201a8"
             ],
             [
              0.3333333333333333,
              "#9c179e"
             ],
             [
              0.4444444444444444,
              "#bd3786"
             ],
             [
              0.5555555555555556,
              "#d8576b"
             ],
             [
              0.6666666666666666,
              "#ed7953"
             ],
             [
              0.7777777777777778,
              "#fb9f3a"
             ],
             [
              0.8888888888888888,
              "#fdca26"
             ],
             [
              1,
              "#f0f921"
             ]
            ],
            "type": "contour"
           }
          ],
          "contourcarpet": [
           {
            "colorbar": {
             "outlinewidth": 0,
             "ticks": ""
            },
            "type": "contourcarpet"
           }
          ],
          "heatmap": [
           {
            "colorbar": {
             "outlinewidth": 0,
             "ticks": ""
            },
            "colorscale": [
             [
              0,
              "#0d0887"
             ],
             [
              0.1111111111111111,
              "#46039f"
             ],
             [
              0.2222222222222222,
              "#7201a8"
             ],
             [
              0.3333333333333333,
              "#9c179e"
             ],
             [
              0.4444444444444444,
              "#bd3786"
             ],
             [
              0.5555555555555556,
              "#d8576b"
             ],
             [
              0.6666666666666666,
              "#ed7953"
             ],
             [
              0.7777777777777778,
              "#fb9f3a"
             ],
             [
              0.8888888888888888,
              "#fdca26"
             ],
             [
              1,
              "#f0f921"
             ]
            ],
            "type": "heatmap"
           }
          ],
          "heatmapgl": [
           {
            "colorbar": {
             "outlinewidth": 0,
             "ticks": ""
            },
            "colorscale": [
             [
              0,
              "#0d0887"
             ],
             [
              0.1111111111111111,
              "#46039f"
             ],
             [
              0.2222222222222222,
              "#7201a8"
             ],
             [
              0.3333333333333333,
              "#9c179e"
             ],
             [
              0.4444444444444444,
              "#bd3786"
             ],
             [
              0.5555555555555556,
              "#d8576b"
             ],
             [
              0.6666666666666666,
              "#ed7953"
             ],
             [
              0.7777777777777778,
              "#fb9f3a"
             ],
             [
              0.8888888888888888,
              "#fdca26"
             ],
             [
              1,
              "#f0f921"
             ]
            ],
            "type": "heatmapgl"
           }
          ],
          "histogram": [
           {
            "marker": {
             "pattern": {
              "fillmode": "overlay",
              "size": 10,
              "solidity": 0.2
             }
            },
            "type": "histogram"
           }
          ],
          "histogram2d": [
           {
            "colorbar": {
             "outlinewidth": 0,
             "ticks": ""
            },
            "colorscale": [
             [
              0,
              "#0d0887"
             ],
             [
              0.1111111111111111,
              "#46039f"
             ],
             [
              0.2222222222222222,
              "#7201a8"
             ],
             [
              0.3333333333333333,
              "#9c179e"
             ],
             [
              0.4444444444444444,
              "#bd3786"
             ],
             [
              0.5555555555555556,
              "#d8576b"
             ],
             [
              0.6666666666666666,
              "#ed7953"
             ],
             [
              0.7777777777777778,
              "#fb9f3a"
             ],
             [
              0.8888888888888888,
              "#fdca26"
             ],
             [
              1,
              "#f0f921"
             ]
            ],
            "type": "histogram2d"
           }
          ],
          "histogram2dcontour": [
           {
            "colorbar": {
             "outlinewidth": 0,
             "ticks": ""
            },
            "colorscale": [
             [
              0,
              "#0d0887"
             ],
             [
              0.1111111111111111,
              "#46039f"
             ],
             [
              0.2222222222222222,
              "#7201a8"
             ],
             [
              0.3333333333333333,
              "#9c179e"
             ],
             [
              0.4444444444444444,
              "#bd3786"
             ],
             [
              0.5555555555555556,
              "#d8576b"
             ],
             [
              0.6666666666666666,
              "#ed7953"
             ],
             [
              0.7777777777777778,
              "#fb9f3a"
             ],
             [
              0.8888888888888888,
              "#fdca26"
             ],
             [
              1,
              "#f0f921"
             ]
            ],
            "type": "histogram2dcontour"
           }
          ],
          "mesh3d": [
           {
            "colorbar": {
             "outlinewidth": 0,
             "ticks": ""
            },
            "type": "mesh3d"
           }
          ],
          "parcoords": [
           {
            "line": {
             "colorbar": {
              "outlinewidth": 0,
              "ticks": ""
             }
            },
            "type": "parcoords"
           }
          ],
          "pie": [
           {
            "automargin": true,
            "type": "pie"
           }
          ],
          "scatter": [
           {
            "fillpattern": {
             "fillmode": "overlay",
             "size": 10,
             "solidity": 0.2
            },
            "type": "scatter"
           }
          ],
          "scatter3d": [
           {
            "line": {
             "colorbar": {
              "outlinewidth": 0,
              "ticks": ""
             }
            },
            "marker": {
             "colorbar": {
              "outlinewidth": 0,
              "ticks": ""
             }
            },
            "type": "scatter3d"
           }
          ],
          "scattercarpet": [
           {
            "marker": {
             "colorbar": {
              "outlinewidth": 0,
              "ticks": ""
             }
            },
            "type": "scattercarpet"
           }
          ],
          "scattergeo": [
           {
            "marker": {
             "colorbar": {
              "outlinewidth": 0,
              "ticks": ""
             }
            },
            "type": "scattergeo"
           }
          ],
          "scattergl": [
           {
            "marker": {
             "colorbar": {
              "outlinewidth": 0,
              "ticks": ""
             }
            },
            "type": "scattergl"
           }
          ],
          "scattermapbox": [
           {
            "marker": {
             "colorbar": {
              "outlinewidth": 0,
              "ticks": ""
             }
            },
            "type": "scattermapbox"
           }
          ],
          "scatterpolar": [
           {
            "marker": {
             "colorbar": {
              "outlinewidth": 0,
              "ticks": ""
             }
            },
            "type": "scatterpolar"
           }
          ],
          "scatterpolargl": [
           {
            "marker": {
             "colorbar": {
              "outlinewidth": 0,
              "ticks": ""
             }
            },
            "type": "scatterpolargl"
           }
          ],
          "scatterternary": [
           {
            "marker": {
             "colorbar": {
              "outlinewidth": 0,
              "ticks": ""
             }
            },
            "type": "scatterternary"
           }
          ],
          "surface": [
           {
            "colorbar": {
             "outlinewidth": 0,
             "ticks": ""
            },
            "colorscale": [
             [
              0,
              "#0d0887"
             ],
             [
              0.1111111111111111,
              "#46039f"
             ],
             [
              0.2222222222222222,
              "#7201a8"
             ],
             [
              0.3333333333333333,
              "#9c179e"
             ],
             [
              0.4444444444444444,
              "#bd3786"
             ],
             [
              0.5555555555555556,
              "#d8576b"
             ],
             [
              0.6666666666666666,
              "#ed7953"
             ],
             [
              0.7777777777777778,
              "#fb9f3a"
             ],
             [
              0.8888888888888888,
              "#fdca26"
             ],
             [
              1,
              "#f0f921"
             ]
            ],
            "type": "surface"
           }
          ],
          "table": [
           {
            "cells": {
             "fill": {
              "color": "#EBF0F8"
             },
             "line": {
              "color": "white"
             }
            },
            "header": {
             "fill": {
              "color": "#C8D4E3"
             },
             "line": {
              "color": "white"
             }
            },
            "type": "table"
           }
          ]
         },
         "layout": {
          "annotationdefaults": {
           "arrowcolor": "#2a3f5f",
           "arrowhead": 0,
           "arrowwidth": 1
          },
          "autotypenumbers": "strict",
          "coloraxis": {
           "colorbar": {
            "outlinewidth": 0,
            "ticks": ""
           }
          },
          "colorscale": {
           "diverging": [
            [
             0,
             "#8e0152"
            ],
            [
             0.1,
             "#c51b7d"
            ],
            [
             0.2,
             "#de77ae"
            ],
            [
             0.3,
             "#f1b6da"
            ],
            [
             0.4,
             "#fde0ef"
            ],
            [
             0.5,
             "#f7f7f7"
            ],
            [
             0.6,
             "#e6f5d0"
            ],
            [
             0.7,
             "#b8e186"
            ],
            [
             0.8,
             "#7fbc41"
            ],
            [
             0.9,
             "#4d9221"
            ],
            [
             1,
             "#276419"
            ]
           ],
           "sequential": [
            [
             0,
             "#0d0887"
            ],
            [
             0.1111111111111111,
             "#46039f"
            ],
            [
             0.2222222222222222,
             "#7201a8"
            ],
            [
             0.3333333333333333,
             "#9c179e"
            ],
            [
             0.4444444444444444,
             "#bd3786"
            ],
            [
             0.5555555555555556,
             "#d8576b"
            ],
            [
             0.6666666666666666,
             "#ed7953"
            ],
            [
             0.7777777777777778,
             "#fb9f3a"
            ],
            [
             0.8888888888888888,
             "#fdca26"
            ],
            [
             1,
             "#f0f921"
            ]
           ],
           "sequentialminus": [
            [
             0,
             "#0d0887"
            ],
            [
             0.1111111111111111,
             "#46039f"
            ],
            [
             0.2222222222222222,
             "#7201a8"
            ],
            [
             0.3333333333333333,
             "#9c179e"
            ],
            [
             0.4444444444444444,
             "#bd3786"
            ],
            [
             0.5555555555555556,
             "#d8576b"
            ],
            [
             0.6666666666666666,
             "#ed7953"
            ],
            [
             0.7777777777777778,
             "#fb9f3a"
            ],
            [
             0.8888888888888888,
             "#fdca26"
            ],
            [
             1,
             "#f0f921"
            ]
           ]
          },
          "colorway": [
           "#636efa",
           "#EF553B",
           "#00cc96",
           "#ab63fa",
           "#FFA15A",
           "#19d3f3",
           "#FF6692",
           "#B6E880",
           "#FF97FF",
           "#FECB52"
          ],
          "font": {
           "color": "#2a3f5f"
          },
          "geo": {
           "bgcolor": "white",
           "lakecolor": "white",
           "landcolor": "#E5ECF6",
           "showlakes": true,
           "showland": true,
           "subunitcolor": "white"
          },
          "hoverlabel": {
           "align": "left"
          },
          "hovermode": "closest",
          "mapbox": {
           "style": "light"
          },
          "paper_bgcolor": "white",
          "plot_bgcolor": "#E5ECF6",
          "polar": {
           "angularaxis": {
            "gridcolor": "white",
            "linecolor": "white",
            "ticks": ""
           },
           "bgcolor": "#E5ECF6",
           "radialaxis": {
            "gridcolor": "white",
            "linecolor": "white",
            "ticks": ""
           }
          },
          "scene": {
           "xaxis": {
            "backgroundcolor": "#E5ECF6",
            "gridcolor": "white",
            "gridwidth": 2,
            "linecolor": "white",
            "showbackground": true,
            "ticks": "",
            "zerolinecolor": "white"
           },
           "yaxis": {
            "backgroundcolor": "#E5ECF6",
            "gridcolor": "white",
            "gridwidth": 2,
            "linecolor": "white",
            "showbackground": true,
            "ticks": "",
            "zerolinecolor": "white"
           },
           "zaxis": {
            "backgroundcolor": "#E5ECF6",
            "gridcolor": "white",
            "gridwidth": 2,
            "linecolor": "white",
            "showbackground": true,
            "ticks": "",
            "zerolinecolor": "white"
           }
          },
          "shapedefaults": {
           "line": {
            "color": "#2a3f5f"
           }
          },
          "ternary": {
           "aaxis": {
            "gridcolor": "white",
            "linecolor": "white",
            "ticks": ""
           },
           "baxis": {
            "gridcolor": "white",
            "linecolor": "white",
            "ticks": ""
           },
           "bgcolor": "#E5ECF6",
           "caxis": {
            "gridcolor": "white",
            "linecolor": "white",
            "ticks": ""
           }
          },
          "title": {
           "x": 0.05
          },
          "xaxis": {
           "automargin": true,
           "gridcolor": "white",
           "linecolor": "white",
           "ticks": "",
           "title": {
            "standoff": 15
           },
           "zerolinecolor": "white",
           "zerolinewidth": 2
          },
          "yaxis": {
           "automargin": true,
           "gridcolor": "white",
           "linecolor": "white",
           "ticks": "",
           "title": {
            "standoff": 15
           },
           "zerolinecolor": "white",
           "zerolinewidth": 2
          }
         }
        },
        "title": {
         "font": {
          "color": "#4D5663"
         }
        },
        "xaxis": {
         "gridcolor": "#E1E5ED",
         "showgrid": true,
         "tickfont": {
          "color": "#4D5663"
         },
         "title": {
          "font": {
           "color": "#4D5663"
          },
          "text": ""
         },
         "zerolinecolor": "#E1E5ED"
        },
        "yaxis": {
         "gridcolor": "#E1E5ED",
         "showgrid": true,
         "tickfont": {
          "color": "#4D5663"
         },
         "title": {
          "font": {
           "color": "#4D5663"
          },
          "text": ""
         },
         "zerolinecolor": "#E1E5ED"
        }
       }
      },
      "text/html": [
       "<div>                            <div id=\"6b2ce004-cb82-4ab6-a59c-2a3a8dd63338\" class=\"plotly-graph-div\" style=\"height:525px; width:100%;\"></div>            <script type=\"text/javascript\">                require([\"plotly\"], function(Plotly) {                    window.PLOTLYENV=window.PLOTLYENV || {};\n",
       "                    window.PLOTLYENV.BASE_URL='https://plot.ly';                                    if (document.getElementById(\"6b2ce004-cb82-4ab6-a59c-2a3a8dd63338\")) {                    Plotly.newPlot(                        \"6b2ce004-cb82-4ab6-a59c-2a3a8dd63338\",                        [{\"line\":{\"color\":\"rgba(255, 153, 51, 1.0)\",\"dash\":\"solid\",\"shape\":\"linear\",\"width\":1.3},\"marker\":{\"size\":10,\"symbol\":\"circle\"},\"mode\":\"markers\",\"name\":\"B\",\"text\":\"\",\"x\":[0.7142777740002493,1.7199028467107027,-0.656803403254399,-0.37392620679314936,-0.31606590443921007,0.35505889405438235,0.30268661008777253,-0.20025345133011221,-0.7836855248050619,-0.8001492342950658,0.5139621668662798,0.6479247398677027,-0.7211676148282345,0.7194291364909836,-0.2163419153726224,-0.4804535209362682,-0.714837323622347,1.1990673445619522,0.32378499945067485,0.32720073545032413,-1.2416640093536817,-1.0964978401145988,-2.1451300195809617,-0.4095271017607454,-0.45316941062315785,-1.122925074551881,1.534771250157007,0.8082105077168469,0.2029478602650499,0.8792395730528462,1.6238072982147747,-1.689598035108892,0.7172442956307108,1.4796357413226466,0.10848653839183443,0.2651199463165854,-0.448360276786736,-0.8717512540566079,-1.673236517973046,0.15762999583840775,0.3231114754169684,-2.132193362543313,-1.9211723050134575,0.2923166142946065,1.0379779669930023,0.04206636875091591,-0.6015462970886982,-0.7081127368965313,-0.13272123239646805,2.289950608975294,-0.1742026494967424,0.59635132291716,0.991485617310549,-0.15785058610376146,0.15891339279876676,1.323390106354316,0.7895370254885591,0.3639551791777413,-2.55375949966317,-0.939382779591616,-0.8616920966398784,0.7238203508712924,2.0611264931219995,-1.0673993007785716,1.4850336351104063,-0.17536273373016378,-0.6586113604808225,1.0852382724029959,0.09988394766108045,0.26697145343793954,-0.508604167253295,-0.8952623555402414,-0.6681146819732109,0.1744415811250902,-0.09704809142761688,-0.3951710675259424,0.724433828075461,0.19331020672322452,1.31690463122668,-0.5019748382265561,0.21407155559326627,-1.2923542370415495,0.6016718634605939,-0.16503701845514213,1.5203243551375871,-0.6557452100418191,1.1703097186619138,0.4213445354585947,1.1003148707214743,0.1503838317476397,-0.9970229620212248,-0.10549357398256586,0.3859715646698864,0.08402541190919727,0.1854135916396423,-1.2952897277314197,-0.4213245059694718,0.7618730883422946,-0.23464880537146648,-1.7371251770094929],\"y\":[0.02113025316214141,-2.4679781393279625,0.483335436464977,0.23343275183544257,-0.013530670263819523,-0.25274605724693644,0.3473353391647001,0.05850946264135038,-0.33167398556150796,-0.5826505647985586,-0.5849294552086969,-0.31954105313749986,1.1986692559184746,0.5966633134733866,0.6735564992413137,-0.9235167788445138,-0.6352924694076183,1.9740394707525353,1.121083702891913,-1.4310412193140811,0.05236734426799687,1.1564237708409333,-0.862590797069598,0.9883197350285711,1.2405829125319803,-1.0349746567626237,1.1142415536603365,-0.510931014535598,0.33929255036864875,-1.7086447062048555,0.1623300555860231,-0.7894296447142766,0.27146494353613027,-0.9233581078784034,0.9239563585106843,1.240190084937,-0.24909041604582954,0.46770430331130614,1.087508384368392,0.7268497068857239,-1.9801224820571879,-0.3970011783608756,-0.8788799454353752,0.5246463683079379,-1.2308441568728488,1.1572020049571972,-1.9034609401747042,-0.044874475896686826,0.5636849694689087,-1.2124159074387677,1.528049782679351,1.2094085465743554,-0.6850443070661522,-0.9845636294532993,-0.9884039790626893,-0.262251577330043,1.9418229652153194,2.0214228285512976,-0.0966652922560624,-0.10214164808690887,0.06395063021477436,0.3820445412170909,0.2864661093929553,0.8494860488516242,-0.735311071083744,0.22491638213831677,-1.5771082822829272,0.34539482297280133,-0.403319262277709,-0.36892593978662797,-0.5724218689783241,-0.7071986529983127,0.4349982418571607,1.351847447933669,1.6166636282389513,0.10911788388401762,-2.2510302223138137,-0.6388474141987549,-0.7170590400106103,-0.3771644409300306,0.6891544594565927,-0.7584405091564508,0.6514487791821924,0.10571500752184819,-1.56410209229144,-0.661226422718267,0.6375051523459719,1.0505603467091036,-0.2043218769687843,0.18733893178586658,1.0311879603876744,0.6931802933281493,0.3879960879915357,-0.5919503305272049,0.02626106472165012,-0.5409760417361436,-0.10754065770234249,0.13368455578919725,0.47896581167577396,-0.11524343282222889],\"type\":\"scatter\"}],                        {\"legend\":{\"bgcolor\":\"#F5F6F9\",\"font\":{\"color\":\"#4D5663\"}},\"paper_bgcolor\":\"#F5F6F9\",\"plot_bgcolor\":\"#F5F6F9\",\"template\":{\"data\":{\"barpolar\":[{\"marker\":{\"line\":{\"color\":\"#E5ECF6\",\"width\":0.5},\"pattern\":{\"fillmode\":\"overlay\",\"size\":10,\"solidity\":0.2}},\"type\":\"barpolar\"}],\"bar\":[{\"error_x\":{\"color\":\"#2a3f5f\"},\"error_y\":{\"color\":\"#2a3f5f\"},\"marker\":{\"line\":{\"color\":\"#E5ECF6\",\"width\":0.5},\"pattern\":{\"fillmode\":\"overlay\",\"size\":10,\"solidity\":0.2}},\"type\":\"bar\"}],\"carpet\":[{\"aaxis\":{\"endlinecolor\":\"#2a3f5f\",\"gridcolor\":\"white\",\"linecolor\":\"white\",\"minorgridcolor\":\"white\",\"startlinecolor\":\"#2a3f5f\"},\"baxis\":{\"endlinecolor\":\"#2a3f5f\",\"gridcolor\":\"white\",\"linecolor\":\"white\",\"minorgridcolor\":\"white\",\"startlinecolor\":\"#2a3f5f\"},\"type\":\"carpet\"}],\"choropleth\":[{\"colorbar\":{\"outlinewidth\":0,\"ticks\":\"\"},\"type\":\"choropleth\"}],\"contourcarpet\":[{\"colorbar\":{\"outlinewidth\":0,\"ticks\":\"\"},\"type\":\"contourcarpet\"}],\"contour\":[{\"colorbar\":{\"outlinewidth\":0,\"ticks\":\"\"},\"colorscale\":[[0.0,\"#0d0887\"],[0.1111111111111111,\"#46039f\"],[0.2222222222222222,\"#7201a8\"],[0.3333333333333333,\"#9c179e\"],[0.4444444444444444,\"#bd3786\"],[0.5555555555555556,\"#d8576b\"],[0.6666666666666666,\"#ed7953\"],[0.7777777777777778,\"#fb9f3a\"],[0.8888888888888888,\"#fdca26\"],[1.0,\"#f0f921\"]],\"type\":\"contour\"}],\"heatmapgl\":[{\"colorbar\":{\"outlinewidth\":0,\"ticks\":\"\"},\"colorscale\":[[0.0,\"#0d0887\"],[0.1111111111111111,\"#46039f\"],[0.2222222222222222,\"#7201a8\"],[0.3333333333333333,\"#9c179e\"],[0.4444444444444444,\"#bd3786\"],[0.5555555555555556,\"#d8576b\"],[0.6666666666666666,\"#ed7953\"],[0.7777777777777778,\"#fb9f3a\"],[0.8888888888888888,\"#fdca26\"],[1.0,\"#f0f921\"]],\"type\":\"heatmapgl\"}],\"heatmap\":[{\"colorbar\":{\"outlinewidth\":0,\"ticks\":\"\"},\"colorscale\":[[0.0,\"#0d0887\"],[0.1111111111111111,\"#46039f\"],[0.2222222222222222,\"#7201a8\"],[0.3333333333333333,\"#9c179e\"],[0.4444444444444444,\"#bd3786\"],[0.5555555555555556,\"#d8576b\"],[0.6666666666666666,\"#ed7953\"],[0.7777777777777778,\"#fb9f3a\"],[0.8888888888888888,\"#fdca26\"],[1.0,\"#f0f921\"]],\"type\":\"heatmap\"}],\"histogram2dcontour\":[{\"colorbar\":{\"outlinewidth\":0,\"ticks\":\"\"},\"colorscale\":[[0.0,\"#0d0887\"],[0.1111111111111111,\"#46039f\"],[0.2222222222222222,\"#7201a8\"],[0.3333333333333333,\"#9c179e\"],[0.4444444444444444,\"#bd3786\"],[0.5555555555555556,\"#d8576b\"],[0.6666666666666666,\"#ed7953\"],[0.7777777777777778,\"#fb9f3a\"],[0.8888888888888888,\"#fdca26\"],[1.0,\"#f0f921\"]],\"type\":\"histogram2dcontour\"}],\"histogram2d\":[{\"colorbar\":{\"outlinewidth\":0,\"ticks\":\"\"},\"colorscale\":[[0.0,\"#0d0887\"],[0.1111111111111111,\"#46039f\"],[0.2222222222222222,\"#7201a8\"],[0.3333333333333333,\"#9c179e\"],[0.4444444444444444,\"#bd3786\"],[0.5555555555555556,\"#d8576b\"],[0.6666666666666666,\"#ed7953\"],[0.7777777777777778,\"#fb9f3a\"],[0.8888888888888888,\"#fdca26\"],[1.0,\"#f0f921\"]],\"type\":\"histogram2d\"}],\"histogram\":[{\"marker\":{\"pattern\":{\"fillmode\":\"overlay\",\"size\":10,\"solidity\":0.2}},\"type\":\"histogram\"}],\"mesh3d\":[{\"colorbar\":{\"outlinewidth\":0,\"ticks\":\"\"},\"type\":\"mesh3d\"}],\"parcoords\":[{\"line\":{\"colorbar\":{\"outlinewidth\":0,\"ticks\":\"\"}},\"type\":\"parcoords\"}],\"pie\":[{\"automargin\":true,\"type\":\"pie\"}],\"scatter3d\":[{\"line\":{\"colorbar\":{\"outlinewidth\":0,\"ticks\":\"\"}},\"marker\":{\"colorbar\":{\"outlinewidth\":0,\"ticks\":\"\"}},\"type\":\"scatter3d\"}],\"scattercarpet\":[{\"marker\":{\"colorbar\":{\"outlinewidth\":0,\"ticks\":\"\"}},\"type\":\"scattercarpet\"}],\"scattergeo\":[{\"marker\":{\"colorbar\":{\"outlinewidth\":0,\"ticks\":\"\"}},\"type\":\"scattergeo\"}],\"scattergl\":[{\"marker\":{\"colorbar\":{\"outlinewidth\":0,\"ticks\":\"\"}},\"type\":\"scattergl\"}],\"scattermapbox\":[{\"marker\":{\"colorbar\":{\"outlinewidth\":0,\"ticks\":\"\"}},\"type\":\"scattermapbox\"}],\"scatterpolargl\":[{\"marker\":{\"colorbar\":{\"outlinewidth\":0,\"ticks\":\"\"}},\"type\":\"scatterpolargl\"}],\"scatterpolar\":[{\"marker\":{\"colorbar\":{\"outlinewidth\":0,\"ticks\":\"\"}},\"type\":\"scatterpolar\"}],\"scatter\":[{\"fillpattern\":{\"fillmode\":\"overlay\",\"size\":10,\"solidity\":0.2},\"type\":\"scatter\"}],\"scatterternary\":[{\"marker\":{\"colorbar\":{\"outlinewidth\":0,\"ticks\":\"\"}},\"type\":\"scatterternary\"}],\"surface\":[{\"colorbar\":{\"outlinewidth\":0,\"ticks\":\"\"},\"colorscale\":[[0.0,\"#0d0887\"],[0.1111111111111111,\"#46039f\"],[0.2222222222222222,\"#7201a8\"],[0.3333333333333333,\"#9c179e\"],[0.4444444444444444,\"#bd3786\"],[0.5555555555555556,\"#d8576b\"],[0.6666666666666666,\"#ed7953\"],[0.7777777777777778,\"#fb9f3a\"],[0.8888888888888888,\"#fdca26\"],[1.0,\"#f0f921\"]],\"type\":\"surface\"}],\"table\":[{\"cells\":{\"fill\":{\"color\":\"#EBF0F8\"},\"line\":{\"color\":\"white\"}},\"header\":{\"fill\":{\"color\":\"#C8D4E3\"},\"line\":{\"color\":\"white\"}},\"type\":\"table\"}]},\"layout\":{\"annotationdefaults\":{\"arrowcolor\":\"#2a3f5f\",\"arrowhead\":0,\"arrowwidth\":1},\"autotypenumbers\":\"strict\",\"coloraxis\":{\"colorbar\":{\"outlinewidth\":0,\"ticks\":\"\"}},\"colorscale\":{\"diverging\":[[0,\"#8e0152\"],[0.1,\"#c51b7d\"],[0.2,\"#de77ae\"],[0.3,\"#f1b6da\"],[0.4,\"#fde0ef\"],[0.5,\"#f7f7f7\"],[0.6,\"#e6f5d0\"],[0.7,\"#b8e186\"],[0.8,\"#7fbc41\"],[0.9,\"#4d9221\"],[1,\"#276419\"]],\"sequential\":[[0.0,\"#0d0887\"],[0.1111111111111111,\"#46039f\"],[0.2222222222222222,\"#7201a8\"],[0.3333333333333333,\"#9c179e\"],[0.4444444444444444,\"#bd3786\"],[0.5555555555555556,\"#d8576b\"],[0.6666666666666666,\"#ed7953\"],[0.7777777777777778,\"#fb9f3a\"],[0.8888888888888888,\"#fdca26\"],[1.0,\"#f0f921\"]],\"sequentialminus\":[[0.0,\"#0d0887\"],[0.1111111111111111,\"#46039f\"],[0.2222222222222222,\"#7201a8\"],[0.3333333333333333,\"#9c179e\"],[0.4444444444444444,\"#bd3786\"],[0.5555555555555556,\"#d8576b\"],[0.6666666666666666,\"#ed7953\"],[0.7777777777777778,\"#fb9f3a\"],[0.8888888888888888,\"#fdca26\"],[1.0,\"#f0f921\"]]},\"colorway\":[\"#636efa\",\"#EF553B\",\"#00cc96\",\"#ab63fa\",\"#FFA15A\",\"#19d3f3\",\"#FF6692\",\"#B6E880\",\"#FF97FF\",\"#FECB52\"],\"font\":{\"color\":\"#2a3f5f\"},\"geo\":{\"bgcolor\":\"white\",\"lakecolor\":\"white\",\"landcolor\":\"#E5ECF6\",\"showlakes\":true,\"showland\":true,\"subunitcolor\":\"white\"},\"hoverlabel\":{\"align\":\"left\"},\"hovermode\":\"closest\",\"mapbox\":{\"style\":\"light\"},\"paper_bgcolor\":\"white\",\"plot_bgcolor\":\"#E5ECF6\",\"polar\":{\"angularaxis\":{\"gridcolor\":\"white\",\"linecolor\":\"white\",\"ticks\":\"\"},\"bgcolor\":\"#E5ECF6\",\"radialaxis\":{\"gridcolor\":\"white\",\"linecolor\":\"white\",\"ticks\":\"\"}},\"scene\":{\"xaxis\":{\"backgroundcolor\":\"#E5ECF6\",\"gridcolor\":\"white\",\"gridwidth\":2,\"linecolor\":\"white\",\"showbackground\":true,\"ticks\":\"\",\"zerolinecolor\":\"white\"},\"yaxis\":{\"backgroundcolor\":\"#E5ECF6\",\"gridcolor\":\"white\",\"gridwidth\":2,\"linecolor\":\"white\",\"showbackground\":true,\"ticks\":\"\",\"zerolinecolor\":\"white\"},\"zaxis\":{\"backgroundcolor\":\"#E5ECF6\",\"gridcolor\":\"white\",\"gridwidth\":2,\"linecolor\":\"white\",\"showbackground\":true,\"ticks\":\"\",\"zerolinecolor\":\"white\"}},\"shapedefaults\":{\"line\":{\"color\":\"#2a3f5f\"}},\"ternary\":{\"aaxis\":{\"gridcolor\":\"white\",\"linecolor\":\"white\",\"ticks\":\"\"},\"baxis\":{\"gridcolor\":\"white\",\"linecolor\":\"white\",\"ticks\":\"\"},\"bgcolor\":\"#E5ECF6\",\"caxis\":{\"gridcolor\":\"white\",\"linecolor\":\"white\",\"ticks\":\"\"}},\"title\":{\"x\":0.05},\"xaxis\":{\"automargin\":true,\"gridcolor\":\"white\",\"linecolor\":\"white\",\"ticks\":\"\",\"title\":{\"standoff\":15},\"zerolinecolor\":\"white\",\"zerolinewidth\":2},\"yaxis\":{\"automargin\":true,\"gridcolor\":\"white\",\"linecolor\":\"white\",\"ticks\":\"\",\"title\":{\"standoff\":15},\"zerolinecolor\":\"white\",\"zerolinewidth\":2}}},\"title\":{\"font\":{\"color\":\"#4D5663\"}},\"xaxis\":{\"gridcolor\":\"#E1E5ED\",\"showgrid\":true,\"tickfont\":{\"color\":\"#4D5663\"},\"title\":{\"font\":{\"color\":\"#4D5663\"},\"text\":\"\"},\"zerolinecolor\":\"#E1E5ED\"},\"yaxis\":{\"gridcolor\":\"#E1E5ED\",\"showgrid\":true,\"tickfont\":{\"color\":\"#4D5663\"},\"title\":{\"font\":{\"color\":\"#4D5663\"},\"text\":\"\"},\"zerolinecolor\":\"#E1E5ED\"}},                        {\"showLink\": true, \"linkText\": \"Export to plot.ly\", \"plotlyServerURL\": \"https://plot.ly\", \"responsive\": true}                    ).then(function(){\n",
       "                            \n",
       "var gd = document.getElementById('6b2ce004-cb82-4ab6-a59c-2a3a8dd63338');\n",
       "var x = new MutationObserver(function (mutations, observer) {{\n",
       "        var display = window.getComputedStyle(gd).display;\n",
       "        if (!display || display === 'none') {{\n",
       "            console.log([gd, 'removed!']);\n",
       "            Plotly.purge(gd);\n",
       "            observer.disconnect();\n",
       "        }}\n",
       "}});\n",
       "\n",
       "// Listen for the removal of the full notebook cells\n",
       "var notebookContainer = gd.closest('#notebook-container');\n",
       "if (notebookContainer) {{\n",
       "    x.observe(notebookContainer, {childList: true});\n",
       "}}\n",
       "\n",
       "// Listen for the clearing of the current output cell\n",
       "var outputEl = gd.closest('.output');\n",
       "if (outputEl) {{\n",
       "    x.observe(outputEl, {childList: true});\n",
       "}}\n",
       "\n",
       "                        })                };                });            </script>        </div>"
      ]
     },
     "metadata": {},
     "output_type": "display_data"
    }
   ],
   "source": [
    "df.iplot(kind='scatter',x='A',y='B',mode='markers',size=10)"
   ]
  },
  {
   "cell_type": "markdown",
   "metadata": {},
   "source": [
    "## Bar Plots"
   ]
  },
  {
   "cell_type": "code",
   "execution_count": 11,
   "metadata": {},
   "outputs": [
    {
     "data": {
      "application/vnd.plotly.v1+json": {
       "config": {
        "linkText": "Export to plot.ly",
        "plotlyServerURL": "https://plot.ly",
        "showLink": true
       },
       "data": [
        {
         "marker": {
          "color": "rgba(255, 153, 51, 0.6)",
          "line": {
           "color": "rgba(255, 153, 51, 1.0)",
           "width": 1
          }
         },
         "name": "Values",
         "orientation": "v",
         "text": "",
         "type": "bar",
         "x": [
          "A",
          "B",
          "C"
         ],
         "y": [
          32,
          43,
          50
         ]
        }
       ],
       "layout": {
        "legend": {
         "bgcolor": "#F5F6F9",
         "font": {
          "color": "#4D5663"
         }
        },
        "paper_bgcolor": "#F5F6F9",
        "plot_bgcolor": "#F5F6F9",
        "template": {
         "data": {
          "bar": [
           {
            "error_x": {
             "color": "#2a3f5f"
            },
            "error_y": {
             "color": "#2a3f5f"
            },
            "marker": {
             "line": {
              "color": "#E5ECF6",
              "width": 0.5
             },
             "pattern": {
              "fillmode": "overlay",
              "size": 10,
              "solidity": 0.2
             }
            },
            "type": "bar"
           }
          ],
          "barpolar": [
           {
            "marker": {
             "line": {
              "color": "#E5ECF6",
              "width": 0.5
             },
             "pattern": {
              "fillmode": "overlay",
              "size": 10,
              "solidity": 0.2
             }
            },
            "type": "barpolar"
           }
          ],
          "carpet": [
           {
            "aaxis": {
             "endlinecolor": "#2a3f5f",
             "gridcolor": "white",
             "linecolor": "white",
             "minorgridcolor": "white",
             "startlinecolor": "#2a3f5f"
            },
            "baxis": {
             "endlinecolor": "#2a3f5f",
             "gridcolor": "white",
             "linecolor": "white",
             "minorgridcolor": "white",
             "startlinecolor": "#2a3f5f"
            },
            "type": "carpet"
           }
          ],
          "choropleth": [
           {
            "colorbar": {
             "outlinewidth": 0,
             "ticks": ""
            },
            "type": "choropleth"
           }
          ],
          "contour": [
           {
            "colorbar": {
             "outlinewidth": 0,
             "ticks": ""
            },
            "colorscale": [
             [
              0,
              "#0d0887"
             ],
             [
              0.1111111111111111,
              "#46039f"
             ],
             [
              0.2222222222222222,
              "#7201a8"
             ],
             [
              0.3333333333333333,
              "#9c179e"
             ],
             [
              0.4444444444444444,
              "#bd3786"
             ],
             [
              0.5555555555555556,
              "#d8576b"
             ],
             [
              0.6666666666666666,
              "#ed7953"
             ],
             [
              0.7777777777777778,
              "#fb9f3a"
             ],
             [
              0.8888888888888888,
              "#fdca26"
             ],
             [
              1,
              "#f0f921"
             ]
            ],
            "type": "contour"
           }
          ],
          "contourcarpet": [
           {
            "colorbar": {
             "outlinewidth": 0,
             "ticks": ""
            },
            "type": "contourcarpet"
           }
          ],
          "heatmap": [
           {
            "colorbar": {
             "outlinewidth": 0,
             "ticks": ""
            },
            "colorscale": [
             [
              0,
              "#0d0887"
             ],
             [
              0.1111111111111111,
              "#46039f"
             ],
             [
              0.2222222222222222,
              "#7201a8"
             ],
             [
              0.3333333333333333,
              "#9c179e"
             ],
             [
              0.4444444444444444,
              "#bd3786"
             ],
             [
              0.5555555555555556,
              "#d8576b"
             ],
             [
              0.6666666666666666,
              "#ed7953"
             ],
             [
              0.7777777777777778,
              "#fb9f3a"
             ],
             [
              0.8888888888888888,
              "#fdca26"
             ],
             [
              1,
              "#f0f921"
             ]
            ],
            "type": "heatmap"
           }
          ],
          "heatmapgl": [
           {
            "colorbar": {
             "outlinewidth": 0,
             "ticks": ""
            },
            "colorscale": [
             [
              0,
              "#0d0887"
             ],
             [
              0.1111111111111111,
              "#46039f"
             ],
             [
              0.2222222222222222,
              "#7201a8"
             ],
             [
              0.3333333333333333,
              "#9c179e"
             ],
             [
              0.4444444444444444,
              "#bd3786"
             ],
             [
              0.5555555555555556,
              "#d8576b"
             ],
             [
              0.6666666666666666,
              "#ed7953"
             ],
             [
              0.7777777777777778,
              "#fb9f3a"
             ],
             [
              0.8888888888888888,
              "#fdca26"
             ],
             [
              1,
              "#f0f921"
             ]
            ],
            "type": "heatmapgl"
           }
          ],
          "histogram": [
           {
            "marker": {
             "pattern": {
              "fillmode": "overlay",
              "size": 10,
              "solidity": 0.2
             }
            },
            "type": "histogram"
           }
          ],
          "histogram2d": [
           {
            "colorbar": {
             "outlinewidth": 0,
             "ticks": ""
            },
            "colorscale": [
             [
              0,
              "#0d0887"
             ],
             [
              0.1111111111111111,
              "#46039f"
             ],
             [
              0.2222222222222222,
              "#7201a8"
             ],
             [
              0.3333333333333333,
              "#9c179e"
             ],
             [
              0.4444444444444444,
              "#bd3786"
             ],
             [
              0.5555555555555556,
              "#d8576b"
             ],
             [
              0.6666666666666666,
              "#ed7953"
             ],
             [
              0.7777777777777778,
              "#fb9f3a"
             ],
             [
              0.8888888888888888,
              "#fdca26"
             ],
             [
              1,
              "#f0f921"
             ]
            ],
            "type": "histogram2d"
           }
          ],
          "histogram2dcontour": [
           {
            "colorbar": {
             "outlinewidth": 0,
             "ticks": ""
            },
            "colorscale": [
             [
              0,
              "#0d0887"
             ],
             [
              0.1111111111111111,
              "#46039f"
             ],
             [
              0.2222222222222222,
              "#7201a8"
             ],
             [
              0.3333333333333333,
              "#9c179e"
             ],
             [
              0.4444444444444444,
              "#bd3786"
             ],
             [
              0.5555555555555556,
              "#d8576b"
             ],
             [
              0.6666666666666666,
              "#ed7953"
             ],
             [
              0.7777777777777778,
              "#fb9f3a"
             ],
             [
              0.8888888888888888,
              "#fdca26"
             ],
             [
              1,
              "#f0f921"
             ]
            ],
            "type": "histogram2dcontour"
           }
          ],
          "mesh3d": [
           {
            "colorbar": {
             "outlinewidth": 0,
             "ticks": ""
            },
            "type": "mesh3d"
           }
          ],
          "parcoords": [
           {
            "line": {
             "colorbar": {
              "outlinewidth": 0,
              "ticks": ""
             }
            },
            "type": "parcoords"
           }
          ],
          "pie": [
           {
            "automargin": true,
            "type": "pie"
           }
          ],
          "scatter": [
           {
            "fillpattern": {
             "fillmode": "overlay",
             "size": 10,
             "solidity": 0.2
            },
            "type": "scatter"
           }
          ],
          "scatter3d": [
           {
            "line": {
             "colorbar": {
              "outlinewidth": 0,
              "ticks": ""
             }
            },
            "marker": {
             "colorbar": {
              "outlinewidth": 0,
              "ticks": ""
             }
            },
            "type": "scatter3d"
           }
          ],
          "scattercarpet": [
           {
            "marker": {
             "colorbar": {
              "outlinewidth": 0,
              "ticks": ""
             }
            },
            "type": "scattercarpet"
           }
          ],
          "scattergeo": [
           {
            "marker": {
             "colorbar": {
              "outlinewidth": 0,
              "ticks": ""
             }
            },
            "type": "scattergeo"
           }
          ],
          "scattergl": [
           {
            "marker": {
             "colorbar": {
              "outlinewidth": 0,
              "ticks": ""
             }
            },
            "type": "scattergl"
           }
          ],
          "scattermapbox": [
           {
            "marker": {
             "colorbar": {
              "outlinewidth": 0,
              "ticks": ""
             }
            },
            "type": "scattermapbox"
           }
          ],
          "scatterpolar": [
           {
            "marker": {
             "colorbar": {
              "outlinewidth": 0,
              "ticks": ""
             }
            },
            "type": "scatterpolar"
           }
          ],
          "scatterpolargl": [
           {
            "marker": {
             "colorbar": {
              "outlinewidth": 0,
              "ticks": ""
             }
            },
            "type": "scatterpolargl"
           }
          ],
          "scatterternary": [
           {
            "marker": {
             "colorbar": {
              "outlinewidth": 0,
              "ticks": ""
             }
            },
            "type": "scatterternary"
           }
          ],
          "surface": [
           {
            "colorbar": {
             "outlinewidth": 0,
             "ticks": ""
            },
            "colorscale": [
             [
              0,
              "#0d0887"
             ],
             [
              0.1111111111111111,
              "#46039f"
             ],
             [
              0.2222222222222222,
              "#7201a8"
             ],
             [
              0.3333333333333333,
              "#9c179e"
             ],
             [
              0.4444444444444444,
              "#bd3786"
             ],
             [
              0.5555555555555556,
              "#d8576b"
             ],
             [
              0.6666666666666666,
              "#ed7953"
             ],
             [
              0.7777777777777778,
              "#fb9f3a"
             ],
             [
              0.8888888888888888,
              "#fdca26"
             ],
             [
              1,
              "#f0f921"
             ]
            ],
            "type": "surface"
           }
          ],
          "table": [
           {
            "cells": {
             "fill": {
              "color": "#EBF0F8"
             },
             "line": {
              "color": "white"
             }
            },
            "header": {
             "fill": {
              "color": "#C8D4E3"
             },
             "line": {
              "color": "white"
             }
            },
            "type": "table"
           }
          ]
         },
         "layout": {
          "annotationdefaults": {
           "arrowcolor": "#2a3f5f",
           "arrowhead": 0,
           "arrowwidth": 1
          },
          "autotypenumbers": "strict",
          "coloraxis": {
           "colorbar": {
            "outlinewidth": 0,
            "ticks": ""
           }
          },
          "colorscale": {
           "diverging": [
            [
             0,
             "#8e0152"
            ],
            [
             0.1,
             "#c51b7d"
            ],
            [
             0.2,
             "#de77ae"
            ],
            [
             0.3,
             "#f1b6da"
            ],
            [
             0.4,
             "#fde0ef"
            ],
            [
             0.5,
             "#f7f7f7"
            ],
            [
             0.6,
             "#e6f5d0"
            ],
            [
             0.7,
             "#b8e186"
            ],
            [
             0.8,
             "#7fbc41"
            ],
            [
             0.9,
             "#4d9221"
            ],
            [
             1,
             "#276419"
            ]
           ],
           "sequential": [
            [
             0,
             "#0d0887"
            ],
            [
             0.1111111111111111,
             "#46039f"
            ],
            [
             0.2222222222222222,
             "#7201a8"
            ],
            [
             0.3333333333333333,
             "#9c179e"
            ],
            [
             0.4444444444444444,
             "#bd3786"
            ],
            [
             0.5555555555555556,
             "#d8576b"
            ],
            [
             0.6666666666666666,
             "#ed7953"
            ],
            [
             0.7777777777777778,
             "#fb9f3a"
            ],
            [
             0.8888888888888888,
             "#fdca26"
            ],
            [
             1,
             "#f0f921"
            ]
           ],
           "sequentialminus": [
            [
             0,
             "#0d0887"
            ],
            [
             0.1111111111111111,
             "#46039f"
            ],
            [
             0.2222222222222222,
             "#7201a8"
            ],
            [
             0.3333333333333333,
             "#9c179e"
            ],
            [
             0.4444444444444444,
             "#bd3786"
            ],
            [
             0.5555555555555556,
             "#d8576b"
            ],
            [
             0.6666666666666666,
             "#ed7953"
            ],
            [
             0.7777777777777778,
             "#fb9f3a"
            ],
            [
             0.8888888888888888,
             "#fdca26"
            ],
            [
             1,
             "#f0f921"
            ]
           ]
          },
          "colorway": [
           "#636efa",
           "#EF553B",
           "#00cc96",
           "#ab63fa",
           "#FFA15A",
           "#19d3f3",
           "#FF6692",
           "#B6E880",
           "#FF97FF",
           "#FECB52"
          ],
          "font": {
           "color": "#2a3f5f"
          },
          "geo": {
           "bgcolor": "white",
           "lakecolor": "white",
           "landcolor": "#E5ECF6",
           "showlakes": true,
           "showland": true,
           "subunitcolor": "white"
          },
          "hoverlabel": {
           "align": "left"
          },
          "hovermode": "closest",
          "mapbox": {
           "style": "light"
          },
          "paper_bgcolor": "white",
          "plot_bgcolor": "#E5ECF6",
          "polar": {
           "angularaxis": {
            "gridcolor": "white",
            "linecolor": "white",
            "ticks": ""
           },
           "bgcolor": "#E5ECF6",
           "radialaxis": {
            "gridcolor": "white",
            "linecolor": "white",
            "ticks": ""
           }
          },
          "scene": {
           "xaxis": {
            "backgroundcolor": "#E5ECF6",
            "gridcolor": "white",
            "gridwidth": 2,
            "linecolor": "white",
            "showbackground": true,
            "ticks": "",
            "zerolinecolor": "white"
           },
           "yaxis": {
            "backgroundcolor": "#E5ECF6",
            "gridcolor": "white",
            "gridwidth": 2,
            "linecolor": "white",
            "showbackground": true,
            "ticks": "",
            "zerolinecolor": "white"
           },
           "zaxis": {
            "backgroundcolor": "#E5ECF6",
            "gridcolor": "white",
            "gridwidth": 2,
            "linecolor": "white",
            "showbackground": true,
            "ticks": "",
            "zerolinecolor": "white"
           }
          },
          "shapedefaults": {
           "line": {
            "color": "#2a3f5f"
           }
          },
          "ternary": {
           "aaxis": {
            "gridcolor": "white",
            "linecolor": "white",
            "ticks": ""
           },
           "baxis": {
            "gridcolor": "white",
            "linecolor": "white",
            "ticks": ""
           },
           "bgcolor": "#E5ECF6",
           "caxis": {
            "gridcolor": "white",
            "linecolor": "white",
            "ticks": ""
           }
          },
          "title": {
           "x": 0.05
          },
          "xaxis": {
           "automargin": true,
           "gridcolor": "white",
           "linecolor": "white",
           "ticks": "",
           "title": {
            "standoff": 15
           },
           "zerolinecolor": "white",
           "zerolinewidth": 2
          },
          "yaxis": {
           "automargin": true,
           "gridcolor": "white",
           "linecolor": "white",
           "ticks": "",
           "title": {
            "standoff": 15
           },
           "zerolinecolor": "white",
           "zerolinewidth": 2
          }
         }
        },
        "title": {
         "font": {
          "color": "#4D5663"
         }
        },
        "xaxis": {
         "gridcolor": "#E1E5ED",
         "showgrid": true,
         "tickfont": {
          "color": "#4D5663"
         },
         "title": {
          "font": {
           "color": "#4D5663"
          },
          "text": ""
         },
         "zerolinecolor": "#E1E5ED"
        },
        "yaxis": {
         "gridcolor": "#E1E5ED",
         "showgrid": true,
         "tickfont": {
          "color": "#4D5663"
         },
         "title": {
          "font": {
           "color": "#4D5663"
          },
          "text": ""
         },
         "zerolinecolor": "#E1E5ED"
        }
       }
      },
      "text/html": [
       "<div>                            <div id=\"8674b563-ece2-4b95-8c2e-343f1429a323\" class=\"plotly-graph-div\" style=\"height:525px; width:100%;\"></div>            <script type=\"text/javascript\">                require([\"plotly\"], function(Plotly) {                    window.PLOTLYENV=window.PLOTLYENV || {};\n",
       "                    window.PLOTLYENV.BASE_URL='https://plot.ly';                                    if (document.getElementById(\"8674b563-ece2-4b95-8c2e-343f1429a323\")) {                    Plotly.newPlot(                        \"8674b563-ece2-4b95-8c2e-343f1429a323\",                        [{\"marker\":{\"color\":\"rgba(255, 153, 51, 0.6)\",\"line\":{\"color\":\"rgba(255, 153, 51, 1.0)\",\"width\":1}},\"name\":\"Values\",\"orientation\":\"v\",\"text\":\"\",\"x\":[\"A\",\"B\",\"C\"],\"y\":[32,43,50],\"type\":\"bar\"}],                        {\"legend\":{\"bgcolor\":\"#F5F6F9\",\"font\":{\"color\":\"#4D5663\"}},\"paper_bgcolor\":\"#F5F6F9\",\"plot_bgcolor\":\"#F5F6F9\",\"template\":{\"data\":{\"barpolar\":[{\"marker\":{\"line\":{\"color\":\"#E5ECF6\",\"width\":0.5},\"pattern\":{\"fillmode\":\"overlay\",\"size\":10,\"solidity\":0.2}},\"type\":\"barpolar\"}],\"bar\":[{\"error_x\":{\"color\":\"#2a3f5f\"},\"error_y\":{\"color\":\"#2a3f5f\"},\"marker\":{\"line\":{\"color\":\"#E5ECF6\",\"width\":0.5},\"pattern\":{\"fillmode\":\"overlay\",\"size\":10,\"solidity\":0.2}},\"type\":\"bar\"}],\"carpet\":[{\"aaxis\":{\"endlinecolor\":\"#2a3f5f\",\"gridcolor\":\"white\",\"linecolor\":\"white\",\"minorgridcolor\":\"white\",\"startlinecolor\":\"#2a3f5f\"},\"baxis\":{\"endlinecolor\":\"#2a3f5f\",\"gridcolor\":\"white\",\"linecolor\":\"white\",\"minorgridcolor\":\"white\",\"startlinecolor\":\"#2a3f5f\"},\"type\":\"carpet\"}],\"choropleth\":[{\"colorbar\":{\"outlinewidth\":0,\"ticks\":\"\"},\"type\":\"choropleth\"}],\"contourcarpet\":[{\"colorbar\":{\"outlinewidth\":0,\"ticks\":\"\"},\"type\":\"contourcarpet\"}],\"contour\":[{\"colorbar\":{\"outlinewidth\":0,\"ticks\":\"\"},\"colorscale\":[[0.0,\"#0d0887\"],[0.1111111111111111,\"#46039f\"],[0.2222222222222222,\"#7201a8\"],[0.3333333333333333,\"#9c179e\"],[0.4444444444444444,\"#bd3786\"],[0.5555555555555556,\"#d8576b\"],[0.6666666666666666,\"#ed7953\"],[0.7777777777777778,\"#fb9f3a\"],[0.8888888888888888,\"#fdca26\"],[1.0,\"#f0f921\"]],\"type\":\"contour\"}],\"heatmapgl\":[{\"colorbar\":{\"outlinewidth\":0,\"ticks\":\"\"},\"colorscale\":[[0.0,\"#0d0887\"],[0.1111111111111111,\"#46039f\"],[0.2222222222222222,\"#7201a8\"],[0.3333333333333333,\"#9c179e\"],[0.4444444444444444,\"#bd3786\"],[0.5555555555555556,\"#d8576b\"],[0.6666666666666666,\"#ed7953\"],[0.7777777777777778,\"#fb9f3a\"],[0.8888888888888888,\"#fdca26\"],[1.0,\"#f0f921\"]],\"type\":\"heatmapgl\"}],\"heatmap\":[{\"colorbar\":{\"outlinewidth\":0,\"ticks\":\"\"},\"colorscale\":[[0.0,\"#0d0887\"],[0.1111111111111111,\"#46039f\"],[0.2222222222222222,\"#7201a8\"],[0.3333333333333333,\"#9c179e\"],[0.4444444444444444,\"#bd3786\"],[0.5555555555555556,\"#d8576b\"],[0.6666666666666666,\"#ed7953\"],[0.7777777777777778,\"#fb9f3a\"],[0.8888888888888888,\"#fdca26\"],[1.0,\"#f0f921\"]],\"type\":\"heatmap\"}],\"histogram2dcontour\":[{\"colorbar\":{\"outlinewidth\":0,\"ticks\":\"\"},\"colorscale\":[[0.0,\"#0d0887\"],[0.1111111111111111,\"#46039f\"],[0.2222222222222222,\"#7201a8\"],[0.3333333333333333,\"#9c179e\"],[0.4444444444444444,\"#bd3786\"],[0.5555555555555556,\"#d8576b\"],[0.6666666666666666,\"#ed7953\"],[0.7777777777777778,\"#fb9f3a\"],[0.8888888888888888,\"#fdca26\"],[1.0,\"#f0f921\"]],\"type\":\"histogram2dcontour\"}],\"histogram2d\":[{\"colorbar\":{\"outlinewidth\":0,\"ticks\":\"\"},\"colorscale\":[[0.0,\"#0d0887\"],[0.1111111111111111,\"#46039f\"],[0.2222222222222222,\"#7201a8\"],[0.3333333333333333,\"#9c179e\"],[0.4444444444444444,\"#bd3786\"],[0.5555555555555556,\"#d8576b\"],[0.6666666666666666,\"#ed7953\"],[0.7777777777777778,\"#fb9f3a\"],[0.8888888888888888,\"#fdca26\"],[1.0,\"#f0f921\"]],\"type\":\"histogram2d\"}],\"histogram\":[{\"marker\":{\"pattern\":{\"fillmode\":\"overlay\",\"size\":10,\"solidity\":0.2}},\"type\":\"histogram\"}],\"mesh3d\":[{\"colorbar\":{\"outlinewidth\":0,\"ticks\":\"\"},\"type\":\"mesh3d\"}],\"parcoords\":[{\"line\":{\"colorbar\":{\"outlinewidth\":0,\"ticks\":\"\"}},\"type\":\"parcoords\"}],\"pie\":[{\"automargin\":true,\"type\":\"pie\"}],\"scatter3d\":[{\"line\":{\"colorbar\":{\"outlinewidth\":0,\"ticks\":\"\"}},\"marker\":{\"colorbar\":{\"outlinewidth\":0,\"ticks\":\"\"}},\"type\":\"scatter3d\"}],\"scattercarpet\":[{\"marker\":{\"colorbar\":{\"outlinewidth\":0,\"ticks\":\"\"}},\"type\":\"scattercarpet\"}],\"scattergeo\":[{\"marker\":{\"colorbar\":{\"outlinewidth\":0,\"ticks\":\"\"}},\"type\":\"scattergeo\"}],\"scattergl\":[{\"marker\":{\"colorbar\":{\"outlinewidth\":0,\"ticks\":\"\"}},\"type\":\"scattergl\"}],\"scattermapbox\":[{\"marker\":{\"colorbar\":{\"outlinewidth\":0,\"ticks\":\"\"}},\"type\":\"scattermapbox\"}],\"scatterpolargl\":[{\"marker\":{\"colorbar\":{\"outlinewidth\":0,\"ticks\":\"\"}},\"type\":\"scatterpolargl\"}],\"scatterpolar\":[{\"marker\":{\"colorbar\":{\"outlinewidth\":0,\"ticks\":\"\"}},\"type\":\"scatterpolar\"}],\"scatter\":[{\"fillpattern\":{\"fillmode\":\"overlay\",\"size\":10,\"solidity\":0.2},\"type\":\"scatter\"}],\"scatterternary\":[{\"marker\":{\"colorbar\":{\"outlinewidth\":0,\"ticks\":\"\"}},\"type\":\"scatterternary\"}],\"surface\":[{\"colorbar\":{\"outlinewidth\":0,\"ticks\":\"\"},\"colorscale\":[[0.0,\"#0d0887\"],[0.1111111111111111,\"#46039f\"],[0.2222222222222222,\"#7201a8\"],[0.3333333333333333,\"#9c179e\"],[0.4444444444444444,\"#bd3786\"],[0.5555555555555556,\"#d8576b\"],[0.6666666666666666,\"#ed7953\"],[0.7777777777777778,\"#fb9f3a\"],[0.8888888888888888,\"#fdca26\"],[1.0,\"#f0f921\"]],\"type\":\"surface\"}],\"table\":[{\"cells\":{\"fill\":{\"color\":\"#EBF0F8\"},\"line\":{\"color\":\"white\"}},\"header\":{\"fill\":{\"color\":\"#C8D4E3\"},\"line\":{\"color\":\"white\"}},\"type\":\"table\"}]},\"layout\":{\"annotationdefaults\":{\"arrowcolor\":\"#2a3f5f\",\"arrowhead\":0,\"arrowwidth\":1},\"autotypenumbers\":\"strict\",\"coloraxis\":{\"colorbar\":{\"outlinewidth\":0,\"ticks\":\"\"}},\"colorscale\":{\"diverging\":[[0,\"#8e0152\"],[0.1,\"#c51b7d\"],[0.2,\"#de77ae\"],[0.3,\"#f1b6da\"],[0.4,\"#fde0ef\"],[0.5,\"#f7f7f7\"],[0.6,\"#e6f5d0\"],[0.7,\"#b8e186\"],[0.8,\"#7fbc41\"],[0.9,\"#4d9221\"],[1,\"#276419\"]],\"sequential\":[[0.0,\"#0d0887\"],[0.1111111111111111,\"#46039f\"],[0.2222222222222222,\"#7201a8\"],[0.3333333333333333,\"#9c179e\"],[0.4444444444444444,\"#bd3786\"],[0.5555555555555556,\"#d8576b\"],[0.6666666666666666,\"#ed7953\"],[0.7777777777777778,\"#fb9f3a\"],[0.8888888888888888,\"#fdca26\"],[1.0,\"#f0f921\"]],\"sequentialminus\":[[0.0,\"#0d0887\"],[0.1111111111111111,\"#46039f\"],[0.2222222222222222,\"#7201a8\"],[0.3333333333333333,\"#9c179e\"],[0.4444444444444444,\"#bd3786\"],[0.5555555555555556,\"#d8576b\"],[0.6666666666666666,\"#ed7953\"],[0.7777777777777778,\"#fb9f3a\"],[0.8888888888888888,\"#fdca26\"],[1.0,\"#f0f921\"]]},\"colorway\":[\"#636efa\",\"#EF553B\",\"#00cc96\",\"#ab63fa\",\"#FFA15A\",\"#19d3f3\",\"#FF6692\",\"#B6E880\",\"#FF97FF\",\"#FECB52\"],\"font\":{\"color\":\"#2a3f5f\"},\"geo\":{\"bgcolor\":\"white\",\"lakecolor\":\"white\",\"landcolor\":\"#E5ECF6\",\"showlakes\":true,\"showland\":true,\"subunitcolor\":\"white\"},\"hoverlabel\":{\"align\":\"left\"},\"hovermode\":\"closest\",\"mapbox\":{\"style\":\"light\"},\"paper_bgcolor\":\"white\",\"plot_bgcolor\":\"#E5ECF6\",\"polar\":{\"angularaxis\":{\"gridcolor\":\"white\",\"linecolor\":\"white\",\"ticks\":\"\"},\"bgcolor\":\"#E5ECF6\",\"radialaxis\":{\"gridcolor\":\"white\",\"linecolor\":\"white\",\"ticks\":\"\"}},\"scene\":{\"xaxis\":{\"backgroundcolor\":\"#E5ECF6\",\"gridcolor\":\"white\",\"gridwidth\":2,\"linecolor\":\"white\",\"showbackground\":true,\"ticks\":\"\",\"zerolinecolor\":\"white\"},\"yaxis\":{\"backgroundcolor\":\"#E5ECF6\",\"gridcolor\":\"white\",\"gridwidth\":2,\"linecolor\":\"white\",\"showbackground\":true,\"ticks\":\"\",\"zerolinecolor\":\"white\"},\"zaxis\":{\"backgroundcolor\":\"#E5ECF6\",\"gridcolor\":\"white\",\"gridwidth\":2,\"linecolor\":\"white\",\"showbackground\":true,\"ticks\":\"\",\"zerolinecolor\":\"white\"}},\"shapedefaults\":{\"line\":{\"color\":\"#2a3f5f\"}},\"ternary\":{\"aaxis\":{\"gridcolor\":\"white\",\"linecolor\":\"white\",\"ticks\":\"\"},\"baxis\":{\"gridcolor\":\"white\",\"linecolor\":\"white\",\"ticks\":\"\"},\"bgcolor\":\"#E5ECF6\",\"caxis\":{\"gridcolor\":\"white\",\"linecolor\":\"white\",\"ticks\":\"\"}},\"title\":{\"x\":0.05},\"xaxis\":{\"automargin\":true,\"gridcolor\":\"white\",\"linecolor\":\"white\",\"ticks\":\"\",\"title\":{\"standoff\":15},\"zerolinecolor\":\"white\",\"zerolinewidth\":2},\"yaxis\":{\"automargin\":true,\"gridcolor\":\"white\",\"linecolor\":\"white\",\"ticks\":\"\",\"title\":{\"standoff\":15},\"zerolinecolor\":\"white\",\"zerolinewidth\":2}}},\"title\":{\"font\":{\"color\":\"#4D5663\"}},\"xaxis\":{\"gridcolor\":\"#E1E5ED\",\"showgrid\":true,\"tickfont\":{\"color\":\"#4D5663\"},\"title\":{\"font\":{\"color\":\"#4D5663\"},\"text\":\"\"},\"zerolinecolor\":\"#E1E5ED\"},\"yaxis\":{\"gridcolor\":\"#E1E5ED\",\"showgrid\":true,\"tickfont\":{\"color\":\"#4D5663\"},\"title\":{\"font\":{\"color\":\"#4D5663\"},\"text\":\"\"},\"zerolinecolor\":\"#E1E5ED\"}},                        {\"showLink\": true, \"linkText\": \"Export to plot.ly\", \"plotlyServerURL\": \"https://plot.ly\", \"responsive\": true}                    ).then(function(){\n",
       "                            \n",
       "var gd = document.getElementById('8674b563-ece2-4b95-8c2e-343f1429a323');\n",
       "var x = new MutationObserver(function (mutations, observer) {{\n",
       "        var display = window.getComputedStyle(gd).display;\n",
       "        if (!display || display === 'none') {{\n",
       "            console.log([gd, 'removed!']);\n",
       "            Plotly.purge(gd);\n",
       "            observer.disconnect();\n",
       "        }}\n",
       "}});\n",
       "\n",
       "// Listen for the removal of the full notebook cells\n",
       "var notebookContainer = gd.closest('#notebook-container');\n",
       "if (notebookContainer) {{\n",
       "    x.observe(notebookContainer, {childList: true});\n",
       "}}\n",
       "\n",
       "// Listen for the clearing of the current output cell\n",
       "var outputEl = gd.closest('.output');\n",
       "if (outputEl) {{\n",
       "    x.observe(outputEl, {childList: true});\n",
       "}}\n",
       "\n",
       "                        })                };                });            </script>        </div>"
      ]
     },
     "metadata": {},
     "output_type": "display_data"
    }
   ],
   "source": [
    "df2.iplot(kind='bar',x='Category',y='Values')"
   ]
  },
  {
   "cell_type": "code",
   "execution_count": 12,
   "metadata": {},
   "outputs": [
    {
     "data": {
      "application/vnd.plotly.v1+json": {
       "config": {
        "linkText": "Export to plot.ly",
        "plotlyServerURL": "https://plot.ly",
        "showLink": true
       },
       "data": [
        {
         "marker": {
          "color": "rgba(255, 153, 51, 0.6)",
          "line": {
           "color": "rgba(255, 153, 51, 1.0)",
           "width": 1
          }
         },
         "name": "None",
         "orientation": "v",
         "text": "",
         "type": "bar",
         "x": [
          "A",
          "B",
          "C",
          "D"
         ],
         "y": [
          100,
          100,
          100,
          100
         ]
        }
       ],
       "layout": {
        "legend": {
         "bgcolor": "#F5F6F9",
         "font": {
          "color": "#4D5663"
         }
        },
        "paper_bgcolor": "#F5F6F9",
        "plot_bgcolor": "#F5F6F9",
        "template": {
         "data": {
          "bar": [
           {
            "error_x": {
             "color": "#2a3f5f"
            },
            "error_y": {
             "color": "#2a3f5f"
            },
            "marker": {
             "line": {
              "color": "#E5ECF6",
              "width": 0.5
             },
             "pattern": {
              "fillmode": "overlay",
              "size": 10,
              "solidity": 0.2
             }
            },
            "type": "bar"
           }
          ],
          "barpolar": [
           {
            "marker": {
             "line": {
              "color": "#E5ECF6",
              "width": 0.5
             },
             "pattern": {
              "fillmode": "overlay",
              "size": 10,
              "solidity": 0.2
             }
            },
            "type": "barpolar"
           }
          ],
          "carpet": [
           {
            "aaxis": {
             "endlinecolor": "#2a3f5f",
             "gridcolor": "white",
             "linecolor": "white",
             "minorgridcolor": "white",
             "startlinecolor": "#2a3f5f"
            },
            "baxis": {
             "endlinecolor": "#2a3f5f",
             "gridcolor": "white",
             "linecolor": "white",
             "minorgridcolor": "white",
             "startlinecolor": "#2a3f5f"
            },
            "type": "carpet"
           }
          ],
          "choropleth": [
           {
            "colorbar": {
             "outlinewidth": 0,
             "ticks": ""
            },
            "type": "choropleth"
           }
          ],
          "contour": [
           {
            "colorbar": {
             "outlinewidth": 0,
             "ticks": ""
            },
            "colorscale": [
             [
              0,
              "#0d0887"
             ],
             [
              0.1111111111111111,
              "#46039f"
             ],
             [
              0.2222222222222222,
              "#7201a8"
             ],
             [
              0.3333333333333333,
              "#9c179e"
             ],
             [
              0.4444444444444444,
              "#bd3786"
             ],
             [
              0.5555555555555556,
              "#d8576b"
             ],
             [
              0.6666666666666666,
              "#ed7953"
             ],
             [
              0.7777777777777778,
              "#fb9f3a"
             ],
             [
              0.8888888888888888,
              "#fdca26"
             ],
             [
              1,
              "#f0f921"
             ]
            ],
            "type": "contour"
           }
          ],
          "contourcarpet": [
           {
            "colorbar": {
             "outlinewidth": 0,
             "ticks": ""
            },
            "type": "contourcarpet"
           }
          ],
          "heatmap": [
           {
            "colorbar": {
             "outlinewidth": 0,
             "ticks": ""
            },
            "colorscale": [
             [
              0,
              "#0d0887"
             ],
             [
              0.1111111111111111,
              "#46039f"
             ],
             [
              0.2222222222222222,
              "#7201a8"
             ],
             [
              0.3333333333333333,
              "#9c179e"
             ],
             [
              0.4444444444444444,
              "#bd3786"
             ],
             [
              0.5555555555555556,
              "#d8576b"
             ],
             [
              0.6666666666666666,
              "#ed7953"
             ],
             [
              0.7777777777777778,
              "#fb9f3a"
             ],
             [
              0.8888888888888888,
              "#fdca26"
             ],
             [
              1,
              "#f0f921"
             ]
            ],
            "type": "heatmap"
           }
          ],
          "heatmapgl": [
           {
            "colorbar": {
             "outlinewidth": 0,
             "ticks": ""
            },
            "colorscale": [
             [
              0,
              "#0d0887"
             ],
             [
              0.1111111111111111,
              "#46039f"
             ],
             [
              0.2222222222222222,
              "#7201a8"
             ],
             [
              0.3333333333333333,
              "#9c179e"
             ],
             [
              0.4444444444444444,
              "#bd3786"
             ],
             [
              0.5555555555555556,
              "#d8576b"
             ],
             [
              0.6666666666666666,
              "#ed7953"
             ],
             [
              0.7777777777777778,
              "#fb9f3a"
             ],
             [
              0.8888888888888888,
              "#fdca26"
             ],
             [
              1,
              "#f0f921"
             ]
            ],
            "type": "heatmapgl"
           }
          ],
          "histogram": [
           {
            "marker": {
             "pattern": {
              "fillmode": "overlay",
              "size": 10,
              "solidity": 0.2
             }
            },
            "type": "histogram"
           }
          ],
          "histogram2d": [
           {
            "colorbar": {
             "outlinewidth": 0,
             "ticks": ""
            },
            "colorscale": [
             [
              0,
              "#0d0887"
             ],
             [
              0.1111111111111111,
              "#46039f"
             ],
             [
              0.2222222222222222,
              "#7201a8"
             ],
             [
              0.3333333333333333,
              "#9c179e"
             ],
             [
              0.4444444444444444,
              "#bd3786"
             ],
             [
              0.5555555555555556,
              "#d8576b"
             ],
             [
              0.6666666666666666,
              "#ed7953"
             ],
             [
              0.7777777777777778,
              "#fb9f3a"
             ],
             [
              0.8888888888888888,
              "#fdca26"
             ],
             [
              1,
              "#f0f921"
             ]
            ],
            "type": "histogram2d"
           }
          ],
          "histogram2dcontour": [
           {
            "colorbar": {
             "outlinewidth": 0,
             "ticks": ""
            },
            "colorscale": [
             [
              0,
              "#0d0887"
             ],
             [
              0.1111111111111111,
              "#46039f"
             ],
             [
              0.2222222222222222,
              "#7201a8"
             ],
             [
              0.3333333333333333,
              "#9c179e"
             ],
             [
              0.4444444444444444,
              "#bd3786"
             ],
             [
              0.5555555555555556,
              "#d8576b"
             ],
             [
              0.6666666666666666,
              "#ed7953"
             ],
             [
              0.7777777777777778,
              "#fb9f3a"
             ],
             [
              0.8888888888888888,
              "#fdca26"
             ],
             [
              1,
              "#f0f921"
             ]
            ],
            "type": "histogram2dcontour"
           }
          ],
          "mesh3d": [
           {
            "colorbar": {
             "outlinewidth": 0,
             "ticks": ""
            },
            "type": "mesh3d"
           }
          ],
          "parcoords": [
           {
            "line": {
             "colorbar": {
              "outlinewidth": 0,
              "ticks": ""
             }
            },
            "type": "parcoords"
           }
          ],
          "pie": [
           {
            "automargin": true,
            "type": "pie"
           }
          ],
          "scatter": [
           {
            "fillpattern": {
             "fillmode": "overlay",
             "size": 10,
             "solidity": 0.2
            },
            "type": "scatter"
           }
          ],
          "scatter3d": [
           {
            "line": {
             "colorbar": {
              "outlinewidth": 0,
              "ticks": ""
             }
            },
            "marker": {
             "colorbar": {
              "outlinewidth": 0,
              "ticks": ""
             }
            },
            "type": "scatter3d"
           }
          ],
          "scattercarpet": [
           {
            "marker": {
             "colorbar": {
              "outlinewidth": 0,
              "ticks": ""
             }
            },
            "type": "scattercarpet"
           }
          ],
          "scattergeo": [
           {
            "marker": {
             "colorbar": {
              "outlinewidth": 0,
              "ticks": ""
             }
            },
            "type": "scattergeo"
           }
          ],
          "scattergl": [
           {
            "marker": {
             "colorbar": {
              "outlinewidth": 0,
              "ticks": ""
             }
            },
            "type": "scattergl"
           }
          ],
          "scattermapbox": [
           {
            "marker": {
             "colorbar": {
              "outlinewidth": 0,
              "ticks": ""
             }
            },
            "type": "scattermapbox"
           }
          ],
          "scatterpolar": [
           {
            "marker": {
             "colorbar": {
              "outlinewidth": 0,
              "ticks": ""
             }
            },
            "type": "scatterpolar"
           }
          ],
          "scatterpolargl": [
           {
            "marker": {
             "colorbar": {
              "outlinewidth": 0,
              "ticks": ""
             }
            },
            "type": "scatterpolargl"
           }
          ],
          "scatterternary": [
           {
            "marker": {
             "colorbar": {
              "outlinewidth": 0,
              "ticks": ""
             }
            },
            "type": "scatterternary"
           }
          ],
          "surface": [
           {
            "colorbar": {
             "outlinewidth": 0,
             "ticks": ""
            },
            "colorscale": [
             [
              0,
              "#0d0887"
             ],
             [
              0.1111111111111111,
              "#46039f"
             ],
             [
              0.2222222222222222,
              "#7201a8"
             ],
             [
              0.3333333333333333,
              "#9c179e"
             ],
             [
              0.4444444444444444,
              "#bd3786"
             ],
             [
              0.5555555555555556,
              "#d8576b"
             ],
             [
              0.6666666666666666,
              "#ed7953"
             ],
             [
              0.7777777777777778,
              "#fb9f3a"
             ],
             [
              0.8888888888888888,
              "#fdca26"
             ],
             [
              1,
              "#f0f921"
             ]
            ],
            "type": "surface"
           }
          ],
          "table": [
           {
            "cells": {
             "fill": {
              "color": "#EBF0F8"
             },
             "line": {
              "color": "white"
             }
            },
            "header": {
             "fill": {
              "color": "#C8D4E3"
             },
             "line": {
              "color": "white"
             }
            },
            "type": "table"
           }
          ]
         },
         "layout": {
          "annotationdefaults": {
           "arrowcolor": "#2a3f5f",
           "arrowhead": 0,
           "arrowwidth": 1
          },
          "autotypenumbers": "strict",
          "coloraxis": {
           "colorbar": {
            "outlinewidth": 0,
            "ticks": ""
           }
          },
          "colorscale": {
           "diverging": [
            [
             0,
             "#8e0152"
            ],
            [
             0.1,
             "#c51b7d"
            ],
            [
             0.2,
             "#de77ae"
            ],
            [
             0.3,
             "#f1b6da"
            ],
            [
             0.4,
             "#fde0ef"
            ],
            [
             0.5,
             "#f7f7f7"
            ],
            [
             0.6,
             "#e6f5d0"
            ],
            [
             0.7,
             "#b8e186"
            ],
            [
             0.8,
             "#7fbc41"
            ],
            [
             0.9,
             "#4d9221"
            ],
            [
             1,
             "#276419"
            ]
           ],
           "sequential": [
            [
             0,
             "#0d0887"
            ],
            [
             0.1111111111111111,
             "#46039f"
            ],
            [
             0.2222222222222222,
             "#7201a8"
            ],
            [
             0.3333333333333333,
             "#9c179e"
            ],
            [
             0.4444444444444444,
             "#bd3786"
            ],
            [
             0.5555555555555556,
             "#d8576b"
            ],
            [
             0.6666666666666666,
             "#ed7953"
            ],
            [
             0.7777777777777778,
             "#fb9f3a"
            ],
            [
             0.8888888888888888,
             "#fdca26"
            ],
            [
             1,
             "#f0f921"
            ]
           ],
           "sequentialminus": [
            [
             0,
             "#0d0887"
            ],
            [
             0.1111111111111111,
             "#46039f"
            ],
            [
             0.2222222222222222,
             "#7201a8"
            ],
            [
             0.3333333333333333,
             "#9c179e"
            ],
            [
             0.4444444444444444,
             "#bd3786"
            ],
            [
             0.5555555555555556,
             "#d8576b"
            ],
            [
             0.6666666666666666,
             "#ed7953"
            ],
            [
             0.7777777777777778,
             "#fb9f3a"
            ],
            [
             0.8888888888888888,
             "#fdca26"
            ],
            [
             1,
             "#f0f921"
            ]
           ]
          },
          "colorway": [
           "#636efa",
           "#EF553B",
           "#00cc96",
           "#ab63fa",
           "#FFA15A",
           "#19d3f3",
           "#FF6692",
           "#B6E880",
           "#FF97FF",
           "#FECB52"
          ],
          "font": {
           "color": "#2a3f5f"
          },
          "geo": {
           "bgcolor": "white",
           "lakecolor": "white",
           "landcolor": "#E5ECF6",
           "showlakes": true,
           "showland": true,
           "subunitcolor": "white"
          },
          "hoverlabel": {
           "align": "left"
          },
          "hovermode": "closest",
          "mapbox": {
           "style": "light"
          },
          "paper_bgcolor": "white",
          "plot_bgcolor": "#E5ECF6",
          "polar": {
           "angularaxis": {
            "gridcolor": "white",
            "linecolor": "white",
            "ticks": ""
           },
           "bgcolor": "#E5ECF6",
           "radialaxis": {
            "gridcolor": "white",
            "linecolor": "white",
            "ticks": ""
           }
          },
          "scene": {
           "xaxis": {
            "backgroundcolor": "#E5ECF6",
            "gridcolor": "white",
            "gridwidth": 2,
            "linecolor": "white",
            "showbackground": true,
            "ticks": "",
            "zerolinecolor": "white"
           },
           "yaxis": {
            "backgroundcolor": "#E5ECF6",
            "gridcolor": "white",
            "gridwidth": 2,
            "linecolor": "white",
            "showbackground": true,
            "ticks": "",
            "zerolinecolor": "white"
           },
           "zaxis": {
            "backgroundcolor": "#E5ECF6",
            "gridcolor": "white",
            "gridwidth": 2,
            "linecolor": "white",
            "showbackground": true,
            "ticks": "",
            "zerolinecolor": "white"
           }
          },
          "shapedefaults": {
           "line": {
            "color": "#2a3f5f"
           }
          },
          "ternary": {
           "aaxis": {
            "gridcolor": "white",
            "linecolor": "white",
            "ticks": ""
           },
           "baxis": {
            "gridcolor": "white",
            "linecolor": "white",
            "ticks": ""
           },
           "bgcolor": "#E5ECF6",
           "caxis": {
            "gridcolor": "white",
            "linecolor": "white",
            "ticks": ""
           }
          },
          "title": {
           "x": 0.05
          },
          "xaxis": {
           "automargin": true,
           "gridcolor": "white",
           "linecolor": "white",
           "ticks": "",
           "title": {
            "standoff": 15
           },
           "zerolinecolor": "white",
           "zerolinewidth": 2
          },
          "yaxis": {
           "automargin": true,
           "gridcolor": "white",
           "linecolor": "white",
           "ticks": "",
           "title": {
            "standoff": 15
           },
           "zerolinecolor": "white",
           "zerolinewidth": 2
          }
         }
        },
        "title": {
         "font": {
          "color": "#4D5663"
         }
        },
        "xaxis": {
         "gridcolor": "#E1E5ED",
         "showgrid": true,
         "tickfont": {
          "color": "#4D5663"
         },
         "title": {
          "font": {
           "color": "#4D5663"
          },
          "text": ""
         },
         "zerolinecolor": "#E1E5ED"
        },
        "yaxis": {
         "gridcolor": "#E1E5ED",
         "showgrid": true,
         "tickfont": {
          "color": "#4D5663"
         },
         "title": {
          "font": {
           "color": "#4D5663"
          },
          "text": ""
         },
         "zerolinecolor": "#E1E5ED"
        }
       }
      },
      "text/html": [
       "<div>                            <div id=\"11d1a4be-392b-4c49-801a-f3d702b9beb0\" class=\"plotly-graph-div\" style=\"height:525px; width:100%;\"></div>            <script type=\"text/javascript\">                require([\"plotly\"], function(Plotly) {                    window.PLOTLYENV=window.PLOTLYENV || {};\n",
       "                    window.PLOTLYENV.BASE_URL='https://plot.ly';                                    if (document.getElementById(\"11d1a4be-392b-4c49-801a-f3d702b9beb0\")) {                    Plotly.newPlot(                        \"11d1a4be-392b-4c49-801a-f3d702b9beb0\",                        [{\"marker\":{\"color\":\"rgba(255, 153, 51, 0.6)\",\"line\":{\"color\":\"rgba(255, 153, 51, 1.0)\",\"width\":1}},\"name\":\"None\",\"orientation\":\"v\",\"text\":\"\",\"x\":[\"A\",\"B\",\"C\",\"D\"],\"y\":[100,100,100,100],\"type\":\"bar\"}],                        {\"legend\":{\"bgcolor\":\"#F5F6F9\",\"font\":{\"color\":\"#4D5663\"}},\"paper_bgcolor\":\"#F5F6F9\",\"plot_bgcolor\":\"#F5F6F9\",\"template\":{\"data\":{\"barpolar\":[{\"marker\":{\"line\":{\"color\":\"#E5ECF6\",\"width\":0.5},\"pattern\":{\"fillmode\":\"overlay\",\"size\":10,\"solidity\":0.2}},\"type\":\"barpolar\"}],\"bar\":[{\"error_x\":{\"color\":\"#2a3f5f\"},\"error_y\":{\"color\":\"#2a3f5f\"},\"marker\":{\"line\":{\"color\":\"#E5ECF6\",\"width\":0.5},\"pattern\":{\"fillmode\":\"overlay\",\"size\":10,\"solidity\":0.2}},\"type\":\"bar\"}],\"carpet\":[{\"aaxis\":{\"endlinecolor\":\"#2a3f5f\",\"gridcolor\":\"white\",\"linecolor\":\"white\",\"minorgridcolor\":\"white\",\"startlinecolor\":\"#2a3f5f\"},\"baxis\":{\"endlinecolor\":\"#2a3f5f\",\"gridcolor\":\"white\",\"linecolor\":\"white\",\"minorgridcolor\":\"white\",\"startlinecolor\":\"#2a3f5f\"},\"type\":\"carpet\"}],\"choropleth\":[{\"colorbar\":{\"outlinewidth\":0,\"ticks\":\"\"},\"type\":\"choropleth\"}],\"contourcarpet\":[{\"colorbar\":{\"outlinewidth\":0,\"ticks\":\"\"},\"type\":\"contourcarpet\"}],\"contour\":[{\"colorbar\":{\"outlinewidth\":0,\"ticks\":\"\"},\"colorscale\":[[0.0,\"#0d0887\"],[0.1111111111111111,\"#46039f\"],[0.2222222222222222,\"#7201a8\"],[0.3333333333333333,\"#9c179e\"],[0.4444444444444444,\"#bd3786\"],[0.5555555555555556,\"#d8576b\"],[0.6666666666666666,\"#ed7953\"],[0.7777777777777778,\"#fb9f3a\"],[0.8888888888888888,\"#fdca26\"],[1.0,\"#f0f921\"]],\"type\":\"contour\"}],\"heatmapgl\":[{\"colorbar\":{\"outlinewidth\":0,\"ticks\":\"\"},\"colorscale\":[[0.0,\"#0d0887\"],[0.1111111111111111,\"#46039f\"],[0.2222222222222222,\"#7201a8\"],[0.3333333333333333,\"#9c179e\"],[0.4444444444444444,\"#bd3786\"],[0.5555555555555556,\"#d8576b\"],[0.6666666666666666,\"#ed7953\"],[0.7777777777777778,\"#fb9f3a\"],[0.8888888888888888,\"#fdca26\"],[1.0,\"#f0f921\"]],\"type\":\"heatmapgl\"}],\"heatmap\":[{\"colorbar\":{\"outlinewidth\":0,\"ticks\":\"\"},\"colorscale\":[[0.0,\"#0d0887\"],[0.1111111111111111,\"#46039f\"],[0.2222222222222222,\"#7201a8\"],[0.3333333333333333,\"#9c179e\"],[0.4444444444444444,\"#bd3786\"],[0.5555555555555556,\"#d8576b\"],[0.6666666666666666,\"#ed7953\"],[0.7777777777777778,\"#fb9f3a\"],[0.8888888888888888,\"#fdca26\"],[1.0,\"#f0f921\"]],\"type\":\"heatmap\"}],\"histogram2dcontour\":[{\"colorbar\":{\"outlinewidth\":0,\"ticks\":\"\"},\"colorscale\":[[0.0,\"#0d0887\"],[0.1111111111111111,\"#46039f\"],[0.2222222222222222,\"#7201a8\"],[0.3333333333333333,\"#9c179e\"],[0.4444444444444444,\"#bd3786\"],[0.5555555555555556,\"#d8576b\"],[0.6666666666666666,\"#ed7953\"],[0.7777777777777778,\"#fb9f3a\"],[0.8888888888888888,\"#fdca26\"],[1.0,\"#f0f921\"]],\"type\":\"histogram2dcontour\"}],\"histogram2d\":[{\"colorbar\":{\"outlinewidth\":0,\"ticks\":\"\"},\"colorscale\":[[0.0,\"#0d0887\"],[0.1111111111111111,\"#46039f\"],[0.2222222222222222,\"#7201a8\"],[0.3333333333333333,\"#9c179e\"],[0.4444444444444444,\"#bd3786\"],[0.5555555555555556,\"#d8576b\"],[0.6666666666666666,\"#ed7953\"],[0.7777777777777778,\"#fb9f3a\"],[0.8888888888888888,\"#fdca26\"],[1.0,\"#f0f921\"]],\"type\":\"histogram2d\"}],\"histogram\":[{\"marker\":{\"pattern\":{\"fillmode\":\"overlay\",\"size\":10,\"solidity\":0.2}},\"type\":\"histogram\"}],\"mesh3d\":[{\"colorbar\":{\"outlinewidth\":0,\"ticks\":\"\"},\"type\":\"mesh3d\"}],\"parcoords\":[{\"line\":{\"colorbar\":{\"outlinewidth\":0,\"ticks\":\"\"}},\"type\":\"parcoords\"}],\"pie\":[{\"automargin\":true,\"type\":\"pie\"}],\"scatter3d\":[{\"line\":{\"colorbar\":{\"outlinewidth\":0,\"ticks\":\"\"}},\"marker\":{\"colorbar\":{\"outlinewidth\":0,\"ticks\":\"\"}},\"type\":\"scatter3d\"}],\"scattercarpet\":[{\"marker\":{\"colorbar\":{\"outlinewidth\":0,\"ticks\":\"\"}},\"type\":\"scattercarpet\"}],\"scattergeo\":[{\"marker\":{\"colorbar\":{\"outlinewidth\":0,\"ticks\":\"\"}},\"type\":\"scattergeo\"}],\"scattergl\":[{\"marker\":{\"colorbar\":{\"outlinewidth\":0,\"ticks\":\"\"}},\"type\":\"scattergl\"}],\"scattermapbox\":[{\"marker\":{\"colorbar\":{\"outlinewidth\":0,\"ticks\":\"\"}},\"type\":\"scattermapbox\"}],\"scatterpolargl\":[{\"marker\":{\"colorbar\":{\"outlinewidth\":0,\"ticks\":\"\"}},\"type\":\"scatterpolargl\"}],\"scatterpolar\":[{\"marker\":{\"colorbar\":{\"outlinewidth\":0,\"ticks\":\"\"}},\"type\":\"scatterpolar\"}],\"scatter\":[{\"fillpattern\":{\"fillmode\":\"overlay\",\"size\":10,\"solidity\":0.2},\"type\":\"scatter\"}],\"scatterternary\":[{\"marker\":{\"colorbar\":{\"outlinewidth\":0,\"ticks\":\"\"}},\"type\":\"scatterternary\"}],\"surface\":[{\"colorbar\":{\"outlinewidth\":0,\"ticks\":\"\"},\"colorscale\":[[0.0,\"#0d0887\"],[0.1111111111111111,\"#46039f\"],[0.2222222222222222,\"#7201a8\"],[0.3333333333333333,\"#9c179e\"],[0.4444444444444444,\"#bd3786\"],[0.5555555555555556,\"#d8576b\"],[0.6666666666666666,\"#ed7953\"],[0.7777777777777778,\"#fb9f3a\"],[0.8888888888888888,\"#fdca26\"],[1.0,\"#f0f921\"]],\"type\":\"surface\"}],\"table\":[{\"cells\":{\"fill\":{\"color\":\"#EBF0F8\"},\"line\":{\"color\":\"white\"}},\"header\":{\"fill\":{\"color\":\"#C8D4E3\"},\"line\":{\"color\":\"white\"}},\"type\":\"table\"}]},\"layout\":{\"annotationdefaults\":{\"arrowcolor\":\"#2a3f5f\",\"arrowhead\":0,\"arrowwidth\":1},\"autotypenumbers\":\"strict\",\"coloraxis\":{\"colorbar\":{\"outlinewidth\":0,\"ticks\":\"\"}},\"colorscale\":{\"diverging\":[[0,\"#8e0152\"],[0.1,\"#c51b7d\"],[0.2,\"#de77ae\"],[0.3,\"#f1b6da\"],[0.4,\"#fde0ef\"],[0.5,\"#f7f7f7\"],[0.6,\"#e6f5d0\"],[0.7,\"#b8e186\"],[0.8,\"#7fbc41\"],[0.9,\"#4d9221\"],[1,\"#276419\"]],\"sequential\":[[0.0,\"#0d0887\"],[0.1111111111111111,\"#46039f\"],[0.2222222222222222,\"#7201a8\"],[0.3333333333333333,\"#9c179e\"],[0.4444444444444444,\"#bd3786\"],[0.5555555555555556,\"#d8576b\"],[0.6666666666666666,\"#ed7953\"],[0.7777777777777778,\"#fb9f3a\"],[0.8888888888888888,\"#fdca26\"],[1.0,\"#f0f921\"]],\"sequentialminus\":[[0.0,\"#0d0887\"],[0.1111111111111111,\"#46039f\"],[0.2222222222222222,\"#7201a8\"],[0.3333333333333333,\"#9c179e\"],[0.4444444444444444,\"#bd3786\"],[0.5555555555555556,\"#d8576b\"],[0.6666666666666666,\"#ed7953\"],[0.7777777777777778,\"#fb9f3a\"],[0.8888888888888888,\"#fdca26\"],[1.0,\"#f0f921\"]]},\"colorway\":[\"#636efa\",\"#EF553B\",\"#00cc96\",\"#ab63fa\",\"#FFA15A\",\"#19d3f3\",\"#FF6692\",\"#B6E880\",\"#FF97FF\",\"#FECB52\"],\"font\":{\"color\":\"#2a3f5f\"},\"geo\":{\"bgcolor\":\"white\",\"lakecolor\":\"white\",\"landcolor\":\"#E5ECF6\",\"showlakes\":true,\"showland\":true,\"subunitcolor\":\"white\"},\"hoverlabel\":{\"align\":\"left\"},\"hovermode\":\"closest\",\"mapbox\":{\"style\":\"light\"},\"paper_bgcolor\":\"white\",\"plot_bgcolor\":\"#E5ECF6\",\"polar\":{\"angularaxis\":{\"gridcolor\":\"white\",\"linecolor\":\"white\",\"ticks\":\"\"},\"bgcolor\":\"#E5ECF6\",\"radialaxis\":{\"gridcolor\":\"white\",\"linecolor\":\"white\",\"ticks\":\"\"}},\"scene\":{\"xaxis\":{\"backgroundcolor\":\"#E5ECF6\",\"gridcolor\":\"white\",\"gridwidth\":2,\"linecolor\":\"white\",\"showbackground\":true,\"ticks\":\"\",\"zerolinecolor\":\"white\"},\"yaxis\":{\"backgroundcolor\":\"#E5ECF6\",\"gridcolor\":\"white\",\"gridwidth\":2,\"linecolor\":\"white\",\"showbackground\":true,\"ticks\":\"\",\"zerolinecolor\":\"white\"},\"zaxis\":{\"backgroundcolor\":\"#E5ECF6\",\"gridcolor\":\"white\",\"gridwidth\":2,\"linecolor\":\"white\",\"showbackground\":true,\"ticks\":\"\",\"zerolinecolor\":\"white\"}},\"shapedefaults\":{\"line\":{\"color\":\"#2a3f5f\"}},\"ternary\":{\"aaxis\":{\"gridcolor\":\"white\",\"linecolor\":\"white\",\"ticks\":\"\"},\"baxis\":{\"gridcolor\":\"white\",\"linecolor\":\"white\",\"ticks\":\"\"},\"bgcolor\":\"#E5ECF6\",\"caxis\":{\"gridcolor\":\"white\",\"linecolor\":\"white\",\"ticks\":\"\"}},\"title\":{\"x\":0.05},\"xaxis\":{\"automargin\":true,\"gridcolor\":\"white\",\"linecolor\":\"white\",\"ticks\":\"\",\"title\":{\"standoff\":15},\"zerolinecolor\":\"white\",\"zerolinewidth\":2},\"yaxis\":{\"automargin\":true,\"gridcolor\":\"white\",\"linecolor\":\"white\",\"ticks\":\"\",\"title\":{\"standoff\":15},\"zerolinecolor\":\"white\",\"zerolinewidth\":2}}},\"title\":{\"font\":{\"color\":\"#4D5663\"}},\"xaxis\":{\"gridcolor\":\"#E1E5ED\",\"showgrid\":true,\"tickfont\":{\"color\":\"#4D5663\"},\"title\":{\"font\":{\"color\":\"#4D5663\"},\"text\":\"\"},\"zerolinecolor\":\"#E1E5ED\"},\"yaxis\":{\"gridcolor\":\"#E1E5ED\",\"showgrid\":true,\"tickfont\":{\"color\":\"#4D5663\"},\"title\":{\"font\":{\"color\":\"#4D5663\"},\"text\":\"\"},\"zerolinecolor\":\"#E1E5ED\"}},                        {\"showLink\": true, \"linkText\": \"Export to plot.ly\", \"plotlyServerURL\": \"https://plot.ly\", \"responsive\": true}                    ).then(function(){\n",
       "                            \n",
       "var gd = document.getElementById('11d1a4be-392b-4c49-801a-f3d702b9beb0');\n",
       "var x = new MutationObserver(function (mutations, observer) {{\n",
       "        var display = window.getComputedStyle(gd).display;\n",
       "        if (!display || display === 'none') {{\n",
       "            console.log([gd, 'removed!']);\n",
       "            Plotly.purge(gd);\n",
       "            observer.disconnect();\n",
       "        }}\n",
       "}});\n",
       "\n",
       "// Listen for the removal of the full notebook cells\n",
       "var notebookContainer = gd.closest('#notebook-container');\n",
       "if (notebookContainer) {{\n",
       "    x.observe(notebookContainer, {childList: true});\n",
       "}}\n",
       "\n",
       "// Listen for the clearing of the current output cell\n",
       "var outputEl = gd.closest('.output');\n",
       "if (outputEl) {{\n",
       "    x.observe(outputEl, {childList: true});\n",
       "}}\n",
       "\n",
       "                        })                };                });            </script>        </div>"
      ]
     },
     "metadata": {},
     "output_type": "display_data"
    }
   ],
   "source": [
    "df.count().iplot(kind='bar')"
   ]
  },
  {
   "cell_type": "markdown",
   "metadata": {},
   "source": [
    "## Boxplots"
   ]
  },
  {
   "cell_type": "code",
   "execution_count": 13,
   "metadata": {},
   "outputs": [
    {
     "data": {
      "application/vnd.plotly.v1+json": {
       "config": {
        "linkText": "Export to plot.ly",
        "plotlyServerURL": "https://plot.ly",
        "showLink": true
       },
       "data": [
        {
         "boxpoints": false,
         "line": {
          "width": 1.3
         },
         "marker": {
          "color": "rgba(255, 153, 51, 1.0)"
         },
         "name": "A",
         "orientation": "v",
         "type": "box",
         "y": [
          0.7142777740002493,
          1.7199028467107027,
          -0.656803403254399,
          -0.37392620679314936,
          -0.31606590443921007,
          0.35505889405438235,
          0.30268661008777253,
          -0.20025345133011221,
          -0.7836855248050619,
          -0.8001492342950658,
          0.5139621668662798,
          0.6479247398677027,
          -0.7211676148282345,
          0.7194291364909836,
          -0.2163419153726224,
          -0.4804535209362682,
          -0.714837323622347,
          1.1990673445619522,
          0.32378499945067485,
          0.32720073545032413,
          -1.2416640093536817,
          -1.0964978401145988,
          -2.1451300195809617,
          -0.4095271017607454,
          -0.45316941062315785,
          -1.122925074551881,
          1.534771250157007,
          0.8082105077168469,
          0.2029478602650499,
          0.8792395730528462,
          1.6238072982147747,
          -1.689598035108892,
          0.7172442956307108,
          1.4796357413226466,
          0.10848653839183443,
          0.2651199463165854,
          -0.448360276786736,
          -0.8717512540566079,
          -1.673236517973046,
          0.15762999583840775,
          0.3231114754169684,
          -2.132193362543313,
          -1.9211723050134575,
          0.2923166142946065,
          1.0379779669930023,
          0.04206636875091591,
          -0.6015462970886982,
          -0.7081127368965313,
          -0.13272123239646805,
          2.289950608975294,
          -0.1742026494967424,
          0.59635132291716,
          0.991485617310549,
          -0.15785058610376146,
          0.15891339279876676,
          1.323390106354316,
          0.7895370254885591,
          0.3639551791777413,
          -2.55375949966317,
          -0.939382779591616,
          -0.8616920966398784,
          0.7238203508712924,
          2.0611264931219995,
          -1.0673993007785716,
          1.4850336351104063,
          -0.17536273373016378,
          -0.6586113604808225,
          1.0852382724029959,
          0.09988394766108045,
          0.26697145343793954,
          -0.508604167253295,
          -0.8952623555402414,
          -0.6681146819732109,
          0.1744415811250902,
          -0.09704809142761688,
          -0.3951710675259424,
          0.724433828075461,
          0.19331020672322452,
          1.31690463122668,
          -0.5019748382265561,
          0.21407155559326627,
          -1.2923542370415495,
          0.6016718634605939,
          -0.16503701845514213,
          1.5203243551375871,
          -0.6557452100418191,
          1.1703097186619138,
          0.4213445354585947,
          1.1003148707214743,
          0.1503838317476397,
          -0.9970229620212248,
          -0.10549357398256586,
          0.3859715646698864,
          0.08402541190919727,
          0.1854135916396423,
          -1.2952897277314197,
          -0.4213245059694718,
          0.7618730883422946,
          -0.23464880537146648,
          -1.7371251770094929
         ]
        },
        {
         "boxpoints": false,
         "line": {
          "width": 1.3
         },
         "marker": {
          "color": "rgba(55, 128, 191, 1.0)"
         },
         "name": "B",
         "orientation": "v",
         "type": "box",
         "y": [
          0.02113025316214141,
          -2.4679781393279625,
          0.483335436464977,
          0.23343275183544257,
          -0.013530670263819523,
          -0.25274605724693644,
          0.3473353391647001,
          0.05850946264135038,
          -0.33167398556150796,
          -0.5826505647985586,
          -0.5849294552086969,
          -0.31954105313749986,
          1.1986692559184746,
          0.5966633134733866,
          0.6735564992413137,
          -0.9235167788445138,
          -0.6352924694076183,
          1.9740394707525353,
          1.121083702891913,
          -1.4310412193140811,
          0.05236734426799687,
          1.1564237708409333,
          -0.862590797069598,
          0.9883197350285711,
          1.2405829125319803,
          -1.0349746567626237,
          1.1142415536603365,
          -0.510931014535598,
          0.33929255036864875,
          -1.7086447062048555,
          0.1623300555860231,
          -0.7894296447142766,
          0.27146494353613027,
          -0.9233581078784034,
          0.9239563585106843,
          1.240190084937,
          -0.24909041604582954,
          0.46770430331130614,
          1.087508384368392,
          0.7268497068857239,
          -1.9801224820571879,
          -0.3970011783608756,
          -0.8788799454353752,
          0.5246463683079379,
          -1.2308441568728488,
          1.1572020049571972,
          -1.9034609401747042,
          -0.044874475896686826,
          0.5636849694689087,
          -1.2124159074387677,
          1.528049782679351,
          1.2094085465743554,
          -0.6850443070661522,
          -0.9845636294532993,
          -0.9884039790626893,
          -0.262251577330043,
          1.9418229652153194,
          2.0214228285512976,
          -0.0966652922560624,
          -0.10214164808690887,
          0.06395063021477436,
          0.3820445412170909,
          0.2864661093929553,
          0.8494860488516242,
          -0.735311071083744,
          0.22491638213831677,
          -1.5771082822829272,
          0.34539482297280133,
          -0.403319262277709,
          -0.36892593978662797,
          -0.5724218689783241,
          -0.7071986529983127,
          0.4349982418571607,
          1.351847447933669,
          1.6166636282389513,
          0.10911788388401762,
          -2.2510302223138137,
          -0.6388474141987549,
          -0.7170590400106103,
          -0.3771644409300306,
          0.6891544594565927,
          -0.7584405091564508,
          0.6514487791821924,
          0.10571500752184819,
          -1.56410209229144,
          -0.661226422718267,
          0.6375051523459719,
          1.0505603467091036,
          -0.2043218769687843,
          0.18733893178586658,
          1.0311879603876744,
          0.6931802933281493,
          0.3879960879915357,
          -0.5919503305272049,
          0.02626106472165012,
          -0.5409760417361436,
          -0.10754065770234249,
          0.13368455578919725,
          0.47896581167577396,
          -0.11524343282222889
         ]
        },
        {
         "boxpoints": false,
         "line": {
          "width": 1.3
         },
         "marker": {
          "color": "rgba(50, 171, 96, 1.0)"
         },
         "name": "C",
         "orientation": "v",
         "type": "box",
         "y": [
          -0.9434643656074901,
          1.3444124766656895,
          0.17215909063527174,
          1.5537108414134235,
          -0.8910657518417112,
          0.9625961588955709,
          -0.7058012979046439,
          -0.8552277436696232,
          1.4718647392330557,
          -0.5667933660428515,
          -0.13808742621551356,
          -2.1593838274223716,
          -1.2164789868025245,
          0.6016906031522246,
          -0.8569527606176405,
          0.2538313681544378,
          0.9662815812595507,
          -1.1107794200315244,
          -0.49198421681841026,
          1.4333950492188858,
          0.8102746822753875,
          0.2722784351380484,
          -0.7779613530334486,
          -0.11726359178260841,
          -0.07580299986785653,
          -0.057168163538652804,
          -0.46843620115874907,
          0.28097168164343683,
          -0.6088775429730605,
          -1.499345603805868,
          0.1703427766461955,
          -0.4424946226581365,
          0.48147984724528303,
          -0.6220281105477253,
          2.2519035852945883,
          -1.2827110761298643,
          -0.08807562925290076,
          -0.584091630306514,
          0.18382780655640937,
          0.1787983022040505,
          0.19911199737135604,
          0.9643454769373196,
          0.8328190902756328,
          0.8343707828812497,
          1.1178891740417924,
          0.8856074976565256,
          -1.7145192750679596,
          -0.5855897567918643,
          0.5708138958813657,
          -0.8182849705937587,
          -1.9925783563554824,
          -1.248896832265893,
          -0.44740539286760544,
          2.249297379891929,
          -0.007105998157687052,
          0.006096193285520275,
          0.5519063561670956,
          -0.051574783887322305,
          0.8204387541719532,
          -0.33078874723067697,
          -0.655185252731514,
          -0.14456220270363163,
          0.41494809014388495,
          -1.0391737180128005,
          -0.7143709725774835,
          0.09697552242272921,
          -1.5237280027765399,
          -0.7988127472717743,
          1.6302857946111504,
          -0.052812423674299135,
          -0.8847578470900589,
          3.2684681581501107,
          -0.029685356661994993,
          -0.09678541069859871,
          0.173370680041757,
          -1.2981749752643537,
          1.3738875794910574,
          0.2588831786041221,
          -0.7751203954645283,
          1.0235422117199084,
          -0.17078991614864422,
          0.5178310017005542,
          1.4252487443336075,
          0.5986421771739376,
          0.00012468312148118674,
          -0.07918885046371128,
          -0.07066943142440128,
          0.27120551991121505,
          -0.17843715264909218,
          -0.6608657615075663,
          -0.7270807114405403,
          -0.26447327537479665,
          -2.0438668083832763,
          -0.2299981939576035,
          -0.8910449032322855,
          1.034275149566397,
          -0.9177435852018307,
          0.19894408500110364,
          -0.7164975130739492,
          1.2148894899779028
         ]
        },
        {
         "boxpoints": false,
         "line": {
          "width": 1.3
         },
         "marker": {
          "color": "rgba(128, 0, 128, 1.0)"
         },
         "name": "D",
         "orientation": "v",
         "type": "box",
         "y": [
          -0.9835317302822373,
          -0.602085452129363,
          0.7038156479662266,
          1.984095995297494,
          -0.7235930944526109,
          0.34180371172634566,
          1.6240904513430607,
          -2.596926088005319,
          -1.2168714050909983,
          0.8440421104254345,
          0.16922500771872154,
          -0.9118484850509705,
          1.2167090938038219,
          -1.8908544466553652,
          0.72350841523467,
          0.8720215982140032,
          0.7493892613533375,
          0.4092332958269358,
          -0.9169211121796843,
          0.2177840438471423,
          0.35721248770531744,
          -1.4009701304809954,
          -0.2468849733447492,
          1.3536297940967401,
          0.6471602894444082,
          1.6996312235381028,
          -0.03581837302474589,
          -0.4994937232070557,
          -0.5157880663881521,
          -0.21447973435086495,
          -1.3983631192688413,
          -0.051814319532285096,
          1.1034101470139979,
          -0.11133824418599521,
          -0.4403568329715678,
          -1.1083790709929835,
          -1.9697705701951271,
          -0.0307005264533092,
          0.5115907052546382,
          1.058260699174405,
          -0.3778204222077217,
          0.8902998209480225,
          -0.15595178828960424,
          1.7495572908370873,
          -2.1169646865707357,
          -1.9214149460540764,
          1.2208113989714382,
          -1.4097208383444755,
          -1.0807539677084463,
          -0.37636652583167246,
          -0.7253721652919294,
          -0.9803003945233395,
          1.3557398765711672,
          -0.3192142688300996,
          0.32856282893038424,
          0.6787554006630662,
          0.5543057406940548,
          0.5301275454067832,
          -1.2207874364283946,
          -0.736664542596436,
          1.6345288193550631,
          -0.20309780472812647,
          -0.3465455266138488,
          -0.8467389836181894,
          0.008226275620721746,
          -0.8407614205889379,
          -1.2030422882596896,
          -0.32769640233491126,
          0.07798247920353843,
          -0.22150142303399079,
          -1.2026607248521823,
          1.0592320852461656,
          -0.5194947728236432,
          -0.02008509492317327,
          -0.9434819554517148,
          0.024895693435208876,
          -0.8103435273153045,
          -1.2406744017535674,
          -0.3328402849146345,
          -0.17750229574983345,
          -0.45614954358203197,
          0.3960872033369166,
          -2.12299009828048,
          -0.2788854203709273,
          0.019928939876970125,
          -1.271604593412063,
          0.6579477188485843,
          -0.26507153754724055,
          -0.6486900871115029,
          -1.6124367249139295,
          0.051348172534486244,
          0.49693291464762784,
          -2.308935640488484,
          -1.285235970506294,
          -0.737053421390977,
          0.9178878747978111,
          -0.394630616388896,
          0.04903297606795281,
          0.3394151124652293,
          0.7340769051278897
         ]
        }
       ],
       "layout": {
        "legend": {
         "bgcolor": "#F5F6F9",
         "font": {
          "color": "#4D5663"
         }
        },
        "paper_bgcolor": "#F5F6F9",
        "plot_bgcolor": "#F5F6F9",
        "template": {
         "data": {
          "bar": [
           {
            "error_x": {
             "color": "#2a3f5f"
            },
            "error_y": {
             "color": "#2a3f5f"
            },
            "marker": {
             "line": {
              "color": "#E5ECF6",
              "width": 0.5
             },
             "pattern": {
              "fillmode": "overlay",
              "size": 10,
              "solidity": 0.2
             }
            },
            "type": "bar"
           }
          ],
          "barpolar": [
           {
            "marker": {
             "line": {
              "color": "#E5ECF6",
              "width": 0.5
             },
             "pattern": {
              "fillmode": "overlay",
              "size": 10,
              "solidity": 0.2
             }
            },
            "type": "barpolar"
           }
          ],
          "carpet": [
           {
            "aaxis": {
             "endlinecolor": "#2a3f5f",
             "gridcolor": "white",
             "linecolor": "white",
             "minorgridcolor": "white",
             "startlinecolor": "#2a3f5f"
            },
            "baxis": {
             "endlinecolor": "#2a3f5f",
             "gridcolor": "white",
             "linecolor": "white",
             "minorgridcolor": "white",
             "startlinecolor": "#2a3f5f"
            },
            "type": "carpet"
           }
          ],
          "choropleth": [
           {
            "colorbar": {
             "outlinewidth": 0,
             "ticks": ""
            },
            "type": "choropleth"
           }
          ],
          "contour": [
           {
            "colorbar": {
             "outlinewidth": 0,
             "ticks": ""
            },
            "colorscale": [
             [
              0,
              "#0d0887"
             ],
             [
              0.1111111111111111,
              "#46039f"
             ],
             [
              0.2222222222222222,
              "#7201a8"
             ],
             [
              0.3333333333333333,
              "#9c179e"
             ],
             [
              0.4444444444444444,
              "#bd3786"
             ],
             [
              0.5555555555555556,
              "#d8576b"
             ],
             [
              0.6666666666666666,
              "#ed7953"
             ],
             [
              0.7777777777777778,
              "#fb9f3a"
             ],
             [
              0.8888888888888888,
              "#fdca26"
             ],
             [
              1,
              "#f0f921"
             ]
            ],
            "type": "contour"
           }
          ],
          "contourcarpet": [
           {
            "colorbar": {
             "outlinewidth": 0,
             "ticks": ""
            },
            "type": "contourcarpet"
           }
          ],
          "heatmap": [
           {
            "colorbar": {
             "outlinewidth": 0,
             "ticks": ""
            },
            "colorscale": [
             [
              0,
              "#0d0887"
             ],
             [
              0.1111111111111111,
              "#46039f"
             ],
             [
              0.2222222222222222,
              "#7201a8"
             ],
             [
              0.3333333333333333,
              "#9c179e"
             ],
             [
              0.4444444444444444,
              "#bd3786"
             ],
             [
              0.5555555555555556,
              "#d8576b"
             ],
             [
              0.6666666666666666,
              "#ed7953"
             ],
             [
              0.7777777777777778,
              "#fb9f3a"
             ],
             [
              0.8888888888888888,
              "#fdca26"
             ],
             [
              1,
              "#f0f921"
             ]
            ],
            "type": "heatmap"
           }
          ],
          "heatmapgl": [
           {
            "colorbar": {
             "outlinewidth": 0,
             "ticks": ""
            },
            "colorscale": [
             [
              0,
              "#0d0887"
             ],
             [
              0.1111111111111111,
              "#46039f"
             ],
             [
              0.2222222222222222,
              "#7201a8"
             ],
             [
              0.3333333333333333,
              "#9c179e"
             ],
             [
              0.4444444444444444,
              "#bd3786"
             ],
             [
              0.5555555555555556,
              "#d8576b"
             ],
             [
              0.6666666666666666,
              "#ed7953"
             ],
             [
              0.7777777777777778,
              "#fb9f3a"
             ],
             [
              0.8888888888888888,
              "#fdca26"
             ],
             [
              1,
              "#f0f921"
             ]
            ],
            "type": "heatmapgl"
           }
          ],
          "histogram": [
           {
            "marker": {
             "pattern": {
              "fillmode": "overlay",
              "size": 10,
              "solidity": 0.2
             }
            },
            "type": "histogram"
           }
          ],
          "histogram2d": [
           {
            "colorbar": {
             "outlinewidth": 0,
             "ticks": ""
            },
            "colorscale": [
             [
              0,
              "#0d0887"
             ],
             [
              0.1111111111111111,
              "#46039f"
             ],
             [
              0.2222222222222222,
              "#7201a8"
             ],
             [
              0.3333333333333333,
              "#9c179e"
             ],
             [
              0.4444444444444444,
              "#bd3786"
             ],
             [
              0.5555555555555556,
              "#d8576b"
             ],
             [
              0.6666666666666666,
              "#ed7953"
             ],
             [
              0.7777777777777778,
              "#fb9f3a"
             ],
             [
              0.8888888888888888,
              "#fdca26"
             ],
             [
              1,
              "#f0f921"
             ]
            ],
            "type": "histogram2d"
           }
          ],
          "histogram2dcontour": [
           {
            "colorbar": {
             "outlinewidth": 0,
             "ticks": ""
            },
            "colorscale": [
             [
              0,
              "#0d0887"
             ],
             [
              0.1111111111111111,
              "#46039f"
             ],
             [
              0.2222222222222222,
              "#7201a8"
             ],
             [
              0.3333333333333333,
              "#9c179e"
             ],
             [
              0.4444444444444444,
              "#bd3786"
             ],
             [
              0.5555555555555556,
              "#d8576b"
             ],
             [
              0.6666666666666666,
              "#ed7953"
             ],
             [
              0.7777777777777778,
              "#fb9f3a"
             ],
             [
              0.8888888888888888,
              "#fdca26"
             ],
             [
              1,
              "#f0f921"
             ]
            ],
            "type": "histogram2dcontour"
           }
          ],
          "mesh3d": [
           {
            "colorbar": {
             "outlinewidth": 0,
             "ticks": ""
            },
            "type": "mesh3d"
           }
          ],
          "parcoords": [
           {
            "line": {
             "colorbar": {
              "outlinewidth": 0,
              "ticks": ""
             }
            },
            "type": "parcoords"
           }
          ],
          "pie": [
           {
            "automargin": true,
            "type": "pie"
           }
          ],
          "scatter": [
           {
            "fillpattern": {
             "fillmode": "overlay",
             "size": 10,
             "solidity": 0.2
            },
            "type": "scatter"
           }
          ],
          "scatter3d": [
           {
            "line": {
             "colorbar": {
              "outlinewidth": 0,
              "ticks": ""
             }
            },
            "marker": {
             "colorbar": {
              "outlinewidth": 0,
              "ticks": ""
             }
            },
            "type": "scatter3d"
           }
          ],
          "scattercarpet": [
           {
            "marker": {
             "colorbar": {
              "outlinewidth": 0,
              "ticks": ""
             }
            },
            "type": "scattercarpet"
           }
          ],
          "scattergeo": [
           {
            "marker": {
             "colorbar": {
              "outlinewidth": 0,
              "ticks": ""
             }
            },
            "type": "scattergeo"
           }
          ],
          "scattergl": [
           {
            "marker": {
             "colorbar": {
              "outlinewidth": 0,
              "ticks": ""
             }
            },
            "type": "scattergl"
           }
          ],
          "scattermapbox": [
           {
            "marker": {
             "colorbar": {
              "outlinewidth": 0,
              "ticks": ""
             }
            },
            "type": "scattermapbox"
           }
          ],
          "scatterpolar": [
           {
            "marker": {
             "colorbar": {
              "outlinewidth": 0,
              "ticks": ""
             }
            },
            "type": "scatterpolar"
           }
          ],
          "scatterpolargl": [
           {
            "marker": {
             "colorbar": {
              "outlinewidth": 0,
              "ticks": ""
             }
            },
            "type": "scatterpolargl"
           }
          ],
          "scatterternary": [
           {
            "marker": {
             "colorbar": {
              "outlinewidth": 0,
              "ticks": ""
             }
            },
            "type": "scatterternary"
           }
          ],
          "surface": [
           {
            "colorbar": {
             "outlinewidth": 0,
             "ticks": ""
            },
            "colorscale": [
             [
              0,
              "#0d0887"
             ],
             [
              0.1111111111111111,
              "#46039f"
             ],
             [
              0.2222222222222222,
              "#7201a8"
             ],
             [
              0.3333333333333333,
              "#9c179e"
             ],
             [
              0.4444444444444444,
              "#bd3786"
             ],
             [
              0.5555555555555556,
              "#d8576b"
             ],
             [
              0.6666666666666666,
              "#ed7953"
             ],
             [
              0.7777777777777778,
              "#fb9f3a"
             ],
             [
              0.8888888888888888,
              "#fdca26"
             ],
             [
              1,
              "#f0f921"
             ]
            ],
            "type": "surface"
           }
          ],
          "table": [
           {
            "cells": {
             "fill": {
              "color": "#EBF0F8"
             },
             "line": {
              "color": "white"
             }
            },
            "header": {
             "fill": {
              "color": "#C8D4E3"
             },
             "line": {
              "color": "white"
             }
            },
            "type": "table"
           }
          ]
         },
         "layout": {
          "annotationdefaults": {
           "arrowcolor": "#2a3f5f",
           "arrowhead": 0,
           "arrowwidth": 1
          },
          "autotypenumbers": "strict",
          "coloraxis": {
           "colorbar": {
            "outlinewidth": 0,
            "ticks": ""
           }
          },
          "colorscale": {
           "diverging": [
            [
             0,
             "#8e0152"
            ],
            [
             0.1,
             "#c51b7d"
            ],
            [
             0.2,
             "#de77ae"
            ],
            [
             0.3,
             "#f1b6da"
            ],
            [
             0.4,
             "#fde0ef"
            ],
            [
             0.5,
             "#f7f7f7"
            ],
            [
             0.6,
             "#e6f5d0"
            ],
            [
             0.7,
             "#b8e186"
            ],
            [
             0.8,
             "#7fbc41"
            ],
            [
             0.9,
             "#4d9221"
            ],
            [
             1,
             "#276419"
            ]
           ],
           "sequential": [
            [
             0,
             "#0d0887"
            ],
            [
             0.1111111111111111,
             "#46039f"
            ],
            [
             0.2222222222222222,
             "#7201a8"
            ],
            [
             0.3333333333333333,
             "#9c179e"
            ],
            [
             0.4444444444444444,
             "#bd3786"
            ],
            [
             0.5555555555555556,
             "#d8576b"
            ],
            [
             0.6666666666666666,
             "#ed7953"
            ],
            [
             0.7777777777777778,
             "#fb9f3a"
            ],
            [
             0.8888888888888888,
             "#fdca26"
            ],
            [
             1,
             "#f0f921"
            ]
           ],
           "sequentialminus": [
            [
             0,
             "#0d0887"
            ],
            [
             0.1111111111111111,
             "#46039f"
            ],
            [
             0.2222222222222222,
             "#7201a8"
            ],
            [
             0.3333333333333333,
             "#9c179e"
            ],
            [
             0.4444444444444444,
             "#bd3786"
            ],
            [
             0.5555555555555556,
             "#d8576b"
            ],
            [
             0.6666666666666666,
             "#ed7953"
            ],
            [
             0.7777777777777778,
             "#fb9f3a"
            ],
            [
             0.8888888888888888,
             "#fdca26"
            ],
            [
             1,
             "#f0f921"
            ]
           ]
          },
          "colorway": [
           "#636efa",
           "#EF553B",
           "#00cc96",
           "#ab63fa",
           "#FFA15A",
           "#19d3f3",
           "#FF6692",
           "#B6E880",
           "#FF97FF",
           "#FECB52"
          ],
          "font": {
           "color": "#2a3f5f"
          },
          "geo": {
           "bgcolor": "white",
           "lakecolor": "white",
           "landcolor": "#E5ECF6",
           "showlakes": true,
           "showland": true,
           "subunitcolor": "white"
          },
          "hoverlabel": {
           "align": "left"
          },
          "hovermode": "closest",
          "mapbox": {
           "style": "light"
          },
          "paper_bgcolor": "white",
          "plot_bgcolor": "#E5ECF6",
          "polar": {
           "angularaxis": {
            "gridcolor": "white",
            "linecolor": "white",
            "ticks": ""
           },
           "bgcolor": "#E5ECF6",
           "radialaxis": {
            "gridcolor": "white",
            "linecolor": "white",
            "ticks": ""
           }
          },
          "scene": {
           "xaxis": {
            "backgroundcolor": "#E5ECF6",
            "gridcolor": "white",
            "gridwidth": 2,
            "linecolor": "white",
            "showbackground": true,
            "ticks": "",
            "zerolinecolor": "white"
           },
           "yaxis": {
            "backgroundcolor": "#E5ECF6",
            "gridcolor": "white",
            "gridwidth": 2,
            "linecolor": "white",
            "showbackground": true,
            "ticks": "",
            "zerolinecolor": "white"
           },
           "zaxis": {
            "backgroundcolor": "#E5ECF6",
            "gridcolor": "white",
            "gridwidth": 2,
            "linecolor": "white",
            "showbackground": true,
            "ticks": "",
            "zerolinecolor": "white"
           }
          },
          "shapedefaults": {
           "line": {
            "color": "#2a3f5f"
           }
          },
          "ternary": {
           "aaxis": {
            "gridcolor": "white",
            "linecolor": "white",
            "ticks": ""
           },
           "baxis": {
            "gridcolor": "white",
            "linecolor": "white",
            "ticks": ""
           },
           "bgcolor": "#E5ECF6",
           "caxis": {
            "gridcolor": "white",
            "linecolor": "white",
            "ticks": ""
           }
          },
          "title": {
           "x": 0.05
          },
          "xaxis": {
           "automargin": true,
           "gridcolor": "white",
           "linecolor": "white",
           "ticks": "",
           "title": {
            "standoff": 15
           },
           "zerolinecolor": "white",
           "zerolinewidth": 2
          },
          "yaxis": {
           "automargin": true,
           "gridcolor": "white",
           "linecolor": "white",
           "ticks": "",
           "title": {
            "standoff": 15
           },
           "zerolinecolor": "white",
           "zerolinewidth": 2
          }
         }
        },
        "title": {
         "font": {
          "color": "#4D5663"
         }
        },
        "xaxis": {
         "gridcolor": "#E1E5ED",
         "showgrid": true,
         "tickfont": {
          "color": "#4D5663"
         },
         "title": {
          "font": {
           "color": "#4D5663"
          },
          "text": ""
         },
         "zerolinecolor": "#E1E5ED"
        },
        "yaxis": {
         "gridcolor": "#E1E5ED",
         "showgrid": true,
         "tickfont": {
          "color": "#4D5663"
         },
         "title": {
          "font": {
           "color": "#4D5663"
          },
          "text": ""
         },
         "zerolinecolor": "#E1E5ED"
        }
       }
      },
      "text/html": [
       "<div>                            <div id=\"038f56ef-9d0e-46c6-9538-814b4ff98a17\" class=\"plotly-graph-div\" style=\"height:525px; width:100%;\"></div>            <script type=\"text/javascript\">                require([\"plotly\"], function(Plotly) {                    window.PLOTLYENV=window.PLOTLYENV || {};\n",
       "                    window.PLOTLYENV.BASE_URL='https://plot.ly';                                    if (document.getElementById(\"038f56ef-9d0e-46c6-9538-814b4ff98a17\")) {                    Plotly.newPlot(                        \"038f56ef-9d0e-46c6-9538-814b4ff98a17\",                        [{\"boxpoints\":false,\"line\":{\"width\":1.3},\"marker\":{\"color\":\"rgba(255, 153, 51, 1.0)\"},\"name\":\"A\",\"orientation\":\"v\",\"y\":[0.7142777740002493,1.7199028467107027,-0.656803403254399,-0.37392620679314936,-0.31606590443921007,0.35505889405438235,0.30268661008777253,-0.20025345133011221,-0.7836855248050619,-0.8001492342950658,0.5139621668662798,0.6479247398677027,-0.7211676148282345,0.7194291364909836,-0.2163419153726224,-0.4804535209362682,-0.714837323622347,1.1990673445619522,0.32378499945067485,0.32720073545032413,-1.2416640093536817,-1.0964978401145988,-2.1451300195809617,-0.4095271017607454,-0.45316941062315785,-1.122925074551881,1.534771250157007,0.8082105077168469,0.2029478602650499,0.8792395730528462,1.6238072982147747,-1.689598035108892,0.7172442956307108,1.4796357413226466,0.10848653839183443,0.2651199463165854,-0.448360276786736,-0.8717512540566079,-1.673236517973046,0.15762999583840775,0.3231114754169684,-2.132193362543313,-1.9211723050134575,0.2923166142946065,1.0379779669930023,0.04206636875091591,-0.6015462970886982,-0.7081127368965313,-0.13272123239646805,2.289950608975294,-0.1742026494967424,0.59635132291716,0.991485617310549,-0.15785058610376146,0.15891339279876676,1.323390106354316,0.7895370254885591,0.3639551791777413,-2.55375949966317,-0.939382779591616,-0.8616920966398784,0.7238203508712924,2.0611264931219995,-1.0673993007785716,1.4850336351104063,-0.17536273373016378,-0.6586113604808225,1.0852382724029959,0.09988394766108045,0.26697145343793954,-0.508604167253295,-0.8952623555402414,-0.6681146819732109,0.1744415811250902,-0.09704809142761688,-0.3951710675259424,0.724433828075461,0.19331020672322452,1.31690463122668,-0.5019748382265561,0.21407155559326627,-1.2923542370415495,0.6016718634605939,-0.16503701845514213,1.5203243551375871,-0.6557452100418191,1.1703097186619138,0.4213445354585947,1.1003148707214743,0.1503838317476397,-0.9970229620212248,-0.10549357398256586,0.3859715646698864,0.08402541190919727,0.1854135916396423,-1.2952897277314197,-0.4213245059694718,0.7618730883422946,-0.23464880537146648,-1.7371251770094929],\"type\":\"box\"},{\"boxpoints\":false,\"line\":{\"width\":1.3},\"marker\":{\"color\":\"rgba(55, 128, 191, 1.0)\"},\"name\":\"B\",\"orientation\":\"v\",\"y\":[0.02113025316214141,-2.4679781393279625,0.483335436464977,0.23343275183544257,-0.013530670263819523,-0.25274605724693644,0.3473353391647001,0.05850946264135038,-0.33167398556150796,-0.5826505647985586,-0.5849294552086969,-0.31954105313749986,1.1986692559184746,0.5966633134733866,0.6735564992413137,-0.9235167788445138,-0.6352924694076183,1.9740394707525353,1.121083702891913,-1.4310412193140811,0.05236734426799687,1.1564237708409333,-0.862590797069598,0.9883197350285711,1.2405829125319803,-1.0349746567626237,1.1142415536603365,-0.510931014535598,0.33929255036864875,-1.7086447062048555,0.1623300555860231,-0.7894296447142766,0.27146494353613027,-0.9233581078784034,0.9239563585106843,1.240190084937,-0.24909041604582954,0.46770430331130614,1.087508384368392,0.7268497068857239,-1.9801224820571879,-0.3970011783608756,-0.8788799454353752,0.5246463683079379,-1.2308441568728488,1.1572020049571972,-1.9034609401747042,-0.044874475896686826,0.5636849694689087,-1.2124159074387677,1.528049782679351,1.2094085465743554,-0.6850443070661522,-0.9845636294532993,-0.9884039790626893,-0.262251577330043,1.9418229652153194,2.0214228285512976,-0.0966652922560624,-0.10214164808690887,0.06395063021477436,0.3820445412170909,0.2864661093929553,0.8494860488516242,-0.735311071083744,0.22491638213831677,-1.5771082822829272,0.34539482297280133,-0.403319262277709,-0.36892593978662797,-0.5724218689783241,-0.7071986529983127,0.4349982418571607,1.351847447933669,1.6166636282389513,0.10911788388401762,-2.2510302223138137,-0.6388474141987549,-0.7170590400106103,-0.3771644409300306,0.6891544594565927,-0.7584405091564508,0.6514487791821924,0.10571500752184819,-1.56410209229144,-0.661226422718267,0.6375051523459719,1.0505603467091036,-0.2043218769687843,0.18733893178586658,1.0311879603876744,0.6931802933281493,0.3879960879915357,-0.5919503305272049,0.02626106472165012,-0.5409760417361436,-0.10754065770234249,0.13368455578919725,0.47896581167577396,-0.11524343282222889],\"type\":\"box\"},{\"boxpoints\":false,\"line\":{\"width\":1.3},\"marker\":{\"color\":\"rgba(50, 171, 96, 1.0)\"},\"name\":\"C\",\"orientation\":\"v\",\"y\":[-0.9434643656074901,1.3444124766656895,0.17215909063527174,1.5537108414134235,-0.8910657518417112,0.9625961588955709,-0.7058012979046439,-0.8552277436696232,1.4718647392330557,-0.5667933660428515,-0.13808742621551356,-2.1593838274223716,-1.2164789868025245,0.6016906031522246,-0.8569527606176405,0.2538313681544378,0.9662815812595507,-1.1107794200315244,-0.49198421681841026,1.4333950492188858,0.8102746822753875,0.2722784351380484,-0.7779613530334486,-0.11726359178260841,-0.07580299986785653,-0.057168163538652804,-0.46843620115874907,0.28097168164343683,-0.6088775429730605,-1.499345603805868,0.1703427766461955,-0.4424946226581365,0.48147984724528303,-0.6220281105477253,2.2519035852945883,-1.2827110761298643,-0.08807562925290076,-0.584091630306514,0.18382780655640937,0.1787983022040505,0.19911199737135604,0.9643454769373196,0.8328190902756328,0.8343707828812497,1.1178891740417924,0.8856074976565256,-1.7145192750679596,-0.5855897567918643,0.5708138958813657,-0.8182849705937587,-1.9925783563554824,-1.248896832265893,-0.44740539286760544,2.249297379891929,-0.007105998157687052,0.006096193285520275,0.5519063561670956,-0.051574783887322305,0.8204387541719532,-0.33078874723067697,-0.655185252731514,-0.14456220270363163,0.41494809014388495,-1.0391737180128005,-0.7143709725774835,0.09697552242272921,-1.5237280027765399,-0.7988127472717743,1.6302857946111504,-0.052812423674299135,-0.8847578470900589,3.2684681581501107,-0.029685356661994993,-0.09678541069859871,0.173370680041757,-1.2981749752643537,1.3738875794910574,0.2588831786041221,-0.7751203954645283,1.0235422117199084,-0.17078991614864422,0.5178310017005542,1.4252487443336075,0.5986421771739376,0.00012468312148118674,-0.07918885046371128,-0.07066943142440128,0.27120551991121505,-0.17843715264909218,-0.6608657615075663,-0.7270807114405403,-0.26447327537479665,-2.0438668083832763,-0.2299981939576035,-0.8910449032322855,1.034275149566397,-0.9177435852018307,0.19894408500110364,-0.7164975130739492,1.2148894899779028],\"type\":\"box\"},{\"boxpoints\":false,\"line\":{\"width\":1.3},\"marker\":{\"color\":\"rgba(128, 0, 128, 1.0)\"},\"name\":\"D\",\"orientation\":\"v\",\"y\":[-0.9835317302822373,-0.602085452129363,0.7038156479662266,1.984095995297494,-0.7235930944526109,0.34180371172634566,1.6240904513430607,-2.596926088005319,-1.2168714050909983,0.8440421104254345,0.16922500771872154,-0.9118484850509705,1.2167090938038219,-1.8908544466553652,0.72350841523467,0.8720215982140032,0.7493892613533375,0.4092332958269358,-0.9169211121796843,0.2177840438471423,0.35721248770531744,-1.4009701304809954,-0.2468849733447492,1.3536297940967401,0.6471602894444082,1.6996312235381028,-0.03581837302474589,-0.4994937232070557,-0.5157880663881521,-0.21447973435086495,-1.3983631192688413,-0.051814319532285096,1.1034101470139979,-0.11133824418599521,-0.4403568329715678,-1.1083790709929835,-1.9697705701951271,-0.0307005264533092,0.5115907052546382,1.058260699174405,-0.3778204222077217,0.8902998209480225,-0.15595178828960424,1.7495572908370873,-2.1169646865707357,-1.9214149460540764,1.2208113989714382,-1.4097208383444755,-1.0807539677084463,-0.37636652583167246,-0.7253721652919294,-0.9803003945233395,1.3557398765711672,-0.3192142688300996,0.32856282893038424,0.6787554006630662,0.5543057406940548,0.5301275454067832,-1.2207874364283946,-0.736664542596436,1.6345288193550631,-0.20309780472812647,-0.3465455266138488,-0.8467389836181894,0.008226275620721746,-0.8407614205889379,-1.2030422882596896,-0.32769640233491126,0.07798247920353843,-0.22150142303399079,-1.2026607248521823,1.0592320852461656,-0.5194947728236432,-0.02008509492317327,-0.9434819554517148,0.024895693435208876,-0.8103435273153045,-1.2406744017535674,-0.3328402849146345,-0.17750229574983345,-0.45614954358203197,0.3960872033369166,-2.12299009828048,-0.2788854203709273,0.019928939876970125,-1.271604593412063,0.6579477188485843,-0.26507153754724055,-0.6486900871115029,-1.6124367249139295,0.051348172534486244,0.49693291464762784,-2.308935640488484,-1.285235970506294,-0.737053421390977,0.9178878747978111,-0.394630616388896,0.04903297606795281,0.3394151124652293,0.7340769051278897],\"type\":\"box\"}],                        {\"legend\":{\"bgcolor\":\"#F5F6F9\",\"font\":{\"color\":\"#4D5663\"}},\"paper_bgcolor\":\"#F5F6F9\",\"plot_bgcolor\":\"#F5F6F9\",\"template\":{\"data\":{\"barpolar\":[{\"marker\":{\"line\":{\"color\":\"#E5ECF6\",\"width\":0.5},\"pattern\":{\"fillmode\":\"overlay\",\"size\":10,\"solidity\":0.2}},\"type\":\"barpolar\"}],\"bar\":[{\"error_x\":{\"color\":\"#2a3f5f\"},\"error_y\":{\"color\":\"#2a3f5f\"},\"marker\":{\"line\":{\"color\":\"#E5ECF6\",\"width\":0.5},\"pattern\":{\"fillmode\":\"overlay\",\"size\":10,\"solidity\":0.2}},\"type\":\"bar\"}],\"carpet\":[{\"aaxis\":{\"endlinecolor\":\"#2a3f5f\",\"gridcolor\":\"white\",\"linecolor\":\"white\",\"minorgridcolor\":\"white\",\"startlinecolor\":\"#2a3f5f\"},\"baxis\":{\"endlinecolor\":\"#2a3f5f\",\"gridcolor\":\"white\",\"linecolor\":\"white\",\"minorgridcolor\":\"white\",\"startlinecolor\":\"#2a3f5f\"},\"type\":\"carpet\"}],\"choropleth\":[{\"colorbar\":{\"outlinewidth\":0,\"ticks\":\"\"},\"type\":\"choropleth\"}],\"contourcarpet\":[{\"colorbar\":{\"outlinewidth\":0,\"ticks\":\"\"},\"type\":\"contourcarpet\"}],\"contour\":[{\"colorbar\":{\"outlinewidth\":0,\"ticks\":\"\"},\"colorscale\":[[0.0,\"#0d0887\"],[0.1111111111111111,\"#46039f\"],[0.2222222222222222,\"#7201a8\"],[0.3333333333333333,\"#9c179e\"],[0.4444444444444444,\"#bd3786\"],[0.5555555555555556,\"#d8576b\"],[0.6666666666666666,\"#ed7953\"],[0.7777777777777778,\"#fb9f3a\"],[0.8888888888888888,\"#fdca26\"],[1.0,\"#f0f921\"]],\"type\":\"contour\"}],\"heatmapgl\":[{\"colorbar\":{\"outlinewidth\":0,\"ticks\":\"\"},\"colorscale\":[[0.0,\"#0d0887\"],[0.1111111111111111,\"#46039f\"],[0.2222222222222222,\"#7201a8\"],[0.3333333333333333,\"#9c179e\"],[0.4444444444444444,\"#bd3786\"],[0.5555555555555556,\"#d8576b\"],[0.6666666666666666,\"#ed7953\"],[0.7777777777777778,\"#fb9f3a\"],[0.8888888888888888,\"#fdca26\"],[1.0,\"#f0f921\"]],\"type\":\"heatmapgl\"}],\"heatmap\":[{\"colorbar\":{\"outlinewidth\":0,\"ticks\":\"\"},\"colorscale\":[[0.0,\"#0d0887\"],[0.1111111111111111,\"#46039f\"],[0.2222222222222222,\"#7201a8\"],[0.3333333333333333,\"#9c179e\"],[0.4444444444444444,\"#bd3786\"],[0.5555555555555556,\"#d8576b\"],[0.6666666666666666,\"#ed7953\"],[0.7777777777777778,\"#fb9f3a\"],[0.8888888888888888,\"#fdca26\"],[1.0,\"#f0f921\"]],\"type\":\"heatmap\"}],\"histogram2dcontour\":[{\"colorbar\":{\"outlinewidth\":0,\"ticks\":\"\"},\"colorscale\":[[0.0,\"#0d0887\"],[0.1111111111111111,\"#46039f\"],[0.2222222222222222,\"#7201a8\"],[0.3333333333333333,\"#9c179e\"],[0.4444444444444444,\"#bd3786\"],[0.5555555555555556,\"#d8576b\"],[0.6666666666666666,\"#ed7953\"],[0.7777777777777778,\"#fb9f3a\"],[0.8888888888888888,\"#fdca26\"],[1.0,\"#f0f921\"]],\"type\":\"histogram2dcontour\"}],\"histogram2d\":[{\"colorbar\":{\"outlinewidth\":0,\"ticks\":\"\"},\"colorscale\":[[0.0,\"#0d0887\"],[0.1111111111111111,\"#46039f\"],[0.2222222222222222,\"#7201a8\"],[0.3333333333333333,\"#9c179e\"],[0.4444444444444444,\"#bd3786\"],[0.5555555555555556,\"#d8576b\"],[0.6666666666666666,\"#ed7953\"],[0.7777777777777778,\"#fb9f3a\"],[0.8888888888888888,\"#fdca26\"],[1.0,\"#f0f921\"]],\"type\":\"histogram2d\"}],\"histogram\":[{\"marker\":{\"pattern\":{\"fillmode\":\"overlay\",\"size\":10,\"solidity\":0.2}},\"type\":\"histogram\"}],\"mesh3d\":[{\"colorbar\":{\"outlinewidth\":0,\"ticks\":\"\"},\"type\":\"mesh3d\"}],\"parcoords\":[{\"line\":{\"colorbar\":{\"outlinewidth\":0,\"ticks\":\"\"}},\"type\":\"parcoords\"}],\"pie\":[{\"automargin\":true,\"type\":\"pie\"}],\"scatter3d\":[{\"line\":{\"colorbar\":{\"outlinewidth\":0,\"ticks\":\"\"}},\"marker\":{\"colorbar\":{\"outlinewidth\":0,\"ticks\":\"\"}},\"type\":\"scatter3d\"}],\"scattercarpet\":[{\"marker\":{\"colorbar\":{\"outlinewidth\":0,\"ticks\":\"\"}},\"type\":\"scattercarpet\"}],\"scattergeo\":[{\"marker\":{\"colorbar\":{\"outlinewidth\":0,\"ticks\":\"\"}},\"type\":\"scattergeo\"}],\"scattergl\":[{\"marker\":{\"colorbar\":{\"outlinewidth\":0,\"ticks\":\"\"}},\"type\":\"scattergl\"}],\"scattermapbox\":[{\"marker\":{\"colorbar\":{\"outlinewidth\":0,\"ticks\":\"\"}},\"type\":\"scattermapbox\"}],\"scatterpolargl\":[{\"marker\":{\"colorbar\":{\"outlinewidth\":0,\"ticks\":\"\"}},\"type\":\"scatterpolargl\"}],\"scatterpolar\":[{\"marker\":{\"colorbar\":{\"outlinewidth\":0,\"ticks\":\"\"}},\"type\":\"scatterpolar\"}],\"scatter\":[{\"fillpattern\":{\"fillmode\":\"overlay\",\"size\":10,\"solidity\":0.2},\"type\":\"scatter\"}],\"scatterternary\":[{\"marker\":{\"colorbar\":{\"outlinewidth\":0,\"ticks\":\"\"}},\"type\":\"scatterternary\"}],\"surface\":[{\"colorbar\":{\"outlinewidth\":0,\"ticks\":\"\"},\"colorscale\":[[0.0,\"#0d0887\"],[0.1111111111111111,\"#46039f\"],[0.2222222222222222,\"#7201a8\"],[0.3333333333333333,\"#9c179e\"],[0.4444444444444444,\"#bd3786\"],[0.5555555555555556,\"#d8576b\"],[0.6666666666666666,\"#ed7953\"],[0.7777777777777778,\"#fb9f3a\"],[0.8888888888888888,\"#fdca26\"],[1.0,\"#f0f921\"]],\"type\":\"surface\"}],\"table\":[{\"cells\":{\"fill\":{\"color\":\"#EBF0F8\"},\"line\":{\"color\":\"white\"}},\"header\":{\"fill\":{\"color\":\"#C8D4E3\"},\"line\":{\"color\":\"white\"}},\"type\":\"table\"}]},\"layout\":{\"annotationdefaults\":{\"arrowcolor\":\"#2a3f5f\",\"arrowhead\":0,\"arrowwidth\":1},\"autotypenumbers\":\"strict\",\"coloraxis\":{\"colorbar\":{\"outlinewidth\":0,\"ticks\":\"\"}},\"colorscale\":{\"diverging\":[[0,\"#8e0152\"],[0.1,\"#c51b7d\"],[0.2,\"#de77ae\"],[0.3,\"#f1b6da\"],[0.4,\"#fde0ef\"],[0.5,\"#f7f7f7\"],[0.6,\"#e6f5d0\"],[0.7,\"#b8e186\"],[0.8,\"#7fbc41\"],[0.9,\"#4d9221\"],[1,\"#276419\"]],\"sequential\":[[0.0,\"#0d0887\"],[0.1111111111111111,\"#46039f\"],[0.2222222222222222,\"#7201a8\"],[0.3333333333333333,\"#9c179e\"],[0.4444444444444444,\"#bd3786\"],[0.5555555555555556,\"#d8576b\"],[0.6666666666666666,\"#ed7953\"],[0.7777777777777778,\"#fb9f3a\"],[0.8888888888888888,\"#fdca26\"],[1.0,\"#f0f921\"]],\"sequentialminus\":[[0.0,\"#0d0887\"],[0.1111111111111111,\"#46039f\"],[0.2222222222222222,\"#7201a8\"],[0.3333333333333333,\"#9c179e\"],[0.4444444444444444,\"#bd3786\"],[0.5555555555555556,\"#d8576b\"],[0.6666666666666666,\"#ed7953\"],[0.7777777777777778,\"#fb9f3a\"],[0.8888888888888888,\"#fdca26\"],[1.0,\"#f0f921\"]]},\"colorway\":[\"#636efa\",\"#EF553B\",\"#00cc96\",\"#ab63fa\",\"#FFA15A\",\"#19d3f3\",\"#FF6692\",\"#B6E880\",\"#FF97FF\",\"#FECB52\"],\"font\":{\"color\":\"#2a3f5f\"},\"geo\":{\"bgcolor\":\"white\",\"lakecolor\":\"white\",\"landcolor\":\"#E5ECF6\",\"showlakes\":true,\"showland\":true,\"subunitcolor\":\"white\"},\"hoverlabel\":{\"align\":\"left\"},\"hovermode\":\"closest\",\"mapbox\":{\"style\":\"light\"},\"paper_bgcolor\":\"white\",\"plot_bgcolor\":\"#E5ECF6\",\"polar\":{\"angularaxis\":{\"gridcolor\":\"white\",\"linecolor\":\"white\",\"ticks\":\"\"},\"bgcolor\":\"#E5ECF6\",\"radialaxis\":{\"gridcolor\":\"white\",\"linecolor\":\"white\",\"ticks\":\"\"}},\"scene\":{\"xaxis\":{\"backgroundcolor\":\"#E5ECF6\",\"gridcolor\":\"white\",\"gridwidth\":2,\"linecolor\":\"white\",\"showbackground\":true,\"ticks\":\"\",\"zerolinecolor\":\"white\"},\"yaxis\":{\"backgroundcolor\":\"#E5ECF6\",\"gridcolor\":\"white\",\"gridwidth\":2,\"linecolor\":\"white\",\"showbackground\":true,\"ticks\":\"\",\"zerolinecolor\":\"white\"},\"zaxis\":{\"backgroundcolor\":\"#E5ECF6\",\"gridcolor\":\"white\",\"gridwidth\":2,\"linecolor\":\"white\",\"showbackground\":true,\"ticks\":\"\",\"zerolinecolor\":\"white\"}},\"shapedefaults\":{\"line\":{\"color\":\"#2a3f5f\"}},\"ternary\":{\"aaxis\":{\"gridcolor\":\"white\",\"linecolor\":\"white\",\"ticks\":\"\"},\"baxis\":{\"gridcolor\":\"white\",\"linecolor\":\"white\",\"ticks\":\"\"},\"bgcolor\":\"#E5ECF6\",\"caxis\":{\"gridcolor\":\"white\",\"linecolor\":\"white\",\"ticks\":\"\"}},\"title\":{\"x\":0.05},\"xaxis\":{\"automargin\":true,\"gridcolor\":\"white\",\"linecolor\":\"white\",\"ticks\":\"\",\"title\":{\"standoff\":15},\"zerolinecolor\":\"white\",\"zerolinewidth\":2},\"yaxis\":{\"automargin\":true,\"gridcolor\":\"white\",\"linecolor\":\"white\",\"ticks\":\"\",\"title\":{\"standoff\":15},\"zerolinecolor\":\"white\",\"zerolinewidth\":2}}},\"title\":{\"font\":{\"color\":\"#4D5663\"}},\"xaxis\":{\"gridcolor\":\"#E1E5ED\",\"showgrid\":true,\"tickfont\":{\"color\":\"#4D5663\"},\"title\":{\"font\":{\"color\":\"#4D5663\"},\"text\":\"\"},\"zerolinecolor\":\"#E1E5ED\"},\"yaxis\":{\"gridcolor\":\"#E1E5ED\",\"showgrid\":true,\"tickfont\":{\"color\":\"#4D5663\"},\"title\":{\"font\":{\"color\":\"#4D5663\"},\"text\":\"\"},\"zerolinecolor\":\"#E1E5ED\"}},                        {\"showLink\": true, \"linkText\": \"Export to plot.ly\", \"plotlyServerURL\": \"https://plot.ly\", \"responsive\": true}                    ).then(function(){\n",
       "                            \n",
       "var gd = document.getElementById('038f56ef-9d0e-46c6-9538-814b4ff98a17');\n",
       "var x = new MutationObserver(function (mutations, observer) {{\n",
       "        var display = window.getComputedStyle(gd).display;\n",
       "        if (!display || display === 'none') {{\n",
       "            console.log([gd, 'removed!']);\n",
       "            Plotly.purge(gd);\n",
       "            observer.disconnect();\n",
       "        }}\n",
       "}});\n",
       "\n",
       "// Listen for the removal of the full notebook cells\n",
       "var notebookContainer = gd.closest('#notebook-container');\n",
       "if (notebookContainer) {{\n",
       "    x.observe(notebookContainer, {childList: true});\n",
       "}}\n",
       "\n",
       "// Listen for the clearing of the current output cell\n",
       "var outputEl = gd.closest('.output');\n",
       "if (outputEl) {{\n",
       "    x.observe(outputEl, {childList: true});\n",
       "}}\n",
       "\n",
       "                        })                };                });            </script>        </div>"
      ]
     },
     "metadata": {},
     "output_type": "display_data"
    }
   ],
   "source": [
    "df.iplot(kind='box')"
   ]
  },
  {
   "cell_type": "markdown",
   "metadata": {},
   "source": [
    "## 3d Surface"
   ]
  },
  {
   "cell_type": "code",
   "execution_count": 14,
   "metadata": {},
   "outputs": [
    {
     "data": {
      "application/vnd.plotly.v1+json": {
       "config": {
        "linkText": "Export to plot.ly",
        "plotlyServerURL": "https://plot.ly",
        "showLink": true
       },
       "data": [
        {
         "colorscale": [
          [
           0,
           "rgb(165,0,38)"
          ],
          [
           0.1,
           "rgb(215,48,39)"
          ],
          [
           0.2,
           "rgb(244,109,67)"
          ],
          [
           0.3,
           "rgb(253,174,97)"
          ],
          [
           0.4,
           "rgb(254,224,144)"
          ],
          [
           0.5,
           "rgb(255,255,191)"
          ],
          [
           0.6,
           "rgb(224,243,248)"
          ],
          [
           0.7,
           "rgb(171,217,233)"
          ],
          [
           0.8,
           "rgb(116,173,209)"
          ],
          [
           0.9,
           "rgb(69,117,180)"
          ],
          [
           1,
           "rgb(49,54,149)"
          ]
         ],
         "type": "surface",
         "x": [
          0,
          1,
          2,
          3,
          4
         ],
         "y": [
          "x",
          "y",
          "z"
         ],
         "z": [
          [
           1,
           2,
           3,
           4,
           5
          ],
          [
           10,
           20,
           30,
           20,
           10
          ],
          [
           5,
           4,
           3,
           2,
           1
          ]
         ]
        }
       ],
       "layout": {
        "legend": {
         "bgcolor": "#F5F6F9",
         "font": {
          "color": "#4D5663"
         }
        },
        "paper_bgcolor": "#F5F6F9",
        "plot_bgcolor": "#F5F6F9",
        "template": {
         "data": {
          "bar": [
           {
            "error_x": {
             "color": "#2a3f5f"
            },
            "error_y": {
             "color": "#2a3f5f"
            },
            "marker": {
             "line": {
              "color": "#E5ECF6",
              "width": 0.5
             },
             "pattern": {
              "fillmode": "overlay",
              "size": 10,
              "solidity": 0.2
             }
            },
            "type": "bar"
           }
          ],
          "barpolar": [
           {
            "marker": {
             "line": {
              "color": "#E5ECF6",
              "width": 0.5
             },
             "pattern": {
              "fillmode": "overlay",
              "size": 10,
              "solidity": 0.2
             }
            },
            "type": "barpolar"
           }
          ],
          "carpet": [
           {
            "aaxis": {
             "endlinecolor": "#2a3f5f",
             "gridcolor": "white",
             "linecolor": "white",
             "minorgridcolor": "white",
             "startlinecolor": "#2a3f5f"
            },
            "baxis": {
             "endlinecolor": "#2a3f5f",
             "gridcolor": "white",
             "linecolor": "white",
             "minorgridcolor": "white",
             "startlinecolor": "#2a3f5f"
            },
            "type": "carpet"
           }
          ],
          "choropleth": [
           {
            "colorbar": {
             "outlinewidth": 0,
             "ticks": ""
            },
            "type": "choropleth"
           }
          ],
          "contour": [
           {
            "colorbar": {
             "outlinewidth": 0,
             "ticks": ""
            },
            "colorscale": [
             [
              0,
              "#0d0887"
             ],
             [
              0.1111111111111111,
              "#46039f"
             ],
             [
              0.2222222222222222,
              "#7201a8"
             ],
             [
              0.3333333333333333,
              "#9c179e"
             ],
             [
              0.4444444444444444,
              "#bd3786"
             ],
             [
              0.5555555555555556,
              "#d8576b"
             ],
             [
              0.6666666666666666,
              "#ed7953"
             ],
             [
              0.7777777777777778,
              "#fb9f3a"
             ],
             [
              0.8888888888888888,
              "#fdca26"
             ],
             [
              1,
              "#f0f921"
             ]
            ],
            "type": "contour"
           }
          ],
          "contourcarpet": [
           {
            "colorbar": {
             "outlinewidth": 0,
             "ticks": ""
            },
            "type": "contourcarpet"
           }
          ],
          "heatmap": [
           {
            "colorbar": {
             "outlinewidth": 0,
             "ticks": ""
            },
            "colorscale": [
             [
              0,
              "#0d0887"
             ],
             [
              0.1111111111111111,
              "#46039f"
             ],
             [
              0.2222222222222222,
              "#7201a8"
             ],
             [
              0.3333333333333333,
              "#9c179e"
             ],
             [
              0.4444444444444444,
              "#bd3786"
             ],
             [
              0.5555555555555556,
              "#d8576b"
             ],
             [
              0.6666666666666666,
              "#ed7953"
             ],
             [
              0.7777777777777778,
              "#fb9f3a"
             ],
             [
              0.8888888888888888,
              "#fdca26"
             ],
             [
              1,
              "#f0f921"
             ]
            ],
            "type": "heatmap"
           }
          ],
          "heatmapgl": [
           {
            "colorbar": {
             "outlinewidth": 0,
             "ticks": ""
            },
            "colorscale": [
             [
              0,
              "#0d0887"
             ],
             [
              0.1111111111111111,
              "#46039f"
             ],
             [
              0.2222222222222222,
              "#7201a8"
             ],
             [
              0.3333333333333333,
              "#9c179e"
             ],
             [
              0.4444444444444444,
              "#bd3786"
             ],
             [
              0.5555555555555556,
              "#d8576b"
             ],
             [
              0.6666666666666666,
              "#ed7953"
             ],
             [
              0.7777777777777778,
              "#fb9f3a"
             ],
             [
              0.8888888888888888,
              "#fdca26"
             ],
             [
              1,
              "#f0f921"
             ]
            ],
            "type": "heatmapgl"
           }
          ],
          "histogram": [
           {
            "marker": {
             "pattern": {
              "fillmode": "overlay",
              "size": 10,
              "solidity": 0.2
             }
            },
            "type": "histogram"
           }
          ],
          "histogram2d": [
           {
            "colorbar": {
             "outlinewidth": 0,
             "ticks": ""
            },
            "colorscale": [
             [
              0,
              "#0d0887"
             ],
             [
              0.1111111111111111,
              "#46039f"
             ],
             [
              0.2222222222222222,
              "#7201a8"
             ],
             [
              0.3333333333333333,
              "#9c179e"
             ],
             [
              0.4444444444444444,
              "#bd3786"
             ],
             [
              0.5555555555555556,
              "#d8576b"
             ],
             [
              0.6666666666666666,
              "#ed7953"
             ],
             [
              0.7777777777777778,
              "#fb9f3a"
             ],
             [
              0.8888888888888888,
              "#fdca26"
             ],
             [
              1,
              "#f0f921"
             ]
            ],
            "type": "histogram2d"
           }
          ],
          "histogram2dcontour": [
           {
            "colorbar": {
             "outlinewidth": 0,
             "ticks": ""
            },
            "colorscale": [
             [
              0,
              "#0d0887"
             ],
             [
              0.1111111111111111,
              "#46039f"
             ],
             [
              0.2222222222222222,
              "#7201a8"
             ],
             [
              0.3333333333333333,
              "#9c179e"
             ],
             [
              0.4444444444444444,
              "#bd3786"
             ],
             [
              0.5555555555555556,
              "#d8576b"
             ],
             [
              0.6666666666666666,
              "#ed7953"
             ],
             [
              0.7777777777777778,
              "#fb9f3a"
             ],
             [
              0.8888888888888888,
              "#fdca26"
             ],
             [
              1,
              "#f0f921"
             ]
            ],
            "type": "histogram2dcontour"
           }
          ],
          "mesh3d": [
           {
            "colorbar": {
             "outlinewidth": 0,
             "ticks": ""
            },
            "type": "mesh3d"
           }
          ],
          "parcoords": [
           {
            "line": {
             "colorbar": {
              "outlinewidth": 0,
              "ticks": ""
             }
            },
            "type": "parcoords"
           }
          ],
          "pie": [
           {
            "automargin": true,
            "type": "pie"
           }
          ],
          "scatter": [
           {
            "fillpattern": {
             "fillmode": "overlay",
             "size": 10,
             "solidity": 0.2
            },
            "type": "scatter"
           }
          ],
          "scatter3d": [
           {
            "line": {
             "colorbar": {
              "outlinewidth": 0,
              "ticks": ""
             }
            },
            "marker": {
             "colorbar": {
              "outlinewidth": 0,
              "ticks": ""
             }
            },
            "type": "scatter3d"
           }
          ],
          "scattercarpet": [
           {
            "marker": {
             "colorbar": {
              "outlinewidth": 0,
              "ticks": ""
             }
            },
            "type": "scattercarpet"
           }
          ],
          "scattergeo": [
           {
            "marker": {
             "colorbar": {
              "outlinewidth": 0,
              "ticks": ""
             }
            },
            "type": "scattergeo"
           }
          ],
          "scattergl": [
           {
            "marker": {
             "colorbar": {
              "outlinewidth": 0,
              "ticks": ""
             }
            },
            "type": "scattergl"
           }
          ],
          "scattermapbox": [
           {
            "marker": {
             "colorbar": {
              "outlinewidth": 0,
              "ticks": ""
             }
            },
            "type": "scattermapbox"
           }
          ],
          "scatterpolar": [
           {
            "marker": {
             "colorbar": {
              "outlinewidth": 0,
              "ticks": ""
             }
            },
            "type": "scatterpolar"
           }
          ],
          "scatterpolargl": [
           {
            "marker": {
             "colorbar": {
              "outlinewidth": 0,
              "ticks": ""
             }
            },
            "type": "scatterpolargl"
           }
          ],
          "scatterternary": [
           {
            "marker": {
             "colorbar": {
              "outlinewidth": 0,
              "ticks": ""
             }
            },
            "type": "scatterternary"
           }
          ],
          "surface": [
           {
            "colorbar": {
             "outlinewidth": 0,
             "ticks": ""
            },
            "colorscale": [
             [
              0,
              "#0d0887"
             ],
             [
              0.1111111111111111,
              "#46039f"
             ],
             [
              0.2222222222222222,
              "#7201a8"
             ],
             [
              0.3333333333333333,
              "#9c179e"
             ],
             [
              0.4444444444444444,
              "#bd3786"
             ],
             [
              0.5555555555555556,
              "#d8576b"
             ],
             [
              0.6666666666666666,
              "#ed7953"
             ],
             [
              0.7777777777777778,
              "#fb9f3a"
             ],
             [
              0.8888888888888888,
              "#fdca26"
             ],
             [
              1,
              "#f0f921"
             ]
            ],
            "type": "surface"
           }
          ],
          "table": [
           {
            "cells": {
             "fill": {
              "color": "#EBF0F8"
             },
             "line": {
              "color": "white"
             }
            },
            "header": {
             "fill": {
              "color": "#C8D4E3"
             },
             "line": {
              "color": "white"
             }
            },
            "type": "table"
           }
          ]
         },
         "layout": {
          "annotationdefaults": {
           "arrowcolor": "#2a3f5f",
           "arrowhead": 0,
           "arrowwidth": 1
          },
          "autotypenumbers": "strict",
          "coloraxis": {
           "colorbar": {
            "outlinewidth": 0,
            "ticks": ""
           }
          },
          "colorscale": {
           "diverging": [
            [
             0,
             "#8e0152"
            ],
            [
             0.1,
             "#c51b7d"
            ],
            [
             0.2,
             "#de77ae"
            ],
            [
             0.3,
             "#f1b6da"
            ],
            [
             0.4,
             "#fde0ef"
            ],
            [
             0.5,
             "#f7f7f7"
            ],
            [
             0.6,
             "#e6f5d0"
            ],
            [
             0.7,
             "#b8e186"
            ],
            [
             0.8,
             "#7fbc41"
            ],
            [
             0.9,
             "#4d9221"
            ],
            [
             1,
             "#276419"
            ]
           ],
           "sequential": [
            [
             0,
             "#0d0887"
            ],
            [
             0.1111111111111111,
             "#46039f"
            ],
            [
             0.2222222222222222,
             "#7201a8"
            ],
            [
             0.3333333333333333,
             "#9c179e"
            ],
            [
             0.4444444444444444,
             "#bd3786"
            ],
            [
             0.5555555555555556,
             "#d8576b"
            ],
            [
             0.6666666666666666,
             "#ed7953"
            ],
            [
             0.7777777777777778,
             "#fb9f3a"
            ],
            [
             0.8888888888888888,
             "#fdca26"
            ],
            [
             1,
             "#f0f921"
            ]
           ],
           "sequentialminus": [
            [
             0,
             "#0d0887"
            ],
            [
             0.1111111111111111,
             "#46039f"
            ],
            [
             0.2222222222222222,
             "#7201a8"
            ],
            [
             0.3333333333333333,
             "#9c179e"
            ],
            [
             0.4444444444444444,
             "#bd3786"
            ],
            [
             0.5555555555555556,
             "#d8576b"
            ],
            [
             0.6666666666666666,
             "#ed7953"
            ],
            [
             0.7777777777777778,
             "#fb9f3a"
            ],
            [
             0.8888888888888888,
             "#fdca26"
            ],
            [
             1,
             "#f0f921"
            ]
           ]
          },
          "colorway": [
           "#636efa",
           "#EF553B",
           "#00cc96",
           "#ab63fa",
           "#FFA15A",
           "#19d3f3",
           "#FF6692",
           "#B6E880",
           "#FF97FF",
           "#FECB52"
          ],
          "font": {
           "color": "#2a3f5f"
          },
          "geo": {
           "bgcolor": "white",
           "lakecolor": "white",
           "landcolor": "#E5ECF6",
           "showlakes": true,
           "showland": true,
           "subunitcolor": "white"
          },
          "hoverlabel": {
           "align": "left"
          },
          "hovermode": "closest",
          "mapbox": {
           "style": "light"
          },
          "paper_bgcolor": "white",
          "plot_bgcolor": "#E5ECF6",
          "polar": {
           "angularaxis": {
            "gridcolor": "white",
            "linecolor": "white",
            "ticks": ""
           },
           "bgcolor": "#E5ECF6",
           "radialaxis": {
            "gridcolor": "white",
            "linecolor": "white",
            "ticks": ""
           }
          },
          "scene": {
           "xaxis": {
            "backgroundcolor": "#E5ECF6",
            "gridcolor": "white",
            "gridwidth": 2,
            "linecolor": "white",
            "showbackground": true,
            "ticks": "",
            "zerolinecolor": "white"
           },
           "yaxis": {
            "backgroundcolor": "#E5ECF6",
            "gridcolor": "white",
            "gridwidth": 2,
            "linecolor": "white",
            "showbackground": true,
            "ticks": "",
            "zerolinecolor": "white"
           },
           "zaxis": {
            "backgroundcolor": "#E5ECF6",
            "gridcolor": "white",
            "gridwidth": 2,
            "linecolor": "white",
            "showbackground": true,
            "ticks": "",
            "zerolinecolor": "white"
           }
          },
          "shapedefaults": {
           "line": {
            "color": "#2a3f5f"
           }
          },
          "ternary": {
           "aaxis": {
            "gridcolor": "white",
            "linecolor": "white",
            "ticks": ""
           },
           "baxis": {
            "gridcolor": "white",
            "linecolor": "white",
            "ticks": ""
           },
           "bgcolor": "#E5ECF6",
           "caxis": {
            "gridcolor": "white",
            "linecolor": "white",
            "ticks": ""
           }
          },
          "title": {
           "x": 0.05
          },
          "xaxis": {
           "automargin": true,
           "gridcolor": "white",
           "linecolor": "white",
           "ticks": "",
           "title": {
            "standoff": 15
           },
           "zerolinecolor": "white",
           "zerolinewidth": 2
          },
          "yaxis": {
           "automargin": true,
           "gridcolor": "white",
           "linecolor": "white",
           "ticks": "",
           "title": {
            "standoff": 15
           },
           "zerolinecolor": "white",
           "zerolinewidth": 2
          }
         }
        },
        "title": {
         "font": {
          "color": "#4D5663"
         }
        },
        "xaxis": {
         "gridcolor": "#E1E5ED",
         "showgrid": true,
         "tickfont": {
          "color": "#4D5663"
         },
         "title": {
          "font": {
           "color": "#4D5663"
          },
          "text": ""
         },
         "zerolinecolor": "#E1E5ED"
        },
        "yaxis": {
         "gridcolor": "#E1E5ED",
         "showgrid": true,
         "tickfont": {
          "color": "#4D5663"
         },
         "title": {
          "font": {
           "color": "#4D5663"
          },
          "text": ""
         },
         "zerolinecolor": "#E1E5ED"
        }
       }
      },
      "text/html": [
       "<div>                            <div id=\"d80b436c-9d28-4527-9c20-4e2ce7cff98a\" class=\"plotly-graph-div\" style=\"height:525px; width:100%;\"></div>            <script type=\"text/javascript\">                require([\"plotly\"], function(Plotly) {                    window.PLOTLYENV=window.PLOTLYENV || {};\n",
       "                    window.PLOTLYENV.BASE_URL='https://plot.ly';                                    if (document.getElementById(\"d80b436c-9d28-4527-9c20-4e2ce7cff98a\")) {                    Plotly.newPlot(                        \"d80b436c-9d28-4527-9c20-4e2ce7cff98a\",                        [{\"colorscale\":[[0.0,\"rgb(165,0,38)\"],[0.1,\"rgb(215,48,39)\"],[0.2,\"rgb(244,109,67)\"],[0.3,\"rgb(253,174,97)\"],[0.4,\"rgb(254,224,144)\"],[0.5,\"rgb(255,255,191)\"],[0.6,\"rgb(224,243,248)\"],[0.7,\"rgb(171,217,233)\"],[0.8,\"rgb(116,173,209)\"],[0.9,\"rgb(69,117,180)\"],[1.0,\"rgb(49,54,149)\"]],\"x\":[0,1,2,3,4],\"y\":[\"x\",\"y\",\"z\"],\"z\":[[1,2,3,4,5],[10,20,30,20,10],[5,4,3,2,1]],\"type\":\"surface\"}],                        {\"legend\":{\"bgcolor\":\"#F5F6F9\",\"font\":{\"color\":\"#4D5663\"}},\"paper_bgcolor\":\"#F5F6F9\",\"plot_bgcolor\":\"#F5F6F9\",\"template\":{\"data\":{\"barpolar\":[{\"marker\":{\"line\":{\"color\":\"#E5ECF6\",\"width\":0.5},\"pattern\":{\"fillmode\":\"overlay\",\"size\":10,\"solidity\":0.2}},\"type\":\"barpolar\"}],\"bar\":[{\"error_x\":{\"color\":\"#2a3f5f\"},\"error_y\":{\"color\":\"#2a3f5f\"},\"marker\":{\"line\":{\"color\":\"#E5ECF6\",\"width\":0.5},\"pattern\":{\"fillmode\":\"overlay\",\"size\":10,\"solidity\":0.2}},\"type\":\"bar\"}],\"carpet\":[{\"aaxis\":{\"endlinecolor\":\"#2a3f5f\",\"gridcolor\":\"white\",\"linecolor\":\"white\",\"minorgridcolor\":\"white\",\"startlinecolor\":\"#2a3f5f\"},\"baxis\":{\"endlinecolor\":\"#2a3f5f\",\"gridcolor\":\"white\",\"linecolor\":\"white\",\"minorgridcolor\":\"white\",\"startlinecolor\":\"#2a3f5f\"},\"type\":\"carpet\"}],\"choropleth\":[{\"colorbar\":{\"outlinewidth\":0,\"ticks\":\"\"},\"type\":\"choropleth\"}],\"contourcarpet\":[{\"colorbar\":{\"outlinewidth\":0,\"ticks\":\"\"},\"type\":\"contourcarpet\"}],\"contour\":[{\"colorbar\":{\"outlinewidth\":0,\"ticks\":\"\"},\"colorscale\":[[0.0,\"#0d0887\"],[0.1111111111111111,\"#46039f\"],[0.2222222222222222,\"#7201a8\"],[0.3333333333333333,\"#9c179e\"],[0.4444444444444444,\"#bd3786\"],[0.5555555555555556,\"#d8576b\"],[0.6666666666666666,\"#ed7953\"],[0.7777777777777778,\"#fb9f3a\"],[0.8888888888888888,\"#fdca26\"],[1.0,\"#f0f921\"]],\"type\":\"contour\"}],\"heatmapgl\":[{\"colorbar\":{\"outlinewidth\":0,\"ticks\":\"\"},\"colorscale\":[[0.0,\"#0d0887\"],[0.1111111111111111,\"#46039f\"],[0.2222222222222222,\"#7201a8\"],[0.3333333333333333,\"#9c179e\"],[0.4444444444444444,\"#bd3786\"],[0.5555555555555556,\"#d8576b\"],[0.6666666666666666,\"#ed7953\"],[0.7777777777777778,\"#fb9f3a\"],[0.8888888888888888,\"#fdca26\"],[1.0,\"#f0f921\"]],\"type\":\"heatmapgl\"}],\"heatmap\":[{\"colorbar\":{\"outlinewidth\":0,\"ticks\":\"\"},\"colorscale\":[[0.0,\"#0d0887\"],[0.1111111111111111,\"#46039f\"],[0.2222222222222222,\"#7201a8\"],[0.3333333333333333,\"#9c179e\"],[0.4444444444444444,\"#bd3786\"],[0.5555555555555556,\"#d8576b\"],[0.6666666666666666,\"#ed7953\"],[0.7777777777777778,\"#fb9f3a\"],[0.8888888888888888,\"#fdca26\"],[1.0,\"#f0f921\"]],\"type\":\"heatmap\"}],\"histogram2dcontour\":[{\"colorbar\":{\"outlinewidth\":0,\"ticks\":\"\"},\"colorscale\":[[0.0,\"#0d0887\"],[0.1111111111111111,\"#46039f\"],[0.2222222222222222,\"#7201a8\"],[0.3333333333333333,\"#9c179e\"],[0.4444444444444444,\"#bd3786\"],[0.5555555555555556,\"#d8576b\"],[0.6666666666666666,\"#ed7953\"],[0.7777777777777778,\"#fb9f3a\"],[0.8888888888888888,\"#fdca26\"],[1.0,\"#f0f921\"]],\"type\":\"histogram2dcontour\"}],\"histogram2d\":[{\"colorbar\":{\"outlinewidth\":0,\"ticks\":\"\"},\"colorscale\":[[0.0,\"#0d0887\"],[0.1111111111111111,\"#46039f\"],[0.2222222222222222,\"#7201a8\"],[0.3333333333333333,\"#9c179e\"],[0.4444444444444444,\"#bd3786\"],[0.5555555555555556,\"#d8576b\"],[0.6666666666666666,\"#ed7953\"],[0.7777777777777778,\"#fb9f3a\"],[0.8888888888888888,\"#fdca26\"],[1.0,\"#f0f921\"]],\"type\":\"histogram2d\"}],\"histogram\":[{\"marker\":{\"pattern\":{\"fillmode\":\"overlay\",\"size\":10,\"solidity\":0.2}},\"type\":\"histogram\"}],\"mesh3d\":[{\"colorbar\":{\"outlinewidth\":0,\"ticks\":\"\"},\"type\":\"mesh3d\"}],\"parcoords\":[{\"line\":{\"colorbar\":{\"outlinewidth\":0,\"ticks\":\"\"}},\"type\":\"parcoords\"}],\"pie\":[{\"automargin\":true,\"type\":\"pie\"}],\"scatter3d\":[{\"line\":{\"colorbar\":{\"outlinewidth\":0,\"ticks\":\"\"}},\"marker\":{\"colorbar\":{\"outlinewidth\":0,\"ticks\":\"\"}},\"type\":\"scatter3d\"}],\"scattercarpet\":[{\"marker\":{\"colorbar\":{\"outlinewidth\":0,\"ticks\":\"\"}},\"type\":\"scattercarpet\"}],\"scattergeo\":[{\"marker\":{\"colorbar\":{\"outlinewidth\":0,\"ticks\":\"\"}},\"type\":\"scattergeo\"}],\"scattergl\":[{\"marker\":{\"colorbar\":{\"outlinewidth\":0,\"ticks\":\"\"}},\"type\":\"scattergl\"}],\"scattermapbox\":[{\"marker\":{\"colorbar\":{\"outlinewidth\":0,\"ticks\":\"\"}},\"type\":\"scattermapbox\"}],\"scatterpolargl\":[{\"marker\":{\"colorbar\":{\"outlinewidth\":0,\"ticks\":\"\"}},\"type\":\"scatterpolargl\"}],\"scatterpolar\":[{\"marker\":{\"colorbar\":{\"outlinewidth\":0,\"ticks\":\"\"}},\"type\":\"scatterpolar\"}],\"scatter\":[{\"fillpattern\":{\"fillmode\":\"overlay\",\"size\":10,\"solidity\":0.2},\"type\":\"scatter\"}],\"scatterternary\":[{\"marker\":{\"colorbar\":{\"outlinewidth\":0,\"ticks\":\"\"}},\"type\":\"scatterternary\"}],\"surface\":[{\"colorbar\":{\"outlinewidth\":0,\"ticks\":\"\"},\"colorscale\":[[0.0,\"#0d0887\"],[0.1111111111111111,\"#46039f\"],[0.2222222222222222,\"#7201a8\"],[0.3333333333333333,\"#9c179e\"],[0.4444444444444444,\"#bd3786\"],[0.5555555555555556,\"#d8576b\"],[0.6666666666666666,\"#ed7953\"],[0.7777777777777778,\"#fb9f3a\"],[0.8888888888888888,\"#fdca26\"],[1.0,\"#f0f921\"]],\"type\":\"surface\"}],\"table\":[{\"cells\":{\"fill\":{\"color\":\"#EBF0F8\"},\"line\":{\"color\":\"white\"}},\"header\":{\"fill\":{\"color\":\"#C8D4E3\"},\"line\":{\"color\":\"white\"}},\"type\":\"table\"}]},\"layout\":{\"annotationdefaults\":{\"arrowcolor\":\"#2a3f5f\",\"arrowhead\":0,\"arrowwidth\":1},\"autotypenumbers\":\"strict\",\"coloraxis\":{\"colorbar\":{\"outlinewidth\":0,\"ticks\":\"\"}},\"colorscale\":{\"diverging\":[[0,\"#8e0152\"],[0.1,\"#c51b7d\"],[0.2,\"#de77ae\"],[0.3,\"#f1b6da\"],[0.4,\"#fde0ef\"],[0.5,\"#f7f7f7\"],[0.6,\"#e6f5d0\"],[0.7,\"#b8e186\"],[0.8,\"#7fbc41\"],[0.9,\"#4d9221\"],[1,\"#276419\"]],\"sequential\":[[0.0,\"#0d0887\"],[0.1111111111111111,\"#46039f\"],[0.2222222222222222,\"#7201a8\"],[0.3333333333333333,\"#9c179e\"],[0.4444444444444444,\"#bd3786\"],[0.5555555555555556,\"#d8576b\"],[0.6666666666666666,\"#ed7953\"],[0.7777777777777778,\"#fb9f3a\"],[0.8888888888888888,\"#fdca26\"],[1.0,\"#f0f921\"]],\"sequentialminus\":[[0.0,\"#0d0887\"],[0.1111111111111111,\"#46039f\"],[0.2222222222222222,\"#7201a8\"],[0.3333333333333333,\"#9c179e\"],[0.4444444444444444,\"#bd3786\"],[0.5555555555555556,\"#d8576b\"],[0.6666666666666666,\"#ed7953\"],[0.7777777777777778,\"#fb9f3a\"],[0.8888888888888888,\"#fdca26\"],[1.0,\"#f0f921\"]]},\"colorway\":[\"#636efa\",\"#EF553B\",\"#00cc96\",\"#ab63fa\",\"#FFA15A\",\"#19d3f3\",\"#FF6692\",\"#B6E880\",\"#FF97FF\",\"#FECB52\"],\"font\":{\"color\":\"#2a3f5f\"},\"geo\":{\"bgcolor\":\"white\",\"lakecolor\":\"white\",\"landcolor\":\"#E5ECF6\",\"showlakes\":true,\"showland\":true,\"subunitcolor\":\"white\"},\"hoverlabel\":{\"align\":\"left\"},\"hovermode\":\"closest\",\"mapbox\":{\"style\":\"light\"},\"paper_bgcolor\":\"white\",\"plot_bgcolor\":\"#E5ECF6\",\"polar\":{\"angularaxis\":{\"gridcolor\":\"white\",\"linecolor\":\"white\",\"ticks\":\"\"},\"bgcolor\":\"#E5ECF6\",\"radialaxis\":{\"gridcolor\":\"white\",\"linecolor\":\"white\",\"ticks\":\"\"}},\"scene\":{\"xaxis\":{\"backgroundcolor\":\"#E5ECF6\",\"gridcolor\":\"white\",\"gridwidth\":2,\"linecolor\":\"white\",\"showbackground\":true,\"ticks\":\"\",\"zerolinecolor\":\"white\"},\"yaxis\":{\"backgroundcolor\":\"#E5ECF6\",\"gridcolor\":\"white\",\"gridwidth\":2,\"linecolor\":\"white\",\"showbackground\":true,\"ticks\":\"\",\"zerolinecolor\":\"white\"},\"zaxis\":{\"backgroundcolor\":\"#E5ECF6\",\"gridcolor\":\"white\",\"gridwidth\":2,\"linecolor\":\"white\",\"showbackground\":true,\"ticks\":\"\",\"zerolinecolor\":\"white\"}},\"shapedefaults\":{\"line\":{\"color\":\"#2a3f5f\"}},\"ternary\":{\"aaxis\":{\"gridcolor\":\"white\",\"linecolor\":\"white\",\"ticks\":\"\"},\"baxis\":{\"gridcolor\":\"white\",\"linecolor\":\"white\",\"ticks\":\"\"},\"bgcolor\":\"#E5ECF6\",\"caxis\":{\"gridcolor\":\"white\",\"linecolor\":\"white\",\"ticks\":\"\"}},\"title\":{\"x\":0.05},\"xaxis\":{\"automargin\":true,\"gridcolor\":\"white\",\"linecolor\":\"white\",\"ticks\":\"\",\"title\":{\"standoff\":15},\"zerolinecolor\":\"white\",\"zerolinewidth\":2},\"yaxis\":{\"automargin\":true,\"gridcolor\":\"white\",\"linecolor\":\"white\",\"ticks\":\"\",\"title\":{\"standoff\":15},\"zerolinecolor\":\"white\",\"zerolinewidth\":2}}},\"title\":{\"font\":{\"color\":\"#4D5663\"}},\"xaxis\":{\"gridcolor\":\"#E1E5ED\",\"showgrid\":true,\"tickfont\":{\"color\":\"#4D5663\"},\"title\":{\"font\":{\"color\":\"#4D5663\"},\"text\":\"\"},\"zerolinecolor\":\"#E1E5ED\"},\"yaxis\":{\"gridcolor\":\"#E1E5ED\",\"showgrid\":true,\"tickfont\":{\"color\":\"#4D5663\"},\"title\":{\"font\":{\"color\":\"#4D5663\"},\"text\":\"\"},\"zerolinecolor\":\"#E1E5ED\"}},                        {\"showLink\": true, \"linkText\": \"Export to plot.ly\", \"plotlyServerURL\": \"https://plot.ly\", \"responsive\": true}                    ).then(function(){\n",
       "                            \n",
       "var gd = document.getElementById('d80b436c-9d28-4527-9c20-4e2ce7cff98a');\n",
       "var x = new MutationObserver(function (mutations, observer) {{\n",
       "        var display = window.getComputedStyle(gd).display;\n",
       "        if (!display || display === 'none') {{\n",
       "            console.log([gd, 'removed!']);\n",
       "            Plotly.purge(gd);\n",
       "            observer.disconnect();\n",
       "        }}\n",
       "}});\n",
       "\n",
       "// Listen for the removal of the full notebook cells\n",
       "var notebookContainer = gd.closest('#notebook-container');\n",
       "if (notebookContainer) {{\n",
       "    x.observe(notebookContainer, {childList: true});\n",
       "}}\n",
       "\n",
       "// Listen for the clearing of the current output cell\n",
       "var outputEl = gd.closest('.output');\n",
       "if (outputEl) {{\n",
       "    x.observe(outputEl, {childList: true});\n",
       "}}\n",
       "\n",
       "                        })                };                });            </script>        </div>"
      ]
     },
     "metadata": {},
     "output_type": "display_data"
    }
   ],
   "source": [
    "df3 = pd.DataFrame({'x':[1,2,3,4,5],'y':[10,20,30,20,10],'z':[5,4,3,2,1]})\n",
    "df3.iplot(kind='surface',colorscale='rdylbu')"
   ]
  },
  {
   "cell_type": "markdown",
   "metadata": {},
   "source": [
    "## Spread"
   ]
  },
  {
   "cell_type": "code",
   "execution_count": 15,
   "metadata": {},
   "outputs": [
    {
     "name": "stderr",
     "output_type": "stream",
     "text": [
      "/Users/omarbenavente/anaconda3/lib/python3.10/site-packages/cufflinks/plotlytools.py:849: FutureWarning:\n",
      "\n",
      "The pandas.np module is deprecated and will be removed from pandas in a future version. Import numpy directly instead.\n",
      "\n",
      "/Users/omarbenavente/anaconda3/lib/python3.10/site-packages/cufflinks/plotlytools.py:850: FutureWarning:\n",
      "\n",
      "The pandas.np module is deprecated and will be removed from pandas in a future version. Import numpy directly instead.\n",
      "\n"
     ]
    },
    {
     "data": {
      "application/vnd.plotly.v1+json": {
       "config": {
        "linkText": "Export to plot.ly",
        "plotlyServerURL": "https://plot.ly",
        "showLink": true
       },
       "data": [
        {
         "line": {
          "color": "rgba(255, 153, 51, 1.0)",
          "dash": "solid",
          "shape": "linear",
          "width": 1.3
         },
         "mode": "lines",
         "name": "A",
         "text": "",
         "type": "scatter",
         "x": [
          0,
          1,
          2,
          3,
          4,
          5,
          6,
          7,
          8,
          9,
          10,
          11,
          12,
          13,
          14,
          15,
          16,
          17,
          18,
          19,
          20,
          21,
          22,
          23,
          24,
          25,
          26,
          27,
          28,
          29,
          30,
          31,
          32,
          33,
          34,
          35,
          36,
          37,
          38,
          39,
          40,
          41,
          42,
          43,
          44,
          45,
          46,
          47,
          48,
          49,
          50,
          51,
          52,
          53,
          54,
          55,
          56,
          57,
          58,
          59,
          60,
          61,
          62,
          63,
          64,
          65,
          66,
          67,
          68,
          69,
          70,
          71,
          72,
          73,
          74,
          75,
          76,
          77,
          78,
          79,
          80,
          81,
          82,
          83,
          84,
          85,
          86,
          87,
          88,
          89,
          90,
          91,
          92,
          93,
          94,
          95,
          96,
          97,
          98,
          99
         ],
         "y": [
          0.7142777740002493,
          1.7199028467107027,
          -0.656803403254399,
          -0.37392620679314936,
          -0.31606590443921007,
          0.35505889405438235,
          0.30268661008777253,
          -0.20025345133011221,
          -0.7836855248050619,
          -0.8001492342950658,
          0.5139621668662798,
          0.6479247398677027,
          -0.7211676148282345,
          0.7194291364909836,
          -0.2163419153726224,
          -0.4804535209362682,
          -0.714837323622347,
          1.1990673445619522,
          0.32378499945067485,
          0.32720073545032413,
          -1.2416640093536817,
          -1.0964978401145988,
          -2.1451300195809617,
          -0.4095271017607454,
          -0.45316941062315785,
          -1.122925074551881,
          1.534771250157007,
          0.8082105077168469,
          0.2029478602650499,
          0.8792395730528462,
          1.6238072982147747,
          -1.689598035108892,
          0.7172442956307108,
          1.4796357413226466,
          0.10848653839183443,
          0.2651199463165854,
          -0.448360276786736,
          -0.8717512540566079,
          -1.673236517973046,
          0.15762999583840775,
          0.3231114754169684,
          -2.132193362543313,
          -1.9211723050134575,
          0.2923166142946065,
          1.0379779669930023,
          0.04206636875091591,
          -0.6015462970886982,
          -0.7081127368965313,
          -0.13272123239646805,
          2.289950608975294,
          -0.1742026494967424,
          0.59635132291716,
          0.991485617310549,
          -0.15785058610376146,
          0.15891339279876676,
          1.323390106354316,
          0.7895370254885591,
          0.3639551791777413,
          -2.55375949966317,
          -0.939382779591616,
          -0.8616920966398784,
          0.7238203508712924,
          2.0611264931219995,
          -1.0673993007785716,
          1.4850336351104063,
          -0.17536273373016378,
          -0.6586113604808225,
          1.0852382724029959,
          0.09988394766108045,
          0.26697145343793954,
          -0.508604167253295,
          -0.8952623555402414,
          -0.6681146819732109,
          0.1744415811250902,
          -0.09704809142761688,
          -0.3951710675259424,
          0.724433828075461,
          0.19331020672322452,
          1.31690463122668,
          -0.5019748382265561,
          0.21407155559326627,
          -1.2923542370415495,
          0.6016718634605939,
          -0.16503701845514213,
          1.5203243551375871,
          -0.6557452100418191,
          1.1703097186619138,
          0.4213445354585947,
          1.1003148707214743,
          0.1503838317476397,
          -0.9970229620212248,
          -0.10549357398256586,
          0.3859715646698864,
          0.08402541190919727,
          0.1854135916396423,
          -1.2952897277314197,
          -0.4213245059694718,
          0.7618730883422946,
          -0.23464880537146648,
          -1.7371251770094929
         ]
        },
        {
         "line": {
          "color": "rgba(55, 128, 191, 1.0)",
          "dash": "solid",
          "shape": "linear",
          "width": 1.3
         },
         "mode": "lines",
         "name": "B",
         "text": "",
         "type": "scatter",
         "x": [
          0,
          1,
          2,
          3,
          4,
          5,
          6,
          7,
          8,
          9,
          10,
          11,
          12,
          13,
          14,
          15,
          16,
          17,
          18,
          19,
          20,
          21,
          22,
          23,
          24,
          25,
          26,
          27,
          28,
          29,
          30,
          31,
          32,
          33,
          34,
          35,
          36,
          37,
          38,
          39,
          40,
          41,
          42,
          43,
          44,
          45,
          46,
          47,
          48,
          49,
          50,
          51,
          52,
          53,
          54,
          55,
          56,
          57,
          58,
          59,
          60,
          61,
          62,
          63,
          64,
          65,
          66,
          67,
          68,
          69,
          70,
          71,
          72,
          73,
          74,
          75,
          76,
          77,
          78,
          79,
          80,
          81,
          82,
          83,
          84,
          85,
          86,
          87,
          88,
          89,
          90,
          91,
          92,
          93,
          94,
          95,
          96,
          97,
          98,
          99
         ],
         "y": [
          0.02113025316214141,
          -2.4679781393279625,
          0.483335436464977,
          0.23343275183544257,
          -0.013530670263819523,
          -0.25274605724693644,
          0.3473353391647001,
          0.05850946264135038,
          -0.33167398556150796,
          -0.5826505647985586,
          -0.5849294552086969,
          -0.31954105313749986,
          1.1986692559184746,
          0.5966633134733866,
          0.6735564992413137,
          -0.9235167788445138,
          -0.6352924694076183,
          1.9740394707525353,
          1.121083702891913,
          -1.4310412193140811,
          0.05236734426799687,
          1.1564237708409333,
          -0.862590797069598,
          0.9883197350285711,
          1.2405829125319803,
          -1.0349746567626237,
          1.1142415536603365,
          -0.510931014535598,
          0.33929255036864875,
          -1.7086447062048555,
          0.1623300555860231,
          -0.7894296447142766,
          0.27146494353613027,
          -0.9233581078784034,
          0.9239563585106843,
          1.240190084937,
          -0.24909041604582954,
          0.46770430331130614,
          1.087508384368392,
          0.7268497068857239,
          -1.9801224820571879,
          -0.3970011783608756,
          -0.8788799454353752,
          0.5246463683079379,
          -1.2308441568728488,
          1.1572020049571972,
          -1.9034609401747042,
          -0.044874475896686826,
          0.5636849694689087,
          -1.2124159074387677,
          1.528049782679351,
          1.2094085465743554,
          -0.6850443070661522,
          -0.9845636294532993,
          -0.9884039790626893,
          -0.262251577330043,
          1.9418229652153194,
          2.0214228285512976,
          -0.0966652922560624,
          -0.10214164808690887,
          0.06395063021477436,
          0.3820445412170909,
          0.2864661093929553,
          0.8494860488516242,
          -0.735311071083744,
          0.22491638213831677,
          -1.5771082822829272,
          0.34539482297280133,
          -0.403319262277709,
          -0.36892593978662797,
          -0.5724218689783241,
          -0.7071986529983127,
          0.4349982418571607,
          1.351847447933669,
          1.6166636282389513,
          0.10911788388401762,
          -2.2510302223138137,
          -0.6388474141987549,
          -0.7170590400106103,
          -0.3771644409300306,
          0.6891544594565927,
          -0.7584405091564508,
          0.6514487791821924,
          0.10571500752184819,
          -1.56410209229144,
          -0.661226422718267,
          0.6375051523459719,
          1.0505603467091036,
          -0.2043218769687843,
          0.18733893178586658,
          1.0311879603876744,
          0.6931802933281493,
          0.3879960879915357,
          -0.5919503305272049,
          0.02626106472165012,
          -0.5409760417361436,
          -0.10754065770234249,
          0.13368455578919725,
          0.47896581167577396,
          -0.11524343282222889
         ]
        },
        {
         "connectgaps": false,
         "fill": "tozeroy",
         "line": {
          "color": "green",
          "dash": "solid",
          "shape": "linear",
          "width": 0.5
         },
         "mode": "lines",
         "name": "Spread",
         "showlegend": false,
         "type": "scatter",
         "x": [
          0,
          1,
          2,
          3,
          4,
          5,
          6,
          7,
          8,
          9,
          10,
          11,
          12,
          13,
          14,
          15,
          16,
          17,
          18,
          19,
          20,
          21,
          22,
          23,
          24,
          25,
          26,
          27,
          28,
          29,
          30,
          31,
          32,
          33,
          34,
          35,
          36,
          37,
          38,
          39,
          40,
          41,
          42,
          43,
          44,
          45,
          46,
          47,
          48,
          49,
          50,
          51,
          52,
          53,
          54,
          55,
          56,
          57,
          58,
          59,
          60,
          61,
          62,
          63,
          64,
          65,
          66,
          67,
          68,
          69,
          70,
          71,
          72,
          73,
          74,
          75,
          76,
          77,
          78,
          79,
          80,
          81,
          82,
          83,
          84,
          85,
          86,
          87,
          88,
          89,
          90,
          91,
          92,
          93,
          94,
          95,
          96,
          97,
          98,
          99
         ],
         "xaxis": "x2",
         "y": [
          0.6931475208381078,
          4.187880986038666,
          "",
          "",
          "",
          0.6078049513013188,
          "",
          "",
          "",
          "",
          1.0988916220749767,
          0.9674657930052026,
          "",
          0.12276582301759698,
          "",
          0.4430632579082456,
          "",
          "",
          "",
          1.7582419547644053,
          "",
          "",
          "",
          "",
          "",
          "",
          0.4205296964966705,
          1.319141522252445,
          "",
          2.5878842792577017,
          1.4614772426287517,
          "",
          0.4457793520945805,
          2.4029938492010503,
          "",
          "",
          "",
          "",
          "",
          "",
          2.3032339574741565,
          "",
          "",
          "",
          2.268822123865851,
          "",
          1.301914643086006,
          "",
          "",
          3.5023665164140616,
          "",
          "",
          1.6765299243767011,
          0.8267130433495379,
          1.147317371861456,
          1.5856416836843592,
          "",
          "",
          "",
          "",
          "",
          0.34177580965420146,
          1.7746603837290442,
          "",
          2.22034470619415,
          "",
          0.9184969218021047,
          0.7398434494301945,
          0.5032032099387894,
          0.6358973932245675,
          0.0638177017250291,
          "",
          "",
          "",
          "",
          "",
          2.9754640503892746,
          0.8321576209219794,
          2.03396367123729,
          "",
          "",
          "",
          "",
          "",
          3.084426447429027,
          0.005481212676447966,
          0.5328045663159419,
          "",
          1.3046367476902585,
          "",
          "",
          "",
          "",
          0.6759757424364021,
          0.15915252691799217,
          "",
          "",
          0.6281885325530974,
          "",
          ""
         ],
         "yaxis": "y2"
        },
        {
         "connectgaps": false,
         "fill": "tozeroy",
         "line": {
          "color": "red",
          "dash": "solid",
          "shape": "linear",
          "width": 0.5
         },
         "mode": "lines",
         "name": "Spread",
         "showlegend": false,
         "type": "scatter",
         "x": [
          0,
          1,
          2,
          3,
          4,
          5,
          6,
          7,
          8,
          9,
          10,
          11,
          12,
          13,
          14,
          15,
          16,
          17,
          18,
          19,
          20,
          21,
          22,
          23,
          24,
          25,
          26,
          27,
          28,
          29,
          30,
          31,
          32,
          33,
          34,
          35,
          36,
          37,
          38,
          39,
          40,
          41,
          42,
          43,
          44,
          45,
          46,
          47,
          48,
          49,
          50,
          51,
          52,
          53,
          54,
          55,
          56,
          57,
          58,
          59,
          60,
          61,
          62,
          63,
          64,
          65,
          66,
          67,
          68,
          69,
          70,
          71,
          72,
          73,
          74,
          75,
          76,
          77,
          78,
          79,
          80,
          81,
          82,
          83,
          84,
          85,
          86,
          87,
          88,
          89,
          90,
          91,
          92,
          93,
          94,
          95,
          96,
          97,
          98,
          99
         ],
         "xaxis": "x2",
         "y": [
          "",
          "",
          -1.1401388397193761,
          -0.6073589586285919,
          -0.3025352341753905,
          "",
          -0.044648729076927574,
          -0.2587629139714626,
          -0.452011539243554,
          -0.2174986694965072,
          "",
          "",
          -1.919836870746709,
          "",
          -0.889898414613936,
          "",
          -0.07954485421472868,
          -0.7749721261905831,
          -0.7972987034412381,
          "",
          -1.2940313536216785,
          -2.252921610955532,
          -1.2825392225113639,
          -1.3978468367893164,
          -1.6937523231551381,
          -0.08795041778925738,
          "",
          "",
          -0.13634469010359884,
          "",
          "",
          -0.9001683903946154,
          "",
          "",
          -0.8154698201188498,
          -0.9750701386204146,
          -0.19926986074090647,
          -1.339455557367914,
          -2.760744902341438,
          -0.5692197110473162,
          "",
          -1.7351921841824376,
          -1.0422923595780822,
          -0.2323297540133314,
          "",
          -1.1151356362062812,
          "",
          -0.6632382609998445,
          -0.6964062018653767,
          "",
          -1.7022524321760935,
          -0.6130572236571954,
          "",
          "",
          "",
          "",
          -1.1522859397267604,
          -1.6574676493735563,
          -2.4570942074071076,
          -0.8372411315047071,
          -0.9256427268546528,
          "",
          "",
          -1.9168853496301956,
          "",
          -0.40027911586848053,
          "",
          "",
          "",
          "",
          "",
          -0.1880637025419286,
          -1.1031129238303716,
          -1.177405866808579,
          -1.713711719666568,
          -0.50428895140996,
          "",
          "",
          "",
          -0.12481039729652549,
          -0.4750829038633264,
          -0.5339137278850987,
          -0.04977691572159848,
          -0.27075202597699033,
          "",
          "",
          "",
          -0.6292158112505088,
          "",
          -0.036955100038226885,
          -2.028210922408899,
          -0.7986738673107152,
          -0.002024523321649263,
          "",
          "",
          -0.7543136859952762,
          -0.3137838482671293,
          "",
          -0.7136146170472404,
          -1.621881744187264
         ],
         "yaxis": "y2"
        }
       ],
       "layout": {
        "hovermode": "x",
        "legend": {
         "bgcolor": "#F5F6F9",
         "font": {
          "color": "#4D5663"
         }
        },
        "paper_bgcolor": "#F5F6F9",
        "plot_bgcolor": "#F5F6F9",
        "template": {
         "data": {
          "bar": [
           {
            "error_x": {
             "color": "#2a3f5f"
            },
            "error_y": {
             "color": "#2a3f5f"
            },
            "marker": {
             "line": {
              "color": "#E5ECF6",
              "width": 0.5
             },
             "pattern": {
              "fillmode": "overlay",
              "size": 10,
              "solidity": 0.2
             }
            },
            "type": "bar"
           }
          ],
          "barpolar": [
           {
            "marker": {
             "line": {
              "color": "#E5ECF6",
              "width": 0.5
             },
             "pattern": {
              "fillmode": "overlay",
              "size": 10,
              "solidity": 0.2
             }
            },
            "type": "barpolar"
           }
          ],
          "carpet": [
           {
            "aaxis": {
             "endlinecolor": "#2a3f5f",
             "gridcolor": "white",
             "linecolor": "white",
             "minorgridcolor": "white",
             "startlinecolor": "#2a3f5f"
            },
            "baxis": {
             "endlinecolor": "#2a3f5f",
             "gridcolor": "white",
             "linecolor": "white",
             "minorgridcolor": "white",
             "startlinecolor": "#2a3f5f"
            },
            "type": "carpet"
           }
          ],
          "choropleth": [
           {
            "colorbar": {
             "outlinewidth": 0,
             "ticks": ""
            },
            "type": "choropleth"
           }
          ],
          "contour": [
           {
            "colorbar": {
             "outlinewidth": 0,
             "ticks": ""
            },
            "colorscale": [
             [
              0,
              "#0d0887"
             ],
             [
              0.1111111111111111,
              "#46039f"
             ],
             [
              0.2222222222222222,
              "#7201a8"
             ],
             [
              0.3333333333333333,
              "#9c179e"
             ],
             [
              0.4444444444444444,
              "#bd3786"
             ],
             [
              0.5555555555555556,
              "#d8576b"
             ],
             [
              0.6666666666666666,
              "#ed7953"
             ],
             [
              0.7777777777777778,
              "#fb9f3a"
             ],
             [
              0.8888888888888888,
              "#fdca26"
             ],
             [
              1,
              "#f0f921"
             ]
            ],
            "type": "contour"
           }
          ],
          "contourcarpet": [
           {
            "colorbar": {
             "outlinewidth": 0,
             "ticks": ""
            },
            "type": "contourcarpet"
           }
          ],
          "heatmap": [
           {
            "colorbar": {
             "outlinewidth": 0,
             "ticks": ""
            },
            "colorscale": [
             [
              0,
              "#0d0887"
             ],
             [
              0.1111111111111111,
              "#46039f"
             ],
             [
              0.2222222222222222,
              "#7201a8"
             ],
             [
              0.3333333333333333,
              "#9c179e"
             ],
             [
              0.4444444444444444,
              "#bd3786"
             ],
             [
              0.5555555555555556,
              "#d8576b"
             ],
             [
              0.6666666666666666,
              "#ed7953"
             ],
             [
              0.7777777777777778,
              "#fb9f3a"
             ],
             [
              0.8888888888888888,
              "#fdca26"
             ],
             [
              1,
              "#f0f921"
             ]
            ],
            "type": "heatmap"
           }
          ],
          "heatmapgl": [
           {
            "colorbar": {
             "outlinewidth": 0,
             "ticks": ""
            },
            "colorscale": [
             [
              0,
              "#0d0887"
             ],
             [
              0.1111111111111111,
              "#46039f"
             ],
             [
              0.2222222222222222,
              "#7201a8"
             ],
             [
              0.3333333333333333,
              "#9c179e"
             ],
             [
              0.4444444444444444,
              "#bd3786"
             ],
             [
              0.5555555555555556,
              "#d8576b"
             ],
             [
              0.6666666666666666,
              "#ed7953"
             ],
             [
              0.7777777777777778,
              "#fb9f3a"
             ],
             [
              0.8888888888888888,
              "#fdca26"
             ],
             [
              1,
              "#f0f921"
             ]
            ],
            "type": "heatmapgl"
           }
          ],
          "histogram": [
           {
            "marker": {
             "pattern": {
              "fillmode": "overlay",
              "size": 10,
              "solidity": 0.2
             }
            },
            "type": "histogram"
           }
          ],
          "histogram2d": [
           {
            "colorbar": {
             "outlinewidth": 0,
             "ticks": ""
            },
            "colorscale": [
             [
              0,
              "#0d0887"
             ],
             [
              0.1111111111111111,
              "#46039f"
             ],
             [
              0.2222222222222222,
              "#7201a8"
             ],
             [
              0.3333333333333333,
              "#9c179e"
             ],
             [
              0.4444444444444444,
              "#bd3786"
             ],
             [
              0.5555555555555556,
              "#d8576b"
             ],
             [
              0.6666666666666666,
              "#ed7953"
             ],
             [
              0.7777777777777778,
              "#fb9f3a"
             ],
             [
              0.8888888888888888,
              "#fdca26"
             ],
             [
              1,
              "#f0f921"
             ]
            ],
            "type": "histogram2d"
           }
          ],
          "histogram2dcontour": [
           {
            "colorbar": {
             "outlinewidth": 0,
             "ticks": ""
            },
            "colorscale": [
             [
              0,
              "#0d0887"
             ],
             [
              0.1111111111111111,
              "#46039f"
             ],
             [
              0.2222222222222222,
              "#7201a8"
             ],
             [
              0.3333333333333333,
              "#9c179e"
             ],
             [
              0.4444444444444444,
              "#bd3786"
             ],
             [
              0.5555555555555556,
              "#d8576b"
             ],
             [
              0.6666666666666666,
              "#ed7953"
             ],
             [
              0.7777777777777778,
              "#fb9f3a"
             ],
             [
              0.8888888888888888,
              "#fdca26"
             ],
             [
              1,
              "#f0f921"
             ]
            ],
            "type": "histogram2dcontour"
           }
          ],
          "mesh3d": [
           {
            "colorbar": {
             "outlinewidth": 0,
             "ticks": ""
            },
            "type": "mesh3d"
           }
          ],
          "parcoords": [
           {
            "line": {
             "colorbar": {
              "outlinewidth": 0,
              "ticks": ""
             }
            },
            "type": "parcoords"
           }
          ],
          "pie": [
           {
            "automargin": true,
            "type": "pie"
           }
          ],
          "scatter": [
           {
            "fillpattern": {
             "fillmode": "overlay",
             "size": 10,
             "solidity": 0.2
            },
            "type": "scatter"
           }
          ],
          "scatter3d": [
           {
            "line": {
             "colorbar": {
              "outlinewidth": 0,
              "ticks": ""
             }
            },
            "marker": {
             "colorbar": {
              "outlinewidth": 0,
              "ticks": ""
             }
            },
            "type": "scatter3d"
           }
          ],
          "scattercarpet": [
           {
            "marker": {
             "colorbar": {
              "outlinewidth": 0,
              "ticks": ""
             }
            },
            "type": "scattercarpet"
           }
          ],
          "scattergeo": [
           {
            "marker": {
             "colorbar": {
              "outlinewidth": 0,
              "ticks": ""
             }
            },
            "type": "scattergeo"
           }
          ],
          "scattergl": [
           {
            "marker": {
             "colorbar": {
              "outlinewidth": 0,
              "ticks": ""
             }
            },
            "type": "scattergl"
           }
          ],
          "scattermapbox": [
           {
            "marker": {
             "colorbar": {
              "outlinewidth": 0,
              "ticks": ""
             }
            },
            "type": "scattermapbox"
           }
          ],
          "scatterpolar": [
           {
            "marker": {
             "colorbar": {
              "outlinewidth": 0,
              "ticks": ""
             }
            },
            "type": "scatterpolar"
           }
          ],
          "scatterpolargl": [
           {
            "marker": {
             "colorbar": {
              "outlinewidth": 0,
              "ticks": ""
             }
            },
            "type": "scatterpolargl"
           }
          ],
          "scatterternary": [
           {
            "marker": {
             "colorbar": {
              "outlinewidth": 0,
              "ticks": ""
             }
            },
            "type": "scatterternary"
           }
          ],
          "surface": [
           {
            "colorbar": {
             "outlinewidth": 0,
             "ticks": ""
            },
            "colorscale": [
             [
              0,
              "#0d0887"
             ],
             [
              0.1111111111111111,
              "#46039f"
             ],
             [
              0.2222222222222222,
              "#7201a8"
             ],
             [
              0.3333333333333333,
              "#9c179e"
             ],
             [
              0.4444444444444444,
              "#bd3786"
             ],
             [
              0.5555555555555556,
              "#d8576b"
             ],
             [
              0.6666666666666666,
              "#ed7953"
             ],
             [
              0.7777777777777778,
              "#fb9f3a"
             ],
             [
              0.8888888888888888,
              "#fdca26"
             ],
             [
              1,
              "#f0f921"
             ]
            ],
            "type": "surface"
           }
          ],
          "table": [
           {
            "cells": {
             "fill": {
              "color": "#EBF0F8"
             },
             "line": {
              "color": "white"
             }
            },
            "header": {
             "fill": {
              "color": "#C8D4E3"
             },
             "line": {
              "color": "white"
             }
            },
            "type": "table"
           }
          ]
         },
         "layout": {
          "annotationdefaults": {
           "arrowcolor": "#2a3f5f",
           "arrowhead": 0,
           "arrowwidth": 1
          },
          "autotypenumbers": "strict",
          "coloraxis": {
           "colorbar": {
            "outlinewidth": 0,
            "ticks": ""
           }
          },
          "colorscale": {
           "diverging": [
            [
             0,
             "#8e0152"
            ],
            [
             0.1,
             "#c51b7d"
            ],
            [
             0.2,
             "#de77ae"
            ],
            [
             0.3,
             "#f1b6da"
            ],
            [
             0.4,
             "#fde0ef"
            ],
            [
             0.5,
             "#f7f7f7"
            ],
            [
             0.6,
             "#e6f5d0"
            ],
            [
             0.7,
             "#b8e186"
            ],
            [
             0.8,
             "#7fbc41"
            ],
            [
             0.9,
             "#4d9221"
            ],
            [
             1,
             "#276419"
            ]
           ],
           "sequential": [
            [
             0,
             "#0d0887"
            ],
            [
             0.1111111111111111,
             "#46039f"
            ],
            [
             0.2222222222222222,
             "#7201a8"
            ],
            [
             0.3333333333333333,
             "#9c179e"
            ],
            [
             0.4444444444444444,
             "#bd3786"
            ],
            [
             0.5555555555555556,
             "#d8576b"
            ],
            [
             0.6666666666666666,
             "#ed7953"
            ],
            [
             0.7777777777777778,
             "#fb9f3a"
            ],
            [
             0.8888888888888888,
             "#fdca26"
            ],
            [
             1,
             "#f0f921"
            ]
           ],
           "sequentialminus": [
            [
             0,
             "#0d0887"
            ],
            [
             0.1111111111111111,
             "#46039f"
            ],
            [
             0.2222222222222222,
             "#7201a8"
            ],
            [
             0.3333333333333333,
             "#9c179e"
            ],
            [
             0.4444444444444444,
             "#bd3786"
            ],
            [
             0.5555555555555556,
             "#d8576b"
            ],
            [
             0.6666666666666666,
             "#ed7953"
            ],
            [
             0.7777777777777778,
             "#fb9f3a"
            ],
            [
             0.8888888888888888,
             "#fdca26"
            ],
            [
             1,
             "#f0f921"
            ]
           ]
          },
          "colorway": [
           "#636efa",
           "#EF553B",
           "#00cc96",
           "#ab63fa",
           "#FFA15A",
           "#19d3f3",
           "#FF6692",
           "#B6E880",
           "#FF97FF",
           "#FECB52"
          ],
          "font": {
           "color": "#2a3f5f"
          },
          "geo": {
           "bgcolor": "white",
           "lakecolor": "white",
           "landcolor": "#E5ECF6",
           "showlakes": true,
           "showland": true,
           "subunitcolor": "white"
          },
          "hoverlabel": {
           "align": "left"
          },
          "hovermode": "closest",
          "mapbox": {
           "style": "light"
          },
          "paper_bgcolor": "white",
          "plot_bgcolor": "#E5ECF6",
          "polar": {
           "angularaxis": {
            "gridcolor": "white",
            "linecolor": "white",
            "ticks": ""
           },
           "bgcolor": "#E5ECF6",
           "radialaxis": {
            "gridcolor": "white",
            "linecolor": "white",
            "ticks": ""
           }
          },
          "scene": {
           "xaxis": {
            "backgroundcolor": "#E5ECF6",
            "gridcolor": "white",
            "gridwidth": 2,
            "linecolor": "white",
            "showbackground": true,
            "ticks": "",
            "zerolinecolor": "white"
           },
           "yaxis": {
            "backgroundcolor": "#E5ECF6",
            "gridcolor": "white",
            "gridwidth": 2,
            "linecolor": "white",
            "showbackground": true,
            "ticks": "",
            "zerolinecolor": "white"
           },
           "zaxis": {
            "backgroundcolor": "#E5ECF6",
            "gridcolor": "white",
            "gridwidth": 2,
            "linecolor": "white",
            "showbackground": true,
            "ticks": "",
            "zerolinecolor": "white"
           }
          },
          "shapedefaults": {
           "line": {
            "color": "#2a3f5f"
           }
          },
          "ternary": {
           "aaxis": {
            "gridcolor": "white",
            "linecolor": "white",
            "ticks": ""
           },
           "baxis": {
            "gridcolor": "white",
            "linecolor": "white",
            "ticks": ""
           },
           "bgcolor": "#E5ECF6",
           "caxis": {
            "gridcolor": "white",
            "linecolor": "white",
            "ticks": ""
           }
          },
          "title": {
           "x": 0.05
          },
          "xaxis": {
           "automargin": true,
           "gridcolor": "white",
           "linecolor": "white",
           "ticks": "",
           "title": {
            "standoff": 15
           },
           "zerolinecolor": "white",
           "zerolinewidth": 2
          },
          "yaxis": {
           "automargin": true,
           "gridcolor": "white",
           "linecolor": "white",
           "ticks": "",
           "title": {
            "standoff": 15
           },
           "zerolinecolor": "white",
           "zerolinewidth": 2
          }
         }
        },
        "title": {
         "font": {
          "color": "#4D5663"
         }
        },
        "xaxis": {
         "gridcolor": "#E1E5ED",
         "showgrid": true,
         "tickfont": {
          "color": "#4D5663"
         },
         "title": {
          "font": {
           "color": "#4D5663"
          },
          "text": ""
         },
         "zerolinecolor": "#E1E5ED"
        },
        "xaxis2": {
         "anchor": "y2",
         "gridcolor": "#E1E5ED",
         "showgrid": true,
         "showticklabels": false,
         "tickfont": {
          "color": "#4D5663"
         },
         "title": {
          "font": {
           "color": "#4D5663"
          },
          "text": ""
         },
         "zerolinecolor": "#E1E5ED"
        },
        "yaxis": {
         "domain": [
          0.3,
          1
         ],
         "gridcolor": "#E1E5ED",
         "showgrid": true,
         "tickfont": {
          "color": "#4D5663"
         },
         "title": {
          "font": {
           "color": "#4D5663"
          },
          "text": ""
         },
         "zerolinecolor": "#E1E5ED"
        },
        "yaxis2": {
         "domain": [
          0,
          0.25
         ],
         "gridcolor": "#E1E5ED",
         "showgrid": true,
         "tickfont": {
          "color": "#4D5663"
         },
         "title": {
          "font": {
           "color": "#4D5663"
          },
          "text": "Spread"
         },
         "zerolinecolor": "#E1E5ED"
        }
       }
      },
      "text/html": [
       "<div>                            <div id=\"9f230639-e122-4062-b1cc-3cc701d1161f\" class=\"plotly-graph-div\" style=\"height:525px; width:100%;\"></div>            <script type=\"text/javascript\">                require([\"plotly\"], function(Plotly) {                    window.PLOTLYENV=window.PLOTLYENV || {};\n",
       "                    window.PLOTLYENV.BASE_URL='https://plot.ly';                                    if (document.getElementById(\"9f230639-e122-4062-b1cc-3cc701d1161f\")) {                    Plotly.newPlot(                        \"9f230639-e122-4062-b1cc-3cc701d1161f\",                        [{\"line\":{\"color\":\"rgba(255, 153, 51, 1.0)\",\"dash\":\"solid\",\"shape\":\"linear\",\"width\":1.3},\"mode\":\"lines\",\"name\":\"A\",\"text\":\"\",\"x\":[0,1,2,3,4,5,6,7,8,9,10,11,12,13,14,15,16,17,18,19,20,21,22,23,24,25,26,27,28,29,30,31,32,33,34,35,36,37,38,39,40,41,42,43,44,45,46,47,48,49,50,51,52,53,54,55,56,57,58,59,60,61,62,63,64,65,66,67,68,69,70,71,72,73,74,75,76,77,78,79,80,81,82,83,84,85,86,87,88,89,90,91,92,93,94,95,96,97,98,99],\"y\":[0.7142777740002493,1.7199028467107027,-0.656803403254399,-0.37392620679314936,-0.31606590443921007,0.35505889405438235,0.30268661008777253,-0.20025345133011221,-0.7836855248050619,-0.8001492342950658,0.5139621668662798,0.6479247398677027,-0.7211676148282345,0.7194291364909836,-0.2163419153726224,-0.4804535209362682,-0.714837323622347,1.1990673445619522,0.32378499945067485,0.32720073545032413,-1.2416640093536817,-1.0964978401145988,-2.1451300195809617,-0.4095271017607454,-0.45316941062315785,-1.122925074551881,1.534771250157007,0.8082105077168469,0.2029478602650499,0.8792395730528462,1.6238072982147747,-1.689598035108892,0.7172442956307108,1.4796357413226466,0.10848653839183443,0.2651199463165854,-0.448360276786736,-0.8717512540566079,-1.673236517973046,0.15762999583840775,0.3231114754169684,-2.132193362543313,-1.9211723050134575,0.2923166142946065,1.0379779669930023,0.04206636875091591,-0.6015462970886982,-0.7081127368965313,-0.13272123239646805,2.289950608975294,-0.1742026494967424,0.59635132291716,0.991485617310549,-0.15785058610376146,0.15891339279876676,1.323390106354316,0.7895370254885591,0.3639551791777413,-2.55375949966317,-0.939382779591616,-0.8616920966398784,0.7238203508712924,2.0611264931219995,-1.0673993007785716,1.4850336351104063,-0.17536273373016378,-0.6586113604808225,1.0852382724029959,0.09988394766108045,0.26697145343793954,-0.508604167253295,-0.8952623555402414,-0.6681146819732109,0.1744415811250902,-0.09704809142761688,-0.3951710675259424,0.724433828075461,0.19331020672322452,1.31690463122668,-0.5019748382265561,0.21407155559326627,-1.2923542370415495,0.6016718634605939,-0.16503701845514213,1.5203243551375871,-0.6557452100418191,1.1703097186619138,0.4213445354585947,1.1003148707214743,0.1503838317476397,-0.9970229620212248,-0.10549357398256586,0.3859715646698864,0.08402541190919727,0.1854135916396423,-1.2952897277314197,-0.4213245059694718,0.7618730883422946,-0.23464880537146648,-1.7371251770094929],\"type\":\"scatter\"},{\"line\":{\"color\":\"rgba(55, 128, 191, 1.0)\",\"dash\":\"solid\",\"shape\":\"linear\",\"width\":1.3},\"mode\":\"lines\",\"name\":\"B\",\"text\":\"\",\"x\":[0,1,2,3,4,5,6,7,8,9,10,11,12,13,14,15,16,17,18,19,20,21,22,23,24,25,26,27,28,29,30,31,32,33,34,35,36,37,38,39,40,41,42,43,44,45,46,47,48,49,50,51,52,53,54,55,56,57,58,59,60,61,62,63,64,65,66,67,68,69,70,71,72,73,74,75,76,77,78,79,80,81,82,83,84,85,86,87,88,89,90,91,92,93,94,95,96,97,98,99],\"y\":[0.02113025316214141,-2.4679781393279625,0.483335436464977,0.23343275183544257,-0.013530670263819523,-0.25274605724693644,0.3473353391647001,0.05850946264135038,-0.33167398556150796,-0.5826505647985586,-0.5849294552086969,-0.31954105313749986,1.1986692559184746,0.5966633134733866,0.6735564992413137,-0.9235167788445138,-0.6352924694076183,1.9740394707525353,1.121083702891913,-1.4310412193140811,0.05236734426799687,1.1564237708409333,-0.862590797069598,0.9883197350285711,1.2405829125319803,-1.0349746567626237,1.1142415536603365,-0.510931014535598,0.33929255036864875,-1.7086447062048555,0.1623300555860231,-0.7894296447142766,0.27146494353613027,-0.9233581078784034,0.9239563585106843,1.240190084937,-0.24909041604582954,0.46770430331130614,1.087508384368392,0.7268497068857239,-1.9801224820571879,-0.3970011783608756,-0.8788799454353752,0.5246463683079379,-1.2308441568728488,1.1572020049571972,-1.9034609401747042,-0.044874475896686826,0.5636849694689087,-1.2124159074387677,1.528049782679351,1.2094085465743554,-0.6850443070661522,-0.9845636294532993,-0.9884039790626893,-0.262251577330043,1.9418229652153194,2.0214228285512976,-0.0966652922560624,-0.10214164808690887,0.06395063021477436,0.3820445412170909,0.2864661093929553,0.8494860488516242,-0.735311071083744,0.22491638213831677,-1.5771082822829272,0.34539482297280133,-0.403319262277709,-0.36892593978662797,-0.5724218689783241,-0.7071986529983127,0.4349982418571607,1.351847447933669,1.6166636282389513,0.10911788388401762,-2.2510302223138137,-0.6388474141987549,-0.7170590400106103,-0.3771644409300306,0.6891544594565927,-0.7584405091564508,0.6514487791821924,0.10571500752184819,-1.56410209229144,-0.661226422718267,0.6375051523459719,1.0505603467091036,-0.2043218769687843,0.18733893178586658,1.0311879603876744,0.6931802933281493,0.3879960879915357,-0.5919503305272049,0.02626106472165012,-0.5409760417361436,-0.10754065770234249,0.13368455578919725,0.47896581167577396,-0.11524343282222889],\"type\":\"scatter\"},{\"connectgaps\":false,\"fill\":\"tozeroy\",\"line\":{\"color\":\"green\",\"dash\":\"solid\",\"shape\":\"linear\",\"width\":0.5},\"mode\":\"lines\",\"name\":\"Spread\",\"showlegend\":false,\"x\":[0,1,2,3,4,5,6,7,8,9,10,11,12,13,14,15,16,17,18,19,20,21,22,23,24,25,26,27,28,29,30,31,32,33,34,35,36,37,38,39,40,41,42,43,44,45,46,47,48,49,50,51,52,53,54,55,56,57,58,59,60,61,62,63,64,65,66,67,68,69,70,71,72,73,74,75,76,77,78,79,80,81,82,83,84,85,86,87,88,89,90,91,92,93,94,95,96,97,98,99],\"xaxis\":\"x2\",\"y\":[0.6931475208381078,4.187880986038666,\"\",\"\",\"\",0.6078049513013188,\"\",\"\",\"\",\"\",1.0988916220749767,0.9674657930052026,\"\",0.12276582301759698,\"\",0.4430632579082456,\"\",\"\",\"\",1.7582419547644053,\"\",\"\",\"\",\"\",\"\",\"\",0.4205296964966705,1.319141522252445,\"\",2.5878842792577017,1.4614772426287517,\"\",0.4457793520945805,2.4029938492010503,\"\",\"\",\"\",\"\",\"\",\"\",2.3032339574741565,\"\",\"\",\"\",2.268822123865851,\"\",1.301914643086006,\"\",\"\",3.5023665164140616,\"\",\"\",1.6765299243767011,0.8267130433495379,1.147317371861456,1.5856416836843592,\"\",\"\",\"\",\"\",\"\",0.34177580965420146,1.7746603837290442,\"\",2.22034470619415,\"\",0.9184969218021047,0.7398434494301945,0.5032032099387894,0.6358973932245675,0.0638177017250291,\"\",\"\",\"\",\"\",\"\",2.9754640503892746,0.8321576209219794,2.03396367123729,\"\",\"\",\"\",\"\",\"\",3.084426447429027,0.005481212676447966,0.5328045663159419,\"\",1.3046367476902585,\"\",\"\",\"\",\"\",0.6759757424364021,0.15915252691799217,\"\",\"\",0.6281885325530974,\"\",\"\"],\"yaxis\":\"y2\",\"type\":\"scatter\"},{\"connectgaps\":false,\"fill\":\"tozeroy\",\"line\":{\"color\":\"red\",\"dash\":\"solid\",\"shape\":\"linear\",\"width\":0.5},\"mode\":\"lines\",\"name\":\"Spread\",\"showlegend\":false,\"x\":[0,1,2,3,4,5,6,7,8,9,10,11,12,13,14,15,16,17,18,19,20,21,22,23,24,25,26,27,28,29,30,31,32,33,34,35,36,37,38,39,40,41,42,43,44,45,46,47,48,49,50,51,52,53,54,55,56,57,58,59,60,61,62,63,64,65,66,67,68,69,70,71,72,73,74,75,76,77,78,79,80,81,82,83,84,85,86,87,88,89,90,91,92,93,94,95,96,97,98,99],\"xaxis\":\"x2\",\"y\":[\"\",\"\",-1.1401388397193761,-0.6073589586285919,-0.3025352341753905,\"\",-0.044648729076927574,-0.2587629139714626,-0.452011539243554,-0.2174986694965072,\"\",\"\",-1.919836870746709,\"\",-0.889898414613936,\"\",-0.07954485421472868,-0.7749721261905831,-0.7972987034412381,\"\",-1.2940313536216785,-2.252921610955532,-1.2825392225113639,-1.3978468367893164,-1.6937523231551381,-0.08795041778925738,\"\",\"\",-0.13634469010359884,\"\",\"\",-0.9001683903946154,\"\",\"\",-0.8154698201188498,-0.9750701386204146,-0.19926986074090647,-1.339455557367914,-2.760744902341438,-0.5692197110473162,\"\",-1.7351921841824376,-1.0422923595780822,-0.2323297540133314,\"\",-1.1151356362062812,\"\",-0.6632382609998445,-0.6964062018653767,\"\",-1.7022524321760935,-0.6130572236571954,\"\",\"\",\"\",\"\",-1.1522859397267604,-1.6574676493735563,-2.4570942074071076,-0.8372411315047071,-0.9256427268546528,\"\",\"\",-1.9168853496301956,\"\",-0.40027911586848053,\"\",\"\",\"\",\"\",\"\",-0.1880637025419286,-1.1031129238303716,-1.177405866808579,-1.713711719666568,-0.50428895140996,\"\",\"\",\"\",-0.12481039729652549,-0.4750829038633264,-0.5339137278850987,-0.04977691572159848,-0.27075202597699033,\"\",\"\",\"\",-0.6292158112505088,\"\",-0.036955100038226885,-2.028210922408899,-0.7986738673107152,-0.002024523321649263,\"\",\"\",-0.7543136859952762,-0.3137838482671293,\"\",-0.7136146170472404,-1.621881744187264],\"yaxis\":\"y2\",\"type\":\"scatter\"}],                        {\"hovermode\":\"x\",\"legend\":{\"bgcolor\":\"#F5F6F9\",\"font\":{\"color\":\"#4D5663\"}},\"paper_bgcolor\":\"#F5F6F9\",\"plot_bgcolor\":\"#F5F6F9\",\"template\":{\"data\":{\"barpolar\":[{\"marker\":{\"line\":{\"color\":\"#E5ECF6\",\"width\":0.5},\"pattern\":{\"fillmode\":\"overlay\",\"size\":10,\"solidity\":0.2}},\"type\":\"barpolar\"}],\"bar\":[{\"error_x\":{\"color\":\"#2a3f5f\"},\"error_y\":{\"color\":\"#2a3f5f\"},\"marker\":{\"line\":{\"color\":\"#E5ECF6\",\"width\":0.5},\"pattern\":{\"fillmode\":\"overlay\",\"size\":10,\"solidity\":0.2}},\"type\":\"bar\"}],\"carpet\":[{\"aaxis\":{\"endlinecolor\":\"#2a3f5f\",\"gridcolor\":\"white\",\"linecolor\":\"white\",\"minorgridcolor\":\"white\",\"startlinecolor\":\"#2a3f5f\"},\"baxis\":{\"endlinecolor\":\"#2a3f5f\",\"gridcolor\":\"white\",\"linecolor\":\"white\",\"minorgridcolor\":\"white\",\"startlinecolor\":\"#2a3f5f\"},\"type\":\"carpet\"}],\"choropleth\":[{\"colorbar\":{\"outlinewidth\":0,\"ticks\":\"\"},\"type\":\"choropleth\"}],\"contourcarpet\":[{\"colorbar\":{\"outlinewidth\":0,\"ticks\":\"\"},\"type\":\"contourcarpet\"}],\"contour\":[{\"colorbar\":{\"outlinewidth\":0,\"ticks\":\"\"},\"colorscale\":[[0.0,\"#0d0887\"],[0.1111111111111111,\"#46039f\"],[0.2222222222222222,\"#7201a8\"],[0.3333333333333333,\"#9c179e\"],[0.4444444444444444,\"#bd3786\"],[0.5555555555555556,\"#d8576b\"],[0.6666666666666666,\"#ed7953\"],[0.7777777777777778,\"#fb9f3a\"],[0.8888888888888888,\"#fdca26\"],[1.0,\"#f0f921\"]],\"type\":\"contour\"}],\"heatmapgl\":[{\"colorbar\":{\"outlinewidth\":0,\"ticks\":\"\"},\"colorscale\":[[0.0,\"#0d0887\"],[0.1111111111111111,\"#46039f\"],[0.2222222222222222,\"#7201a8\"],[0.3333333333333333,\"#9c179e\"],[0.4444444444444444,\"#bd3786\"],[0.5555555555555556,\"#d8576b\"],[0.6666666666666666,\"#ed7953\"],[0.7777777777777778,\"#fb9f3a\"],[0.8888888888888888,\"#fdca26\"],[1.0,\"#f0f921\"]],\"type\":\"heatmapgl\"}],\"heatmap\":[{\"colorbar\":{\"outlinewidth\":0,\"ticks\":\"\"},\"colorscale\":[[0.0,\"#0d0887\"],[0.1111111111111111,\"#46039f\"],[0.2222222222222222,\"#7201a8\"],[0.3333333333333333,\"#9c179e\"],[0.4444444444444444,\"#bd3786\"],[0.5555555555555556,\"#d8576b\"],[0.6666666666666666,\"#ed7953\"],[0.7777777777777778,\"#fb9f3a\"],[0.8888888888888888,\"#fdca26\"],[1.0,\"#f0f921\"]],\"type\":\"heatmap\"}],\"histogram2dcontour\":[{\"colorbar\":{\"outlinewidth\":0,\"ticks\":\"\"},\"colorscale\":[[0.0,\"#0d0887\"],[0.1111111111111111,\"#46039f\"],[0.2222222222222222,\"#7201a8\"],[0.3333333333333333,\"#9c179e\"],[0.4444444444444444,\"#bd3786\"],[0.5555555555555556,\"#d8576b\"],[0.6666666666666666,\"#ed7953\"],[0.7777777777777778,\"#fb9f3a\"],[0.8888888888888888,\"#fdca26\"],[1.0,\"#f0f921\"]],\"type\":\"histogram2dcontour\"}],\"histogram2d\":[{\"colorbar\":{\"outlinewidth\":0,\"ticks\":\"\"},\"colorscale\":[[0.0,\"#0d0887\"],[0.1111111111111111,\"#46039f\"],[0.2222222222222222,\"#7201a8\"],[0.3333333333333333,\"#9c179e\"],[0.4444444444444444,\"#bd3786\"],[0.5555555555555556,\"#d8576b\"],[0.6666666666666666,\"#ed7953\"],[0.7777777777777778,\"#fb9f3a\"],[0.8888888888888888,\"#fdca26\"],[1.0,\"#f0f921\"]],\"type\":\"histogram2d\"}],\"histogram\":[{\"marker\":{\"pattern\":{\"fillmode\":\"overlay\",\"size\":10,\"solidity\":0.2}},\"type\":\"histogram\"}],\"mesh3d\":[{\"colorbar\":{\"outlinewidth\":0,\"ticks\":\"\"},\"type\":\"mesh3d\"}],\"parcoords\":[{\"line\":{\"colorbar\":{\"outlinewidth\":0,\"ticks\":\"\"}},\"type\":\"parcoords\"}],\"pie\":[{\"automargin\":true,\"type\":\"pie\"}],\"scatter3d\":[{\"line\":{\"colorbar\":{\"outlinewidth\":0,\"ticks\":\"\"}},\"marker\":{\"colorbar\":{\"outlinewidth\":0,\"ticks\":\"\"}},\"type\":\"scatter3d\"}],\"scattercarpet\":[{\"marker\":{\"colorbar\":{\"outlinewidth\":0,\"ticks\":\"\"}},\"type\":\"scattercarpet\"}],\"scattergeo\":[{\"marker\":{\"colorbar\":{\"outlinewidth\":0,\"ticks\":\"\"}},\"type\":\"scattergeo\"}],\"scattergl\":[{\"marker\":{\"colorbar\":{\"outlinewidth\":0,\"ticks\":\"\"}},\"type\":\"scattergl\"}],\"scattermapbox\":[{\"marker\":{\"colorbar\":{\"outlinewidth\":0,\"ticks\":\"\"}},\"type\":\"scattermapbox\"}],\"scatterpolargl\":[{\"marker\":{\"colorbar\":{\"outlinewidth\":0,\"ticks\":\"\"}},\"type\":\"scatterpolargl\"}],\"scatterpolar\":[{\"marker\":{\"colorbar\":{\"outlinewidth\":0,\"ticks\":\"\"}},\"type\":\"scatterpolar\"}],\"scatter\":[{\"fillpattern\":{\"fillmode\":\"overlay\",\"size\":10,\"solidity\":0.2},\"type\":\"scatter\"}],\"scatterternary\":[{\"marker\":{\"colorbar\":{\"outlinewidth\":0,\"ticks\":\"\"}},\"type\":\"scatterternary\"}],\"surface\":[{\"colorbar\":{\"outlinewidth\":0,\"ticks\":\"\"},\"colorscale\":[[0.0,\"#0d0887\"],[0.1111111111111111,\"#46039f\"],[0.2222222222222222,\"#7201a8\"],[0.3333333333333333,\"#9c179e\"],[0.4444444444444444,\"#bd3786\"],[0.5555555555555556,\"#d8576b\"],[0.6666666666666666,\"#ed7953\"],[0.7777777777777778,\"#fb9f3a\"],[0.8888888888888888,\"#fdca26\"],[1.0,\"#f0f921\"]],\"type\":\"surface\"}],\"table\":[{\"cells\":{\"fill\":{\"color\":\"#EBF0F8\"},\"line\":{\"color\":\"white\"}},\"header\":{\"fill\":{\"color\":\"#C8D4E3\"},\"line\":{\"color\":\"white\"}},\"type\":\"table\"}]},\"layout\":{\"annotationdefaults\":{\"arrowcolor\":\"#2a3f5f\",\"arrowhead\":0,\"arrowwidth\":1},\"autotypenumbers\":\"strict\",\"coloraxis\":{\"colorbar\":{\"outlinewidth\":0,\"ticks\":\"\"}},\"colorscale\":{\"diverging\":[[0,\"#8e0152\"],[0.1,\"#c51b7d\"],[0.2,\"#de77ae\"],[0.3,\"#f1b6da\"],[0.4,\"#fde0ef\"],[0.5,\"#f7f7f7\"],[0.6,\"#e6f5d0\"],[0.7,\"#b8e186\"],[0.8,\"#7fbc41\"],[0.9,\"#4d9221\"],[1,\"#276419\"]],\"sequential\":[[0.0,\"#0d0887\"],[0.1111111111111111,\"#46039f\"],[0.2222222222222222,\"#7201a8\"],[0.3333333333333333,\"#9c179e\"],[0.4444444444444444,\"#bd3786\"],[0.5555555555555556,\"#d8576b\"],[0.6666666666666666,\"#ed7953\"],[0.7777777777777778,\"#fb9f3a\"],[0.8888888888888888,\"#fdca26\"],[1.0,\"#f0f921\"]],\"sequentialminus\":[[0.0,\"#0d0887\"],[0.1111111111111111,\"#46039f\"],[0.2222222222222222,\"#7201a8\"],[0.3333333333333333,\"#9c179e\"],[0.4444444444444444,\"#bd3786\"],[0.5555555555555556,\"#d8576b\"],[0.6666666666666666,\"#ed7953\"],[0.7777777777777778,\"#fb9f3a\"],[0.8888888888888888,\"#fdca26\"],[1.0,\"#f0f921\"]]},\"colorway\":[\"#636efa\",\"#EF553B\",\"#00cc96\",\"#ab63fa\",\"#FFA15A\",\"#19d3f3\",\"#FF6692\",\"#B6E880\",\"#FF97FF\",\"#FECB52\"],\"font\":{\"color\":\"#2a3f5f\"},\"geo\":{\"bgcolor\":\"white\",\"lakecolor\":\"white\",\"landcolor\":\"#E5ECF6\",\"showlakes\":true,\"showland\":true,\"subunitcolor\":\"white\"},\"hoverlabel\":{\"align\":\"left\"},\"hovermode\":\"closest\",\"mapbox\":{\"style\":\"light\"},\"paper_bgcolor\":\"white\",\"plot_bgcolor\":\"#E5ECF6\",\"polar\":{\"angularaxis\":{\"gridcolor\":\"white\",\"linecolor\":\"white\",\"ticks\":\"\"},\"bgcolor\":\"#E5ECF6\",\"radialaxis\":{\"gridcolor\":\"white\",\"linecolor\":\"white\",\"ticks\":\"\"}},\"scene\":{\"xaxis\":{\"backgroundcolor\":\"#E5ECF6\",\"gridcolor\":\"white\",\"gridwidth\":2,\"linecolor\":\"white\",\"showbackground\":true,\"ticks\":\"\",\"zerolinecolor\":\"white\"},\"yaxis\":{\"backgroundcolor\":\"#E5ECF6\",\"gridcolor\":\"white\",\"gridwidth\":2,\"linecolor\":\"white\",\"showbackground\":true,\"ticks\":\"\",\"zerolinecolor\":\"white\"},\"zaxis\":{\"backgroundcolor\":\"#E5ECF6\",\"gridcolor\":\"white\",\"gridwidth\":2,\"linecolor\":\"white\",\"showbackground\":true,\"ticks\":\"\",\"zerolinecolor\":\"white\"}},\"shapedefaults\":{\"line\":{\"color\":\"#2a3f5f\"}},\"ternary\":{\"aaxis\":{\"gridcolor\":\"white\",\"linecolor\":\"white\",\"ticks\":\"\"},\"baxis\":{\"gridcolor\":\"white\",\"linecolor\":\"white\",\"ticks\":\"\"},\"bgcolor\":\"#E5ECF6\",\"caxis\":{\"gridcolor\":\"white\",\"linecolor\":\"white\",\"ticks\":\"\"}},\"title\":{\"x\":0.05},\"xaxis\":{\"automargin\":true,\"gridcolor\":\"white\",\"linecolor\":\"white\",\"ticks\":\"\",\"title\":{\"standoff\":15},\"zerolinecolor\":\"white\",\"zerolinewidth\":2},\"yaxis\":{\"automargin\":true,\"gridcolor\":\"white\",\"linecolor\":\"white\",\"ticks\":\"\",\"title\":{\"standoff\":15},\"zerolinecolor\":\"white\",\"zerolinewidth\":2}}},\"title\":{\"font\":{\"color\":\"#4D5663\"}},\"xaxis\":{\"gridcolor\":\"#E1E5ED\",\"showgrid\":true,\"tickfont\":{\"color\":\"#4D5663\"},\"title\":{\"font\":{\"color\":\"#4D5663\"},\"text\":\"\"},\"zerolinecolor\":\"#E1E5ED\"},\"yaxis\":{\"domain\":[0.3,1],\"gridcolor\":\"#E1E5ED\",\"showgrid\":true,\"tickfont\":{\"color\":\"#4D5663\"},\"title\":{\"font\":{\"color\":\"#4D5663\"},\"text\":\"\"},\"zerolinecolor\":\"#E1E5ED\"},\"yaxis2\":{\"domain\":[0,0.25],\"gridcolor\":\"#E1E5ED\",\"showgrid\":true,\"tickfont\":{\"color\":\"#4D5663\"},\"title\":{\"font\":{\"color\":\"#4D5663\"},\"text\":\"Spread\"},\"zerolinecolor\":\"#E1E5ED\"},\"xaxis2\":{\"anchor\":\"y2\",\"gridcolor\":\"#E1E5ED\",\"showgrid\":true,\"showticklabels\":false,\"tickfont\":{\"color\":\"#4D5663\"},\"title\":{\"font\":{\"color\":\"#4D5663\"},\"text\":\"\"},\"zerolinecolor\":\"#E1E5ED\"}},                        {\"showLink\": true, \"linkText\": \"Export to plot.ly\", \"plotlyServerURL\": \"https://plot.ly\", \"responsive\": true}                    ).then(function(){\n",
       "                            \n",
       "var gd = document.getElementById('9f230639-e122-4062-b1cc-3cc701d1161f');\n",
       "var x = new MutationObserver(function (mutations, observer) {{\n",
       "        var display = window.getComputedStyle(gd).display;\n",
       "        if (!display || display === 'none') {{\n",
       "            console.log([gd, 'removed!']);\n",
       "            Plotly.purge(gd);\n",
       "            observer.disconnect();\n",
       "        }}\n",
       "}});\n",
       "\n",
       "// Listen for the removal of the full notebook cells\n",
       "var notebookContainer = gd.closest('#notebook-container');\n",
       "if (notebookContainer) {{\n",
       "    x.observe(notebookContainer, {childList: true});\n",
       "}}\n",
       "\n",
       "// Listen for the clearing of the current output cell\n",
       "var outputEl = gd.closest('.output');\n",
       "if (outputEl) {{\n",
       "    x.observe(outputEl, {childList: true});\n",
       "}}\n",
       "\n",
       "                        })                };                });            </script>        </div>"
      ]
     },
     "metadata": {},
     "output_type": "display_data"
    }
   ],
   "source": [
    "df[['A','B']].iplot(kind='spread')"
   ]
  },
  {
   "cell_type": "markdown",
   "metadata": {},
   "source": [
    "## histogram"
   ]
  },
  {
   "cell_type": "code",
   "execution_count": 16,
   "metadata": {},
   "outputs": [
    {
     "data": {
      "application/vnd.plotly.v1+json": {
       "config": {
        "linkText": "Export to plot.ly",
        "plotlyServerURL": "https://plot.ly",
        "showLink": true
       },
       "data": [
        {
         "histfunc": "count",
         "histnorm": "",
         "marker": {
          "color": "rgba(255, 153, 51, 1.0)",
          "line": {
           "color": "#4D5663",
           "width": 1.3
          }
         },
         "name": "A",
         "nbinsx": 25,
         "opacity": 0.8,
         "orientation": "v",
         "type": "histogram",
         "x": [
          0.7142777740002493,
          1.7199028467107027,
          -0.656803403254399,
          -0.37392620679314936,
          -0.31606590443921007,
          0.35505889405438235,
          0.30268661008777253,
          -0.20025345133011221,
          -0.7836855248050619,
          -0.8001492342950658,
          0.5139621668662798,
          0.6479247398677027,
          -0.7211676148282345,
          0.7194291364909836,
          -0.2163419153726224,
          -0.4804535209362682,
          -0.714837323622347,
          1.1990673445619522,
          0.32378499945067485,
          0.32720073545032413,
          -1.2416640093536817,
          -1.0964978401145988,
          -2.1451300195809617,
          -0.4095271017607454,
          -0.45316941062315785,
          -1.122925074551881,
          1.534771250157007,
          0.8082105077168469,
          0.2029478602650499,
          0.8792395730528462,
          1.6238072982147747,
          -1.689598035108892,
          0.7172442956307108,
          1.4796357413226466,
          0.10848653839183443,
          0.2651199463165854,
          -0.448360276786736,
          -0.8717512540566079,
          -1.673236517973046,
          0.15762999583840775,
          0.3231114754169684,
          -2.132193362543313,
          -1.9211723050134575,
          0.2923166142946065,
          1.0379779669930023,
          0.04206636875091591,
          -0.6015462970886982,
          -0.7081127368965313,
          -0.13272123239646805,
          2.289950608975294,
          -0.1742026494967424,
          0.59635132291716,
          0.991485617310549,
          -0.15785058610376146,
          0.15891339279876676,
          1.323390106354316,
          0.7895370254885591,
          0.3639551791777413,
          -2.55375949966317,
          -0.939382779591616,
          -0.8616920966398784,
          0.7238203508712924,
          2.0611264931219995,
          -1.0673993007785716,
          1.4850336351104063,
          -0.17536273373016378,
          -0.6586113604808225,
          1.0852382724029959,
          0.09988394766108045,
          0.26697145343793954,
          -0.508604167253295,
          -0.8952623555402414,
          -0.6681146819732109,
          0.1744415811250902,
          -0.09704809142761688,
          -0.3951710675259424,
          0.724433828075461,
          0.19331020672322452,
          1.31690463122668,
          -0.5019748382265561,
          0.21407155559326627,
          -1.2923542370415495,
          0.6016718634605939,
          -0.16503701845514213,
          1.5203243551375871,
          -0.6557452100418191,
          1.1703097186619138,
          0.4213445354585947,
          1.1003148707214743,
          0.1503838317476397,
          -0.9970229620212248,
          -0.10549357398256586,
          0.3859715646698864,
          0.08402541190919727,
          0.1854135916396423,
          -1.2952897277314197,
          -0.4213245059694718,
          0.7618730883422946,
          -0.23464880537146648,
          -1.7371251770094929
         ]
        }
       ],
       "layout": {
        "barmode": "overlay",
        "legend": {
         "bgcolor": "#F5F6F9",
         "font": {
          "color": "#4D5663"
         }
        },
        "paper_bgcolor": "#F5F6F9",
        "plot_bgcolor": "#F5F6F9",
        "template": {
         "data": {
          "bar": [
           {
            "error_x": {
             "color": "#2a3f5f"
            },
            "error_y": {
             "color": "#2a3f5f"
            },
            "marker": {
             "line": {
              "color": "#E5ECF6",
              "width": 0.5
             },
             "pattern": {
              "fillmode": "overlay",
              "size": 10,
              "solidity": 0.2
             }
            },
            "type": "bar"
           }
          ],
          "barpolar": [
           {
            "marker": {
             "line": {
              "color": "#E5ECF6",
              "width": 0.5
             },
             "pattern": {
              "fillmode": "overlay",
              "size": 10,
              "solidity": 0.2
             }
            },
            "type": "barpolar"
           }
          ],
          "carpet": [
           {
            "aaxis": {
             "endlinecolor": "#2a3f5f",
             "gridcolor": "white",
             "linecolor": "white",
             "minorgridcolor": "white",
             "startlinecolor": "#2a3f5f"
            },
            "baxis": {
             "endlinecolor": "#2a3f5f",
             "gridcolor": "white",
             "linecolor": "white",
             "minorgridcolor": "white",
             "startlinecolor": "#2a3f5f"
            },
            "type": "carpet"
           }
          ],
          "choropleth": [
           {
            "colorbar": {
             "outlinewidth": 0,
             "ticks": ""
            },
            "type": "choropleth"
           }
          ],
          "contour": [
           {
            "colorbar": {
             "outlinewidth": 0,
             "ticks": ""
            },
            "colorscale": [
             [
              0,
              "#0d0887"
             ],
             [
              0.1111111111111111,
              "#46039f"
             ],
             [
              0.2222222222222222,
              "#7201a8"
             ],
             [
              0.3333333333333333,
              "#9c179e"
             ],
             [
              0.4444444444444444,
              "#bd3786"
             ],
             [
              0.5555555555555556,
              "#d8576b"
             ],
             [
              0.6666666666666666,
              "#ed7953"
             ],
             [
              0.7777777777777778,
              "#fb9f3a"
             ],
             [
              0.8888888888888888,
              "#fdca26"
             ],
             [
              1,
              "#f0f921"
             ]
            ],
            "type": "contour"
           }
          ],
          "contourcarpet": [
           {
            "colorbar": {
             "outlinewidth": 0,
             "ticks": ""
            },
            "type": "contourcarpet"
           }
          ],
          "heatmap": [
           {
            "colorbar": {
             "outlinewidth": 0,
             "ticks": ""
            },
            "colorscale": [
             [
              0,
              "#0d0887"
             ],
             [
              0.1111111111111111,
              "#46039f"
             ],
             [
              0.2222222222222222,
              "#7201a8"
             ],
             [
              0.3333333333333333,
              "#9c179e"
             ],
             [
              0.4444444444444444,
              "#bd3786"
             ],
             [
              0.5555555555555556,
              "#d8576b"
             ],
             [
              0.6666666666666666,
              "#ed7953"
             ],
             [
              0.7777777777777778,
              "#fb9f3a"
             ],
             [
              0.8888888888888888,
              "#fdca26"
             ],
             [
              1,
              "#f0f921"
             ]
            ],
            "type": "heatmap"
           }
          ],
          "heatmapgl": [
           {
            "colorbar": {
             "outlinewidth": 0,
             "ticks": ""
            },
            "colorscale": [
             [
              0,
              "#0d0887"
             ],
             [
              0.1111111111111111,
              "#46039f"
             ],
             [
              0.2222222222222222,
              "#7201a8"
             ],
             [
              0.3333333333333333,
              "#9c179e"
             ],
             [
              0.4444444444444444,
              "#bd3786"
             ],
             [
              0.5555555555555556,
              "#d8576b"
             ],
             [
              0.6666666666666666,
              "#ed7953"
             ],
             [
              0.7777777777777778,
              "#fb9f3a"
             ],
             [
              0.8888888888888888,
              "#fdca26"
             ],
             [
              1,
              "#f0f921"
             ]
            ],
            "type": "heatmapgl"
           }
          ],
          "histogram": [
           {
            "marker": {
             "pattern": {
              "fillmode": "overlay",
              "size": 10,
              "solidity": 0.2
             }
            },
            "type": "histogram"
           }
          ],
          "histogram2d": [
           {
            "colorbar": {
             "outlinewidth": 0,
             "ticks": ""
            },
            "colorscale": [
             [
              0,
              "#0d0887"
             ],
             [
              0.1111111111111111,
              "#46039f"
             ],
             [
              0.2222222222222222,
              "#7201a8"
             ],
             [
              0.3333333333333333,
              "#9c179e"
             ],
             [
              0.4444444444444444,
              "#bd3786"
             ],
             [
              0.5555555555555556,
              "#d8576b"
             ],
             [
              0.6666666666666666,
              "#ed7953"
             ],
             [
              0.7777777777777778,
              "#fb9f3a"
             ],
             [
              0.8888888888888888,
              "#fdca26"
             ],
             [
              1,
              "#f0f921"
             ]
            ],
            "type": "histogram2d"
           }
          ],
          "histogram2dcontour": [
           {
            "colorbar": {
             "outlinewidth": 0,
             "ticks": ""
            },
            "colorscale": [
             [
              0,
              "#0d0887"
             ],
             [
              0.1111111111111111,
              "#46039f"
             ],
             [
              0.2222222222222222,
              "#7201a8"
             ],
             [
              0.3333333333333333,
              "#9c179e"
             ],
             [
              0.4444444444444444,
              "#bd3786"
             ],
             [
              0.5555555555555556,
              "#d8576b"
             ],
             [
              0.6666666666666666,
              "#ed7953"
             ],
             [
              0.7777777777777778,
              "#fb9f3a"
             ],
             [
              0.8888888888888888,
              "#fdca26"
             ],
             [
              1,
              "#f0f921"
             ]
            ],
            "type": "histogram2dcontour"
           }
          ],
          "mesh3d": [
           {
            "colorbar": {
             "outlinewidth": 0,
             "ticks": ""
            },
            "type": "mesh3d"
           }
          ],
          "parcoords": [
           {
            "line": {
             "colorbar": {
              "outlinewidth": 0,
              "ticks": ""
             }
            },
            "type": "parcoords"
           }
          ],
          "pie": [
           {
            "automargin": true,
            "type": "pie"
           }
          ],
          "scatter": [
           {
            "fillpattern": {
             "fillmode": "overlay",
             "size": 10,
             "solidity": 0.2
            },
            "type": "scatter"
           }
          ],
          "scatter3d": [
           {
            "line": {
             "colorbar": {
              "outlinewidth": 0,
              "ticks": ""
             }
            },
            "marker": {
             "colorbar": {
              "outlinewidth": 0,
              "ticks": ""
             }
            },
            "type": "scatter3d"
           }
          ],
          "scattercarpet": [
           {
            "marker": {
             "colorbar": {
              "outlinewidth": 0,
              "ticks": ""
             }
            },
            "type": "scattercarpet"
           }
          ],
          "scattergeo": [
           {
            "marker": {
             "colorbar": {
              "outlinewidth": 0,
              "ticks": ""
             }
            },
            "type": "scattergeo"
           }
          ],
          "scattergl": [
           {
            "marker": {
             "colorbar": {
              "outlinewidth": 0,
              "ticks": ""
             }
            },
            "type": "scattergl"
           }
          ],
          "scattermapbox": [
           {
            "marker": {
             "colorbar": {
              "outlinewidth": 0,
              "ticks": ""
             }
            },
            "type": "scattermapbox"
           }
          ],
          "scatterpolar": [
           {
            "marker": {
             "colorbar": {
              "outlinewidth": 0,
              "ticks": ""
             }
            },
            "type": "scatterpolar"
           }
          ],
          "scatterpolargl": [
           {
            "marker": {
             "colorbar": {
              "outlinewidth": 0,
              "ticks": ""
             }
            },
            "type": "scatterpolargl"
           }
          ],
          "scatterternary": [
           {
            "marker": {
             "colorbar": {
              "outlinewidth": 0,
              "ticks": ""
             }
            },
            "type": "scatterternary"
           }
          ],
          "surface": [
           {
            "colorbar": {
             "outlinewidth": 0,
             "ticks": ""
            },
            "colorscale": [
             [
              0,
              "#0d0887"
             ],
             [
              0.1111111111111111,
              "#46039f"
             ],
             [
              0.2222222222222222,
              "#7201a8"
             ],
             [
              0.3333333333333333,
              "#9c179e"
             ],
             [
              0.4444444444444444,
              "#bd3786"
             ],
             [
              0.5555555555555556,
              "#d8576b"
             ],
             [
              0.6666666666666666,
              "#ed7953"
             ],
             [
              0.7777777777777778,
              "#fb9f3a"
             ],
             [
              0.8888888888888888,
              "#fdca26"
             ],
             [
              1,
              "#f0f921"
             ]
            ],
            "type": "surface"
           }
          ],
          "table": [
           {
            "cells": {
             "fill": {
              "color": "#EBF0F8"
             },
             "line": {
              "color": "white"
             }
            },
            "header": {
             "fill": {
              "color": "#C8D4E3"
             },
             "line": {
              "color": "white"
             }
            },
            "type": "table"
           }
          ]
         },
         "layout": {
          "annotationdefaults": {
           "arrowcolor": "#2a3f5f",
           "arrowhead": 0,
           "arrowwidth": 1
          },
          "autotypenumbers": "strict",
          "coloraxis": {
           "colorbar": {
            "outlinewidth": 0,
            "ticks": ""
           }
          },
          "colorscale": {
           "diverging": [
            [
             0,
             "#8e0152"
            ],
            [
             0.1,
             "#c51b7d"
            ],
            [
             0.2,
             "#de77ae"
            ],
            [
             0.3,
             "#f1b6da"
            ],
            [
             0.4,
             "#fde0ef"
            ],
            [
             0.5,
             "#f7f7f7"
            ],
            [
             0.6,
             "#e6f5d0"
            ],
            [
             0.7,
             "#b8e186"
            ],
            [
             0.8,
             "#7fbc41"
            ],
            [
             0.9,
             "#4d9221"
            ],
            [
             1,
             "#276419"
            ]
           ],
           "sequential": [
            [
             0,
             "#0d0887"
            ],
            [
             0.1111111111111111,
             "#46039f"
            ],
            [
             0.2222222222222222,
             "#7201a8"
            ],
            [
             0.3333333333333333,
             "#9c179e"
            ],
            [
             0.4444444444444444,
             "#bd3786"
            ],
            [
             0.5555555555555556,
             "#d8576b"
            ],
            [
             0.6666666666666666,
             "#ed7953"
            ],
            [
             0.7777777777777778,
             "#fb9f3a"
            ],
            [
             0.8888888888888888,
             "#fdca26"
            ],
            [
             1,
             "#f0f921"
            ]
           ],
           "sequentialminus": [
            [
             0,
             "#0d0887"
            ],
            [
             0.1111111111111111,
             "#46039f"
            ],
            [
             0.2222222222222222,
             "#7201a8"
            ],
            [
             0.3333333333333333,
             "#9c179e"
            ],
            [
             0.4444444444444444,
             "#bd3786"
            ],
            [
             0.5555555555555556,
             "#d8576b"
            ],
            [
             0.6666666666666666,
             "#ed7953"
            ],
            [
             0.7777777777777778,
             "#fb9f3a"
            ],
            [
             0.8888888888888888,
             "#fdca26"
            ],
            [
             1,
             "#f0f921"
            ]
           ]
          },
          "colorway": [
           "#636efa",
           "#EF553B",
           "#00cc96",
           "#ab63fa",
           "#FFA15A",
           "#19d3f3",
           "#FF6692",
           "#B6E880",
           "#FF97FF",
           "#FECB52"
          ],
          "font": {
           "color": "#2a3f5f"
          },
          "geo": {
           "bgcolor": "white",
           "lakecolor": "white",
           "landcolor": "#E5ECF6",
           "showlakes": true,
           "showland": true,
           "subunitcolor": "white"
          },
          "hoverlabel": {
           "align": "left"
          },
          "hovermode": "closest",
          "mapbox": {
           "style": "light"
          },
          "paper_bgcolor": "white",
          "plot_bgcolor": "#E5ECF6",
          "polar": {
           "angularaxis": {
            "gridcolor": "white",
            "linecolor": "white",
            "ticks": ""
           },
           "bgcolor": "#E5ECF6",
           "radialaxis": {
            "gridcolor": "white",
            "linecolor": "white",
            "ticks": ""
           }
          },
          "scene": {
           "xaxis": {
            "backgroundcolor": "#E5ECF6",
            "gridcolor": "white",
            "gridwidth": 2,
            "linecolor": "white",
            "showbackground": true,
            "ticks": "",
            "zerolinecolor": "white"
           },
           "yaxis": {
            "backgroundcolor": "#E5ECF6",
            "gridcolor": "white",
            "gridwidth": 2,
            "linecolor": "white",
            "showbackground": true,
            "ticks": "",
            "zerolinecolor": "white"
           },
           "zaxis": {
            "backgroundcolor": "#E5ECF6",
            "gridcolor": "white",
            "gridwidth": 2,
            "linecolor": "white",
            "showbackground": true,
            "ticks": "",
            "zerolinecolor": "white"
           }
          },
          "shapedefaults": {
           "line": {
            "color": "#2a3f5f"
           }
          },
          "ternary": {
           "aaxis": {
            "gridcolor": "white",
            "linecolor": "white",
            "ticks": ""
           },
           "baxis": {
            "gridcolor": "white",
            "linecolor": "white",
            "ticks": ""
           },
           "bgcolor": "#E5ECF6",
           "caxis": {
            "gridcolor": "white",
            "linecolor": "white",
            "ticks": ""
           }
          },
          "title": {
           "x": 0.05
          },
          "xaxis": {
           "automargin": true,
           "gridcolor": "white",
           "linecolor": "white",
           "ticks": "",
           "title": {
            "standoff": 15
           },
           "zerolinecolor": "white",
           "zerolinewidth": 2
          },
          "yaxis": {
           "automargin": true,
           "gridcolor": "white",
           "linecolor": "white",
           "ticks": "",
           "title": {
            "standoff": 15
           },
           "zerolinecolor": "white",
           "zerolinewidth": 2
          }
         }
        },
        "title": {
         "font": {
          "color": "#4D5663"
         }
        },
        "xaxis": {
         "gridcolor": "#E1E5ED",
         "showgrid": true,
         "tickfont": {
          "color": "#4D5663"
         },
         "title": {
          "font": {
           "color": "#4D5663"
          },
          "text": ""
         },
         "zerolinecolor": "#E1E5ED"
        },
        "yaxis": {
         "gridcolor": "#E1E5ED",
         "showgrid": true,
         "tickfont": {
          "color": "#4D5663"
         },
         "title": {
          "font": {
           "color": "#4D5663"
          },
          "text": ""
         },
         "zerolinecolor": "#E1E5ED"
        }
       }
      },
      "text/html": [
       "<div>                            <div id=\"75155974-dd5c-4955-8cd8-ecd38424574e\" class=\"plotly-graph-div\" style=\"height:525px; width:100%;\"></div>            <script type=\"text/javascript\">                require([\"plotly\"], function(Plotly) {                    window.PLOTLYENV=window.PLOTLYENV || {};\n",
       "                    window.PLOTLYENV.BASE_URL='https://plot.ly';                                    if (document.getElementById(\"75155974-dd5c-4955-8cd8-ecd38424574e\")) {                    Plotly.newPlot(                        \"75155974-dd5c-4955-8cd8-ecd38424574e\",                        [{\"histfunc\":\"count\",\"histnorm\":\"\",\"marker\":{\"color\":\"rgba(255, 153, 51, 1.0)\",\"line\":{\"color\":\"#4D5663\",\"width\":1.3}},\"name\":\"A\",\"nbinsx\":25,\"opacity\":0.8,\"orientation\":\"v\",\"x\":[0.7142777740002493,1.7199028467107027,-0.656803403254399,-0.37392620679314936,-0.31606590443921007,0.35505889405438235,0.30268661008777253,-0.20025345133011221,-0.7836855248050619,-0.8001492342950658,0.5139621668662798,0.6479247398677027,-0.7211676148282345,0.7194291364909836,-0.2163419153726224,-0.4804535209362682,-0.714837323622347,1.1990673445619522,0.32378499945067485,0.32720073545032413,-1.2416640093536817,-1.0964978401145988,-2.1451300195809617,-0.4095271017607454,-0.45316941062315785,-1.122925074551881,1.534771250157007,0.8082105077168469,0.2029478602650499,0.8792395730528462,1.6238072982147747,-1.689598035108892,0.7172442956307108,1.4796357413226466,0.10848653839183443,0.2651199463165854,-0.448360276786736,-0.8717512540566079,-1.673236517973046,0.15762999583840775,0.3231114754169684,-2.132193362543313,-1.9211723050134575,0.2923166142946065,1.0379779669930023,0.04206636875091591,-0.6015462970886982,-0.7081127368965313,-0.13272123239646805,2.289950608975294,-0.1742026494967424,0.59635132291716,0.991485617310549,-0.15785058610376146,0.15891339279876676,1.323390106354316,0.7895370254885591,0.3639551791777413,-2.55375949966317,-0.939382779591616,-0.8616920966398784,0.7238203508712924,2.0611264931219995,-1.0673993007785716,1.4850336351104063,-0.17536273373016378,-0.6586113604808225,1.0852382724029959,0.09988394766108045,0.26697145343793954,-0.508604167253295,-0.8952623555402414,-0.6681146819732109,0.1744415811250902,-0.09704809142761688,-0.3951710675259424,0.724433828075461,0.19331020672322452,1.31690463122668,-0.5019748382265561,0.21407155559326627,-1.2923542370415495,0.6016718634605939,-0.16503701845514213,1.5203243551375871,-0.6557452100418191,1.1703097186619138,0.4213445354585947,1.1003148707214743,0.1503838317476397,-0.9970229620212248,-0.10549357398256586,0.3859715646698864,0.08402541190919727,0.1854135916396423,-1.2952897277314197,-0.4213245059694718,0.7618730883422946,-0.23464880537146648,-1.7371251770094929],\"type\":\"histogram\"}],                        {\"barmode\":\"overlay\",\"legend\":{\"bgcolor\":\"#F5F6F9\",\"font\":{\"color\":\"#4D5663\"}},\"paper_bgcolor\":\"#F5F6F9\",\"plot_bgcolor\":\"#F5F6F9\",\"template\":{\"data\":{\"barpolar\":[{\"marker\":{\"line\":{\"color\":\"#E5ECF6\",\"width\":0.5},\"pattern\":{\"fillmode\":\"overlay\",\"size\":10,\"solidity\":0.2}},\"type\":\"barpolar\"}],\"bar\":[{\"error_x\":{\"color\":\"#2a3f5f\"},\"error_y\":{\"color\":\"#2a3f5f\"},\"marker\":{\"line\":{\"color\":\"#E5ECF6\",\"width\":0.5},\"pattern\":{\"fillmode\":\"overlay\",\"size\":10,\"solidity\":0.2}},\"type\":\"bar\"}],\"carpet\":[{\"aaxis\":{\"endlinecolor\":\"#2a3f5f\",\"gridcolor\":\"white\",\"linecolor\":\"white\",\"minorgridcolor\":\"white\",\"startlinecolor\":\"#2a3f5f\"},\"baxis\":{\"endlinecolor\":\"#2a3f5f\",\"gridcolor\":\"white\",\"linecolor\":\"white\",\"minorgridcolor\":\"white\",\"startlinecolor\":\"#2a3f5f\"},\"type\":\"carpet\"}],\"choropleth\":[{\"colorbar\":{\"outlinewidth\":0,\"ticks\":\"\"},\"type\":\"choropleth\"}],\"contourcarpet\":[{\"colorbar\":{\"outlinewidth\":0,\"ticks\":\"\"},\"type\":\"contourcarpet\"}],\"contour\":[{\"colorbar\":{\"outlinewidth\":0,\"ticks\":\"\"},\"colorscale\":[[0.0,\"#0d0887\"],[0.1111111111111111,\"#46039f\"],[0.2222222222222222,\"#7201a8\"],[0.3333333333333333,\"#9c179e\"],[0.4444444444444444,\"#bd3786\"],[0.5555555555555556,\"#d8576b\"],[0.6666666666666666,\"#ed7953\"],[0.7777777777777778,\"#fb9f3a\"],[0.8888888888888888,\"#fdca26\"],[1.0,\"#f0f921\"]],\"type\":\"contour\"}],\"heatmapgl\":[{\"colorbar\":{\"outlinewidth\":0,\"ticks\":\"\"},\"colorscale\":[[0.0,\"#0d0887\"],[0.1111111111111111,\"#46039f\"],[0.2222222222222222,\"#7201a8\"],[0.3333333333333333,\"#9c179e\"],[0.4444444444444444,\"#bd3786\"],[0.5555555555555556,\"#d8576b\"],[0.6666666666666666,\"#ed7953\"],[0.7777777777777778,\"#fb9f3a\"],[0.8888888888888888,\"#fdca26\"],[1.0,\"#f0f921\"]],\"type\":\"heatmapgl\"}],\"heatmap\":[{\"colorbar\":{\"outlinewidth\":0,\"ticks\":\"\"},\"colorscale\":[[0.0,\"#0d0887\"],[0.1111111111111111,\"#46039f\"],[0.2222222222222222,\"#7201a8\"],[0.3333333333333333,\"#9c179e\"],[0.4444444444444444,\"#bd3786\"],[0.5555555555555556,\"#d8576b\"],[0.6666666666666666,\"#ed7953\"],[0.7777777777777778,\"#fb9f3a\"],[0.8888888888888888,\"#fdca26\"],[1.0,\"#f0f921\"]],\"type\":\"heatmap\"}],\"histogram2dcontour\":[{\"colorbar\":{\"outlinewidth\":0,\"ticks\":\"\"},\"colorscale\":[[0.0,\"#0d0887\"],[0.1111111111111111,\"#46039f\"],[0.2222222222222222,\"#7201a8\"],[0.3333333333333333,\"#9c179e\"],[0.4444444444444444,\"#bd3786\"],[0.5555555555555556,\"#d8576b\"],[0.6666666666666666,\"#ed7953\"],[0.7777777777777778,\"#fb9f3a\"],[0.8888888888888888,\"#fdca26\"],[1.0,\"#f0f921\"]],\"type\":\"histogram2dcontour\"}],\"histogram2d\":[{\"colorbar\":{\"outlinewidth\":0,\"ticks\":\"\"},\"colorscale\":[[0.0,\"#0d0887\"],[0.1111111111111111,\"#46039f\"],[0.2222222222222222,\"#7201a8\"],[0.3333333333333333,\"#9c179e\"],[0.4444444444444444,\"#bd3786\"],[0.5555555555555556,\"#d8576b\"],[0.6666666666666666,\"#ed7953\"],[0.7777777777777778,\"#fb9f3a\"],[0.8888888888888888,\"#fdca26\"],[1.0,\"#f0f921\"]],\"type\":\"histogram2d\"}],\"histogram\":[{\"marker\":{\"pattern\":{\"fillmode\":\"overlay\",\"size\":10,\"solidity\":0.2}},\"type\":\"histogram\"}],\"mesh3d\":[{\"colorbar\":{\"outlinewidth\":0,\"ticks\":\"\"},\"type\":\"mesh3d\"}],\"parcoords\":[{\"line\":{\"colorbar\":{\"outlinewidth\":0,\"ticks\":\"\"}},\"type\":\"parcoords\"}],\"pie\":[{\"automargin\":true,\"type\":\"pie\"}],\"scatter3d\":[{\"line\":{\"colorbar\":{\"outlinewidth\":0,\"ticks\":\"\"}},\"marker\":{\"colorbar\":{\"outlinewidth\":0,\"ticks\":\"\"}},\"type\":\"scatter3d\"}],\"scattercarpet\":[{\"marker\":{\"colorbar\":{\"outlinewidth\":0,\"ticks\":\"\"}},\"type\":\"scattercarpet\"}],\"scattergeo\":[{\"marker\":{\"colorbar\":{\"outlinewidth\":0,\"ticks\":\"\"}},\"type\":\"scattergeo\"}],\"scattergl\":[{\"marker\":{\"colorbar\":{\"outlinewidth\":0,\"ticks\":\"\"}},\"type\":\"scattergl\"}],\"scattermapbox\":[{\"marker\":{\"colorbar\":{\"outlinewidth\":0,\"ticks\":\"\"}},\"type\":\"scattermapbox\"}],\"scatterpolargl\":[{\"marker\":{\"colorbar\":{\"outlinewidth\":0,\"ticks\":\"\"}},\"type\":\"scatterpolargl\"}],\"scatterpolar\":[{\"marker\":{\"colorbar\":{\"outlinewidth\":0,\"ticks\":\"\"}},\"type\":\"scatterpolar\"}],\"scatter\":[{\"fillpattern\":{\"fillmode\":\"overlay\",\"size\":10,\"solidity\":0.2},\"type\":\"scatter\"}],\"scatterternary\":[{\"marker\":{\"colorbar\":{\"outlinewidth\":0,\"ticks\":\"\"}},\"type\":\"scatterternary\"}],\"surface\":[{\"colorbar\":{\"outlinewidth\":0,\"ticks\":\"\"},\"colorscale\":[[0.0,\"#0d0887\"],[0.1111111111111111,\"#46039f\"],[0.2222222222222222,\"#7201a8\"],[0.3333333333333333,\"#9c179e\"],[0.4444444444444444,\"#bd3786\"],[0.5555555555555556,\"#d8576b\"],[0.6666666666666666,\"#ed7953\"],[0.7777777777777778,\"#fb9f3a\"],[0.8888888888888888,\"#fdca26\"],[1.0,\"#f0f921\"]],\"type\":\"surface\"}],\"table\":[{\"cells\":{\"fill\":{\"color\":\"#EBF0F8\"},\"line\":{\"color\":\"white\"}},\"header\":{\"fill\":{\"color\":\"#C8D4E3\"},\"line\":{\"color\":\"white\"}},\"type\":\"table\"}]},\"layout\":{\"annotationdefaults\":{\"arrowcolor\":\"#2a3f5f\",\"arrowhead\":0,\"arrowwidth\":1},\"autotypenumbers\":\"strict\",\"coloraxis\":{\"colorbar\":{\"outlinewidth\":0,\"ticks\":\"\"}},\"colorscale\":{\"diverging\":[[0,\"#8e0152\"],[0.1,\"#c51b7d\"],[0.2,\"#de77ae\"],[0.3,\"#f1b6da\"],[0.4,\"#fde0ef\"],[0.5,\"#f7f7f7\"],[0.6,\"#e6f5d0\"],[0.7,\"#b8e186\"],[0.8,\"#7fbc41\"],[0.9,\"#4d9221\"],[1,\"#276419\"]],\"sequential\":[[0.0,\"#0d0887\"],[0.1111111111111111,\"#46039f\"],[0.2222222222222222,\"#7201a8\"],[0.3333333333333333,\"#9c179e\"],[0.4444444444444444,\"#bd3786\"],[0.5555555555555556,\"#d8576b\"],[0.6666666666666666,\"#ed7953\"],[0.7777777777777778,\"#fb9f3a\"],[0.8888888888888888,\"#fdca26\"],[1.0,\"#f0f921\"]],\"sequentialminus\":[[0.0,\"#0d0887\"],[0.1111111111111111,\"#46039f\"],[0.2222222222222222,\"#7201a8\"],[0.3333333333333333,\"#9c179e\"],[0.4444444444444444,\"#bd3786\"],[0.5555555555555556,\"#d8576b\"],[0.6666666666666666,\"#ed7953\"],[0.7777777777777778,\"#fb9f3a\"],[0.8888888888888888,\"#fdca26\"],[1.0,\"#f0f921\"]]},\"colorway\":[\"#636efa\",\"#EF553B\",\"#00cc96\",\"#ab63fa\",\"#FFA15A\",\"#19d3f3\",\"#FF6692\",\"#B6E880\",\"#FF97FF\",\"#FECB52\"],\"font\":{\"color\":\"#2a3f5f\"},\"geo\":{\"bgcolor\":\"white\",\"lakecolor\":\"white\",\"landcolor\":\"#E5ECF6\",\"showlakes\":true,\"showland\":true,\"subunitcolor\":\"white\"},\"hoverlabel\":{\"align\":\"left\"},\"hovermode\":\"closest\",\"mapbox\":{\"style\":\"light\"},\"paper_bgcolor\":\"white\",\"plot_bgcolor\":\"#E5ECF6\",\"polar\":{\"angularaxis\":{\"gridcolor\":\"white\",\"linecolor\":\"white\",\"ticks\":\"\"},\"bgcolor\":\"#E5ECF6\",\"radialaxis\":{\"gridcolor\":\"white\",\"linecolor\":\"white\",\"ticks\":\"\"}},\"scene\":{\"xaxis\":{\"backgroundcolor\":\"#E5ECF6\",\"gridcolor\":\"white\",\"gridwidth\":2,\"linecolor\":\"white\",\"showbackground\":true,\"ticks\":\"\",\"zerolinecolor\":\"white\"},\"yaxis\":{\"backgroundcolor\":\"#E5ECF6\",\"gridcolor\":\"white\",\"gridwidth\":2,\"linecolor\":\"white\",\"showbackground\":true,\"ticks\":\"\",\"zerolinecolor\":\"white\"},\"zaxis\":{\"backgroundcolor\":\"#E5ECF6\",\"gridcolor\":\"white\",\"gridwidth\":2,\"linecolor\":\"white\",\"showbackground\":true,\"ticks\":\"\",\"zerolinecolor\":\"white\"}},\"shapedefaults\":{\"line\":{\"color\":\"#2a3f5f\"}},\"ternary\":{\"aaxis\":{\"gridcolor\":\"white\",\"linecolor\":\"white\",\"ticks\":\"\"},\"baxis\":{\"gridcolor\":\"white\",\"linecolor\":\"white\",\"ticks\":\"\"},\"bgcolor\":\"#E5ECF6\",\"caxis\":{\"gridcolor\":\"white\",\"linecolor\":\"white\",\"ticks\":\"\"}},\"title\":{\"x\":0.05},\"xaxis\":{\"automargin\":true,\"gridcolor\":\"white\",\"linecolor\":\"white\",\"ticks\":\"\",\"title\":{\"standoff\":15},\"zerolinecolor\":\"white\",\"zerolinewidth\":2},\"yaxis\":{\"automargin\":true,\"gridcolor\":\"white\",\"linecolor\":\"white\",\"ticks\":\"\",\"title\":{\"standoff\":15},\"zerolinecolor\":\"white\",\"zerolinewidth\":2}}},\"title\":{\"font\":{\"color\":\"#4D5663\"}},\"xaxis\":{\"gridcolor\":\"#E1E5ED\",\"showgrid\":true,\"tickfont\":{\"color\":\"#4D5663\"},\"title\":{\"font\":{\"color\":\"#4D5663\"},\"text\":\"\"},\"zerolinecolor\":\"#E1E5ED\"},\"yaxis\":{\"gridcolor\":\"#E1E5ED\",\"showgrid\":true,\"tickfont\":{\"color\":\"#4D5663\"},\"title\":{\"font\":{\"color\":\"#4D5663\"},\"text\":\"\"},\"zerolinecolor\":\"#E1E5ED\"}},                        {\"showLink\": true, \"linkText\": \"Export to plot.ly\", \"plotlyServerURL\": \"https://plot.ly\", \"responsive\": true}                    ).then(function(){\n",
       "                            \n",
       "var gd = document.getElementById('75155974-dd5c-4955-8cd8-ecd38424574e');\n",
       "var x = new MutationObserver(function (mutations, observer) {{\n",
       "        var display = window.getComputedStyle(gd).display;\n",
       "        if (!display || display === 'none') {{\n",
       "            console.log([gd, 'removed!']);\n",
       "            Plotly.purge(gd);\n",
       "            observer.disconnect();\n",
       "        }}\n",
       "}});\n",
       "\n",
       "// Listen for the removal of the full notebook cells\n",
       "var notebookContainer = gd.closest('#notebook-container');\n",
       "if (notebookContainer) {{\n",
       "    x.observe(notebookContainer, {childList: true});\n",
       "}}\n",
       "\n",
       "// Listen for the clearing of the current output cell\n",
       "var outputEl = gd.closest('.output');\n",
       "if (outputEl) {{\n",
       "    x.observe(outputEl, {childList: true});\n",
       "}}\n",
       "\n",
       "                        })                };                });            </script>        </div>"
      ]
     },
     "metadata": {},
     "output_type": "display_data"
    }
   ],
   "source": [
    "df['A'].iplot(kind='hist',bins=25)"
   ]
  },
  {
   "cell_type": "code",
   "execution_count": 17,
   "metadata": {},
   "outputs": [
    {
     "data": {
      "application/vnd.plotly.v1+json": {
       "config": {
        "linkText": "Export to plot.ly",
        "plotlyServerURL": "https://plot.ly",
        "showLink": true
       },
       "data": [
        {
         "marker": {
          "color": [
           "rgb(255, 153, 51)",
           "rgb(55, 128, 191)",
           "rgb(50, 171, 96)",
           "rgb(128, 0, 128)",
           "rgb(219, 64, 82)",
           "rgb(0, 128, 128)",
           "rgb(255, 255, 51)",
           "rgb(128, 128, 0)",
           "rgb(251, 128, 114)",
           "rgb(128, 177, 211)"
          ],
          "line": {
           "width": 1.3
          },
          "size": [
           34,
           76,
           54,
           80,
           35,
           69,
           38,
           36,
           78,
           41,
           49,
           12,
           29,
           62,
           35,
           56,
           69,
           31,
           42,
           78,
           66,
           56,
           37,
           49,
           50,
           50,
           43,
           56,
           40,
           24,
           54,
           43,
           60,
           40,
           93,
           28,
           50,
           41,
           55,
           55,
           55,
           69,
           67,
           67,
           72,
           68,
           20,
           40,
           62,
           36,
           15,
           28,
           43,
           93,
           51,
           51,
           61,
           50,
           66,
           45,
           39,
           49,
           59,
           32,
           38,
           53,
           23,
           37,
           81,
           50,
           35,
           112,
           51,
           50,
           54,
           27,
           77,
           56,
           37,
           70,
           48,
           61,
           78,
           62,
           51,
           50,
           50,
           56,
           48,
           39,
           38,
           46,
           14,
           47,
           35,
           70,
           34,
           55,
           38,
           74
          ],
          "symbol": "circle"
         },
         "mode": "markers",
         "text": "",
         "type": "scatter",
         "x": [
          0.7142777740002493,
          1.7199028467107027,
          -0.656803403254399,
          -0.37392620679314936,
          -0.31606590443921007,
          0.35505889405438235,
          0.30268661008777253,
          -0.20025345133011221,
          -0.7836855248050619,
          -0.8001492342950658,
          0.5139621668662798,
          0.6479247398677027,
          -0.7211676148282345,
          0.7194291364909836,
          -0.2163419153726224,
          -0.4804535209362682,
          -0.714837323622347,
          1.1990673445619522,
          0.32378499945067485,
          0.32720073545032413,
          -1.2416640093536817,
          -1.0964978401145988,
          -2.1451300195809617,
          -0.4095271017607454,
          -0.45316941062315785,
          -1.122925074551881,
          1.534771250157007,
          0.8082105077168469,
          0.2029478602650499,
          0.8792395730528462,
          1.6238072982147747,
          -1.689598035108892,
          0.7172442956307108,
          1.4796357413226466,
          0.10848653839183443,
          0.2651199463165854,
          -0.448360276786736,
          -0.8717512540566079,
          -1.673236517973046,
          0.15762999583840775,
          0.3231114754169684,
          -2.132193362543313,
          -1.9211723050134575,
          0.2923166142946065,
          1.0379779669930023,
          0.04206636875091591,
          -0.6015462970886982,
          -0.7081127368965313,
          -0.13272123239646805,
          2.289950608975294,
          -0.1742026494967424,
          0.59635132291716,
          0.991485617310549,
          -0.15785058610376146,
          0.15891339279876676,
          1.323390106354316,
          0.7895370254885591,
          0.3639551791777413,
          -2.55375949966317,
          -0.939382779591616,
          -0.8616920966398784,
          0.7238203508712924,
          2.0611264931219995,
          -1.0673993007785716,
          1.4850336351104063,
          -0.17536273373016378,
          -0.6586113604808225,
          1.0852382724029959,
          0.09988394766108045,
          0.26697145343793954,
          -0.508604167253295,
          -0.8952623555402414,
          -0.6681146819732109,
          0.1744415811250902,
          -0.09704809142761688,
          -0.3951710675259424,
          0.724433828075461,
          0.19331020672322452,
          1.31690463122668,
          -0.5019748382265561,
          0.21407155559326627,
          -1.2923542370415495,
          0.6016718634605939,
          -0.16503701845514213,
          1.5203243551375871,
          -0.6557452100418191,
          1.1703097186619138,
          0.4213445354585947,
          1.1003148707214743,
          0.1503838317476397,
          -0.9970229620212248,
          -0.10549357398256586,
          0.3859715646698864,
          0.08402541190919727,
          0.1854135916396423,
          -1.2952897277314197,
          -0.4213245059694718,
          0.7618730883422946,
          -0.23464880537146648,
          -1.7371251770094929
         ],
         "y": [
          0.02113025316214141,
          -2.4679781393279625,
          0.483335436464977,
          0.23343275183544257,
          -0.013530670263819523,
          -0.25274605724693644,
          0.3473353391647001,
          0.05850946264135038,
          -0.33167398556150796,
          -0.5826505647985586,
          -0.5849294552086969,
          -0.31954105313749986,
          1.1986692559184746,
          0.5966633134733866,
          0.6735564992413137,
          -0.9235167788445138,
          -0.6352924694076183,
          1.9740394707525353,
          1.121083702891913,
          -1.4310412193140811,
          0.05236734426799687,
          1.1564237708409333,
          -0.862590797069598,
          0.9883197350285711,
          1.2405829125319803,
          -1.0349746567626237,
          1.1142415536603365,
          -0.510931014535598,
          0.33929255036864875,
          -1.7086447062048555,
          0.1623300555860231,
          -0.7894296447142766,
          0.27146494353613027,
          -0.9233581078784034,
          0.9239563585106843,
          1.240190084937,
          -0.24909041604582954,
          0.46770430331130614,
          1.087508384368392,
          0.7268497068857239,
          -1.9801224820571879,
          -0.3970011783608756,
          -0.8788799454353752,
          0.5246463683079379,
          -1.2308441568728488,
          1.1572020049571972,
          -1.9034609401747042,
          -0.044874475896686826,
          0.5636849694689087,
          -1.2124159074387677,
          1.528049782679351,
          1.2094085465743554,
          -0.6850443070661522,
          -0.9845636294532993,
          -0.9884039790626893,
          -0.262251577330043,
          1.9418229652153194,
          2.0214228285512976,
          -0.0966652922560624,
          -0.10214164808690887,
          0.06395063021477436,
          0.3820445412170909,
          0.2864661093929553,
          0.8494860488516242,
          -0.735311071083744,
          0.22491638213831677,
          -1.5771082822829272,
          0.34539482297280133,
          -0.403319262277709,
          -0.36892593978662797,
          -0.5724218689783241,
          -0.7071986529983127,
          0.4349982418571607,
          1.351847447933669,
          1.6166636282389513,
          0.10911788388401762,
          -2.2510302223138137,
          -0.6388474141987549,
          -0.7170590400106103,
          -0.3771644409300306,
          0.6891544594565927,
          -0.7584405091564508,
          0.6514487791821924,
          0.10571500752184819,
          -1.56410209229144,
          -0.661226422718267,
          0.6375051523459719,
          1.0505603467091036,
          -0.2043218769687843,
          0.18733893178586658,
          1.0311879603876744,
          0.6931802933281493,
          0.3879960879915357,
          -0.5919503305272049,
          0.02626106472165012,
          -0.5409760417361436,
          -0.10754065770234249,
          0.13368455578919725,
          0.47896581167577396,
          -0.11524343282222889
         ]
        }
       ],
       "layout": {
        "legend": {
         "bgcolor": "#F5F6F9",
         "font": {
          "color": "#4D5663"
         }
        },
        "paper_bgcolor": "#F5F6F9",
        "plot_bgcolor": "#F5F6F9",
        "template": {
         "data": {
          "bar": [
           {
            "error_x": {
             "color": "#2a3f5f"
            },
            "error_y": {
             "color": "#2a3f5f"
            },
            "marker": {
             "line": {
              "color": "#E5ECF6",
              "width": 0.5
             },
             "pattern": {
              "fillmode": "overlay",
              "size": 10,
              "solidity": 0.2
             }
            },
            "type": "bar"
           }
          ],
          "barpolar": [
           {
            "marker": {
             "line": {
              "color": "#E5ECF6",
              "width": 0.5
             },
             "pattern": {
              "fillmode": "overlay",
              "size": 10,
              "solidity": 0.2
             }
            },
            "type": "barpolar"
           }
          ],
          "carpet": [
           {
            "aaxis": {
             "endlinecolor": "#2a3f5f",
             "gridcolor": "white",
             "linecolor": "white",
             "minorgridcolor": "white",
             "startlinecolor": "#2a3f5f"
            },
            "baxis": {
             "endlinecolor": "#2a3f5f",
             "gridcolor": "white",
             "linecolor": "white",
             "minorgridcolor": "white",
             "startlinecolor": "#2a3f5f"
            },
            "type": "carpet"
           }
          ],
          "choropleth": [
           {
            "colorbar": {
             "outlinewidth": 0,
             "ticks": ""
            },
            "type": "choropleth"
           }
          ],
          "contour": [
           {
            "colorbar": {
             "outlinewidth": 0,
             "ticks": ""
            },
            "colorscale": [
             [
              0,
              "#0d0887"
             ],
             [
              0.1111111111111111,
              "#46039f"
             ],
             [
              0.2222222222222222,
              "#7201a8"
             ],
             [
              0.3333333333333333,
              "#9c179e"
             ],
             [
              0.4444444444444444,
              "#bd3786"
             ],
             [
              0.5555555555555556,
              "#d8576b"
             ],
             [
              0.6666666666666666,
              "#ed7953"
             ],
             [
              0.7777777777777778,
              "#fb9f3a"
             ],
             [
              0.8888888888888888,
              "#fdca26"
             ],
             [
              1,
              "#f0f921"
             ]
            ],
            "type": "contour"
           }
          ],
          "contourcarpet": [
           {
            "colorbar": {
             "outlinewidth": 0,
             "ticks": ""
            },
            "type": "contourcarpet"
           }
          ],
          "heatmap": [
           {
            "colorbar": {
             "outlinewidth": 0,
             "ticks": ""
            },
            "colorscale": [
             [
              0,
              "#0d0887"
             ],
             [
              0.1111111111111111,
              "#46039f"
             ],
             [
              0.2222222222222222,
              "#7201a8"
             ],
             [
              0.3333333333333333,
              "#9c179e"
             ],
             [
              0.4444444444444444,
              "#bd3786"
             ],
             [
              0.5555555555555556,
              "#d8576b"
             ],
             [
              0.6666666666666666,
              "#ed7953"
             ],
             [
              0.7777777777777778,
              "#fb9f3a"
             ],
             [
              0.8888888888888888,
              "#fdca26"
             ],
             [
              1,
              "#f0f921"
             ]
            ],
            "type": "heatmap"
           }
          ],
          "heatmapgl": [
           {
            "colorbar": {
             "outlinewidth": 0,
             "ticks": ""
            },
            "colorscale": [
             [
              0,
              "#0d0887"
             ],
             [
              0.1111111111111111,
              "#46039f"
             ],
             [
              0.2222222222222222,
              "#7201a8"
             ],
             [
              0.3333333333333333,
              "#9c179e"
             ],
             [
              0.4444444444444444,
              "#bd3786"
             ],
             [
              0.5555555555555556,
              "#d8576b"
             ],
             [
              0.6666666666666666,
              "#ed7953"
             ],
             [
              0.7777777777777778,
              "#fb9f3a"
             ],
             [
              0.8888888888888888,
              "#fdca26"
             ],
             [
              1,
              "#f0f921"
             ]
            ],
            "type": "heatmapgl"
           }
          ],
          "histogram": [
           {
            "marker": {
             "pattern": {
              "fillmode": "overlay",
              "size": 10,
              "solidity": 0.2
             }
            },
            "type": "histogram"
           }
          ],
          "histogram2d": [
           {
            "colorbar": {
             "outlinewidth": 0,
             "ticks": ""
            },
            "colorscale": [
             [
              0,
              "#0d0887"
             ],
             [
              0.1111111111111111,
              "#46039f"
             ],
             [
              0.2222222222222222,
              "#7201a8"
             ],
             [
              0.3333333333333333,
              "#9c179e"
             ],
             [
              0.4444444444444444,
              "#bd3786"
             ],
             [
              0.5555555555555556,
              "#d8576b"
             ],
             [
              0.6666666666666666,
              "#ed7953"
             ],
             [
              0.7777777777777778,
              "#fb9f3a"
             ],
             [
              0.8888888888888888,
              "#fdca26"
             ],
             [
              1,
              "#f0f921"
             ]
            ],
            "type": "histogram2d"
           }
          ],
          "histogram2dcontour": [
           {
            "colorbar": {
             "outlinewidth": 0,
             "ticks": ""
            },
            "colorscale": [
             [
              0,
              "#0d0887"
             ],
             [
              0.1111111111111111,
              "#46039f"
             ],
             [
              0.2222222222222222,
              "#7201a8"
             ],
             [
              0.3333333333333333,
              "#9c179e"
             ],
             [
              0.4444444444444444,
              "#bd3786"
             ],
             [
              0.5555555555555556,
              "#d8576b"
             ],
             [
              0.6666666666666666,
              "#ed7953"
             ],
             [
              0.7777777777777778,
              "#fb9f3a"
             ],
             [
              0.8888888888888888,
              "#fdca26"
             ],
             [
              1,
              "#f0f921"
             ]
            ],
            "type": "histogram2dcontour"
           }
          ],
          "mesh3d": [
           {
            "colorbar": {
             "outlinewidth": 0,
             "ticks": ""
            },
            "type": "mesh3d"
           }
          ],
          "parcoords": [
           {
            "line": {
             "colorbar": {
              "outlinewidth": 0,
              "ticks": ""
             }
            },
            "type": "parcoords"
           }
          ],
          "pie": [
           {
            "automargin": true,
            "type": "pie"
           }
          ],
          "scatter": [
           {
            "fillpattern": {
             "fillmode": "overlay",
             "size": 10,
             "solidity": 0.2
            },
            "type": "scatter"
           }
          ],
          "scatter3d": [
           {
            "line": {
             "colorbar": {
              "outlinewidth": 0,
              "ticks": ""
             }
            },
            "marker": {
             "colorbar": {
              "outlinewidth": 0,
              "ticks": ""
             }
            },
            "type": "scatter3d"
           }
          ],
          "scattercarpet": [
           {
            "marker": {
             "colorbar": {
              "outlinewidth": 0,
              "ticks": ""
             }
            },
            "type": "scattercarpet"
           }
          ],
          "scattergeo": [
           {
            "marker": {
             "colorbar": {
              "outlinewidth": 0,
              "ticks": ""
             }
            },
            "type": "scattergeo"
           }
          ],
          "scattergl": [
           {
            "marker": {
             "colorbar": {
              "outlinewidth": 0,
              "ticks": ""
             }
            },
            "type": "scattergl"
           }
          ],
          "scattermapbox": [
           {
            "marker": {
             "colorbar": {
              "outlinewidth": 0,
              "ticks": ""
             }
            },
            "type": "scattermapbox"
           }
          ],
          "scatterpolar": [
           {
            "marker": {
             "colorbar": {
              "outlinewidth": 0,
              "ticks": ""
             }
            },
            "type": "scatterpolar"
           }
          ],
          "scatterpolargl": [
           {
            "marker": {
             "colorbar": {
              "outlinewidth": 0,
              "ticks": ""
             }
            },
            "type": "scatterpolargl"
           }
          ],
          "scatterternary": [
           {
            "marker": {
             "colorbar": {
              "outlinewidth": 0,
              "ticks": ""
             }
            },
            "type": "scatterternary"
           }
          ],
          "surface": [
           {
            "colorbar": {
             "outlinewidth": 0,
             "ticks": ""
            },
            "colorscale": [
             [
              0,
              "#0d0887"
             ],
             [
              0.1111111111111111,
              "#46039f"
             ],
             [
              0.2222222222222222,
              "#7201a8"
             ],
             [
              0.3333333333333333,
              "#9c179e"
             ],
             [
              0.4444444444444444,
              "#bd3786"
             ],
             [
              0.5555555555555556,
              "#d8576b"
             ],
             [
              0.6666666666666666,
              "#ed7953"
             ],
             [
              0.7777777777777778,
              "#fb9f3a"
             ],
             [
              0.8888888888888888,
              "#fdca26"
             ],
             [
              1,
              "#f0f921"
             ]
            ],
            "type": "surface"
           }
          ],
          "table": [
           {
            "cells": {
             "fill": {
              "color": "#EBF0F8"
             },
             "line": {
              "color": "white"
             }
            },
            "header": {
             "fill": {
              "color": "#C8D4E3"
             },
             "line": {
              "color": "white"
             }
            },
            "type": "table"
           }
          ]
         },
         "layout": {
          "annotationdefaults": {
           "arrowcolor": "#2a3f5f",
           "arrowhead": 0,
           "arrowwidth": 1
          },
          "autotypenumbers": "strict",
          "coloraxis": {
           "colorbar": {
            "outlinewidth": 0,
            "ticks": ""
           }
          },
          "colorscale": {
           "diverging": [
            [
             0,
             "#8e0152"
            ],
            [
             0.1,
             "#c51b7d"
            ],
            [
             0.2,
             "#de77ae"
            ],
            [
             0.3,
             "#f1b6da"
            ],
            [
             0.4,
             "#fde0ef"
            ],
            [
             0.5,
             "#f7f7f7"
            ],
            [
             0.6,
             "#e6f5d0"
            ],
            [
             0.7,
             "#b8e186"
            ],
            [
             0.8,
             "#7fbc41"
            ],
            [
             0.9,
             "#4d9221"
            ],
            [
             1,
             "#276419"
            ]
           ],
           "sequential": [
            [
             0,
             "#0d0887"
            ],
            [
             0.1111111111111111,
             "#46039f"
            ],
            [
             0.2222222222222222,
             "#7201a8"
            ],
            [
             0.3333333333333333,
             "#9c179e"
            ],
            [
             0.4444444444444444,
             "#bd3786"
            ],
            [
             0.5555555555555556,
             "#d8576b"
            ],
            [
             0.6666666666666666,
             "#ed7953"
            ],
            [
             0.7777777777777778,
             "#fb9f3a"
            ],
            [
             0.8888888888888888,
             "#fdca26"
            ],
            [
             1,
             "#f0f921"
            ]
           ],
           "sequentialminus": [
            [
             0,
             "#0d0887"
            ],
            [
             0.1111111111111111,
             "#46039f"
            ],
            [
             0.2222222222222222,
             "#7201a8"
            ],
            [
             0.3333333333333333,
             "#9c179e"
            ],
            [
             0.4444444444444444,
             "#bd3786"
            ],
            [
             0.5555555555555556,
             "#d8576b"
            ],
            [
             0.6666666666666666,
             "#ed7953"
            ],
            [
             0.7777777777777778,
             "#fb9f3a"
            ],
            [
             0.8888888888888888,
             "#fdca26"
            ],
            [
             1,
             "#f0f921"
            ]
           ]
          },
          "colorway": [
           "#636efa",
           "#EF553B",
           "#00cc96",
           "#ab63fa",
           "#FFA15A",
           "#19d3f3",
           "#FF6692",
           "#B6E880",
           "#FF97FF",
           "#FECB52"
          ],
          "font": {
           "color": "#2a3f5f"
          },
          "geo": {
           "bgcolor": "white",
           "lakecolor": "white",
           "landcolor": "#E5ECF6",
           "showlakes": true,
           "showland": true,
           "subunitcolor": "white"
          },
          "hoverlabel": {
           "align": "left"
          },
          "hovermode": "closest",
          "mapbox": {
           "style": "light"
          },
          "paper_bgcolor": "white",
          "plot_bgcolor": "#E5ECF6",
          "polar": {
           "angularaxis": {
            "gridcolor": "white",
            "linecolor": "white",
            "ticks": ""
           },
           "bgcolor": "#E5ECF6",
           "radialaxis": {
            "gridcolor": "white",
            "linecolor": "white",
            "ticks": ""
           }
          },
          "scene": {
           "xaxis": {
            "backgroundcolor": "#E5ECF6",
            "gridcolor": "white",
            "gridwidth": 2,
            "linecolor": "white",
            "showbackground": true,
            "ticks": "",
            "zerolinecolor": "white"
           },
           "yaxis": {
            "backgroundcolor": "#E5ECF6",
            "gridcolor": "white",
            "gridwidth": 2,
            "linecolor": "white",
            "showbackground": true,
            "ticks": "",
            "zerolinecolor": "white"
           },
           "zaxis": {
            "backgroundcolor": "#E5ECF6",
            "gridcolor": "white",
            "gridwidth": 2,
            "linecolor": "white",
            "showbackground": true,
            "ticks": "",
            "zerolinecolor": "white"
           }
          },
          "shapedefaults": {
           "line": {
            "color": "#2a3f5f"
           }
          },
          "ternary": {
           "aaxis": {
            "gridcolor": "white",
            "linecolor": "white",
            "ticks": ""
           },
           "baxis": {
            "gridcolor": "white",
            "linecolor": "white",
            "ticks": ""
           },
           "bgcolor": "#E5ECF6",
           "caxis": {
            "gridcolor": "white",
            "linecolor": "white",
            "ticks": ""
           }
          },
          "title": {
           "x": 0.05
          },
          "xaxis": {
           "automargin": true,
           "gridcolor": "white",
           "linecolor": "white",
           "ticks": "",
           "title": {
            "standoff": 15
           },
           "zerolinecolor": "white",
           "zerolinewidth": 2
          },
          "yaxis": {
           "automargin": true,
           "gridcolor": "white",
           "linecolor": "white",
           "ticks": "",
           "title": {
            "standoff": 15
           },
           "zerolinecolor": "white",
           "zerolinewidth": 2
          }
         }
        },
        "title": {
         "font": {
          "color": "#4D5663"
         }
        },
        "xaxis": {
         "gridcolor": "#E1E5ED",
         "showgrid": true,
         "tickfont": {
          "color": "#4D5663"
         },
         "title": {
          "font": {
           "color": "#4D5663"
          },
          "text": ""
         },
         "zerolinecolor": "#E1E5ED"
        },
        "yaxis": {
         "gridcolor": "#E1E5ED",
         "showgrid": true,
         "tickfont": {
          "color": "#4D5663"
         },
         "title": {
          "font": {
           "color": "#4D5663"
          },
          "text": ""
         },
         "zerolinecolor": "#E1E5ED"
        }
       }
      },
      "text/html": [
       "<div>                            <div id=\"b2de43b7-e53a-4e18-bdbd-47c78866d423\" class=\"plotly-graph-div\" style=\"height:525px; width:100%;\"></div>            <script type=\"text/javascript\">                require([\"plotly\"], function(Plotly) {                    window.PLOTLYENV=window.PLOTLYENV || {};\n",
       "                    window.PLOTLYENV.BASE_URL='https://plot.ly';                                    if (document.getElementById(\"b2de43b7-e53a-4e18-bdbd-47c78866d423\")) {                    Plotly.newPlot(                        \"b2de43b7-e53a-4e18-bdbd-47c78866d423\",                        [{\"marker\":{\"color\":[\"rgb(255, 153, 51)\",\"rgb(55, 128, 191)\",\"rgb(50, 171, 96)\",\"rgb(128, 0, 128)\",\"rgb(219, 64, 82)\",\"rgb(0, 128, 128)\",\"rgb(255, 255, 51)\",\"rgb(128, 128, 0)\",\"rgb(251, 128, 114)\",\"rgb(128, 177, 211)\"],\"line\":{\"width\":1.3},\"size\":[34,76,54,80,35,69,38,36,78,41,49,12,29,62,35,56,69,31,42,78,66,56,37,49,50,50,43,56,40,24,54,43,60,40,93,28,50,41,55,55,55,69,67,67,72,68,20,40,62,36,15,28,43,93,51,51,61,50,66,45,39,49,59,32,38,53,23,37,81,50,35,112,51,50,54,27,77,56,37,70,48,61,78,62,51,50,50,56,48,39,38,46,14,47,35,70,34,55,38,74],\"symbol\":\"circle\"},\"mode\":\"markers\",\"text\":\"\",\"x\":[0.7142777740002493,1.7199028467107027,-0.656803403254399,-0.37392620679314936,-0.31606590443921007,0.35505889405438235,0.30268661008777253,-0.20025345133011221,-0.7836855248050619,-0.8001492342950658,0.5139621668662798,0.6479247398677027,-0.7211676148282345,0.7194291364909836,-0.2163419153726224,-0.4804535209362682,-0.714837323622347,1.1990673445619522,0.32378499945067485,0.32720073545032413,-1.2416640093536817,-1.0964978401145988,-2.1451300195809617,-0.4095271017607454,-0.45316941062315785,-1.122925074551881,1.534771250157007,0.8082105077168469,0.2029478602650499,0.8792395730528462,1.6238072982147747,-1.689598035108892,0.7172442956307108,1.4796357413226466,0.10848653839183443,0.2651199463165854,-0.448360276786736,-0.8717512540566079,-1.673236517973046,0.15762999583840775,0.3231114754169684,-2.132193362543313,-1.9211723050134575,0.2923166142946065,1.0379779669930023,0.04206636875091591,-0.6015462970886982,-0.7081127368965313,-0.13272123239646805,2.289950608975294,-0.1742026494967424,0.59635132291716,0.991485617310549,-0.15785058610376146,0.15891339279876676,1.323390106354316,0.7895370254885591,0.3639551791777413,-2.55375949966317,-0.939382779591616,-0.8616920966398784,0.7238203508712924,2.0611264931219995,-1.0673993007785716,1.4850336351104063,-0.17536273373016378,-0.6586113604808225,1.0852382724029959,0.09988394766108045,0.26697145343793954,-0.508604167253295,-0.8952623555402414,-0.6681146819732109,0.1744415811250902,-0.09704809142761688,-0.3951710675259424,0.724433828075461,0.19331020672322452,1.31690463122668,-0.5019748382265561,0.21407155559326627,-1.2923542370415495,0.6016718634605939,-0.16503701845514213,1.5203243551375871,-0.6557452100418191,1.1703097186619138,0.4213445354585947,1.1003148707214743,0.1503838317476397,-0.9970229620212248,-0.10549357398256586,0.3859715646698864,0.08402541190919727,0.1854135916396423,-1.2952897277314197,-0.4213245059694718,0.7618730883422946,-0.23464880537146648,-1.7371251770094929],\"y\":[0.02113025316214141,-2.4679781393279625,0.483335436464977,0.23343275183544257,-0.013530670263819523,-0.25274605724693644,0.3473353391647001,0.05850946264135038,-0.33167398556150796,-0.5826505647985586,-0.5849294552086969,-0.31954105313749986,1.1986692559184746,0.5966633134733866,0.6735564992413137,-0.9235167788445138,-0.6352924694076183,1.9740394707525353,1.121083702891913,-1.4310412193140811,0.05236734426799687,1.1564237708409333,-0.862590797069598,0.9883197350285711,1.2405829125319803,-1.0349746567626237,1.1142415536603365,-0.510931014535598,0.33929255036864875,-1.7086447062048555,0.1623300555860231,-0.7894296447142766,0.27146494353613027,-0.9233581078784034,0.9239563585106843,1.240190084937,-0.24909041604582954,0.46770430331130614,1.087508384368392,0.7268497068857239,-1.9801224820571879,-0.3970011783608756,-0.8788799454353752,0.5246463683079379,-1.2308441568728488,1.1572020049571972,-1.9034609401747042,-0.044874475896686826,0.5636849694689087,-1.2124159074387677,1.528049782679351,1.2094085465743554,-0.6850443070661522,-0.9845636294532993,-0.9884039790626893,-0.262251577330043,1.9418229652153194,2.0214228285512976,-0.0966652922560624,-0.10214164808690887,0.06395063021477436,0.3820445412170909,0.2864661093929553,0.8494860488516242,-0.735311071083744,0.22491638213831677,-1.5771082822829272,0.34539482297280133,-0.403319262277709,-0.36892593978662797,-0.5724218689783241,-0.7071986529983127,0.4349982418571607,1.351847447933669,1.6166636282389513,0.10911788388401762,-2.2510302223138137,-0.6388474141987549,-0.7170590400106103,-0.3771644409300306,0.6891544594565927,-0.7584405091564508,0.6514487791821924,0.10571500752184819,-1.56410209229144,-0.661226422718267,0.6375051523459719,1.0505603467091036,-0.2043218769687843,0.18733893178586658,1.0311879603876744,0.6931802933281493,0.3879960879915357,-0.5919503305272049,0.02626106472165012,-0.5409760417361436,-0.10754065770234249,0.13368455578919725,0.47896581167577396,-0.11524343282222889],\"type\":\"scatter\"}],                        {\"legend\":{\"bgcolor\":\"#F5F6F9\",\"font\":{\"color\":\"#4D5663\"}},\"paper_bgcolor\":\"#F5F6F9\",\"plot_bgcolor\":\"#F5F6F9\",\"template\":{\"data\":{\"barpolar\":[{\"marker\":{\"line\":{\"color\":\"#E5ECF6\",\"width\":0.5},\"pattern\":{\"fillmode\":\"overlay\",\"size\":10,\"solidity\":0.2}},\"type\":\"barpolar\"}],\"bar\":[{\"error_x\":{\"color\":\"#2a3f5f\"},\"error_y\":{\"color\":\"#2a3f5f\"},\"marker\":{\"line\":{\"color\":\"#E5ECF6\",\"width\":0.5},\"pattern\":{\"fillmode\":\"overlay\",\"size\":10,\"solidity\":0.2}},\"type\":\"bar\"}],\"carpet\":[{\"aaxis\":{\"endlinecolor\":\"#2a3f5f\",\"gridcolor\":\"white\",\"linecolor\":\"white\",\"minorgridcolor\":\"white\",\"startlinecolor\":\"#2a3f5f\"},\"baxis\":{\"endlinecolor\":\"#2a3f5f\",\"gridcolor\":\"white\",\"linecolor\":\"white\",\"minorgridcolor\":\"white\",\"startlinecolor\":\"#2a3f5f\"},\"type\":\"carpet\"}],\"choropleth\":[{\"colorbar\":{\"outlinewidth\":0,\"ticks\":\"\"},\"type\":\"choropleth\"}],\"contourcarpet\":[{\"colorbar\":{\"outlinewidth\":0,\"ticks\":\"\"},\"type\":\"contourcarpet\"}],\"contour\":[{\"colorbar\":{\"outlinewidth\":0,\"ticks\":\"\"},\"colorscale\":[[0.0,\"#0d0887\"],[0.1111111111111111,\"#46039f\"],[0.2222222222222222,\"#7201a8\"],[0.3333333333333333,\"#9c179e\"],[0.4444444444444444,\"#bd3786\"],[0.5555555555555556,\"#d8576b\"],[0.6666666666666666,\"#ed7953\"],[0.7777777777777778,\"#fb9f3a\"],[0.8888888888888888,\"#fdca26\"],[1.0,\"#f0f921\"]],\"type\":\"contour\"}],\"heatmapgl\":[{\"colorbar\":{\"outlinewidth\":0,\"ticks\":\"\"},\"colorscale\":[[0.0,\"#0d0887\"],[0.1111111111111111,\"#46039f\"],[0.2222222222222222,\"#7201a8\"],[0.3333333333333333,\"#9c179e\"],[0.4444444444444444,\"#bd3786\"],[0.5555555555555556,\"#d8576b\"],[0.6666666666666666,\"#ed7953\"],[0.7777777777777778,\"#fb9f3a\"],[0.8888888888888888,\"#fdca26\"],[1.0,\"#f0f921\"]],\"type\":\"heatmapgl\"}],\"heatmap\":[{\"colorbar\":{\"outlinewidth\":0,\"ticks\":\"\"},\"colorscale\":[[0.0,\"#0d0887\"],[0.1111111111111111,\"#46039f\"],[0.2222222222222222,\"#7201a8\"],[0.3333333333333333,\"#9c179e\"],[0.4444444444444444,\"#bd3786\"],[0.5555555555555556,\"#d8576b\"],[0.6666666666666666,\"#ed7953\"],[0.7777777777777778,\"#fb9f3a\"],[0.8888888888888888,\"#fdca26\"],[1.0,\"#f0f921\"]],\"type\":\"heatmap\"}],\"histogram2dcontour\":[{\"colorbar\":{\"outlinewidth\":0,\"ticks\":\"\"},\"colorscale\":[[0.0,\"#0d0887\"],[0.1111111111111111,\"#46039f\"],[0.2222222222222222,\"#7201a8\"],[0.3333333333333333,\"#9c179e\"],[0.4444444444444444,\"#bd3786\"],[0.5555555555555556,\"#d8576b\"],[0.6666666666666666,\"#ed7953\"],[0.7777777777777778,\"#fb9f3a\"],[0.8888888888888888,\"#fdca26\"],[1.0,\"#f0f921\"]],\"type\":\"histogram2dcontour\"}],\"histogram2d\":[{\"colorbar\":{\"outlinewidth\":0,\"ticks\":\"\"},\"colorscale\":[[0.0,\"#0d0887\"],[0.1111111111111111,\"#46039f\"],[0.2222222222222222,\"#7201a8\"],[0.3333333333333333,\"#9c179e\"],[0.4444444444444444,\"#bd3786\"],[0.5555555555555556,\"#d8576b\"],[0.6666666666666666,\"#ed7953\"],[0.7777777777777778,\"#fb9f3a\"],[0.8888888888888888,\"#fdca26\"],[1.0,\"#f0f921\"]],\"type\":\"histogram2d\"}],\"histogram\":[{\"marker\":{\"pattern\":{\"fillmode\":\"overlay\",\"size\":10,\"solidity\":0.2}},\"type\":\"histogram\"}],\"mesh3d\":[{\"colorbar\":{\"outlinewidth\":0,\"ticks\":\"\"},\"type\":\"mesh3d\"}],\"parcoords\":[{\"line\":{\"colorbar\":{\"outlinewidth\":0,\"ticks\":\"\"}},\"type\":\"parcoords\"}],\"pie\":[{\"automargin\":true,\"type\":\"pie\"}],\"scatter3d\":[{\"line\":{\"colorbar\":{\"outlinewidth\":0,\"ticks\":\"\"}},\"marker\":{\"colorbar\":{\"outlinewidth\":0,\"ticks\":\"\"}},\"type\":\"scatter3d\"}],\"scattercarpet\":[{\"marker\":{\"colorbar\":{\"outlinewidth\":0,\"ticks\":\"\"}},\"type\":\"scattercarpet\"}],\"scattergeo\":[{\"marker\":{\"colorbar\":{\"outlinewidth\":0,\"ticks\":\"\"}},\"type\":\"scattergeo\"}],\"scattergl\":[{\"marker\":{\"colorbar\":{\"outlinewidth\":0,\"ticks\":\"\"}},\"type\":\"scattergl\"}],\"scattermapbox\":[{\"marker\":{\"colorbar\":{\"outlinewidth\":0,\"ticks\":\"\"}},\"type\":\"scattermapbox\"}],\"scatterpolargl\":[{\"marker\":{\"colorbar\":{\"outlinewidth\":0,\"ticks\":\"\"}},\"type\":\"scatterpolargl\"}],\"scatterpolar\":[{\"marker\":{\"colorbar\":{\"outlinewidth\":0,\"ticks\":\"\"}},\"type\":\"scatterpolar\"}],\"scatter\":[{\"fillpattern\":{\"fillmode\":\"overlay\",\"size\":10,\"solidity\":0.2},\"type\":\"scatter\"}],\"scatterternary\":[{\"marker\":{\"colorbar\":{\"outlinewidth\":0,\"ticks\":\"\"}},\"type\":\"scatterternary\"}],\"surface\":[{\"colorbar\":{\"outlinewidth\":0,\"ticks\":\"\"},\"colorscale\":[[0.0,\"#0d0887\"],[0.1111111111111111,\"#46039f\"],[0.2222222222222222,\"#7201a8\"],[0.3333333333333333,\"#9c179e\"],[0.4444444444444444,\"#bd3786\"],[0.5555555555555556,\"#d8576b\"],[0.6666666666666666,\"#ed7953\"],[0.7777777777777778,\"#fb9f3a\"],[0.8888888888888888,\"#fdca26\"],[1.0,\"#f0f921\"]],\"type\":\"surface\"}],\"table\":[{\"cells\":{\"fill\":{\"color\":\"#EBF0F8\"},\"line\":{\"color\":\"white\"}},\"header\":{\"fill\":{\"color\":\"#C8D4E3\"},\"line\":{\"color\":\"white\"}},\"type\":\"table\"}]},\"layout\":{\"annotationdefaults\":{\"arrowcolor\":\"#2a3f5f\",\"arrowhead\":0,\"arrowwidth\":1},\"autotypenumbers\":\"strict\",\"coloraxis\":{\"colorbar\":{\"outlinewidth\":0,\"ticks\":\"\"}},\"colorscale\":{\"diverging\":[[0,\"#8e0152\"],[0.1,\"#c51b7d\"],[0.2,\"#de77ae\"],[0.3,\"#f1b6da\"],[0.4,\"#fde0ef\"],[0.5,\"#f7f7f7\"],[0.6,\"#e6f5d0\"],[0.7,\"#b8e186\"],[0.8,\"#7fbc41\"],[0.9,\"#4d9221\"],[1,\"#276419\"]],\"sequential\":[[0.0,\"#0d0887\"],[0.1111111111111111,\"#46039f\"],[0.2222222222222222,\"#7201a8\"],[0.3333333333333333,\"#9c179e\"],[0.4444444444444444,\"#bd3786\"],[0.5555555555555556,\"#d8576b\"],[0.6666666666666666,\"#ed7953\"],[0.7777777777777778,\"#fb9f3a\"],[0.8888888888888888,\"#fdca26\"],[1.0,\"#f0f921\"]],\"sequentialminus\":[[0.0,\"#0d0887\"],[0.1111111111111111,\"#46039f\"],[0.2222222222222222,\"#7201a8\"],[0.3333333333333333,\"#9c179e\"],[0.4444444444444444,\"#bd3786\"],[0.5555555555555556,\"#d8576b\"],[0.6666666666666666,\"#ed7953\"],[0.7777777777777778,\"#fb9f3a\"],[0.8888888888888888,\"#fdca26\"],[1.0,\"#f0f921\"]]},\"colorway\":[\"#636efa\",\"#EF553B\",\"#00cc96\",\"#ab63fa\",\"#FFA15A\",\"#19d3f3\",\"#FF6692\",\"#B6E880\",\"#FF97FF\",\"#FECB52\"],\"font\":{\"color\":\"#2a3f5f\"},\"geo\":{\"bgcolor\":\"white\",\"lakecolor\":\"white\",\"landcolor\":\"#E5ECF6\",\"showlakes\":true,\"showland\":true,\"subunitcolor\":\"white\"},\"hoverlabel\":{\"align\":\"left\"},\"hovermode\":\"closest\",\"mapbox\":{\"style\":\"light\"},\"paper_bgcolor\":\"white\",\"plot_bgcolor\":\"#E5ECF6\",\"polar\":{\"angularaxis\":{\"gridcolor\":\"white\",\"linecolor\":\"white\",\"ticks\":\"\"},\"bgcolor\":\"#E5ECF6\",\"radialaxis\":{\"gridcolor\":\"white\",\"linecolor\":\"white\",\"ticks\":\"\"}},\"scene\":{\"xaxis\":{\"backgroundcolor\":\"#E5ECF6\",\"gridcolor\":\"white\",\"gridwidth\":2,\"linecolor\":\"white\",\"showbackground\":true,\"ticks\":\"\",\"zerolinecolor\":\"white\"},\"yaxis\":{\"backgroundcolor\":\"#E5ECF6\",\"gridcolor\":\"white\",\"gridwidth\":2,\"linecolor\":\"white\",\"showbackground\":true,\"ticks\":\"\",\"zerolinecolor\":\"white\"},\"zaxis\":{\"backgroundcolor\":\"#E5ECF6\",\"gridcolor\":\"white\",\"gridwidth\":2,\"linecolor\":\"white\",\"showbackground\":true,\"ticks\":\"\",\"zerolinecolor\":\"white\"}},\"shapedefaults\":{\"line\":{\"color\":\"#2a3f5f\"}},\"ternary\":{\"aaxis\":{\"gridcolor\":\"white\",\"linecolor\":\"white\",\"ticks\":\"\"},\"baxis\":{\"gridcolor\":\"white\",\"linecolor\":\"white\",\"ticks\":\"\"},\"bgcolor\":\"#E5ECF6\",\"caxis\":{\"gridcolor\":\"white\",\"linecolor\":\"white\",\"ticks\":\"\"}},\"title\":{\"x\":0.05},\"xaxis\":{\"automargin\":true,\"gridcolor\":\"white\",\"linecolor\":\"white\",\"ticks\":\"\",\"title\":{\"standoff\":15},\"zerolinecolor\":\"white\",\"zerolinewidth\":2},\"yaxis\":{\"automargin\":true,\"gridcolor\":\"white\",\"linecolor\":\"white\",\"ticks\":\"\",\"title\":{\"standoff\":15},\"zerolinecolor\":\"white\",\"zerolinewidth\":2}}},\"title\":{\"font\":{\"color\":\"#4D5663\"}},\"xaxis\":{\"gridcolor\":\"#E1E5ED\",\"showgrid\":true,\"tickfont\":{\"color\":\"#4D5663\"},\"title\":{\"font\":{\"color\":\"#4D5663\"},\"text\":\"\"},\"zerolinecolor\":\"#E1E5ED\"},\"yaxis\":{\"gridcolor\":\"#E1E5ED\",\"showgrid\":true,\"tickfont\":{\"color\":\"#4D5663\"},\"title\":{\"font\":{\"color\":\"#4D5663\"},\"text\":\"\"},\"zerolinecolor\":\"#E1E5ED\"}},                        {\"showLink\": true, \"linkText\": \"Export to plot.ly\", \"plotlyServerURL\": \"https://plot.ly\", \"responsive\": true}                    ).then(function(){\n",
       "                            \n",
       "var gd = document.getElementById('b2de43b7-e53a-4e18-bdbd-47c78866d423');\n",
       "var x = new MutationObserver(function (mutations, observer) {{\n",
       "        var display = window.getComputedStyle(gd).display;\n",
       "        if (!display || display === 'none') {{\n",
       "            console.log([gd, 'removed!']);\n",
       "            Plotly.purge(gd);\n",
       "            observer.disconnect();\n",
       "        }}\n",
       "}});\n",
       "\n",
       "// Listen for the removal of the full notebook cells\n",
       "var notebookContainer = gd.closest('#notebook-container');\n",
       "if (notebookContainer) {{\n",
       "    x.observe(notebookContainer, {childList: true});\n",
       "}}\n",
       "\n",
       "// Listen for the clearing of the current output cell\n",
       "var outputEl = gd.closest('.output');\n",
       "if (outputEl) {{\n",
       "    x.observe(outputEl, {childList: true});\n",
       "}}\n",
       "\n",
       "                        })                };                });            </script>        </div>"
      ]
     },
     "metadata": {},
     "output_type": "display_data"
    }
   ],
   "source": [
    "df.iplot(kind='bubble',x='A',y='B',size='C')"
   ]
  },
  {
   "cell_type": "markdown",
   "metadata": {},
   "source": [
    "## scatter_matrix()\n",
    "\n",
    "Similar to sns.pairplot()"
   ]
  },
  {
   "cell_type": "code",
   "execution_count": 18,
   "metadata": {},
   "outputs": [
    {
     "data": {
      "application/vnd.plotly.v1+json": {
       "config": {
        "linkText": "Export to plot.ly",
        "plotlyServerURL": "https://plot.ly",
        "showLink": true
       },
       "data": [
        {
         "histfunc": "count",
         "histnorm": "",
         "marker": {
          "color": "rgba(255, 153, 51, 1.0)",
          "line": {
           "color": "#4D5663",
           "width": 1.3
          }
         },
         "name": "A",
         "nbinsx": 10,
         "opacity": 0.8,
         "orientation": "v",
         "type": "histogram",
         "x": [
          0.7142777740002493,
          1.7199028467107027,
          -0.656803403254399,
          -0.37392620679314936,
          -0.31606590443921007,
          0.35505889405438235,
          0.30268661008777253,
          -0.20025345133011221,
          -0.7836855248050619,
          -0.8001492342950658,
          0.5139621668662798,
          0.6479247398677027,
          -0.7211676148282345,
          0.7194291364909836,
          -0.2163419153726224,
          -0.4804535209362682,
          -0.714837323622347,
          1.1990673445619522,
          0.32378499945067485,
          0.32720073545032413,
          -1.2416640093536817,
          -1.0964978401145988,
          -2.1451300195809617,
          -0.4095271017607454,
          -0.45316941062315785,
          -1.122925074551881,
          1.534771250157007,
          0.8082105077168469,
          0.2029478602650499,
          0.8792395730528462,
          1.6238072982147747,
          -1.689598035108892,
          0.7172442956307108,
          1.4796357413226466,
          0.10848653839183443,
          0.2651199463165854,
          -0.448360276786736,
          -0.8717512540566079,
          -1.673236517973046,
          0.15762999583840775,
          0.3231114754169684,
          -2.132193362543313,
          -1.9211723050134575,
          0.2923166142946065,
          1.0379779669930023,
          0.04206636875091591,
          -0.6015462970886982,
          -0.7081127368965313,
          -0.13272123239646805,
          2.289950608975294,
          -0.1742026494967424,
          0.59635132291716,
          0.991485617310549,
          -0.15785058610376146,
          0.15891339279876676,
          1.323390106354316,
          0.7895370254885591,
          0.3639551791777413,
          -2.55375949966317,
          -0.939382779591616,
          -0.8616920966398784,
          0.7238203508712924,
          2.0611264931219995,
          -1.0673993007785716,
          1.4850336351104063,
          -0.17536273373016378,
          -0.6586113604808225,
          1.0852382724029959,
          0.09988394766108045,
          0.26697145343793954,
          -0.508604167253295,
          -0.8952623555402414,
          -0.6681146819732109,
          0.1744415811250902,
          -0.09704809142761688,
          -0.3951710675259424,
          0.724433828075461,
          0.19331020672322452,
          1.31690463122668,
          -0.5019748382265561,
          0.21407155559326627,
          -1.2923542370415495,
          0.6016718634605939,
          -0.16503701845514213,
          1.5203243551375871,
          -0.6557452100418191,
          1.1703097186619138,
          0.4213445354585947,
          1.1003148707214743,
          0.1503838317476397,
          -0.9970229620212248,
          -0.10549357398256586,
          0.3859715646698864,
          0.08402541190919727,
          0.1854135916396423,
          -1.2952897277314197,
          -0.4213245059694718,
          0.7618730883422946,
          -0.23464880537146648,
          -1.7371251770094929
         ],
         "xaxis": "x",
         "yaxis": "y"
        },
        {
         "line": {
          "color": "rgba(128, 128, 128, 1.0)",
          "dash": "solid",
          "shape": "linear",
          "width": 1.3
         },
         "marker": {
          "size": 2,
          "symbol": "circle"
         },
         "mode": "markers",
         "name": "A",
         "text": "",
         "type": "scatter",
         "x": [
          0.02113025316214141,
          -2.4679781393279625,
          0.483335436464977,
          0.23343275183544257,
          -0.013530670263819523,
          -0.25274605724693644,
          0.3473353391647001,
          0.05850946264135038,
          -0.33167398556150796,
          -0.5826505647985586,
          -0.5849294552086969,
          -0.31954105313749986,
          1.1986692559184746,
          0.5966633134733866,
          0.6735564992413137,
          -0.9235167788445138,
          -0.6352924694076183,
          1.9740394707525353,
          1.121083702891913,
          -1.4310412193140811,
          0.05236734426799687,
          1.1564237708409333,
          -0.862590797069598,
          0.9883197350285711,
          1.2405829125319803,
          -1.0349746567626237,
          1.1142415536603365,
          -0.510931014535598,
          0.33929255036864875,
          -1.7086447062048555,
          0.1623300555860231,
          -0.7894296447142766,
          0.27146494353613027,
          -0.9233581078784034,
          0.9239563585106843,
          1.240190084937,
          -0.24909041604582954,
          0.46770430331130614,
          1.087508384368392,
          0.7268497068857239,
          -1.9801224820571879,
          -0.3970011783608756,
          -0.8788799454353752,
          0.5246463683079379,
          -1.2308441568728488,
          1.1572020049571972,
          -1.9034609401747042,
          -0.044874475896686826,
          0.5636849694689087,
          -1.2124159074387677,
          1.528049782679351,
          1.2094085465743554,
          -0.6850443070661522,
          -0.9845636294532993,
          -0.9884039790626893,
          -0.262251577330043,
          1.9418229652153194,
          2.0214228285512976,
          -0.0966652922560624,
          -0.10214164808690887,
          0.06395063021477436,
          0.3820445412170909,
          0.2864661093929553,
          0.8494860488516242,
          -0.735311071083744,
          0.22491638213831677,
          -1.5771082822829272,
          0.34539482297280133,
          -0.403319262277709,
          -0.36892593978662797,
          -0.5724218689783241,
          -0.7071986529983127,
          0.4349982418571607,
          1.351847447933669,
          1.6166636282389513,
          0.10911788388401762,
          -2.2510302223138137,
          -0.6388474141987549,
          -0.7170590400106103,
          -0.3771644409300306,
          0.6891544594565927,
          -0.7584405091564508,
          0.6514487791821924,
          0.10571500752184819,
          -1.56410209229144,
          -0.661226422718267,
          0.6375051523459719,
          1.0505603467091036,
          -0.2043218769687843,
          0.18733893178586658,
          1.0311879603876744,
          0.6931802933281493,
          0.3879960879915357,
          -0.5919503305272049,
          0.02626106472165012,
          -0.5409760417361436,
          -0.10754065770234249,
          0.13368455578919725,
          0.47896581167577396,
          -0.11524343282222889
         ],
         "xaxis": "x2",
         "y": [
          0.7142777740002493,
          1.7199028467107027,
          -0.656803403254399,
          -0.37392620679314936,
          -0.31606590443921007,
          0.35505889405438235,
          0.30268661008777253,
          -0.20025345133011221,
          -0.7836855248050619,
          -0.8001492342950658,
          0.5139621668662798,
          0.6479247398677027,
          -0.7211676148282345,
          0.7194291364909836,
          -0.2163419153726224,
          -0.4804535209362682,
          -0.714837323622347,
          1.1990673445619522,
          0.32378499945067485,
          0.32720073545032413,
          -1.2416640093536817,
          -1.0964978401145988,
          -2.1451300195809617,
          -0.4095271017607454,
          -0.45316941062315785,
          -1.122925074551881,
          1.534771250157007,
          0.8082105077168469,
          0.2029478602650499,
          0.8792395730528462,
          1.6238072982147747,
          -1.689598035108892,
          0.7172442956307108,
          1.4796357413226466,
          0.10848653839183443,
          0.2651199463165854,
          -0.448360276786736,
          -0.8717512540566079,
          -1.673236517973046,
          0.15762999583840775,
          0.3231114754169684,
          -2.132193362543313,
          -1.9211723050134575,
          0.2923166142946065,
          1.0379779669930023,
          0.04206636875091591,
          -0.6015462970886982,
          -0.7081127368965313,
          -0.13272123239646805,
          2.289950608975294,
          -0.1742026494967424,
          0.59635132291716,
          0.991485617310549,
          -0.15785058610376146,
          0.15891339279876676,
          1.323390106354316,
          0.7895370254885591,
          0.3639551791777413,
          -2.55375949966317,
          -0.939382779591616,
          -0.8616920966398784,
          0.7238203508712924,
          2.0611264931219995,
          -1.0673993007785716,
          1.4850336351104063,
          -0.17536273373016378,
          -0.6586113604808225,
          1.0852382724029959,
          0.09988394766108045,
          0.26697145343793954,
          -0.508604167253295,
          -0.8952623555402414,
          -0.6681146819732109,
          0.1744415811250902,
          -0.09704809142761688,
          -0.3951710675259424,
          0.724433828075461,
          0.19331020672322452,
          1.31690463122668,
          -0.5019748382265561,
          0.21407155559326627,
          -1.2923542370415495,
          0.6016718634605939,
          -0.16503701845514213,
          1.5203243551375871,
          -0.6557452100418191,
          1.1703097186619138,
          0.4213445354585947,
          1.1003148707214743,
          0.1503838317476397,
          -0.9970229620212248,
          -0.10549357398256586,
          0.3859715646698864,
          0.08402541190919727,
          0.1854135916396423,
          -1.2952897277314197,
          -0.4213245059694718,
          0.7618730883422946,
          -0.23464880537146648,
          -1.7371251770094929
         ],
         "yaxis": "y2"
        },
        {
         "line": {
          "color": "rgba(128, 128, 128, 1.0)",
          "dash": "solid",
          "shape": "linear",
          "width": 1.3
         },
         "marker": {
          "size": 2,
          "symbol": "circle"
         },
         "mode": "markers",
         "name": "A",
         "text": "",
         "type": "scatter",
         "x": [
          -0.9434643656074901,
          1.3444124766656895,
          0.17215909063527174,
          1.5537108414134235,
          -0.8910657518417112,
          0.9625961588955709,
          -0.7058012979046439,
          -0.8552277436696232,
          1.4718647392330557,
          -0.5667933660428515,
          -0.13808742621551356,
          -2.1593838274223716,
          -1.2164789868025245,
          0.6016906031522246,
          -0.8569527606176405,
          0.2538313681544378,
          0.9662815812595507,
          -1.1107794200315244,
          -0.49198421681841026,
          1.4333950492188858,
          0.8102746822753875,
          0.2722784351380484,
          -0.7779613530334486,
          -0.11726359178260841,
          -0.07580299986785653,
          -0.057168163538652804,
          -0.46843620115874907,
          0.28097168164343683,
          -0.6088775429730605,
          -1.499345603805868,
          0.1703427766461955,
          -0.4424946226581365,
          0.48147984724528303,
          -0.6220281105477253,
          2.2519035852945883,
          -1.2827110761298643,
          -0.08807562925290076,
          -0.584091630306514,
          0.18382780655640937,
          0.1787983022040505,
          0.19911199737135604,
          0.9643454769373196,
          0.8328190902756328,
          0.8343707828812497,
          1.1178891740417924,
          0.8856074976565256,
          -1.7145192750679596,
          -0.5855897567918643,
          0.5708138958813657,
          -0.8182849705937587,
          -1.9925783563554824,
          -1.248896832265893,
          -0.44740539286760544,
          2.249297379891929,
          -0.007105998157687052,
          0.006096193285520275,
          0.5519063561670956,
          -0.051574783887322305,
          0.8204387541719532,
          -0.33078874723067697,
          -0.655185252731514,
          -0.14456220270363163,
          0.41494809014388495,
          -1.0391737180128005,
          -0.7143709725774835,
          0.09697552242272921,
          -1.5237280027765399,
          -0.7988127472717743,
          1.6302857946111504,
          -0.052812423674299135,
          -0.8847578470900589,
          3.2684681581501107,
          -0.029685356661994993,
          -0.09678541069859871,
          0.173370680041757,
          -1.2981749752643537,
          1.3738875794910574,
          0.2588831786041221,
          -0.7751203954645283,
          1.0235422117199084,
          -0.17078991614864422,
          0.5178310017005542,
          1.4252487443336075,
          0.5986421771739376,
          0.00012468312148118674,
          -0.07918885046371128,
          -0.07066943142440128,
          0.27120551991121505,
          -0.17843715264909218,
          -0.6608657615075663,
          -0.7270807114405403,
          -0.26447327537479665,
          -2.0438668083832763,
          -0.2299981939576035,
          -0.8910449032322855,
          1.034275149566397,
          -0.9177435852018307,
          0.19894408500110364,
          -0.7164975130739492,
          1.2148894899779028
         ],
         "xaxis": "x3",
         "y": [
          0.7142777740002493,
          1.7199028467107027,
          -0.656803403254399,
          -0.37392620679314936,
          -0.31606590443921007,
          0.35505889405438235,
          0.30268661008777253,
          -0.20025345133011221,
          -0.7836855248050619,
          -0.8001492342950658,
          0.5139621668662798,
          0.6479247398677027,
          -0.7211676148282345,
          0.7194291364909836,
          -0.2163419153726224,
          -0.4804535209362682,
          -0.714837323622347,
          1.1990673445619522,
          0.32378499945067485,
          0.32720073545032413,
          -1.2416640093536817,
          -1.0964978401145988,
          -2.1451300195809617,
          -0.4095271017607454,
          -0.45316941062315785,
          -1.122925074551881,
          1.534771250157007,
          0.8082105077168469,
          0.2029478602650499,
          0.8792395730528462,
          1.6238072982147747,
          -1.689598035108892,
          0.7172442956307108,
          1.4796357413226466,
          0.10848653839183443,
          0.2651199463165854,
          -0.448360276786736,
          -0.8717512540566079,
          -1.673236517973046,
          0.15762999583840775,
          0.3231114754169684,
          -2.132193362543313,
          -1.9211723050134575,
          0.2923166142946065,
          1.0379779669930023,
          0.04206636875091591,
          -0.6015462970886982,
          -0.7081127368965313,
          -0.13272123239646805,
          2.289950608975294,
          -0.1742026494967424,
          0.59635132291716,
          0.991485617310549,
          -0.15785058610376146,
          0.15891339279876676,
          1.323390106354316,
          0.7895370254885591,
          0.3639551791777413,
          -2.55375949966317,
          -0.939382779591616,
          -0.8616920966398784,
          0.7238203508712924,
          2.0611264931219995,
          -1.0673993007785716,
          1.4850336351104063,
          -0.17536273373016378,
          -0.6586113604808225,
          1.0852382724029959,
          0.09988394766108045,
          0.26697145343793954,
          -0.508604167253295,
          -0.8952623555402414,
          -0.6681146819732109,
          0.1744415811250902,
          -0.09704809142761688,
          -0.3951710675259424,
          0.724433828075461,
          0.19331020672322452,
          1.31690463122668,
          -0.5019748382265561,
          0.21407155559326627,
          -1.2923542370415495,
          0.6016718634605939,
          -0.16503701845514213,
          1.5203243551375871,
          -0.6557452100418191,
          1.1703097186619138,
          0.4213445354585947,
          1.1003148707214743,
          0.1503838317476397,
          -0.9970229620212248,
          -0.10549357398256586,
          0.3859715646698864,
          0.08402541190919727,
          0.1854135916396423,
          -1.2952897277314197,
          -0.4213245059694718,
          0.7618730883422946,
          -0.23464880537146648,
          -1.7371251770094929
         ],
         "yaxis": "y3"
        },
        {
         "line": {
          "color": "rgba(128, 128, 128, 1.0)",
          "dash": "solid",
          "shape": "linear",
          "width": 1.3
         },
         "marker": {
          "size": 2,
          "symbol": "circle"
         },
         "mode": "markers",
         "name": "A",
         "text": "",
         "type": "scatter",
         "x": [
          -0.9835317302822373,
          -0.602085452129363,
          0.7038156479662266,
          1.984095995297494,
          -0.7235930944526109,
          0.34180371172634566,
          1.6240904513430607,
          -2.596926088005319,
          -1.2168714050909983,
          0.8440421104254345,
          0.16922500771872154,
          -0.9118484850509705,
          1.2167090938038219,
          -1.8908544466553652,
          0.72350841523467,
          0.8720215982140032,
          0.7493892613533375,
          0.4092332958269358,
          -0.9169211121796843,
          0.2177840438471423,
          0.35721248770531744,
          -1.4009701304809954,
          -0.2468849733447492,
          1.3536297940967401,
          0.6471602894444082,
          1.6996312235381028,
          -0.03581837302474589,
          -0.4994937232070557,
          -0.5157880663881521,
          -0.21447973435086495,
          -1.3983631192688413,
          -0.051814319532285096,
          1.1034101470139979,
          -0.11133824418599521,
          -0.4403568329715678,
          -1.1083790709929835,
          -1.9697705701951271,
          -0.0307005264533092,
          0.5115907052546382,
          1.058260699174405,
          -0.3778204222077217,
          0.8902998209480225,
          -0.15595178828960424,
          1.7495572908370873,
          -2.1169646865707357,
          -1.9214149460540764,
          1.2208113989714382,
          -1.4097208383444755,
          -1.0807539677084463,
          -0.37636652583167246,
          -0.7253721652919294,
          -0.9803003945233395,
          1.3557398765711672,
          -0.3192142688300996,
          0.32856282893038424,
          0.6787554006630662,
          0.5543057406940548,
          0.5301275454067832,
          -1.2207874364283946,
          -0.736664542596436,
          1.6345288193550631,
          -0.20309780472812647,
          -0.3465455266138488,
          -0.8467389836181894,
          0.008226275620721746,
          -0.8407614205889379,
          -1.2030422882596896,
          -0.32769640233491126,
          0.07798247920353843,
          -0.22150142303399079,
          -1.2026607248521823,
          1.0592320852461656,
          -0.5194947728236432,
          -0.02008509492317327,
          -0.9434819554517148,
          0.024895693435208876,
          -0.8103435273153045,
          -1.2406744017535674,
          -0.3328402849146345,
          -0.17750229574983345,
          -0.45614954358203197,
          0.3960872033369166,
          -2.12299009828048,
          -0.2788854203709273,
          0.019928939876970125,
          -1.271604593412063,
          0.6579477188485843,
          -0.26507153754724055,
          -0.6486900871115029,
          -1.6124367249139295,
          0.051348172534486244,
          0.49693291464762784,
          -2.308935640488484,
          -1.285235970506294,
          -0.737053421390977,
          0.9178878747978111,
          -0.394630616388896,
          0.04903297606795281,
          0.3394151124652293,
          0.7340769051278897
         ],
         "xaxis": "x4",
         "y": [
          0.7142777740002493,
          1.7199028467107027,
          -0.656803403254399,
          -0.37392620679314936,
          -0.31606590443921007,
          0.35505889405438235,
          0.30268661008777253,
          -0.20025345133011221,
          -0.7836855248050619,
          -0.8001492342950658,
          0.5139621668662798,
          0.6479247398677027,
          -0.7211676148282345,
          0.7194291364909836,
          -0.2163419153726224,
          -0.4804535209362682,
          -0.714837323622347,
          1.1990673445619522,
          0.32378499945067485,
          0.32720073545032413,
          -1.2416640093536817,
          -1.0964978401145988,
          -2.1451300195809617,
          -0.4095271017607454,
          -0.45316941062315785,
          -1.122925074551881,
          1.534771250157007,
          0.8082105077168469,
          0.2029478602650499,
          0.8792395730528462,
          1.6238072982147747,
          -1.689598035108892,
          0.7172442956307108,
          1.4796357413226466,
          0.10848653839183443,
          0.2651199463165854,
          -0.448360276786736,
          -0.8717512540566079,
          -1.673236517973046,
          0.15762999583840775,
          0.3231114754169684,
          -2.132193362543313,
          -1.9211723050134575,
          0.2923166142946065,
          1.0379779669930023,
          0.04206636875091591,
          -0.6015462970886982,
          -0.7081127368965313,
          -0.13272123239646805,
          2.289950608975294,
          -0.1742026494967424,
          0.59635132291716,
          0.991485617310549,
          -0.15785058610376146,
          0.15891339279876676,
          1.323390106354316,
          0.7895370254885591,
          0.3639551791777413,
          -2.55375949966317,
          -0.939382779591616,
          -0.8616920966398784,
          0.7238203508712924,
          2.0611264931219995,
          -1.0673993007785716,
          1.4850336351104063,
          -0.17536273373016378,
          -0.6586113604808225,
          1.0852382724029959,
          0.09988394766108045,
          0.26697145343793954,
          -0.508604167253295,
          -0.8952623555402414,
          -0.6681146819732109,
          0.1744415811250902,
          -0.09704809142761688,
          -0.3951710675259424,
          0.724433828075461,
          0.19331020672322452,
          1.31690463122668,
          -0.5019748382265561,
          0.21407155559326627,
          -1.2923542370415495,
          0.6016718634605939,
          -0.16503701845514213,
          1.5203243551375871,
          -0.6557452100418191,
          1.1703097186619138,
          0.4213445354585947,
          1.1003148707214743,
          0.1503838317476397,
          -0.9970229620212248,
          -0.10549357398256586,
          0.3859715646698864,
          0.08402541190919727,
          0.1854135916396423,
          -1.2952897277314197,
          -0.4213245059694718,
          0.7618730883422946,
          -0.23464880537146648,
          -1.7371251770094929
         ],
         "yaxis": "y4"
        },
        {
         "line": {
          "color": "rgba(128, 128, 128, 1.0)",
          "dash": "solid",
          "shape": "linear",
          "width": 1.3
         },
         "marker": {
          "size": 2,
          "symbol": "circle"
         },
         "mode": "markers",
         "name": "B",
         "text": "",
         "type": "scatter",
         "x": [
          0.7142777740002493,
          1.7199028467107027,
          -0.656803403254399,
          -0.37392620679314936,
          -0.31606590443921007,
          0.35505889405438235,
          0.30268661008777253,
          -0.20025345133011221,
          -0.7836855248050619,
          -0.8001492342950658,
          0.5139621668662798,
          0.6479247398677027,
          -0.7211676148282345,
          0.7194291364909836,
          -0.2163419153726224,
          -0.4804535209362682,
          -0.714837323622347,
          1.1990673445619522,
          0.32378499945067485,
          0.32720073545032413,
          -1.2416640093536817,
          -1.0964978401145988,
          -2.1451300195809617,
          -0.4095271017607454,
          -0.45316941062315785,
          -1.122925074551881,
          1.534771250157007,
          0.8082105077168469,
          0.2029478602650499,
          0.8792395730528462,
          1.6238072982147747,
          -1.689598035108892,
          0.7172442956307108,
          1.4796357413226466,
          0.10848653839183443,
          0.2651199463165854,
          -0.448360276786736,
          -0.8717512540566079,
          -1.673236517973046,
          0.15762999583840775,
          0.3231114754169684,
          -2.132193362543313,
          -1.9211723050134575,
          0.2923166142946065,
          1.0379779669930023,
          0.04206636875091591,
          -0.6015462970886982,
          -0.7081127368965313,
          -0.13272123239646805,
          2.289950608975294,
          -0.1742026494967424,
          0.59635132291716,
          0.991485617310549,
          -0.15785058610376146,
          0.15891339279876676,
          1.323390106354316,
          0.7895370254885591,
          0.3639551791777413,
          -2.55375949966317,
          -0.939382779591616,
          -0.8616920966398784,
          0.7238203508712924,
          2.0611264931219995,
          -1.0673993007785716,
          1.4850336351104063,
          -0.17536273373016378,
          -0.6586113604808225,
          1.0852382724029959,
          0.09988394766108045,
          0.26697145343793954,
          -0.508604167253295,
          -0.8952623555402414,
          -0.6681146819732109,
          0.1744415811250902,
          -0.09704809142761688,
          -0.3951710675259424,
          0.724433828075461,
          0.19331020672322452,
          1.31690463122668,
          -0.5019748382265561,
          0.21407155559326627,
          -1.2923542370415495,
          0.6016718634605939,
          -0.16503701845514213,
          1.5203243551375871,
          -0.6557452100418191,
          1.1703097186619138,
          0.4213445354585947,
          1.1003148707214743,
          0.1503838317476397,
          -0.9970229620212248,
          -0.10549357398256586,
          0.3859715646698864,
          0.08402541190919727,
          0.1854135916396423,
          -1.2952897277314197,
          -0.4213245059694718,
          0.7618730883422946,
          -0.23464880537146648,
          -1.7371251770094929
         ],
         "xaxis": "x5",
         "y": [
          0.02113025316214141,
          -2.4679781393279625,
          0.483335436464977,
          0.23343275183544257,
          -0.013530670263819523,
          -0.25274605724693644,
          0.3473353391647001,
          0.05850946264135038,
          -0.33167398556150796,
          -0.5826505647985586,
          -0.5849294552086969,
          -0.31954105313749986,
          1.1986692559184746,
          0.5966633134733866,
          0.6735564992413137,
          -0.9235167788445138,
          -0.6352924694076183,
          1.9740394707525353,
          1.121083702891913,
          -1.4310412193140811,
          0.05236734426799687,
          1.1564237708409333,
          -0.862590797069598,
          0.9883197350285711,
          1.2405829125319803,
          -1.0349746567626237,
          1.1142415536603365,
          -0.510931014535598,
          0.33929255036864875,
          -1.7086447062048555,
          0.1623300555860231,
          -0.7894296447142766,
          0.27146494353613027,
          -0.9233581078784034,
          0.9239563585106843,
          1.240190084937,
          -0.24909041604582954,
          0.46770430331130614,
          1.087508384368392,
          0.7268497068857239,
          -1.9801224820571879,
          -0.3970011783608756,
          -0.8788799454353752,
          0.5246463683079379,
          -1.2308441568728488,
          1.1572020049571972,
          -1.9034609401747042,
          -0.044874475896686826,
          0.5636849694689087,
          -1.2124159074387677,
          1.528049782679351,
          1.2094085465743554,
          -0.6850443070661522,
          -0.9845636294532993,
          -0.9884039790626893,
          -0.262251577330043,
          1.9418229652153194,
          2.0214228285512976,
          -0.0966652922560624,
          -0.10214164808690887,
          0.06395063021477436,
          0.3820445412170909,
          0.2864661093929553,
          0.8494860488516242,
          -0.735311071083744,
          0.22491638213831677,
          -1.5771082822829272,
          0.34539482297280133,
          -0.403319262277709,
          -0.36892593978662797,
          -0.5724218689783241,
          -0.7071986529983127,
          0.4349982418571607,
          1.351847447933669,
          1.6166636282389513,
          0.10911788388401762,
          -2.2510302223138137,
          -0.6388474141987549,
          -0.7170590400106103,
          -0.3771644409300306,
          0.6891544594565927,
          -0.7584405091564508,
          0.6514487791821924,
          0.10571500752184819,
          -1.56410209229144,
          -0.661226422718267,
          0.6375051523459719,
          1.0505603467091036,
          -0.2043218769687843,
          0.18733893178586658,
          1.0311879603876744,
          0.6931802933281493,
          0.3879960879915357,
          -0.5919503305272049,
          0.02626106472165012,
          -0.5409760417361436,
          -0.10754065770234249,
          0.13368455578919725,
          0.47896581167577396,
          -0.11524343282222889
         ],
         "yaxis": "y5"
        },
        {
         "histfunc": "count",
         "histnorm": "",
         "marker": {
          "color": "rgba(55, 128, 191, 1.0)",
          "line": {
           "color": "#4D5663",
           "width": 1.3
          }
         },
         "name": "B",
         "nbinsx": 10,
         "opacity": 0.8,
         "orientation": "v",
         "type": "histogram",
         "x": [
          0.02113025316214141,
          -2.4679781393279625,
          0.483335436464977,
          0.23343275183544257,
          -0.013530670263819523,
          -0.25274605724693644,
          0.3473353391647001,
          0.05850946264135038,
          -0.33167398556150796,
          -0.5826505647985586,
          -0.5849294552086969,
          -0.31954105313749986,
          1.1986692559184746,
          0.5966633134733866,
          0.6735564992413137,
          -0.9235167788445138,
          -0.6352924694076183,
          1.9740394707525353,
          1.121083702891913,
          -1.4310412193140811,
          0.05236734426799687,
          1.1564237708409333,
          -0.862590797069598,
          0.9883197350285711,
          1.2405829125319803,
          -1.0349746567626237,
          1.1142415536603365,
          -0.510931014535598,
          0.33929255036864875,
          -1.7086447062048555,
          0.1623300555860231,
          -0.7894296447142766,
          0.27146494353613027,
          -0.9233581078784034,
          0.9239563585106843,
          1.240190084937,
          -0.24909041604582954,
          0.46770430331130614,
          1.087508384368392,
          0.7268497068857239,
          -1.9801224820571879,
          -0.3970011783608756,
          -0.8788799454353752,
          0.5246463683079379,
          -1.2308441568728488,
          1.1572020049571972,
          -1.9034609401747042,
          -0.044874475896686826,
          0.5636849694689087,
          -1.2124159074387677,
          1.528049782679351,
          1.2094085465743554,
          -0.6850443070661522,
          -0.9845636294532993,
          -0.9884039790626893,
          -0.262251577330043,
          1.9418229652153194,
          2.0214228285512976,
          -0.0966652922560624,
          -0.10214164808690887,
          0.06395063021477436,
          0.3820445412170909,
          0.2864661093929553,
          0.8494860488516242,
          -0.735311071083744,
          0.22491638213831677,
          -1.5771082822829272,
          0.34539482297280133,
          -0.403319262277709,
          -0.36892593978662797,
          -0.5724218689783241,
          -0.7071986529983127,
          0.4349982418571607,
          1.351847447933669,
          1.6166636282389513,
          0.10911788388401762,
          -2.2510302223138137,
          -0.6388474141987549,
          -0.7170590400106103,
          -0.3771644409300306,
          0.6891544594565927,
          -0.7584405091564508,
          0.6514487791821924,
          0.10571500752184819,
          -1.56410209229144,
          -0.661226422718267,
          0.6375051523459719,
          1.0505603467091036,
          -0.2043218769687843,
          0.18733893178586658,
          1.0311879603876744,
          0.6931802933281493,
          0.3879960879915357,
          -0.5919503305272049,
          0.02626106472165012,
          -0.5409760417361436,
          -0.10754065770234249,
          0.13368455578919725,
          0.47896581167577396,
          -0.11524343282222889
         ],
         "xaxis": "x6",
         "yaxis": "y6"
        },
        {
         "line": {
          "color": "rgba(128, 128, 128, 1.0)",
          "dash": "solid",
          "shape": "linear",
          "width": 1.3
         },
         "marker": {
          "size": 2,
          "symbol": "circle"
         },
         "mode": "markers",
         "name": "B",
         "text": "",
         "type": "scatter",
         "x": [
          -0.9434643656074901,
          1.3444124766656895,
          0.17215909063527174,
          1.5537108414134235,
          -0.8910657518417112,
          0.9625961588955709,
          -0.7058012979046439,
          -0.8552277436696232,
          1.4718647392330557,
          -0.5667933660428515,
          -0.13808742621551356,
          -2.1593838274223716,
          -1.2164789868025245,
          0.6016906031522246,
          -0.8569527606176405,
          0.2538313681544378,
          0.9662815812595507,
          -1.1107794200315244,
          -0.49198421681841026,
          1.4333950492188858,
          0.8102746822753875,
          0.2722784351380484,
          -0.7779613530334486,
          -0.11726359178260841,
          -0.07580299986785653,
          -0.057168163538652804,
          -0.46843620115874907,
          0.28097168164343683,
          -0.6088775429730605,
          -1.499345603805868,
          0.1703427766461955,
          -0.4424946226581365,
          0.48147984724528303,
          -0.6220281105477253,
          2.2519035852945883,
          -1.2827110761298643,
          -0.08807562925290076,
          -0.584091630306514,
          0.18382780655640937,
          0.1787983022040505,
          0.19911199737135604,
          0.9643454769373196,
          0.8328190902756328,
          0.8343707828812497,
          1.1178891740417924,
          0.8856074976565256,
          -1.7145192750679596,
          -0.5855897567918643,
          0.5708138958813657,
          -0.8182849705937587,
          -1.9925783563554824,
          -1.248896832265893,
          -0.44740539286760544,
          2.249297379891929,
          -0.007105998157687052,
          0.006096193285520275,
          0.5519063561670956,
          -0.051574783887322305,
          0.8204387541719532,
          -0.33078874723067697,
          -0.655185252731514,
          -0.14456220270363163,
          0.41494809014388495,
          -1.0391737180128005,
          -0.7143709725774835,
          0.09697552242272921,
          -1.5237280027765399,
          -0.7988127472717743,
          1.6302857946111504,
          -0.052812423674299135,
          -0.8847578470900589,
          3.2684681581501107,
          -0.029685356661994993,
          -0.09678541069859871,
          0.173370680041757,
          -1.2981749752643537,
          1.3738875794910574,
          0.2588831786041221,
          -0.7751203954645283,
          1.0235422117199084,
          -0.17078991614864422,
          0.5178310017005542,
          1.4252487443336075,
          0.5986421771739376,
          0.00012468312148118674,
          -0.07918885046371128,
          -0.07066943142440128,
          0.27120551991121505,
          -0.17843715264909218,
          -0.6608657615075663,
          -0.7270807114405403,
          -0.26447327537479665,
          -2.0438668083832763,
          -0.2299981939576035,
          -0.8910449032322855,
          1.034275149566397,
          -0.9177435852018307,
          0.19894408500110364,
          -0.7164975130739492,
          1.2148894899779028
         ],
         "xaxis": "x7",
         "y": [
          0.02113025316214141,
          -2.4679781393279625,
          0.483335436464977,
          0.23343275183544257,
          -0.013530670263819523,
          -0.25274605724693644,
          0.3473353391647001,
          0.05850946264135038,
          -0.33167398556150796,
          -0.5826505647985586,
          -0.5849294552086969,
          -0.31954105313749986,
          1.1986692559184746,
          0.5966633134733866,
          0.6735564992413137,
          -0.9235167788445138,
          -0.6352924694076183,
          1.9740394707525353,
          1.121083702891913,
          -1.4310412193140811,
          0.05236734426799687,
          1.1564237708409333,
          -0.862590797069598,
          0.9883197350285711,
          1.2405829125319803,
          -1.0349746567626237,
          1.1142415536603365,
          -0.510931014535598,
          0.33929255036864875,
          -1.7086447062048555,
          0.1623300555860231,
          -0.7894296447142766,
          0.27146494353613027,
          -0.9233581078784034,
          0.9239563585106843,
          1.240190084937,
          -0.24909041604582954,
          0.46770430331130614,
          1.087508384368392,
          0.7268497068857239,
          -1.9801224820571879,
          -0.3970011783608756,
          -0.8788799454353752,
          0.5246463683079379,
          -1.2308441568728488,
          1.1572020049571972,
          -1.9034609401747042,
          -0.044874475896686826,
          0.5636849694689087,
          -1.2124159074387677,
          1.528049782679351,
          1.2094085465743554,
          -0.6850443070661522,
          -0.9845636294532993,
          -0.9884039790626893,
          -0.262251577330043,
          1.9418229652153194,
          2.0214228285512976,
          -0.0966652922560624,
          -0.10214164808690887,
          0.06395063021477436,
          0.3820445412170909,
          0.2864661093929553,
          0.8494860488516242,
          -0.735311071083744,
          0.22491638213831677,
          -1.5771082822829272,
          0.34539482297280133,
          -0.403319262277709,
          -0.36892593978662797,
          -0.5724218689783241,
          -0.7071986529983127,
          0.4349982418571607,
          1.351847447933669,
          1.6166636282389513,
          0.10911788388401762,
          -2.2510302223138137,
          -0.6388474141987549,
          -0.7170590400106103,
          -0.3771644409300306,
          0.6891544594565927,
          -0.7584405091564508,
          0.6514487791821924,
          0.10571500752184819,
          -1.56410209229144,
          -0.661226422718267,
          0.6375051523459719,
          1.0505603467091036,
          -0.2043218769687843,
          0.18733893178586658,
          1.0311879603876744,
          0.6931802933281493,
          0.3879960879915357,
          -0.5919503305272049,
          0.02626106472165012,
          -0.5409760417361436,
          -0.10754065770234249,
          0.13368455578919725,
          0.47896581167577396,
          -0.11524343282222889
         ],
         "yaxis": "y7"
        },
        {
         "line": {
          "color": "rgba(128, 128, 128, 1.0)",
          "dash": "solid",
          "shape": "linear",
          "width": 1.3
         },
         "marker": {
          "size": 2,
          "symbol": "circle"
         },
         "mode": "markers",
         "name": "B",
         "text": "",
         "type": "scatter",
         "x": [
          -0.9835317302822373,
          -0.602085452129363,
          0.7038156479662266,
          1.984095995297494,
          -0.7235930944526109,
          0.34180371172634566,
          1.6240904513430607,
          -2.596926088005319,
          -1.2168714050909983,
          0.8440421104254345,
          0.16922500771872154,
          -0.9118484850509705,
          1.2167090938038219,
          -1.8908544466553652,
          0.72350841523467,
          0.8720215982140032,
          0.7493892613533375,
          0.4092332958269358,
          -0.9169211121796843,
          0.2177840438471423,
          0.35721248770531744,
          -1.4009701304809954,
          -0.2468849733447492,
          1.3536297940967401,
          0.6471602894444082,
          1.6996312235381028,
          -0.03581837302474589,
          -0.4994937232070557,
          -0.5157880663881521,
          -0.21447973435086495,
          -1.3983631192688413,
          -0.051814319532285096,
          1.1034101470139979,
          -0.11133824418599521,
          -0.4403568329715678,
          -1.1083790709929835,
          -1.9697705701951271,
          -0.0307005264533092,
          0.5115907052546382,
          1.058260699174405,
          -0.3778204222077217,
          0.8902998209480225,
          -0.15595178828960424,
          1.7495572908370873,
          -2.1169646865707357,
          -1.9214149460540764,
          1.2208113989714382,
          -1.4097208383444755,
          -1.0807539677084463,
          -0.37636652583167246,
          -0.7253721652919294,
          -0.9803003945233395,
          1.3557398765711672,
          -0.3192142688300996,
          0.32856282893038424,
          0.6787554006630662,
          0.5543057406940548,
          0.5301275454067832,
          -1.2207874364283946,
          -0.736664542596436,
          1.6345288193550631,
          -0.20309780472812647,
          -0.3465455266138488,
          -0.8467389836181894,
          0.008226275620721746,
          -0.8407614205889379,
          -1.2030422882596896,
          -0.32769640233491126,
          0.07798247920353843,
          -0.22150142303399079,
          -1.2026607248521823,
          1.0592320852461656,
          -0.5194947728236432,
          -0.02008509492317327,
          -0.9434819554517148,
          0.024895693435208876,
          -0.8103435273153045,
          -1.2406744017535674,
          -0.3328402849146345,
          -0.17750229574983345,
          -0.45614954358203197,
          0.3960872033369166,
          -2.12299009828048,
          -0.2788854203709273,
          0.019928939876970125,
          -1.271604593412063,
          0.6579477188485843,
          -0.26507153754724055,
          -0.6486900871115029,
          -1.6124367249139295,
          0.051348172534486244,
          0.49693291464762784,
          -2.308935640488484,
          -1.285235970506294,
          -0.737053421390977,
          0.9178878747978111,
          -0.394630616388896,
          0.04903297606795281,
          0.3394151124652293,
          0.7340769051278897
         ],
         "xaxis": "x8",
         "y": [
          0.02113025316214141,
          -2.4679781393279625,
          0.483335436464977,
          0.23343275183544257,
          -0.013530670263819523,
          -0.25274605724693644,
          0.3473353391647001,
          0.05850946264135038,
          -0.33167398556150796,
          -0.5826505647985586,
          -0.5849294552086969,
          -0.31954105313749986,
          1.1986692559184746,
          0.5966633134733866,
          0.6735564992413137,
          -0.9235167788445138,
          -0.6352924694076183,
          1.9740394707525353,
          1.121083702891913,
          -1.4310412193140811,
          0.05236734426799687,
          1.1564237708409333,
          -0.862590797069598,
          0.9883197350285711,
          1.2405829125319803,
          -1.0349746567626237,
          1.1142415536603365,
          -0.510931014535598,
          0.33929255036864875,
          -1.7086447062048555,
          0.1623300555860231,
          -0.7894296447142766,
          0.27146494353613027,
          -0.9233581078784034,
          0.9239563585106843,
          1.240190084937,
          -0.24909041604582954,
          0.46770430331130614,
          1.087508384368392,
          0.7268497068857239,
          -1.9801224820571879,
          -0.3970011783608756,
          -0.8788799454353752,
          0.5246463683079379,
          -1.2308441568728488,
          1.1572020049571972,
          -1.9034609401747042,
          -0.044874475896686826,
          0.5636849694689087,
          -1.2124159074387677,
          1.528049782679351,
          1.2094085465743554,
          -0.6850443070661522,
          -0.9845636294532993,
          -0.9884039790626893,
          -0.262251577330043,
          1.9418229652153194,
          2.0214228285512976,
          -0.0966652922560624,
          -0.10214164808690887,
          0.06395063021477436,
          0.3820445412170909,
          0.2864661093929553,
          0.8494860488516242,
          -0.735311071083744,
          0.22491638213831677,
          -1.5771082822829272,
          0.34539482297280133,
          -0.403319262277709,
          -0.36892593978662797,
          -0.5724218689783241,
          -0.7071986529983127,
          0.4349982418571607,
          1.351847447933669,
          1.6166636282389513,
          0.10911788388401762,
          -2.2510302223138137,
          -0.6388474141987549,
          -0.7170590400106103,
          -0.3771644409300306,
          0.6891544594565927,
          -0.7584405091564508,
          0.6514487791821924,
          0.10571500752184819,
          -1.56410209229144,
          -0.661226422718267,
          0.6375051523459719,
          1.0505603467091036,
          -0.2043218769687843,
          0.18733893178586658,
          1.0311879603876744,
          0.6931802933281493,
          0.3879960879915357,
          -0.5919503305272049,
          0.02626106472165012,
          -0.5409760417361436,
          -0.10754065770234249,
          0.13368455578919725,
          0.47896581167577396,
          -0.11524343282222889
         ],
         "yaxis": "y8"
        },
        {
         "line": {
          "color": "rgba(128, 128, 128, 1.0)",
          "dash": "solid",
          "shape": "linear",
          "width": 1.3
         },
         "marker": {
          "size": 2,
          "symbol": "circle"
         },
         "mode": "markers",
         "name": "C",
         "text": "",
         "type": "scatter",
         "x": [
          0.7142777740002493,
          1.7199028467107027,
          -0.656803403254399,
          -0.37392620679314936,
          -0.31606590443921007,
          0.35505889405438235,
          0.30268661008777253,
          -0.20025345133011221,
          -0.7836855248050619,
          -0.8001492342950658,
          0.5139621668662798,
          0.6479247398677027,
          -0.7211676148282345,
          0.7194291364909836,
          -0.2163419153726224,
          -0.4804535209362682,
          -0.714837323622347,
          1.1990673445619522,
          0.32378499945067485,
          0.32720073545032413,
          -1.2416640093536817,
          -1.0964978401145988,
          -2.1451300195809617,
          -0.4095271017607454,
          -0.45316941062315785,
          -1.122925074551881,
          1.534771250157007,
          0.8082105077168469,
          0.2029478602650499,
          0.8792395730528462,
          1.6238072982147747,
          -1.689598035108892,
          0.7172442956307108,
          1.4796357413226466,
          0.10848653839183443,
          0.2651199463165854,
          -0.448360276786736,
          -0.8717512540566079,
          -1.673236517973046,
          0.15762999583840775,
          0.3231114754169684,
          -2.132193362543313,
          -1.9211723050134575,
          0.2923166142946065,
          1.0379779669930023,
          0.04206636875091591,
          -0.6015462970886982,
          -0.7081127368965313,
          -0.13272123239646805,
          2.289950608975294,
          -0.1742026494967424,
          0.59635132291716,
          0.991485617310549,
          -0.15785058610376146,
          0.15891339279876676,
          1.323390106354316,
          0.7895370254885591,
          0.3639551791777413,
          -2.55375949966317,
          -0.939382779591616,
          -0.8616920966398784,
          0.7238203508712924,
          2.0611264931219995,
          -1.0673993007785716,
          1.4850336351104063,
          -0.17536273373016378,
          -0.6586113604808225,
          1.0852382724029959,
          0.09988394766108045,
          0.26697145343793954,
          -0.508604167253295,
          -0.8952623555402414,
          -0.6681146819732109,
          0.1744415811250902,
          -0.09704809142761688,
          -0.3951710675259424,
          0.724433828075461,
          0.19331020672322452,
          1.31690463122668,
          -0.5019748382265561,
          0.21407155559326627,
          -1.2923542370415495,
          0.6016718634605939,
          -0.16503701845514213,
          1.5203243551375871,
          -0.6557452100418191,
          1.1703097186619138,
          0.4213445354585947,
          1.1003148707214743,
          0.1503838317476397,
          -0.9970229620212248,
          -0.10549357398256586,
          0.3859715646698864,
          0.08402541190919727,
          0.1854135916396423,
          -1.2952897277314197,
          -0.4213245059694718,
          0.7618730883422946,
          -0.23464880537146648,
          -1.7371251770094929
         ],
         "xaxis": "x9",
         "y": [
          -0.9434643656074901,
          1.3444124766656895,
          0.17215909063527174,
          1.5537108414134235,
          -0.8910657518417112,
          0.9625961588955709,
          -0.7058012979046439,
          -0.8552277436696232,
          1.4718647392330557,
          -0.5667933660428515,
          -0.13808742621551356,
          -2.1593838274223716,
          -1.2164789868025245,
          0.6016906031522246,
          -0.8569527606176405,
          0.2538313681544378,
          0.9662815812595507,
          -1.1107794200315244,
          -0.49198421681841026,
          1.4333950492188858,
          0.8102746822753875,
          0.2722784351380484,
          -0.7779613530334486,
          -0.11726359178260841,
          -0.07580299986785653,
          -0.057168163538652804,
          -0.46843620115874907,
          0.28097168164343683,
          -0.6088775429730605,
          -1.499345603805868,
          0.1703427766461955,
          -0.4424946226581365,
          0.48147984724528303,
          -0.6220281105477253,
          2.2519035852945883,
          -1.2827110761298643,
          -0.08807562925290076,
          -0.584091630306514,
          0.18382780655640937,
          0.1787983022040505,
          0.19911199737135604,
          0.9643454769373196,
          0.8328190902756328,
          0.8343707828812497,
          1.1178891740417924,
          0.8856074976565256,
          -1.7145192750679596,
          -0.5855897567918643,
          0.5708138958813657,
          -0.8182849705937587,
          -1.9925783563554824,
          -1.248896832265893,
          -0.44740539286760544,
          2.249297379891929,
          -0.007105998157687052,
          0.006096193285520275,
          0.5519063561670956,
          -0.051574783887322305,
          0.8204387541719532,
          -0.33078874723067697,
          -0.655185252731514,
          -0.14456220270363163,
          0.41494809014388495,
          -1.0391737180128005,
          -0.7143709725774835,
          0.09697552242272921,
          -1.5237280027765399,
          -0.7988127472717743,
          1.6302857946111504,
          -0.052812423674299135,
          -0.8847578470900589,
          3.2684681581501107,
          -0.029685356661994993,
          -0.09678541069859871,
          0.173370680041757,
          -1.2981749752643537,
          1.3738875794910574,
          0.2588831786041221,
          -0.7751203954645283,
          1.0235422117199084,
          -0.17078991614864422,
          0.5178310017005542,
          1.4252487443336075,
          0.5986421771739376,
          0.00012468312148118674,
          -0.07918885046371128,
          -0.07066943142440128,
          0.27120551991121505,
          -0.17843715264909218,
          -0.6608657615075663,
          -0.7270807114405403,
          -0.26447327537479665,
          -2.0438668083832763,
          -0.2299981939576035,
          -0.8910449032322855,
          1.034275149566397,
          -0.9177435852018307,
          0.19894408500110364,
          -0.7164975130739492,
          1.2148894899779028
         ],
         "yaxis": "y9"
        },
        {
         "line": {
          "color": "rgba(128, 128, 128, 1.0)",
          "dash": "solid",
          "shape": "linear",
          "width": 1.3
         },
         "marker": {
          "size": 2,
          "symbol": "circle"
         },
         "mode": "markers",
         "name": "C",
         "text": "",
         "type": "scatter",
         "x": [
          0.02113025316214141,
          -2.4679781393279625,
          0.483335436464977,
          0.23343275183544257,
          -0.013530670263819523,
          -0.25274605724693644,
          0.3473353391647001,
          0.05850946264135038,
          -0.33167398556150796,
          -0.5826505647985586,
          -0.5849294552086969,
          -0.31954105313749986,
          1.1986692559184746,
          0.5966633134733866,
          0.6735564992413137,
          -0.9235167788445138,
          -0.6352924694076183,
          1.9740394707525353,
          1.121083702891913,
          -1.4310412193140811,
          0.05236734426799687,
          1.1564237708409333,
          -0.862590797069598,
          0.9883197350285711,
          1.2405829125319803,
          -1.0349746567626237,
          1.1142415536603365,
          -0.510931014535598,
          0.33929255036864875,
          -1.7086447062048555,
          0.1623300555860231,
          -0.7894296447142766,
          0.27146494353613027,
          -0.9233581078784034,
          0.9239563585106843,
          1.240190084937,
          -0.24909041604582954,
          0.46770430331130614,
          1.087508384368392,
          0.7268497068857239,
          -1.9801224820571879,
          -0.3970011783608756,
          -0.8788799454353752,
          0.5246463683079379,
          -1.2308441568728488,
          1.1572020049571972,
          -1.9034609401747042,
          -0.044874475896686826,
          0.5636849694689087,
          -1.2124159074387677,
          1.528049782679351,
          1.2094085465743554,
          -0.6850443070661522,
          -0.9845636294532993,
          -0.9884039790626893,
          -0.262251577330043,
          1.9418229652153194,
          2.0214228285512976,
          -0.0966652922560624,
          -0.10214164808690887,
          0.06395063021477436,
          0.3820445412170909,
          0.2864661093929553,
          0.8494860488516242,
          -0.735311071083744,
          0.22491638213831677,
          -1.5771082822829272,
          0.34539482297280133,
          -0.403319262277709,
          -0.36892593978662797,
          -0.5724218689783241,
          -0.7071986529983127,
          0.4349982418571607,
          1.351847447933669,
          1.6166636282389513,
          0.10911788388401762,
          -2.2510302223138137,
          -0.6388474141987549,
          -0.7170590400106103,
          -0.3771644409300306,
          0.6891544594565927,
          -0.7584405091564508,
          0.6514487791821924,
          0.10571500752184819,
          -1.56410209229144,
          -0.661226422718267,
          0.6375051523459719,
          1.0505603467091036,
          -0.2043218769687843,
          0.18733893178586658,
          1.0311879603876744,
          0.6931802933281493,
          0.3879960879915357,
          -0.5919503305272049,
          0.02626106472165012,
          -0.5409760417361436,
          -0.10754065770234249,
          0.13368455578919725,
          0.47896581167577396,
          -0.11524343282222889
         ],
         "xaxis": "x10",
         "y": [
          -0.9434643656074901,
          1.3444124766656895,
          0.17215909063527174,
          1.5537108414134235,
          -0.8910657518417112,
          0.9625961588955709,
          -0.7058012979046439,
          -0.8552277436696232,
          1.4718647392330557,
          -0.5667933660428515,
          -0.13808742621551356,
          -2.1593838274223716,
          -1.2164789868025245,
          0.6016906031522246,
          -0.8569527606176405,
          0.2538313681544378,
          0.9662815812595507,
          -1.1107794200315244,
          -0.49198421681841026,
          1.4333950492188858,
          0.8102746822753875,
          0.2722784351380484,
          -0.7779613530334486,
          -0.11726359178260841,
          -0.07580299986785653,
          -0.057168163538652804,
          -0.46843620115874907,
          0.28097168164343683,
          -0.6088775429730605,
          -1.499345603805868,
          0.1703427766461955,
          -0.4424946226581365,
          0.48147984724528303,
          -0.6220281105477253,
          2.2519035852945883,
          -1.2827110761298643,
          -0.08807562925290076,
          -0.584091630306514,
          0.18382780655640937,
          0.1787983022040505,
          0.19911199737135604,
          0.9643454769373196,
          0.8328190902756328,
          0.8343707828812497,
          1.1178891740417924,
          0.8856074976565256,
          -1.7145192750679596,
          -0.5855897567918643,
          0.5708138958813657,
          -0.8182849705937587,
          -1.9925783563554824,
          -1.248896832265893,
          -0.44740539286760544,
          2.249297379891929,
          -0.007105998157687052,
          0.006096193285520275,
          0.5519063561670956,
          -0.051574783887322305,
          0.8204387541719532,
          -0.33078874723067697,
          -0.655185252731514,
          -0.14456220270363163,
          0.41494809014388495,
          -1.0391737180128005,
          -0.7143709725774835,
          0.09697552242272921,
          -1.5237280027765399,
          -0.7988127472717743,
          1.6302857946111504,
          -0.052812423674299135,
          -0.8847578470900589,
          3.2684681581501107,
          -0.029685356661994993,
          -0.09678541069859871,
          0.173370680041757,
          -1.2981749752643537,
          1.3738875794910574,
          0.2588831786041221,
          -0.7751203954645283,
          1.0235422117199084,
          -0.17078991614864422,
          0.5178310017005542,
          1.4252487443336075,
          0.5986421771739376,
          0.00012468312148118674,
          -0.07918885046371128,
          -0.07066943142440128,
          0.27120551991121505,
          -0.17843715264909218,
          -0.6608657615075663,
          -0.7270807114405403,
          -0.26447327537479665,
          -2.0438668083832763,
          -0.2299981939576035,
          -0.8910449032322855,
          1.034275149566397,
          -0.9177435852018307,
          0.19894408500110364,
          -0.7164975130739492,
          1.2148894899779028
         ],
         "yaxis": "y10"
        },
        {
         "histfunc": "count",
         "histnorm": "",
         "marker": {
          "color": "rgba(50, 171, 96, 1.0)",
          "line": {
           "color": "#4D5663",
           "width": 1.3
          }
         },
         "name": "C",
         "nbinsx": 10,
         "opacity": 0.8,
         "orientation": "v",
         "type": "histogram",
         "x": [
          -0.9434643656074901,
          1.3444124766656895,
          0.17215909063527174,
          1.5537108414134235,
          -0.8910657518417112,
          0.9625961588955709,
          -0.7058012979046439,
          -0.8552277436696232,
          1.4718647392330557,
          -0.5667933660428515,
          -0.13808742621551356,
          -2.1593838274223716,
          -1.2164789868025245,
          0.6016906031522246,
          -0.8569527606176405,
          0.2538313681544378,
          0.9662815812595507,
          -1.1107794200315244,
          -0.49198421681841026,
          1.4333950492188858,
          0.8102746822753875,
          0.2722784351380484,
          -0.7779613530334486,
          -0.11726359178260841,
          -0.07580299986785653,
          -0.057168163538652804,
          -0.46843620115874907,
          0.28097168164343683,
          -0.6088775429730605,
          -1.499345603805868,
          0.1703427766461955,
          -0.4424946226581365,
          0.48147984724528303,
          -0.6220281105477253,
          2.2519035852945883,
          -1.2827110761298643,
          -0.08807562925290076,
          -0.584091630306514,
          0.18382780655640937,
          0.1787983022040505,
          0.19911199737135604,
          0.9643454769373196,
          0.8328190902756328,
          0.8343707828812497,
          1.1178891740417924,
          0.8856074976565256,
          -1.7145192750679596,
          -0.5855897567918643,
          0.5708138958813657,
          -0.8182849705937587,
          -1.9925783563554824,
          -1.248896832265893,
          -0.44740539286760544,
          2.249297379891929,
          -0.007105998157687052,
          0.006096193285520275,
          0.5519063561670956,
          -0.051574783887322305,
          0.8204387541719532,
          -0.33078874723067697,
          -0.655185252731514,
          -0.14456220270363163,
          0.41494809014388495,
          -1.0391737180128005,
          -0.7143709725774835,
          0.09697552242272921,
          -1.5237280027765399,
          -0.7988127472717743,
          1.6302857946111504,
          -0.052812423674299135,
          -0.8847578470900589,
          3.2684681581501107,
          -0.029685356661994993,
          -0.09678541069859871,
          0.173370680041757,
          -1.2981749752643537,
          1.3738875794910574,
          0.2588831786041221,
          -0.7751203954645283,
          1.0235422117199084,
          -0.17078991614864422,
          0.5178310017005542,
          1.4252487443336075,
          0.5986421771739376,
          0.00012468312148118674,
          -0.07918885046371128,
          -0.07066943142440128,
          0.27120551991121505,
          -0.17843715264909218,
          -0.6608657615075663,
          -0.7270807114405403,
          -0.26447327537479665,
          -2.0438668083832763,
          -0.2299981939576035,
          -0.8910449032322855,
          1.034275149566397,
          -0.9177435852018307,
          0.19894408500110364,
          -0.7164975130739492,
          1.2148894899779028
         ],
         "xaxis": "x11",
         "yaxis": "y11"
        },
        {
         "line": {
          "color": "rgba(128, 128, 128, 1.0)",
          "dash": "solid",
          "shape": "linear",
          "width": 1.3
         },
         "marker": {
          "size": 2,
          "symbol": "circle"
         },
         "mode": "markers",
         "name": "C",
         "text": "",
         "type": "scatter",
         "x": [
          -0.9835317302822373,
          -0.602085452129363,
          0.7038156479662266,
          1.984095995297494,
          -0.7235930944526109,
          0.34180371172634566,
          1.6240904513430607,
          -2.596926088005319,
          -1.2168714050909983,
          0.8440421104254345,
          0.16922500771872154,
          -0.9118484850509705,
          1.2167090938038219,
          -1.8908544466553652,
          0.72350841523467,
          0.8720215982140032,
          0.7493892613533375,
          0.4092332958269358,
          -0.9169211121796843,
          0.2177840438471423,
          0.35721248770531744,
          -1.4009701304809954,
          -0.2468849733447492,
          1.3536297940967401,
          0.6471602894444082,
          1.6996312235381028,
          -0.03581837302474589,
          -0.4994937232070557,
          -0.5157880663881521,
          -0.21447973435086495,
          -1.3983631192688413,
          -0.051814319532285096,
          1.1034101470139979,
          -0.11133824418599521,
          -0.4403568329715678,
          -1.1083790709929835,
          -1.9697705701951271,
          -0.0307005264533092,
          0.5115907052546382,
          1.058260699174405,
          -0.3778204222077217,
          0.8902998209480225,
          -0.15595178828960424,
          1.7495572908370873,
          -2.1169646865707357,
          -1.9214149460540764,
          1.2208113989714382,
          -1.4097208383444755,
          -1.0807539677084463,
          -0.37636652583167246,
          -0.7253721652919294,
          -0.9803003945233395,
          1.3557398765711672,
          -0.3192142688300996,
          0.32856282893038424,
          0.6787554006630662,
          0.5543057406940548,
          0.5301275454067832,
          -1.2207874364283946,
          -0.736664542596436,
          1.6345288193550631,
          -0.20309780472812647,
          -0.3465455266138488,
          -0.8467389836181894,
          0.008226275620721746,
          -0.8407614205889379,
          -1.2030422882596896,
          -0.32769640233491126,
          0.07798247920353843,
          -0.22150142303399079,
          -1.2026607248521823,
          1.0592320852461656,
          -0.5194947728236432,
          -0.02008509492317327,
          -0.9434819554517148,
          0.024895693435208876,
          -0.8103435273153045,
          -1.2406744017535674,
          -0.3328402849146345,
          -0.17750229574983345,
          -0.45614954358203197,
          0.3960872033369166,
          -2.12299009828048,
          -0.2788854203709273,
          0.019928939876970125,
          -1.271604593412063,
          0.6579477188485843,
          -0.26507153754724055,
          -0.6486900871115029,
          -1.6124367249139295,
          0.051348172534486244,
          0.49693291464762784,
          -2.308935640488484,
          -1.285235970506294,
          -0.737053421390977,
          0.9178878747978111,
          -0.394630616388896,
          0.04903297606795281,
          0.3394151124652293,
          0.7340769051278897
         ],
         "xaxis": "x12",
         "y": [
          -0.9434643656074901,
          1.3444124766656895,
          0.17215909063527174,
          1.5537108414134235,
          -0.8910657518417112,
          0.9625961588955709,
          -0.7058012979046439,
          -0.8552277436696232,
          1.4718647392330557,
          -0.5667933660428515,
          -0.13808742621551356,
          -2.1593838274223716,
          -1.2164789868025245,
          0.6016906031522246,
          -0.8569527606176405,
          0.2538313681544378,
          0.9662815812595507,
          -1.1107794200315244,
          -0.49198421681841026,
          1.4333950492188858,
          0.8102746822753875,
          0.2722784351380484,
          -0.7779613530334486,
          -0.11726359178260841,
          -0.07580299986785653,
          -0.057168163538652804,
          -0.46843620115874907,
          0.28097168164343683,
          -0.6088775429730605,
          -1.499345603805868,
          0.1703427766461955,
          -0.4424946226581365,
          0.48147984724528303,
          -0.6220281105477253,
          2.2519035852945883,
          -1.2827110761298643,
          -0.08807562925290076,
          -0.584091630306514,
          0.18382780655640937,
          0.1787983022040505,
          0.19911199737135604,
          0.9643454769373196,
          0.8328190902756328,
          0.8343707828812497,
          1.1178891740417924,
          0.8856074976565256,
          -1.7145192750679596,
          -0.5855897567918643,
          0.5708138958813657,
          -0.8182849705937587,
          -1.9925783563554824,
          -1.248896832265893,
          -0.44740539286760544,
          2.249297379891929,
          -0.007105998157687052,
          0.006096193285520275,
          0.5519063561670956,
          -0.051574783887322305,
          0.8204387541719532,
          -0.33078874723067697,
          -0.655185252731514,
          -0.14456220270363163,
          0.41494809014388495,
          -1.0391737180128005,
          -0.7143709725774835,
          0.09697552242272921,
          -1.5237280027765399,
          -0.7988127472717743,
          1.6302857946111504,
          -0.052812423674299135,
          -0.8847578470900589,
          3.2684681581501107,
          -0.029685356661994993,
          -0.09678541069859871,
          0.173370680041757,
          -1.2981749752643537,
          1.3738875794910574,
          0.2588831786041221,
          -0.7751203954645283,
          1.0235422117199084,
          -0.17078991614864422,
          0.5178310017005542,
          1.4252487443336075,
          0.5986421771739376,
          0.00012468312148118674,
          -0.07918885046371128,
          -0.07066943142440128,
          0.27120551991121505,
          -0.17843715264909218,
          -0.6608657615075663,
          -0.7270807114405403,
          -0.26447327537479665,
          -2.0438668083832763,
          -0.2299981939576035,
          -0.8910449032322855,
          1.034275149566397,
          -0.9177435852018307,
          0.19894408500110364,
          -0.7164975130739492,
          1.2148894899779028
         ],
         "yaxis": "y12"
        },
        {
         "line": {
          "color": "rgba(128, 128, 128, 1.0)",
          "dash": "solid",
          "shape": "linear",
          "width": 1.3
         },
         "marker": {
          "size": 2,
          "symbol": "circle"
         },
         "mode": "markers",
         "name": "D",
         "text": "",
         "type": "scatter",
         "x": [
          0.7142777740002493,
          1.7199028467107027,
          -0.656803403254399,
          -0.37392620679314936,
          -0.31606590443921007,
          0.35505889405438235,
          0.30268661008777253,
          -0.20025345133011221,
          -0.7836855248050619,
          -0.8001492342950658,
          0.5139621668662798,
          0.6479247398677027,
          -0.7211676148282345,
          0.7194291364909836,
          -0.2163419153726224,
          -0.4804535209362682,
          -0.714837323622347,
          1.1990673445619522,
          0.32378499945067485,
          0.32720073545032413,
          -1.2416640093536817,
          -1.0964978401145988,
          -2.1451300195809617,
          -0.4095271017607454,
          -0.45316941062315785,
          -1.122925074551881,
          1.534771250157007,
          0.8082105077168469,
          0.2029478602650499,
          0.8792395730528462,
          1.6238072982147747,
          -1.689598035108892,
          0.7172442956307108,
          1.4796357413226466,
          0.10848653839183443,
          0.2651199463165854,
          -0.448360276786736,
          -0.8717512540566079,
          -1.673236517973046,
          0.15762999583840775,
          0.3231114754169684,
          -2.132193362543313,
          -1.9211723050134575,
          0.2923166142946065,
          1.0379779669930023,
          0.04206636875091591,
          -0.6015462970886982,
          -0.7081127368965313,
          -0.13272123239646805,
          2.289950608975294,
          -0.1742026494967424,
          0.59635132291716,
          0.991485617310549,
          -0.15785058610376146,
          0.15891339279876676,
          1.323390106354316,
          0.7895370254885591,
          0.3639551791777413,
          -2.55375949966317,
          -0.939382779591616,
          -0.8616920966398784,
          0.7238203508712924,
          2.0611264931219995,
          -1.0673993007785716,
          1.4850336351104063,
          -0.17536273373016378,
          -0.6586113604808225,
          1.0852382724029959,
          0.09988394766108045,
          0.26697145343793954,
          -0.508604167253295,
          -0.8952623555402414,
          -0.6681146819732109,
          0.1744415811250902,
          -0.09704809142761688,
          -0.3951710675259424,
          0.724433828075461,
          0.19331020672322452,
          1.31690463122668,
          -0.5019748382265561,
          0.21407155559326627,
          -1.2923542370415495,
          0.6016718634605939,
          -0.16503701845514213,
          1.5203243551375871,
          -0.6557452100418191,
          1.1703097186619138,
          0.4213445354585947,
          1.1003148707214743,
          0.1503838317476397,
          -0.9970229620212248,
          -0.10549357398256586,
          0.3859715646698864,
          0.08402541190919727,
          0.1854135916396423,
          -1.2952897277314197,
          -0.4213245059694718,
          0.7618730883422946,
          -0.23464880537146648,
          -1.7371251770094929
         ],
         "xaxis": "x13",
         "y": [
          -0.9835317302822373,
          -0.602085452129363,
          0.7038156479662266,
          1.984095995297494,
          -0.7235930944526109,
          0.34180371172634566,
          1.6240904513430607,
          -2.596926088005319,
          -1.2168714050909983,
          0.8440421104254345,
          0.16922500771872154,
          -0.9118484850509705,
          1.2167090938038219,
          -1.8908544466553652,
          0.72350841523467,
          0.8720215982140032,
          0.7493892613533375,
          0.4092332958269358,
          -0.9169211121796843,
          0.2177840438471423,
          0.35721248770531744,
          -1.4009701304809954,
          -0.2468849733447492,
          1.3536297940967401,
          0.6471602894444082,
          1.6996312235381028,
          -0.03581837302474589,
          -0.4994937232070557,
          -0.5157880663881521,
          -0.21447973435086495,
          -1.3983631192688413,
          -0.051814319532285096,
          1.1034101470139979,
          -0.11133824418599521,
          -0.4403568329715678,
          -1.1083790709929835,
          -1.9697705701951271,
          -0.0307005264533092,
          0.5115907052546382,
          1.058260699174405,
          -0.3778204222077217,
          0.8902998209480225,
          -0.15595178828960424,
          1.7495572908370873,
          -2.1169646865707357,
          -1.9214149460540764,
          1.2208113989714382,
          -1.4097208383444755,
          -1.0807539677084463,
          -0.37636652583167246,
          -0.7253721652919294,
          -0.9803003945233395,
          1.3557398765711672,
          -0.3192142688300996,
          0.32856282893038424,
          0.6787554006630662,
          0.5543057406940548,
          0.5301275454067832,
          -1.2207874364283946,
          -0.736664542596436,
          1.6345288193550631,
          -0.20309780472812647,
          -0.3465455266138488,
          -0.8467389836181894,
          0.008226275620721746,
          -0.8407614205889379,
          -1.2030422882596896,
          -0.32769640233491126,
          0.07798247920353843,
          -0.22150142303399079,
          -1.2026607248521823,
          1.0592320852461656,
          -0.5194947728236432,
          -0.02008509492317327,
          -0.9434819554517148,
          0.024895693435208876,
          -0.8103435273153045,
          -1.2406744017535674,
          -0.3328402849146345,
          -0.17750229574983345,
          -0.45614954358203197,
          0.3960872033369166,
          -2.12299009828048,
          -0.2788854203709273,
          0.019928939876970125,
          -1.271604593412063,
          0.6579477188485843,
          -0.26507153754724055,
          -0.6486900871115029,
          -1.6124367249139295,
          0.051348172534486244,
          0.49693291464762784,
          -2.308935640488484,
          -1.285235970506294,
          -0.737053421390977,
          0.9178878747978111,
          -0.394630616388896,
          0.04903297606795281,
          0.3394151124652293,
          0.7340769051278897
         ],
         "yaxis": "y13"
        },
        {
         "line": {
          "color": "rgba(128, 128, 128, 1.0)",
          "dash": "solid",
          "shape": "linear",
          "width": 1.3
         },
         "marker": {
          "size": 2,
          "symbol": "circle"
         },
         "mode": "markers",
         "name": "D",
         "text": "",
         "type": "scatter",
         "x": [
          0.02113025316214141,
          -2.4679781393279625,
          0.483335436464977,
          0.23343275183544257,
          -0.013530670263819523,
          -0.25274605724693644,
          0.3473353391647001,
          0.05850946264135038,
          -0.33167398556150796,
          -0.5826505647985586,
          -0.5849294552086969,
          -0.31954105313749986,
          1.1986692559184746,
          0.5966633134733866,
          0.6735564992413137,
          -0.9235167788445138,
          -0.6352924694076183,
          1.9740394707525353,
          1.121083702891913,
          -1.4310412193140811,
          0.05236734426799687,
          1.1564237708409333,
          -0.862590797069598,
          0.9883197350285711,
          1.2405829125319803,
          -1.0349746567626237,
          1.1142415536603365,
          -0.510931014535598,
          0.33929255036864875,
          -1.7086447062048555,
          0.1623300555860231,
          -0.7894296447142766,
          0.27146494353613027,
          -0.9233581078784034,
          0.9239563585106843,
          1.240190084937,
          -0.24909041604582954,
          0.46770430331130614,
          1.087508384368392,
          0.7268497068857239,
          -1.9801224820571879,
          -0.3970011783608756,
          -0.8788799454353752,
          0.5246463683079379,
          -1.2308441568728488,
          1.1572020049571972,
          -1.9034609401747042,
          -0.044874475896686826,
          0.5636849694689087,
          -1.2124159074387677,
          1.528049782679351,
          1.2094085465743554,
          -0.6850443070661522,
          -0.9845636294532993,
          -0.9884039790626893,
          -0.262251577330043,
          1.9418229652153194,
          2.0214228285512976,
          -0.0966652922560624,
          -0.10214164808690887,
          0.06395063021477436,
          0.3820445412170909,
          0.2864661093929553,
          0.8494860488516242,
          -0.735311071083744,
          0.22491638213831677,
          -1.5771082822829272,
          0.34539482297280133,
          -0.403319262277709,
          -0.36892593978662797,
          -0.5724218689783241,
          -0.7071986529983127,
          0.4349982418571607,
          1.351847447933669,
          1.6166636282389513,
          0.10911788388401762,
          -2.2510302223138137,
          -0.6388474141987549,
          -0.7170590400106103,
          -0.3771644409300306,
          0.6891544594565927,
          -0.7584405091564508,
          0.6514487791821924,
          0.10571500752184819,
          -1.56410209229144,
          -0.661226422718267,
          0.6375051523459719,
          1.0505603467091036,
          -0.2043218769687843,
          0.18733893178586658,
          1.0311879603876744,
          0.6931802933281493,
          0.3879960879915357,
          -0.5919503305272049,
          0.02626106472165012,
          -0.5409760417361436,
          -0.10754065770234249,
          0.13368455578919725,
          0.47896581167577396,
          -0.11524343282222889
         ],
         "xaxis": "x14",
         "y": [
          -0.9835317302822373,
          -0.602085452129363,
          0.7038156479662266,
          1.984095995297494,
          -0.7235930944526109,
          0.34180371172634566,
          1.6240904513430607,
          -2.596926088005319,
          -1.2168714050909983,
          0.8440421104254345,
          0.16922500771872154,
          -0.9118484850509705,
          1.2167090938038219,
          -1.8908544466553652,
          0.72350841523467,
          0.8720215982140032,
          0.7493892613533375,
          0.4092332958269358,
          -0.9169211121796843,
          0.2177840438471423,
          0.35721248770531744,
          -1.4009701304809954,
          -0.2468849733447492,
          1.3536297940967401,
          0.6471602894444082,
          1.6996312235381028,
          -0.03581837302474589,
          -0.4994937232070557,
          -0.5157880663881521,
          -0.21447973435086495,
          -1.3983631192688413,
          -0.051814319532285096,
          1.1034101470139979,
          -0.11133824418599521,
          -0.4403568329715678,
          -1.1083790709929835,
          -1.9697705701951271,
          -0.0307005264533092,
          0.5115907052546382,
          1.058260699174405,
          -0.3778204222077217,
          0.8902998209480225,
          -0.15595178828960424,
          1.7495572908370873,
          -2.1169646865707357,
          -1.9214149460540764,
          1.2208113989714382,
          -1.4097208383444755,
          -1.0807539677084463,
          -0.37636652583167246,
          -0.7253721652919294,
          -0.9803003945233395,
          1.3557398765711672,
          -0.3192142688300996,
          0.32856282893038424,
          0.6787554006630662,
          0.5543057406940548,
          0.5301275454067832,
          -1.2207874364283946,
          -0.736664542596436,
          1.6345288193550631,
          -0.20309780472812647,
          -0.3465455266138488,
          -0.8467389836181894,
          0.008226275620721746,
          -0.8407614205889379,
          -1.2030422882596896,
          -0.32769640233491126,
          0.07798247920353843,
          -0.22150142303399079,
          -1.2026607248521823,
          1.0592320852461656,
          -0.5194947728236432,
          -0.02008509492317327,
          -0.9434819554517148,
          0.024895693435208876,
          -0.8103435273153045,
          -1.2406744017535674,
          -0.3328402849146345,
          -0.17750229574983345,
          -0.45614954358203197,
          0.3960872033369166,
          -2.12299009828048,
          -0.2788854203709273,
          0.019928939876970125,
          -1.271604593412063,
          0.6579477188485843,
          -0.26507153754724055,
          -0.6486900871115029,
          -1.6124367249139295,
          0.051348172534486244,
          0.49693291464762784,
          -2.308935640488484,
          -1.285235970506294,
          -0.737053421390977,
          0.9178878747978111,
          -0.394630616388896,
          0.04903297606795281,
          0.3394151124652293,
          0.7340769051278897
         ],
         "yaxis": "y14"
        },
        {
         "line": {
          "color": "rgba(128, 128, 128, 1.0)",
          "dash": "solid",
          "shape": "linear",
          "width": 1.3
         },
         "marker": {
          "size": 2,
          "symbol": "circle"
         },
         "mode": "markers",
         "name": "D",
         "text": "",
         "type": "scatter",
         "x": [
          -0.9434643656074901,
          1.3444124766656895,
          0.17215909063527174,
          1.5537108414134235,
          -0.8910657518417112,
          0.9625961588955709,
          -0.7058012979046439,
          -0.8552277436696232,
          1.4718647392330557,
          -0.5667933660428515,
          -0.13808742621551356,
          -2.1593838274223716,
          -1.2164789868025245,
          0.6016906031522246,
          -0.8569527606176405,
          0.2538313681544378,
          0.9662815812595507,
          -1.1107794200315244,
          -0.49198421681841026,
          1.4333950492188858,
          0.8102746822753875,
          0.2722784351380484,
          -0.7779613530334486,
          -0.11726359178260841,
          -0.07580299986785653,
          -0.057168163538652804,
          -0.46843620115874907,
          0.28097168164343683,
          -0.6088775429730605,
          -1.499345603805868,
          0.1703427766461955,
          -0.4424946226581365,
          0.48147984724528303,
          -0.6220281105477253,
          2.2519035852945883,
          -1.2827110761298643,
          -0.08807562925290076,
          -0.584091630306514,
          0.18382780655640937,
          0.1787983022040505,
          0.19911199737135604,
          0.9643454769373196,
          0.8328190902756328,
          0.8343707828812497,
          1.1178891740417924,
          0.8856074976565256,
          -1.7145192750679596,
          -0.5855897567918643,
          0.5708138958813657,
          -0.8182849705937587,
          -1.9925783563554824,
          -1.248896832265893,
          -0.44740539286760544,
          2.249297379891929,
          -0.007105998157687052,
          0.006096193285520275,
          0.5519063561670956,
          -0.051574783887322305,
          0.8204387541719532,
          -0.33078874723067697,
          -0.655185252731514,
          -0.14456220270363163,
          0.41494809014388495,
          -1.0391737180128005,
          -0.7143709725774835,
          0.09697552242272921,
          -1.5237280027765399,
          -0.7988127472717743,
          1.6302857946111504,
          -0.052812423674299135,
          -0.8847578470900589,
          3.2684681581501107,
          -0.029685356661994993,
          -0.09678541069859871,
          0.173370680041757,
          -1.2981749752643537,
          1.3738875794910574,
          0.2588831786041221,
          -0.7751203954645283,
          1.0235422117199084,
          -0.17078991614864422,
          0.5178310017005542,
          1.4252487443336075,
          0.5986421771739376,
          0.00012468312148118674,
          -0.07918885046371128,
          -0.07066943142440128,
          0.27120551991121505,
          -0.17843715264909218,
          -0.6608657615075663,
          -0.7270807114405403,
          -0.26447327537479665,
          -2.0438668083832763,
          -0.2299981939576035,
          -0.8910449032322855,
          1.034275149566397,
          -0.9177435852018307,
          0.19894408500110364,
          -0.7164975130739492,
          1.2148894899779028
         ],
         "xaxis": "x15",
         "y": [
          -0.9835317302822373,
          -0.602085452129363,
          0.7038156479662266,
          1.984095995297494,
          -0.7235930944526109,
          0.34180371172634566,
          1.6240904513430607,
          -2.596926088005319,
          -1.2168714050909983,
          0.8440421104254345,
          0.16922500771872154,
          -0.9118484850509705,
          1.2167090938038219,
          -1.8908544466553652,
          0.72350841523467,
          0.8720215982140032,
          0.7493892613533375,
          0.4092332958269358,
          -0.9169211121796843,
          0.2177840438471423,
          0.35721248770531744,
          -1.4009701304809954,
          -0.2468849733447492,
          1.3536297940967401,
          0.6471602894444082,
          1.6996312235381028,
          -0.03581837302474589,
          -0.4994937232070557,
          -0.5157880663881521,
          -0.21447973435086495,
          -1.3983631192688413,
          -0.051814319532285096,
          1.1034101470139979,
          -0.11133824418599521,
          -0.4403568329715678,
          -1.1083790709929835,
          -1.9697705701951271,
          -0.0307005264533092,
          0.5115907052546382,
          1.058260699174405,
          -0.3778204222077217,
          0.8902998209480225,
          -0.15595178828960424,
          1.7495572908370873,
          -2.1169646865707357,
          -1.9214149460540764,
          1.2208113989714382,
          -1.4097208383444755,
          -1.0807539677084463,
          -0.37636652583167246,
          -0.7253721652919294,
          -0.9803003945233395,
          1.3557398765711672,
          -0.3192142688300996,
          0.32856282893038424,
          0.6787554006630662,
          0.5543057406940548,
          0.5301275454067832,
          -1.2207874364283946,
          -0.736664542596436,
          1.6345288193550631,
          -0.20309780472812647,
          -0.3465455266138488,
          -0.8467389836181894,
          0.008226275620721746,
          -0.8407614205889379,
          -1.2030422882596896,
          -0.32769640233491126,
          0.07798247920353843,
          -0.22150142303399079,
          -1.2026607248521823,
          1.0592320852461656,
          -0.5194947728236432,
          -0.02008509492317327,
          -0.9434819554517148,
          0.024895693435208876,
          -0.8103435273153045,
          -1.2406744017535674,
          -0.3328402849146345,
          -0.17750229574983345,
          -0.45614954358203197,
          0.3960872033369166,
          -2.12299009828048,
          -0.2788854203709273,
          0.019928939876970125,
          -1.271604593412063,
          0.6579477188485843,
          -0.26507153754724055,
          -0.6486900871115029,
          -1.6124367249139295,
          0.051348172534486244,
          0.49693291464762784,
          -2.308935640488484,
          -1.285235970506294,
          -0.737053421390977,
          0.9178878747978111,
          -0.394630616388896,
          0.04903297606795281,
          0.3394151124652293,
          0.7340769051278897
         ],
         "yaxis": "y15"
        },
        {
         "histfunc": "count",
         "histnorm": "",
         "marker": {
          "color": "rgba(128, 0, 128, 1.0)",
          "line": {
           "color": "#4D5663",
           "width": 1.3
          }
         },
         "name": "D",
         "nbinsx": 10,
         "opacity": 0.8,
         "orientation": "v",
         "type": "histogram",
         "x": [
          -0.9835317302822373,
          -0.602085452129363,
          0.7038156479662266,
          1.984095995297494,
          -0.7235930944526109,
          0.34180371172634566,
          1.6240904513430607,
          -2.596926088005319,
          -1.2168714050909983,
          0.8440421104254345,
          0.16922500771872154,
          -0.9118484850509705,
          1.2167090938038219,
          -1.8908544466553652,
          0.72350841523467,
          0.8720215982140032,
          0.7493892613533375,
          0.4092332958269358,
          -0.9169211121796843,
          0.2177840438471423,
          0.35721248770531744,
          -1.4009701304809954,
          -0.2468849733447492,
          1.3536297940967401,
          0.6471602894444082,
          1.6996312235381028,
          -0.03581837302474589,
          -0.4994937232070557,
          -0.5157880663881521,
          -0.21447973435086495,
          -1.3983631192688413,
          -0.051814319532285096,
          1.1034101470139979,
          -0.11133824418599521,
          -0.4403568329715678,
          -1.1083790709929835,
          -1.9697705701951271,
          -0.0307005264533092,
          0.5115907052546382,
          1.058260699174405,
          -0.3778204222077217,
          0.8902998209480225,
          -0.15595178828960424,
          1.7495572908370873,
          -2.1169646865707357,
          -1.9214149460540764,
          1.2208113989714382,
          -1.4097208383444755,
          -1.0807539677084463,
          -0.37636652583167246,
          -0.7253721652919294,
          -0.9803003945233395,
          1.3557398765711672,
          -0.3192142688300996,
          0.32856282893038424,
          0.6787554006630662,
          0.5543057406940548,
          0.5301275454067832,
          -1.2207874364283946,
          -0.736664542596436,
          1.6345288193550631,
          -0.20309780472812647,
          -0.3465455266138488,
          -0.8467389836181894,
          0.008226275620721746,
          -0.8407614205889379,
          -1.2030422882596896,
          -0.32769640233491126,
          0.07798247920353843,
          -0.22150142303399079,
          -1.2026607248521823,
          1.0592320852461656,
          -0.5194947728236432,
          -0.02008509492317327,
          -0.9434819554517148,
          0.024895693435208876,
          -0.8103435273153045,
          -1.2406744017535674,
          -0.3328402849146345,
          -0.17750229574983345,
          -0.45614954358203197,
          0.3960872033369166,
          -2.12299009828048,
          -0.2788854203709273,
          0.019928939876970125,
          -1.271604593412063,
          0.6579477188485843,
          -0.26507153754724055,
          -0.6486900871115029,
          -1.6124367249139295,
          0.051348172534486244,
          0.49693291464762784,
          -2.308935640488484,
          -1.285235970506294,
          -0.737053421390977,
          0.9178878747978111,
          -0.394630616388896,
          0.04903297606795281,
          0.3394151124652293,
          0.7340769051278897
         ],
         "xaxis": "x16",
         "yaxis": "y16"
        }
       ],
       "layout": {
        "bargap": 0.02,
        "legend": {
         "bgcolor": "#F5F6F9",
         "font": {
          "color": "#4D5663"
         }
        },
        "paper_bgcolor": "#F5F6F9",
        "plot_bgcolor": "#F5F6F9",
        "showlegend": false,
        "template": {
         "data": {
          "bar": [
           {
            "error_x": {
             "color": "#2a3f5f"
            },
            "error_y": {
             "color": "#2a3f5f"
            },
            "marker": {
             "line": {
              "color": "#E5ECF6",
              "width": 0.5
             },
             "pattern": {
              "fillmode": "overlay",
              "size": 10,
              "solidity": 0.2
             }
            },
            "type": "bar"
           }
          ],
          "barpolar": [
           {
            "marker": {
             "line": {
              "color": "#E5ECF6",
              "width": 0.5
             },
             "pattern": {
              "fillmode": "overlay",
              "size": 10,
              "solidity": 0.2
             }
            },
            "type": "barpolar"
           }
          ],
          "carpet": [
           {
            "aaxis": {
             "endlinecolor": "#2a3f5f",
             "gridcolor": "white",
             "linecolor": "white",
             "minorgridcolor": "white",
             "startlinecolor": "#2a3f5f"
            },
            "baxis": {
             "endlinecolor": "#2a3f5f",
             "gridcolor": "white",
             "linecolor": "white",
             "minorgridcolor": "white",
             "startlinecolor": "#2a3f5f"
            },
            "type": "carpet"
           }
          ],
          "choropleth": [
           {
            "colorbar": {
             "outlinewidth": 0,
             "ticks": ""
            },
            "type": "choropleth"
           }
          ],
          "contour": [
           {
            "colorbar": {
             "outlinewidth": 0,
             "ticks": ""
            },
            "colorscale": [
             [
              0,
              "#0d0887"
             ],
             [
              0.1111111111111111,
              "#46039f"
             ],
             [
              0.2222222222222222,
              "#7201a8"
             ],
             [
              0.3333333333333333,
              "#9c179e"
             ],
             [
              0.4444444444444444,
              "#bd3786"
             ],
             [
              0.5555555555555556,
              "#d8576b"
             ],
             [
              0.6666666666666666,
              "#ed7953"
             ],
             [
              0.7777777777777778,
              "#fb9f3a"
             ],
             [
              0.8888888888888888,
              "#fdca26"
             ],
             [
              1,
              "#f0f921"
             ]
            ],
            "type": "contour"
           }
          ],
          "contourcarpet": [
           {
            "colorbar": {
             "outlinewidth": 0,
             "ticks": ""
            },
            "type": "contourcarpet"
           }
          ],
          "heatmap": [
           {
            "colorbar": {
             "outlinewidth": 0,
             "ticks": ""
            },
            "colorscale": [
             [
              0,
              "#0d0887"
             ],
             [
              0.1111111111111111,
              "#46039f"
             ],
             [
              0.2222222222222222,
              "#7201a8"
             ],
             [
              0.3333333333333333,
              "#9c179e"
             ],
             [
              0.4444444444444444,
              "#bd3786"
             ],
             [
              0.5555555555555556,
              "#d8576b"
             ],
             [
              0.6666666666666666,
              "#ed7953"
             ],
             [
              0.7777777777777778,
              "#fb9f3a"
             ],
             [
              0.8888888888888888,
              "#fdca26"
             ],
             [
              1,
              "#f0f921"
             ]
            ],
            "type": "heatmap"
           }
          ],
          "heatmapgl": [
           {
            "colorbar": {
             "outlinewidth": 0,
             "ticks": ""
            },
            "colorscale": [
             [
              0,
              "#0d0887"
             ],
             [
              0.1111111111111111,
              "#46039f"
             ],
             [
              0.2222222222222222,
              "#7201a8"
             ],
             [
              0.3333333333333333,
              "#9c179e"
             ],
             [
              0.4444444444444444,
              "#bd3786"
             ],
             [
              0.5555555555555556,
              "#d8576b"
             ],
             [
              0.6666666666666666,
              "#ed7953"
             ],
             [
              0.7777777777777778,
              "#fb9f3a"
             ],
             [
              0.8888888888888888,
              "#fdca26"
             ],
             [
              1,
              "#f0f921"
             ]
            ],
            "type": "heatmapgl"
           }
          ],
          "histogram": [
           {
            "marker": {
             "pattern": {
              "fillmode": "overlay",
              "size": 10,
              "solidity": 0.2
             }
            },
            "type": "histogram"
           }
          ],
          "histogram2d": [
           {
            "colorbar": {
             "outlinewidth": 0,
             "ticks": ""
            },
            "colorscale": [
             [
              0,
              "#0d0887"
             ],
             [
              0.1111111111111111,
              "#46039f"
             ],
             [
              0.2222222222222222,
              "#7201a8"
             ],
             [
              0.3333333333333333,
              "#9c179e"
             ],
             [
              0.4444444444444444,
              "#bd3786"
             ],
             [
              0.5555555555555556,
              "#d8576b"
             ],
             [
              0.6666666666666666,
              "#ed7953"
             ],
             [
              0.7777777777777778,
              "#fb9f3a"
             ],
             [
              0.8888888888888888,
              "#fdca26"
             ],
             [
              1,
              "#f0f921"
             ]
            ],
            "type": "histogram2d"
           }
          ],
          "histogram2dcontour": [
           {
            "colorbar": {
             "outlinewidth": 0,
             "ticks": ""
            },
            "colorscale": [
             [
              0,
              "#0d0887"
             ],
             [
              0.1111111111111111,
              "#46039f"
             ],
             [
              0.2222222222222222,
              "#7201a8"
             ],
             [
              0.3333333333333333,
              "#9c179e"
             ],
             [
              0.4444444444444444,
              "#bd3786"
             ],
             [
              0.5555555555555556,
              "#d8576b"
             ],
             [
              0.6666666666666666,
              "#ed7953"
             ],
             [
              0.7777777777777778,
              "#fb9f3a"
             ],
             [
              0.8888888888888888,
              "#fdca26"
             ],
             [
              1,
              "#f0f921"
             ]
            ],
            "type": "histogram2dcontour"
           }
          ],
          "mesh3d": [
           {
            "colorbar": {
             "outlinewidth": 0,
             "ticks": ""
            },
            "type": "mesh3d"
           }
          ],
          "parcoords": [
           {
            "line": {
             "colorbar": {
              "outlinewidth": 0,
              "ticks": ""
             }
            },
            "type": "parcoords"
           }
          ],
          "pie": [
           {
            "automargin": true,
            "type": "pie"
           }
          ],
          "scatter": [
           {
            "fillpattern": {
             "fillmode": "overlay",
             "size": 10,
             "solidity": 0.2
            },
            "type": "scatter"
           }
          ],
          "scatter3d": [
           {
            "line": {
             "colorbar": {
              "outlinewidth": 0,
              "ticks": ""
             }
            },
            "marker": {
             "colorbar": {
              "outlinewidth": 0,
              "ticks": ""
             }
            },
            "type": "scatter3d"
           }
          ],
          "scattercarpet": [
           {
            "marker": {
             "colorbar": {
              "outlinewidth": 0,
              "ticks": ""
             }
            },
            "type": "scattercarpet"
           }
          ],
          "scattergeo": [
           {
            "marker": {
             "colorbar": {
              "outlinewidth": 0,
              "ticks": ""
             }
            },
            "type": "scattergeo"
           }
          ],
          "scattergl": [
           {
            "marker": {
             "colorbar": {
              "outlinewidth": 0,
              "ticks": ""
             }
            },
            "type": "scattergl"
           }
          ],
          "scattermapbox": [
           {
            "marker": {
             "colorbar": {
              "outlinewidth": 0,
              "ticks": ""
             }
            },
            "type": "scattermapbox"
           }
          ],
          "scatterpolar": [
           {
            "marker": {
             "colorbar": {
              "outlinewidth": 0,
              "ticks": ""
             }
            },
            "type": "scatterpolar"
           }
          ],
          "scatterpolargl": [
           {
            "marker": {
             "colorbar": {
              "outlinewidth": 0,
              "ticks": ""
             }
            },
            "type": "scatterpolargl"
           }
          ],
          "scatterternary": [
           {
            "marker": {
             "colorbar": {
              "outlinewidth": 0,
              "ticks": ""
             }
            },
            "type": "scatterternary"
           }
          ],
          "surface": [
           {
            "colorbar": {
             "outlinewidth": 0,
             "ticks": ""
            },
            "colorscale": [
             [
              0,
              "#0d0887"
             ],
             [
              0.1111111111111111,
              "#46039f"
             ],
             [
              0.2222222222222222,
              "#7201a8"
             ],
             [
              0.3333333333333333,
              "#9c179e"
             ],
             [
              0.4444444444444444,
              "#bd3786"
             ],
             [
              0.5555555555555556,
              "#d8576b"
             ],
             [
              0.6666666666666666,
              "#ed7953"
             ],
             [
              0.7777777777777778,
              "#fb9f3a"
             ],
             [
              0.8888888888888888,
              "#fdca26"
             ],
             [
              1,
              "#f0f921"
             ]
            ],
            "type": "surface"
           }
          ],
          "table": [
           {
            "cells": {
             "fill": {
              "color": "#EBF0F8"
             },
             "line": {
              "color": "white"
             }
            },
            "header": {
             "fill": {
              "color": "#C8D4E3"
             },
             "line": {
              "color": "white"
             }
            },
            "type": "table"
           }
          ]
         },
         "layout": {
          "annotationdefaults": {
           "arrowcolor": "#2a3f5f",
           "arrowhead": 0,
           "arrowwidth": 1
          },
          "autotypenumbers": "strict",
          "coloraxis": {
           "colorbar": {
            "outlinewidth": 0,
            "ticks": ""
           }
          },
          "colorscale": {
           "diverging": [
            [
             0,
             "#8e0152"
            ],
            [
             0.1,
             "#c51b7d"
            ],
            [
             0.2,
             "#de77ae"
            ],
            [
             0.3,
             "#f1b6da"
            ],
            [
             0.4,
             "#fde0ef"
            ],
            [
             0.5,
             "#f7f7f7"
            ],
            [
             0.6,
             "#e6f5d0"
            ],
            [
             0.7,
             "#b8e186"
            ],
            [
             0.8,
             "#7fbc41"
            ],
            [
             0.9,
             "#4d9221"
            ],
            [
             1,
             "#276419"
            ]
           ],
           "sequential": [
            [
             0,
             "#0d0887"
            ],
            [
             0.1111111111111111,
             "#46039f"
            ],
            [
             0.2222222222222222,
             "#7201a8"
            ],
            [
             0.3333333333333333,
             "#9c179e"
            ],
            [
             0.4444444444444444,
             "#bd3786"
            ],
            [
             0.5555555555555556,
             "#d8576b"
            ],
            [
             0.6666666666666666,
             "#ed7953"
            ],
            [
             0.7777777777777778,
             "#fb9f3a"
            ],
            [
             0.8888888888888888,
             "#fdca26"
            ],
            [
             1,
             "#f0f921"
            ]
           ],
           "sequentialminus": [
            [
             0,
             "#0d0887"
            ],
            [
             0.1111111111111111,
             "#46039f"
            ],
            [
             0.2222222222222222,
             "#7201a8"
            ],
            [
             0.3333333333333333,
             "#9c179e"
            ],
            [
             0.4444444444444444,
             "#bd3786"
            ],
            [
             0.5555555555555556,
             "#d8576b"
            ],
            [
             0.6666666666666666,
             "#ed7953"
            ],
            [
             0.7777777777777778,
             "#fb9f3a"
            ],
            [
             0.8888888888888888,
             "#fdca26"
            ],
            [
             1,
             "#f0f921"
            ]
           ]
          },
          "colorway": [
           "#636efa",
           "#EF553B",
           "#00cc96",
           "#ab63fa",
           "#FFA15A",
           "#19d3f3",
           "#FF6692",
           "#B6E880",
           "#FF97FF",
           "#FECB52"
          ],
          "font": {
           "color": "#2a3f5f"
          },
          "geo": {
           "bgcolor": "white",
           "lakecolor": "white",
           "landcolor": "#E5ECF6",
           "showlakes": true,
           "showland": true,
           "subunitcolor": "white"
          },
          "hoverlabel": {
           "align": "left"
          },
          "hovermode": "closest",
          "mapbox": {
           "style": "light"
          },
          "paper_bgcolor": "white",
          "plot_bgcolor": "#E5ECF6",
          "polar": {
           "angularaxis": {
            "gridcolor": "white",
            "linecolor": "white",
            "ticks": ""
           },
           "bgcolor": "#E5ECF6",
           "radialaxis": {
            "gridcolor": "white",
            "linecolor": "white",
            "ticks": ""
           }
          },
          "scene": {
           "xaxis": {
            "backgroundcolor": "#E5ECF6",
            "gridcolor": "white",
            "gridwidth": 2,
            "linecolor": "white",
            "showbackground": true,
            "ticks": "",
            "zerolinecolor": "white"
           },
           "yaxis": {
            "backgroundcolor": "#E5ECF6",
            "gridcolor": "white",
            "gridwidth": 2,
            "linecolor": "white",
            "showbackground": true,
            "ticks": "",
            "zerolinecolor": "white"
           },
           "zaxis": {
            "backgroundcolor": "#E5ECF6",
            "gridcolor": "white",
            "gridwidth": 2,
            "linecolor": "white",
            "showbackground": true,
            "ticks": "",
            "zerolinecolor": "white"
           }
          },
          "shapedefaults": {
           "line": {
            "color": "#2a3f5f"
           }
          },
          "ternary": {
           "aaxis": {
            "gridcolor": "white",
            "linecolor": "white",
            "ticks": ""
           },
           "baxis": {
            "gridcolor": "white",
            "linecolor": "white",
            "ticks": ""
           },
           "bgcolor": "#E5ECF6",
           "caxis": {
            "gridcolor": "white",
            "linecolor": "white",
            "ticks": ""
           }
          },
          "title": {
           "x": 0.05
          },
          "xaxis": {
           "automargin": true,
           "gridcolor": "white",
           "linecolor": "white",
           "ticks": "",
           "title": {
            "standoff": 15
           },
           "zerolinecolor": "white",
           "zerolinewidth": 2
          },
          "yaxis": {
           "automargin": true,
           "gridcolor": "white",
           "linecolor": "white",
           "ticks": "",
           "title": {
            "standoff": 15
           },
           "zerolinecolor": "white",
           "zerolinewidth": 2
          }
         }
        },
        "title": {
         "font": {
          "color": "#4D5663"
         }
        },
        "xaxis": {
         "anchor": "y",
         "domain": [
          0,
          0.2125
         ],
         "gridcolor": "#E1E5ED",
         "showgrid": false,
         "tickfont": {
          "color": "#4D5663"
         },
         "title": {
          "font": {
           "color": "#4D5663"
          },
          "text": ""
         },
         "zerolinecolor": "#E1E5ED"
        },
        "xaxis10": {
         "anchor": "y10",
         "domain": [
          0.2625,
          0.475
         ],
         "gridcolor": "#E1E5ED",
         "showgrid": false,
         "tickfont": {
          "color": "#4D5663"
         },
         "title": {
          "font": {
           "color": "#4D5663"
          },
          "text": ""
         },
         "zerolinecolor": "#E1E5ED"
        },
        "xaxis11": {
         "anchor": "y11",
         "domain": [
          0.525,
          0.7375
         ],
         "gridcolor": "#E1E5ED",
         "showgrid": false,
         "tickfont": {
          "color": "#4D5663"
         },
         "title": {
          "font": {
           "color": "#4D5663"
          },
          "text": ""
         },
         "zerolinecolor": "#E1E5ED"
        },
        "xaxis12": {
         "anchor": "y12",
         "domain": [
          0.7875,
          1
         ],
         "gridcolor": "#E1E5ED",
         "showgrid": false,
         "tickfont": {
          "color": "#4D5663"
         },
         "title": {
          "font": {
           "color": "#4D5663"
          },
          "text": ""
         },
         "zerolinecolor": "#E1E5ED"
        },
        "xaxis13": {
         "anchor": "y13",
         "domain": [
          0,
          0.2125
         ],
         "gridcolor": "#E1E5ED",
         "showgrid": false,
         "tickfont": {
          "color": "#4D5663"
         },
         "title": {
          "font": {
           "color": "#4D5663"
          },
          "text": ""
         },
         "zerolinecolor": "#E1E5ED"
        },
        "xaxis14": {
         "anchor": "y14",
         "domain": [
          0.2625,
          0.475
         ],
         "gridcolor": "#E1E5ED",
         "showgrid": false,
         "tickfont": {
          "color": "#4D5663"
         },
         "title": {
          "font": {
           "color": "#4D5663"
          },
          "text": ""
         },
         "zerolinecolor": "#E1E5ED"
        },
        "xaxis15": {
         "anchor": "y15",
         "domain": [
          0.525,
          0.7375
         ],
         "gridcolor": "#E1E5ED",
         "showgrid": false,
         "tickfont": {
          "color": "#4D5663"
         },
         "title": {
          "font": {
           "color": "#4D5663"
          },
          "text": ""
         },
         "zerolinecolor": "#E1E5ED"
        },
        "xaxis16": {
         "anchor": "y16",
         "domain": [
          0.7875,
          1
         ],
         "gridcolor": "#E1E5ED",
         "showgrid": false,
         "tickfont": {
          "color": "#4D5663"
         },
         "title": {
          "font": {
           "color": "#4D5663"
          },
          "text": ""
         },
         "zerolinecolor": "#E1E5ED"
        },
        "xaxis2": {
         "anchor": "y2",
         "domain": [
          0.2625,
          0.475
         ],
         "gridcolor": "#E1E5ED",
         "showgrid": false,
         "tickfont": {
          "color": "#4D5663"
         },
         "title": {
          "font": {
           "color": "#4D5663"
          },
          "text": ""
         },
         "zerolinecolor": "#E1E5ED"
        },
        "xaxis3": {
         "anchor": "y3",
         "domain": [
          0.525,
          0.7375
         ],
         "gridcolor": "#E1E5ED",
         "showgrid": false,
         "tickfont": {
          "color": "#4D5663"
         },
         "title": {
          "font": {
           "color": "#4D5663"
          },
          "text": ""
         },
         "zerolinecolor": "#E1E5ED"
        },
        "xaxis4": {
         "anchor": "y4",
         "domain": [
          0.7875,
          1
         ],
         "gridcolor": "#E1E5ED",
         "showgrid": false,
         "tickfont": {
          "color": "#4D5663"
         },
         "title": {
          "font": {
           "color": "#4D5663"
          },
          "text": ""
         },
         "zerolinecolor": "#E1E5ED"
        },
        "xaxis5": {
         "anchor": "y5",
         "domain": [
          0,
          0.2125
         ],
         "gridcolor": "#E1E5ED",
         "showgrid": false,
         "tickfont": {
          "color": "#4D5663"
         },
         "title": {
          "font": {
           "color": "#4D5663"
          },
          "text": ""
         },
         "zerolinecolor": "#E1E5ED"
        },
        "xaxis6": {
         "anchor": "y6",
         "domain": [
          0.2625,
          0.475
         ],
         "gridcolor": "#E1E5ED",
         "showgrid": false,
         "tickfont": {
          "color": "#4D5663"
         },
         "title": {
          "font": {
           "color": "#4D5663"
          },
          "text": ""
         },
         "zerolinecolor": "#E1E5ED"
        },
        "xaxis7": {
         "anchor": "y7",
         "domain": [
          0.525,
          0.7375
         ],
         "gridcolor": "#E1E5ED",
         "showgrid": false,
         "tickfont": {
          "color": "#4D5663"
         },
         "title": {
          "font": {
           "color": "#4D5663"
          },
          "text": ""
         },
         "zerolinecolor": "#E1E5ED"
        },
        "xaxis8": {
         "anchor": "y8",
         "domain": [
          0.7875,
          1
         ],
         "gridcolor": "#E1E5ED",
         "showgrid": false,
         "tickfont": {
          "color": "#4D5663"
         },
         "title": {
          "font": {
           "color": "#4D5663"
          },
          "text": ""
         },
         "zerolinecolor": "#E1E5ED"
        },
        "xaxis9": {
         "anchor": "y9",
         "domain": [
          0,
          0.2125
         ],
         "gridcolor": "#E1E5ED",
         "showgrid": false,
         "tickfont": {
          "color": "#4D5663"
         },
         "title": {
          "font": {
           "color": "#4D5663"
          },
          "text": ""
         },
         "zerolinecolor": "#E1E5ED"
        },
        "yaxis": {
         "anchor": "x",
         "domain": [
          0.8025,
          1
         ],
         "gridcolor": "#E1E5ED",
         "showgrid": false,
         "tickfont": {
          "color": "#4D5663"
         },
         "title": {
          "font": {
           "color": "#4D5663"
          },
          "text": ""
         },
         "zerolinecolor": "#E1E5ED"
        },
        "yaxis10": {
         "anchor": "x10",
         "domain": [
          0.2675,
          0.465
         ],
         "gridcolor": "#E1E5ED",
         "showgrid": false,
         "tickfont": {
          "color": "#4D5663"
         },
         "title": {
          "font": {
           "color": "#4D5663"
          },
          "text": ""
         },
         "zerolinecolor": "#E1E5ED"
        },
        "yaxis11": {
         "anchor": "x11",
         "domain": [
          0.2675,
          0.465
         ],
         "gridcolor": "#E1E5ED",
         "showgrid": false,
         "tickfont": {
          "color": "#4D5663"
         },
         "title": {
          "font": {
           "color": "#4D5663"
          },
          "text": ""
         },
         "zerolinecolor": "#E1E5ED"
        },
        "yaxis12": {
         "anchor": "x12",
         "domain": [
          0.2675,
          0.465
         ],
         "gridcolor": "#E1E5ED",
         "showgrid": false,
         "tickfont": {
          "color": "#4D5663"
         },
         "title": {
          "font": {
           "color": "#4D5663"
          },
          "text": ""
         },
         "zerolinecolor": "#E1E5ED"
        },
        "yaxis13": {
         "anchor": "x13",
         "domain": [
          0,
          0.1975
         ],
         "gridcolor": "#E1E5ED",
         "showgrid": false,
         "tickfont": {
          "color": "#4D5663"
         },
         "title": {
          "font": {
           "color": "#4D5663"
          },
          "text": ""
         },
         "zerolinecolor": "#E1E5ED"
        },
        "yaxis14": {
         "anchor": "x14",
         "domain": [
          0,
          0.1975
         ],
         "gridcolor": "#E1E5ED",
         "showgrid": false,
         "tickfont": {
          "color": "#4D5663"
         },
         "title": {
          "font": {
           "color": "#4D5663"
          },
          "text": ""
         },
         "zerolinecolor": "#E1E5ED"
        },
        "yaxis15": {
         "anchor": "x15",
         "domain": [
          0,
          0.1975
         ],
         "gridcolor": "#E1E5ED",
         "showgrid": false,
         "tickfont": {
          "color": "#4D5663"
         },
         "title": {
          "font": {
           "color": "#4D5663"
          },
          "text": ""
         },
         "zerolinecolor": "#E1E5ED"
        },
        "yaxis16": {
         "anchor": "x16",
         "domain": [
          0,
          0.1975
         ],
         "gridcolor": "#E1E5ED",
         "showgrid": false,
         "tickfont": {
          "color": "#4D5663"
         },
         "title": {
          "font": {
           "color": "#4D5663"
          },
          "text": ""
         },
         "zerolinecolor": "#E1E5ED"
        },
        "yaxis2": {
         "anchor": "x2",
         "domain": [
          0.8025,
          1
         ],
         "gridcolor": "#E1E5ED",
         "showgrid": false,
         "tickfont": {
          "color": "#4D5663"
         },
         "title": {
          "font": {
           "color": "#4D5663"
          },
          "text": ""
         },
         "zerolinecolor": "#E1E5ED"
        },
        "yaxis3": {
         "anchor": "x3",
         "domain": [
          0.8025,
          1
         ],
         "gridcolor": "#E1E5ED",
         "showgrid": false,
         "tickfont": {
          "color": "#4D5663"
         },
         "title": {
          "font": {
           "color": "#4D5663"
          },
          "text": ""
         },
         "zerolinecolor": "#E1E5ED"
        },
        "yaxis4": {
         "anchor": "x4",
         "domain": [
          0.8025,
          1
         ],
         "gridcolor": "#E1E5ED",
         "showgrid": false,
         "tickfont": {
          "color": "#4D5663"
         },
         "title": {
          "font": {
           "color": "#4D5663"
          },
          "text": ""
         },
         "zerolinecolor": "#E1E5ED"
        },
        "yaxis5": {
         "anchor": "x5",
         "domain": [
          0.535,
          0.7325
         ],
         "gridcolor": "#E1E5ED",
         "showgrid": false,
         "tickfont": {
          "color": "#4D5663"
         },
         "title": {
          "font": {
           "color": "#4D5663"
          },
          "text": ""
         },
         "zerolinecolor": "#E1E5ED"
        },
        "yaxis6": {
         "anchor": "x6",
         "domain": [
          0.535,
          0.7325
         ],
         "gridcolor": "#E1E5ED",
         "showgrid": false,
         "tickfont": {
          "color": "#4D5663"
         },
         "title": {
          "font": {
           "color": "#4D5663"
          },
          "text": ""
         },
         "zerolinecolor": "#E1E5ED"
        },
        "yaxis7": {
         "anchor": "x7",
         "domain": [
          0.535,
          0.7325
         ],
         "gridcolor": "#E1E5ED",
         "showgrid": false,
         "tickfont": {
          "color": "#4D5663"
         },
         "title": {
          "font": {
           "color": "#4D5663"
          },
          "text": ""
         },
         "zerolinecolor": "#E1E5ED"
        },
        "yaxis8": {
         "anchor": "x8",
         "domain": [
          0.535,
          0.7325
         ],
         "gridcolor": "#E1E5ED",
         "showgrid": false,
         "tickfont": {
          "color": "#4D5663"
         },
         "title": {
          "font": {
           "color": "#4D5663"
          },
          "text": ""
         },
         "zerolinecolor": "#E1E5ED"
        },
        "yaxis9": {
         "anchor": "x9",
         "domain": [
          0.2675,
          0.465
         ],
         "gridcolor": "#E1E5ED",
         "showgrid": false,
         "tickfont": {
          "color": "#4D5663"
         },
         "title": {
          "font": {
           "color": "#4D5663"
          },
          "text": ""
         },
         "zerolinecolor": "#E1E5ED"
        }
       }
      },
      "text/html": [
       "<div>                            <div id=\"958c4ca4-7eb7-48ca-b301-659243bb0eed\" class=\"plotly-graph-div\" style=\"height:525px; width:100%;\"></div>            <script type=\"text/javascript\">                require([\"plotly\"], function(Plotly) {                    window.PLOTLYENV=window.PLOTLYENV || {};\n",
       "                    window.PLOTLYENV.BASE_URL='https://plot.ly';                                    if (document.getElementById(\"958c4ca4-7eb7-48ca-b301-659243bb0eed\")) {                    Plotly.newPlot(                        \"958c4ca4-7eb7-48ca-b301-659243bb0eed\",                        [{\"histfunc\":\"count\",\"histnorm\":\"\",\"marker\":{\"color\":\"rgba(255, 153, 51, 1.0)\",\"line\":{\"color\":\"#4D5663\",\"width\":1.3}},\"name\":\"A\",\"nbinsx\":10,\"opacity\":0.8,\"orientation\":\"v\",\"x\":[0.7142777740002493,1.7199028467107027,-0.656803403254399,-0.37392620679314936,-0.31606590443921007,0.35505889405438235,0.30268661008777253,-0.20025345133011221,-0.7836855248050619,-0.8001492342950658,0.5139621668662798,0.6479247398677027,-0.7211676148282345,0.7194291364909836,-0.2163419153726224,-0.4804535209362682,-0.714837323622347,1.1990673445619522,0.32378499945067485,0.32720073545032413,-1.2416640093536817,-1.0964978401145988,-2.1451300195809617,-0.4095271017607454,-0.45316941062315785,-1.122925074551881,1.534771250157007,0.8082105077168469,0.2029478602650499,0.8792395730528462,1.6238072982147747,-1.689598035108892,0.7172442956307108,1.4796357413226466,0.10848653839183443,0.2651199463165854,-0.448360276786736,-0.8717512540566079,-1.673236517973046,0.15762999583840775,0.3231114754169684,-2.132193362543313,-1.9211723050134575,0.2923166142946065,1.0379779669930023,0.04206636875091591,-0.6015462970886982,-0.7081127368965313,-0.13272123239646805,2.289950608975294,-0.1742026494967424,0.59635132291716,0.991485617310549,-0.15785058610376146,0.15891339279876676,1.323390106354316,0.7895370254885591,0.3639551791777413,-2.55375949966317,-0.939382779591616,-0.8616920966398784,0.7238203508712924,2.0611264931219995,-1.0673993007785716,1.4850336351104063,-0.17536273373016378,-0.6586113604808225,1.0852382724029959,0.09988394766108045,0.26697145343793954,-0.508604167253295,-0.8952623555402414,-0.6681146819732109,0.1744415811250902,-0.09704809142761688,-0.3951710675259424,0.724433828075461,0.19331020672322452,1.31690463122668,-0.5019748382265561,0.21407155559326627,-1.2923542370415495,0.6016718634605939,-0.16503701845514213,1.5203243551375871,-0.6557452100418191,1.1703097186619138,0.4213445354585947,1.1003148707214743,0.1503838317476397,-0.9970229620212248,-0.10549357398256586,0.3859715646698864,0.08402541190919727,0.1854135916396423,-1.2952897277314197,-0.4213245059694718,0.7618730883422946,-0.23464880537146648,-1.7371251770094929],\"xaxis\":\"x\",\"yaxis\":\"y\",\"type\":\"histogram\"},{\"line\":{\"color\":\"rgba(128, 128, 128, 1.0)\",\"dash\":\"solid\",\"shape\":\"linear\",\"width\":1.3},\"marker\":{\"size\":2,\"symbol\":\"circle\"},\"mode\":\"markers\",\"name\":\"A\",\"text\":\"\",\"x\":[0.02113025316214141,-2.4679781393279625,0.483335436464977,0.23343275183544257,-0.013530670263819523,-0.25274605724693644,0.3473353391647001,0.05850946264135038,-0.33167398556150796,-0.5826505647985586,-0.5849294552086969,-0.31954105313749986,1.1986692559184746,0.5966633134733866,0.6735564992413137,-0.9235167788445138,-0.6352924694076183,1.9740394707525353,1.121083702891913,-1.4310412193140811,0.05236734426799687,1.1564237708409333,-0.862590797069598,0.9883197350285711,1.2405829125319803,-1.0349746567626237,1.1142415536603365,-0.510931014535598,0.33929255036864875,-1.7086447062048555,0.1623300555860231,-0.7894296447142766,0.27146494353613027,-0.9233581078784034,0.9239563585106843,1.240190084937,-0.24909041604582954,0.46770430331130614,1.087508384368392,0.7268497068857239,-1.9801224820571879,-0.3970011783608756,-0.8788799454353752,0.5246463683079379,-1.2308441568728488,1.1572020049571972,-1.9034609401747042,-0.044874475896686826,0.5636849694689087,-1.2124159074387677,1.528049782679351,1.2094085465743554,-0.6850443070661522,-0.9845636294532993,-0.9884039790626893,-0.262251577330043,1.9418229652153194,2.0214228285512976,-0.0966652922560624,-0.10214164808690887,0.06395063021477436,0.3820445412170909,0.2864661093929553,0.8494860488516242,-0.735311071083744,0.22491638213831677,-1.5771082822829272,0.34539482297280133,-0.403319262277709,-0.36892593978662797,-0.5724218689783241,-0.7071986529983127,0.4349982418571607,1.351847447933669,1.6166636282389513,0.10911788388401762,-2.2510302223138137,-0.6388474141987549,-0.7170590400106103,-0.3771644409300306,0.6891544594565927,-0.7584405091564508,0.6514487791821924,0.10571500752184819,-1.56410209229144,-0.661226422718267,0.6375051523459719,1.0505603467091036,-0.2043218769687843,0.18733893178586658,1.0311879603876744,0.6931802933281493,0.3879960879915357,-0.5919503305272049,0.02626106472165012,-0.5409760417361436,-0.10754065770234249,0.13368455578919725,0.47896581167577396,-0.11524343282222889],\"xaxis\":\"x2\",\"y\":[0.7142777740002493,1.7199028467107027,-0.656803403254399,-0.37392620679314936,-0.31606590443921007,0.35505889405438235,0.30268661008777253,-0.20025345133011221,-0.7836855248050619,-0.8001492342950658,0.5139621668662798,0.6479247398677027,-0.7211676148282345,0.7194291364909836,-0.2163419153726224,-0.4804535209362682,-0.714837323622347,1.1990673445619522,0.32378499945067485,0.32720073545032413,-1.2416640093536817,-1.0964978401145988,-2.1451300195809617,-0.4095271017607454,-0.45316941062315785,-1.122925074551881,1.534771250157007,0.8082105077168469,0.2029478602650499,0.8792395730528462,1.6238072982147747,-1.689598035108892,0.7172442956307108,1.4796357413226466,0.10848653839183443,0.2651199463165854,-0.448360276786736,-0.8717512540566079,-1.673236517973046,0.15762999583840775,0.3231114754169684,-2.132193362543313,-1.9211723050134575,0.2923166142946065,1.0379779669930023,0.04206636875091591,-0.6015462970886982,-0.7081127368965313,-0.13272123239646805,2.289950608975294,-0.1742026494967424,0.59635132291716,0.991485617310549,-0.15785058610376146,0.15891339279876676,1.323390106354316,0.7895370254885591,0.3639551791777413,-2.55375949966317,-0.939382779591616,-0.8616920966398784,0.7238203508712924,2.0611264931219995,-1.0673993007785716,1.4850336351104063,-0.17536273373016378,-0.6586113604808225,1.0852382724029959,0.09988394766108045,0.26697145343793954,-0.508604167253295,-0.8952623555402414,-0.6681146819732109,0.1744415811250902,-0.09704809142761688,-0.3951710675259424,0.724433828075461,0.19331020672322452,1.31690463122668,-0.5019748382265561,0.21407155559326627,-1.2923542370415495,0.6016718634605939,-0.16503701845514213,1.5203243551375871,-0.6557452100418191,1.1703097186619138,0.4213445354585947,1.1003148707214743,0.1503838317476397,-0.9970229620212248,-0.10549357398256586,0.3859715646698864,0.08402541190919727,0.1854135916396423,-1.2952897277314197,-0.4213245059694718,0.7618730883422946,-0.23464880537146648,-1.7371251770094929],\"yaxis\":\"y2\",\"type\":\"scatter\"},{\"line\":{\"color\":\"rgba(128, 128, 128, 1.0)\",\"dash\":\"solid\",\"shape\":\"linear\",\"width\":1.3},\"marker\":{\"size\":2,\"symbol\":\"circle\"},\"mode\":\"markers\",\"name\":\"A\",\"text\":\"\",\"x\":[-0.9434643656074901,1.3444124766656895,0.17215909063527174,1.5537108414134235,-0.8910657518417112,0.9625961588955709,-0.7058012979046439,-0.8552277436696232,1.4718647392330557,-0.5667933660428515,-0.13808742621551356,-2.1593838274223716,-1.2164789868025245,0.6016906031522246,-0.8569527606176405,0.2538313681544378,0.9662815812595507,-1.1107794200315244,-0.49198421681841026,1.4333950492188858,0.8102746822753875,0.2722784351380484,-0.7779613530334486,-0.11726359178260841,-0.07580299986785653,-0.057168163538652804,-0.46843620115874907,0.28097168164343683,-0.6088775429730605,-1.499345603805868,0.1703427766461955,-0.4424946226581365,0.48147984724528303,-0.6220281105477253,2.2519035852945883,-1.2827110761298643,-0.08807562925290076,-0.584091630306514,0.18382780655640937,0.1787983022040505,0.19911199737135604,0.9643454769373196,0.8328190902756328,0.8343707828812497,1.1178891740417924,0.8856074976565256,-1.7145192750679596,-0.5855897567918643,0.5708138958813657,-0.8182849705937587,-1.9925783563554824,-1.248896832265893,-0.44740539286760544,2.249297379891929,-0.007105998157687052,0.006096193285520275,0.5519063561670956,-0.051574783887322305,0.8204387541719532,-0.33078874723067697,-0.655185252731514,-0.14456220270363163,0.41494809014388495,-1.0391737180128005,-0.7143709725774835,0.09697552242272921,-1.5237280027765399,-0.7988127472717743,1.6302857946111504,-0.052812423674299135,-0.8847578470900589,3.2684681581501107,-0.029685356661994993,-0.09678541069859871,0.173370680041757,-1.2981749752643537,1.3738875794910574,0.2588831786041221,-0.7751203954645283,1.0235422117199084,-0.17078991614864422,0.5178310017005542,1.4252487443336075,0.5986421771739376,0.00012468312148118674,-0.07918885046371128,-0.07066943142440128,0.27120551991121505,-0.17843715264909218,-0.6608657615075663,-0.7270807114405403,-0.26447327537479665,-2.0438668083832763,-0.2299981939576035,-0.8910449032322855,1.034275149566397,-0.9177435852018307,0.19894408500110364,-0.7164975130739492,1.2148894899779028],\"xaxis\":\"x3\",\"y\":[0.7142777740002493,1.7199028467107027,-0.656803403254399,-0.37392620679314936,-0.31606590443921007,0.35505889405438235,0.30268661008777253,-0.20025345133011221,-0.7836855248050619,-0.8001492342950658,0.5139621668662798,0.6479247398677027,-0.7211676148282345,0.7194291364909836,-0.2163419153726224,-0.4804535209362682,-0.714837323622347,1.1990673445619522,0.32378499945067485,0.32720073545032413,-1.2416640093536817,-1.0964978401145988,-2.1451300195809617,-0.4095271017607454,-0.45316941062315785,-1.122925074551881,1.534771250157007,0.8082105077168469,0.2029478602650499,0.8792395730528462,1.6238072982147747,-1.689598035108892,0.7172442956307108,1.4796357413226466,0.10848653839183443,0.2651199463165854,-0.448360276786736,-0.8717512540566079,-1.673236517973046,0.15762999583840775,0.3231114754169684,-2.132193362543313,-1.9211723050134575,0.2923166142946065,1.0379779669930023,0.04206636875091591,-0.6015462970886982,-0.7081127368965313,-0.13272123239646805,2.289950608975294,-0.1742026494967424,0.59635132291716,0.991485617310549,-0.15785058610376146,0.15891339279876676,1.323390106354316,0.7895370254885591,0.3639551791777413,-2.55375949966317,-0.939382779591616,-0.8616920966398784,0.7238203508712924,2.0611264931219995,-1.0673993007785716,1.4850336351104063,-0.17536273373016378,-0.6586113604808225,1.0852382724029959,0.09988394766108045,0.26697145343793954,-0.508604167253295,-0.8952623555402414,-0.6681146819732109,0.1744415811250902,-0.09704809142761688,-0.3951710675259424,0.724433828075461,0.19331020672322452,1.31690463122668,-0.5019748382265561,0.21407155559326627,-1.2923542370415495,0.6016718634605939,-0.16503701845514213,1.5203243551375871,-0.6557452100418191,1.1703097186619138,0.4213445354585947,1.1003148707214743,0.1503838317476397,-0.9970229620212248,-0.10549357398256586,0.3859715646698864,0.08402541190919727,0.1854135916396423,-1.2952897277314197,-0.4213245059694718,0.7618730883422946,-0.23464880537146648,-1.7371251770094929],\"yaxis\":\"y3\",\"type\":\"scatter\"},{\"line\":{\"color\":\"rgba(128, 128, 128, 1.0)\",\"dash\":\"solid\",\"shape\":\"linear\",\"width\":1.3},\"marker\":{\"size\":2,\"symbol\":\"circle\"},\"mode\":\"markers\",\"name\":\"A\",\"text\":\"\",\"x\":[-0.9835317302822373,-0.602085452129363,0.7038156479662266,1.984095995297494,-0.7235930944526109,0.34180371172634566,1.6240904513430607,-2.596926088005319,-1.2168714050909983,0.8440421104254345,0.16922500771872154,-0.9118484850509705,1.2167090938038219,-1.8908544466553652,0.72350841523467,0.8720215982140032,0.7493892613533375,0.4092332958269358,-0.9169211121796843,0.2177840438471423,0.35721248770531744,-1.4009701304809954,-0.2468849733447492,1.3536297940967401,0.6471602894444082,1.6996312235381028,-0.03581837302474589,-0.4994937232070557,-0.5157880663881521,-0.21447973435086495,-1.3983631192688413,-0.051814319532285096,1.1034101470139979,-0.11133824418599521,-0.4403568329715678,-1.1083790709929835,-1.9697705701951271,-0.0307005264533092,0.5115907052546382,1.058260699174405,-0.3778204222077217,0.8902998209480225,-0.15595178828960424,1.7495572908370873,-2.1169646865707357,-1.9214149460540764,1.2208113989714382,-1.4097208383444755,-1.0807539677084463,-0.37636652583167246,-0.7253721652919294,-0.9803003945233395,1.3557398765711672,-0.3192142688300996,0.32856282893038424,0.6787554006630662,0.5543057406940548,0.5301275454067832,-1.2207874364283946,-0.736664542596436,1.6345288193550631,-0.20309780472812647,-0.3465455266138488,-0.8467389836181894,0.008226275620721746,-0.8407614205889379,-1.2030422882596896,-0.32769640233491126,0.07798247920353843,-0.22150142303399079,-1.2026607248521823,1.0592320852461656,-0.5194947728236432,-0.02008509492317327,-0.9434819554517148,0.024895693435208876,-0.8103435273153045,-1.2406744017535674,-0.3328402849146345,-0.17750229574983345,-0.45614954358203197,0.3960872033369166,-2.12299009828048,-0.2788854203709273,0.019928939876970125,-1.271604593412063,0.6579477188485843,-0.26507153754724055,-0.6486900871115029,-1.6124367249139295,0.051348172534486244,0.49693291464762784,-2.308935640488484,-1.285235970506294,-0.737053421390977,0.9178878747978111,-0.394630616388896,0.04903297606795281,0.3394151124652293,0.7340769051278897],\"xaxis\":\"x4\",\"y\":[0.7142777740002493,1.7199028467107027,-0.656803403254399,-0.37392620679314936,-0.31606590443921007,0.35505889405438235,0.30268661008777253,-0.20025345133011221,-0.7836855248050619,-0.8001492342950658,0.5139621668662798,0.6479247398677027,-0.7211676148282345,0.7194291364909836,-0.2163419153726224,-0.4804535209362682,-0.714837323622347,1.1990673445619522,0.32378499945067485,0.32720073545032413,-1.2416640093536817,-1.0964978401145988,-2.1451300195809617,-0.4095271017607454,-0.45316941062315785,-1.122925074551881,1.534771250157007,0.8082105077168469,0.2029478602650499,0.8792395730528462,1.6238072982147747,-1.689598035108892,0.7172442956307108,1.4796357413226466,0.10848653839183443,0.2651199463165854,-0.448360276786736,-0.8717512540566079,-1.673236517973046,0.15762999583840775,0.3231114754169684,-2.132193362543313,-1.9211723050134575,0.2923166142946065,1.0379779669930023,0.04206636875091591,-0.6015462970886982,-0.7081127368965313,-0.13272123239646805,2.289950608975294,-0.1742026494967424,0.59635132291716,0.991485617310549,-0.15785058610376146,0.15891339279876676,1.323390106354316,0.7895370254885591,0.3639551791777413,-2.55375949966317,-0.939382779591616,-0.8616920966398784,0.7238203508712924,2.0611264931219995,-1.0673993007785716,1.4850336351104063,-0.17536273373016378,-0.6586113604808225,1.0852382724029959,0.09988394766108045,0.26697145343793954,-0.508604167253295,-0.8952623555402414,-0.6681146819732109,0.1744415811250902,-0.09704809142761688,-0.3951710675259424,0.724433828075461,0.19331020672322452,1.31690463122668,-0.5019748382265561,0.21407155559326627,-1.2923542370415495,0.6016718634605939,-0.16503701845514213,1.5203243551375871,-0.6557452100418191,1.1703097186619138,0.4213445354585947,1.1003148707214743,0.1503838317476397,-0.9970229620212248,-0.10549357398256586,0.3859715646698864,0.08402541190919727,0.1854135916396423,-1.2952897277314197,-0.4213245059694718,0.7618730883422946,-0.23464880537146648,-1.7371251770094929],\"yaxis\":\"y4\",\"type\":\"scatter\"},{\"line\":{\"color\":\"rgba(128, 128, 128, 1.0)\",\"dash\":\"solid\",\"shape\":\"linear\",\"width\":1.3},\"marker\":{\"size\":2,\"symbol\":\"circle\"},\"mode\":\"markers\",\"name\":\"B\",\"text\":\"\",\"x\":[0.7142777740002493,1.7199028467107027,-0.656803403254399,-0.37392620679314936,-0.31606590443921007,0.35505889405438235,0.30268661008777253,-0.20025345133011221,-0.7836855248050619,-0.8001492342950658,0.5139621668662798,0.6479247398677027,-0.7211676148282345,0.7194291364909836,-0.2163419153726224,-0.4804535209362682,-0.714837323622347,1.1990673445619522,0.32378499945067485,0.32720073545032413,-1.2416640093536817,-1.0964978401145988,-2.1451300195809617,-0.4095271017607454,-0.45316941062315785,-1.122925074551881,1.534771250157007,0.8082105077168469,0.2029478602650499,0.8792395730528462,1.6238072982147747,-1.689598035108892,0.7172442956307108,1.4796357413226466,0.10848653839183443,0.2651199463165854,-0.448360276786736,-0.8717512540566079,-1.673236517973046,0.15762999583840775,0.3231114754169684,-2.132193362543313,-1.9211723050134575,0.2923166142946065,1.0379779669930023,0.04206636875091591,-0.6015462970886982,-0.7081127368965313,-0.13272123239646805,2.289950608975294,-0.1742026494967424,0.59635132291716,0.991485617310549,-0.15785058610376146,0.15891339279876676,1.323390106354316,0.7895370254885591,0.3639551791777413,-2.55375949966317,-0.939382779591616,-0.8616920966398784,0.7238203508712924,2.0611264931219995,-1.0673993007785716,1.4850336351104063,-0.17536273373016378,-0.6586113604808225,1.0852382724029959,0.09988394766108045,0.26697145343793954,-0.508604167253295,-0.8952623555402414,-0.6681146819732109,0.1744415811250902,-0.09704809142761688,-0.3951710675259424,0.724433828075461,0.19331020672322452,1.31690463122668,-0.5019748382265561,0.21407155559326627,-1.2923542370415495,0.6016718634605939,-0.16503701845514213,1.5203243551375871,-0.6557452100418191,1.1703097186619138,0.4213445354585947,1.1003148707214743,0.1503838317476397,-0.9970229620212248,-0.10549357398256586,0.3859715646698864,0.08402541190919727,0.1854135916396423,-1.2952897277314197,-0.4213245059694718,0.7618730883422946,-0.23464880537146648,-1.7371251770094929],\"xaxis\":\"x5\",\"y\":[0.02113025316214141,-2.4679781393279625,0.483335436464977,0.23343275183544257,-0.013530670263819523,-0.25274605724693644,0.3473353391647001,0.05850946264135038,-0.33167398556150796,-0.5826505647985586,-0.5849294552086969,-0.31954105313749986,1.1986692559184746,0.5966633134733866,0.6735564992413137,-0.9235167788445138,-0.6352924694076183,1.9740394707525353,1.121083702891913,-1.4310412193140811,0.05236734426799687,1.1564237708409333,-0.862590797069598,0.9883197350285711,1.2405829125319803,-1.0349746567626237,1.1142415536603365,-0.510931014535598,0.33929255036864875,-1.7086447062048555,0.1623300555860231,-0.7894296447142766,0.27146494353613027,-0.9233581078784034,0.9239563585106843,1.240190084937,-0.24909041604582954,0.46770430331130614,1.087508384368392,0.7268497068857239,-1.9801224820571879,-0.3970011783608756,-0.8788799454353752,0.5246463683079379,-1.2308441568728488,1.1572020049571972,-1.9034609401747042,-0.044874475896686826,0.5636849694689087,-1.2124159074387677,1.528049782679351,1.2094085465743554,-0.6850443070661522,-0.9845636294532993,-0.9884039790626893,-0.262251577330043,1.9418229652153194,2.0214228285512976,-0.0966652922560624,-0.10214164808690887,0.06395063021477436,0.3820445412170909,0.2864661093929553,0.8494860488516242,-0.735311071083744,0.22491638213831677,-1.5771082822829272,0.34539482297280133,-0.403319262277709,-0.36892593978662797,-0.5724218689783241,-0.7071986529983127,0.4349982418571607,1.351847447933669,1.6166636282389513,0.10911788388401762,-2.2510302223138137,-0.6388474141987549,-0.7170590400106103,-0.3771644409300306,0.6891544594565927,-0.7584405091564508,0.6514487791821924,0.10571500752184819,-1.56410209229144,-0.661226422718267,0.6375051523459719,1.0505603467091036,-0.2043218769687843,0.18733893178586658,1.0311879603876744,0.6931802933281493,0.3879960879915357,-0.5919503305272049,0.02626106472165012,-0.5409760417361436,-0.10754065770234249,0.13368455578919725,0.47896581167577396,-0.11524343282222889],\"yaxis\":\"y5\",\"type\":\"scatter\"},{\"histfunc\":\"count\",\"histnorm\":\"\",\"marker\":{\"color\":\"rgba(55, 128, 191, 1.0)\",\"line\":{\"color\":\"#4D5663\",\"width\":1.3}},\"name\":\"B\",\"nbinsx\":10,\"opacity\":0.8,\"orientation\":\"v\",\"x\":[0.02113025316214141,-2.4679781393279625,0.483335436464977,0.23343275183544257,-0.013530670263819523,-0.25274605724693644,0.3473353391647001,0.05850946264135038,-0.33167398556150796,-0.5826505647985586,-0.5849294552086969,-0.31954105313749986,1.1986692559184746,0.5966633134733866,0.6735564992413137,-0.9235167788445138,-0.6352924694076183,1.9740394707525353,1.121083702891913,-1.4310412193140811,0.05236734426799687,1.1564237708409333,-0.862590797069598,0.9883197350285711,1.2405829125319803,-1.0349746567626237,1.1142415536603365,-0.510931014535598,0.33929255036864875,-1.7086447062048555,0.1623300555860231,-0.7894296447142766,0.27146494353613027,-0.9233581078784034,0.9239563585106843,1.240190084937,-0.24909041604582954,0.46770430331130614,1.087508384368392,0.7268497068857239,-1.9801224820571879,-0.3970011783608756,-0.8788799454353752,0.5246463683079379,-1.2308441568728488,1.1572020049571972,-1.9034609401747042,-0.044874475896686826,0.5636849694689087,-1.2124159074387677,1.528049782679351,1.2094085465743554,-0.6850443070661522,-0.9845636294532993,-0.9884039790626893,-0.262251577330043,1.9418229652153194,2.0214228285512976,-0.0966652922560624,-0.10214164808690887,0.06395063021477436,0.3820445412170909,0.2864661093929553,0.8494860488516242,-0.735311071083744,0.22491638213831677,-1.5771082822829272,0.34539482297280133,-0.403319262277709,-0.36892593978662797,-0.5724218689783241,-0.7071986529983127,0.4349982418571607,1.351847447933669,1.6166636282389513,0.10911788388401762,-2.2510302223138137,-0.6388474141987549,-0.7170590400106103,-0.3771644409300306,0.6891544594565927,-0.7584405091564508,0.6514487791821924,0.10571500752184819,-1.56410209229144,-0.661226422718267,0.6375051523459719,1.0505603467091036,-0.2043218769687843,0.18733893178586658,1.0311879603876744,0.6931802933281493,0.3879960879915357,-0.5919503305272049,0.02626106472165012,-0.5409760417361436,-0.10754065770234249,0.13368455578919725,0.47896581167577396,-0.11524343282222889],\"xaxis\":\"x6\",\"yaxis\":\"y6\",\"type\":\"histogram\"},{\"line\":{\"color\":\"rgba(128, 128, 128, 1.0)\",\"dash\":\"solid\",\"shape\":\"linear\",\"width\":1.3},\"marker\":{\"size\":2,\"symbol\":\"circle\"},\"mode\":\"markers\",\"name\":\"B\",\"text\":\"\",\"x\":[-0.9434643656074901,1.3444124766656895,0.17215909063527174,1.5537108414134235,-0.8910657518417112,0.9625961588955709,-0.7058012979046439,-0.8552277436696232,1.4718647392330557,-0.5667933660428515,-0.13808742621551356,-2.1593838274223716,-1.2164789868025245,0.6016906031522246,-0.8569527606176405,0.2538313681544378,0.9662815812595507,-1.1107794200315244,-0.49198421681841026,1.4333950492188858,0.8102746822753875,0.2722784351380484,-0.7779613530334486,-0.11726359178260841,-0.07580299986785653,-0.057168163538652804,-0.46843620115874907,0.28097168164343683,-0.6088775429730605,-1.499345603805868,0.1703427766461955,-0.4424946226581365,0.48147984724528303,-0.6220281105477253,2.2519035852945883,-1.2827110761298643,-0.08807562925290076,-0.584091630306514,0.18382780655640937,0.1787983022040505,0.19911199737135604,0.9643454769373196,0.8328190902756328,0.8343707828812497,1.1178891740417924,0.8856074976565256,-1.7145192750679596,-0.5855897567918643,0.5708138958813657,-0.8182849705937587,-1.9925783563554824,-1.248896832265893,-0.44740539286760544,2.249297379891929,-0.007105998157687052,0.006096193285520275,0.5519063561670956,-0.051574783887322305,0.8204387541719532,-0.33078874723067697,-0.655185252731514,-0.14456220270363163,0.41494809014388495,-1.0391737180128005,-0.7143709725774835,0.09697552242272921,-1.5237280027765399,-0.7988127472717743,1.6302857946111504,-0.052812423674299135,-0.8847578470900589,3.2684681581501107,-0.029685356661994993,-0.09678541069859871,0.173370680041757,-1.2981749752643537,1.3738875794910574,0.2588831786041221,-0.7751203954645283,1.0235422117199084,-0.17078991614864422,0.5178310017005542,1.4252487443336075,0.5986421771739376,0.00012468312148118674,-0.07918885046371128,-0.07066943142440128,0.27120551991121505,-0.17843715264909218,-0.6608657615075663,-0.7270807114405403,-0.26447327537479665,-2.0438668083832763,-0.2299981939576035,-0.8910449032322855,1.034275149566397,-0.9177435852018307,0.19894408500110364,-0.7164975130739492,1.2148894899779028],\"xaxis\":\"x7\",\"y\":[0.02113025316214141,-2.4679781393279625,0.483335436464977,0.23343275183544257,-0.013530670263819523,-0.25274605724693644,0.3473353391647001,0.05850946264135038,-0.33167398556150796,-0.5826505647985586,-0.5849294552086969,-0.31954105313749986,1.1986692559184746,0.5966633134733866,0.6735564992413137,-0.9235167788445138,-0.6352924694076183,1.9740394707525353,1.121083702891913,-1.4310412193140811,0.05236734426799687,1.1564237708409333,-0.862590797069598,0.9883197350285711,1.2405829125319803,-1.0349746567626237,1.1142415536603365,-0.510931014535598,0.33929255036864875,-1.7086447062048555,0.1623300555860231,-0.7894296447142766,0.27146494353613027,-0.9233581078784034,0.9239563585106843,1.240190084937,-0.24909041604582954,0.46770430331130614,1.087508384368392,0.7268497068857239,-1.9801224820571879,-0.3970011783608756,-0.8788799454353752,0.5246463683079379,-1.2308441568728488,1.1572020049571972,-1.9034609401747042,-0.044874475896686826,0.5636849694689087,-1.2124159074387677,1.528049782679351,1.2094085465743554,-0.6850443070661522,-0.9845636294532993,-0.9884039790626893,-0.262251577330043,1.9418229652153194,2.0214228285512976,-0.0966652922560624,-0.10214164808690887,0.06395063021477436,0.3820445412170909,0.2864661093929553,0.8494860488516242,-0.735311071083744,0.22491638213831677,-1.5771082822829272,0.34539482297280133,-0.403319262277709,-0.36892593978662797,-0.5724218689783241,-0.7071986529983127,0.4349982418571607,1.351847447933669,1.6166636282389513,0.10911788388401762,-2.2510302223138137,-0.6388474141987549,-0.7170590400106103,-0.3771644409300306,0.6891544594565927,-0.7584405091564508,0.6514487791821924,0.10571500752184819,-1.56410209229144,-0.661226422718267,0.6375051523459719,1.0505603467091036,-0.2043218769687843,0.18733893178586658,1.0311879603876744,0.6931802933281493,0.3879960879915357,-0.5919503305272049,0.02626106472165012,-0.5409760417361436,-0.10754065770234249,0.13368455578919725,0.47896581167577396,-0.11524343282222889],\"yaxis\":\"y7\",\"type\":\"scatter\"},{\"line\":{\"color\":\"rgba(128, 128, 128, 1.0)\",\"dash\":\"solid\",\"shape\":\"linear\",\"width\":1.3},\"marker\":{\"size\":2,\"symbol\":\"circle\"},\"mode\":\"markers\",\"name\":\"B\",\"text\":\"\",\"x\":[-0.9835317302822373,-0.602085452129363,0.7038156479662266,1.984095995297494,-0.7235930944526109,0.34180371172634566,1.6240904513430607,-2.596926088005319,-1.2168714050909983,0.8440421104254345,0.16922500771872154,-0.9118484850509705,1.2167090938038219,-1.8908544466553652,0.72350841523467,0.8720215982140032,0.7493892613533375,0.4092332958269358,-0.9169211121796843,0.2177840438471423,0.35721248770531744,-1.4009701304809954,-0.2468849733447492,1.3536297940967401,0.6471602894444082,1.6996312235381028,-0.03581837302474589,-0.4994937232070557,-0.5157880663881521,-0.21447973435086495,-1.3983631192688413,-0.051814319532285096,1.1034101470139979,-0.11133824418599521,-0.4403568329715678,-1.1083790709929835,-1.9697705701951271,-0.0307005264533092,0.5115907052546382,1.058260699174405,-0.3778204222077217,0.8902998209480225,-0.15595178828960424,1.7495572908370873,-2.1169646865707357,-1.9214149460540764,1.2208113989714382,-1.4097208383444755,-1.0807539677084463,-0.37636652583167246,-0.7253721652919294,-0.9803003945233395,1.3557398765711672,-0.3192142688300996,0.32856282893038424,0.6787554006630662,0.5543057406940548,0.5301275454067832,-1.2207874364283946,-0.736664542596436,1.6345288193550631,-0.20309780472812647,-0.3465455266138488,-0.8467389836181894,0.008226275620721746,-0.8407614205889379,-1.2030422882596896,-0.32769640233491126,0.07798247920353843,-0.22150142303399079,-1.2026607248521823,1.0592320852461656,-0.5194947728236432,-0.02008509492317327,-0.9434819554517148,0.024895693435208876,-0.8103435273153045,-1.2406744017535674,-0.3328402849146345,-0.17750229574983345,-0.45614954358203197,0.3960872033369166,-2.12299009828048,-0.2788854203709273,0.019928939876970125,-1.271604593412063,0.6579477188485843,-0.26507153754724055,-0.6486900871115029,-1.6124367249139295,0.051348172534486244,0.49693291464762784,-2.308935640488484,-1.285235970506294,-0.737053421390977,0.9178878747978111,-0.394630616388896,0.04903297606795281,0.3394151124652293,0.7340769051278897],\"xaxis\":\"x8\",\"y\":[0.02113025316214141,-2.4679781393279625,0.483335436464977,0.23343275183544257,-0.013530670263819523,-0.25274605724693644,0.3473353391647001,0.05850946264135038,-0.33167398556150796,-0.5826505647985586,-0.5849294552086969,-0.31954105313749986,1.1986692559184746,0.5966633134733866,0.6735564992413137,-0.9235167788445138,-0.6352924694076183,1.9740394707525353,1.121083702891913,-1.4310412193140811,0.05236734426799687,1.1564237708409333,-0.862590797069598,0.9883197350285711,1.2405829125319803,-1.0349746567626237,1.1142415536603365,-0.510931014535598,0.33929255036864875,-1.7086447062048555,0.1623300555860231,-0.7894296447142766,0.27146494353613027,-0.9233581078784034,0.9239563585106843,1.240190084937,-0.24909041604582954,0.46770430331130614,1.087508384368392,0.7268497068857239,-1.9801224820571879,-0.3970011783608756,-0.8788799454353752,0.5246463683079379,-1.2308441568728488,1.1572020049571972,-1.9034609401747042,-0.044874475896686826,0.5636849694689087,-1.2124159074387677,1.528049782679351,1.2094085465743554,-0.6850443070661522,-0.9845636294532993,-0.9884039790626893,-0.262251577330043,1.9418229652153194,2.0214228285512976,-0.0966652922560624,-0.10214164808690887,0.06395063021477436,0.3820445412170909,0.2864661093929553,0.8494860488516242,-0.735311071083744,0.22491638213831677,-1.5771082822829272,0.34539482297280133,-0.403319262277709,-0.36892593978662797,-0.5724218689783241,-0.7071986529983127,0.4349982418571607,1.351847447933669,1.6166636282389513,0.10911788388401762,-2.2510302223138137,-0.6388474141987549,-0.7170590400106103,-0.3771644409300306,0.6891544594565927,-0.7584405091564508,0.6514487791821924,0.10571500752184819,-1.56410209229144,-0.661226422718267,0.6375051523459719,1.0505603467091036,-0.2043218769687843,0.18733893178586658,1.0311879603876744,0.6931802933281493,0.3879960879915357,-0.5919503305272049,0.02626106472165012,-0.5409760417361436,-0.10754065770234249,0.13368455578919725,0.47896581167577396,-0.11524343282222889],\"yaxis\":\"y8\",\"type\":\"scatter\"},{\"line\":{\"color\":\"rgba(128, 128, 128, 1.0)\",\"dash\":\"solid\",\"shape\":\"linear\",\"width\":1.3},\"marker\":{\"size\":2,\"symbol\":\"circle\"},\"mode\":\"markers\",\"name\":\"C\",\"text\":\"\",\"x\":[0.7142777740002493,1.7199028467107027,-0.656803403254399,-0.37392620679314936,-0.31606590443921007,0.35505889405438235,0.30268661008777253,-0.20025345133011221,-0.7836855248050619,-0.8001492342950658,0.5139621668662798,0.6479247398677027,-0.7211676148282345,0.7194291364909836,-0.2163419153726224,-0.4804535209362682,-0.714837323622347,1.1990673445619522,0.32378499945067485,0.32720073545032413,-1.2416640093536817,-1.0964978401145988,-2.1451300195809617,-0.4095271017607454,-0.45316941062315785,-1.122925074551881,1.534771250157007,0.8082105077168469,0.2029478602650499,0.8792395730528462,1.6238072982147747,-1.689598035108892,0.7172442956307108,1.4796357413226466,0.10848653839183443,0.2651199463165854,-0.448360276786736,-0.8717512540566079,-1.673236517973046,0.15762999583840775,0.3231114754169684,-2.132193362543313,-1.9211723050134575,0.2923166142946065,1.0379779669930023,0.04206636875091591,-0.6015462970886982,-0.7081127368965313,-0.13272123239646805,2.289950608975294,-0.1742026494967424,0.59635132291716,0.991485617310549,-0.15785058610376146,0.15891339279876676,1.323390106354316,0.7895370254885591,0.3639551791777413,-2.55375949966317,-0.939382779591616,-0.8616920966398784,0.7238203508712924,2.0611264931219995,-1.0673993007785716,1.4850336351104063,-0.17536273373016378,-0.6586113604808225,1.0852382724029959,0.09988394766108045,0.26697145343793954,-0.508604167253295,-0.8952623555402414,-0.6681146819732109,0.1744415811250902,-0.09704809142761688,-0.3951710675259424,0.724433828075461,0.19331020672322452,1.31690463122668,-0.5019748382265561,0.21407155559326627,-1.2923542370415495,0.6016718634605939,-0.16503701845514213,1.5203243551375871,-0.6557452100418191,1.1703097186619138,0.4213445354585947,1.1003148707214743,0.1503838317476397,-0.9970229620212248,-0.10549357398256586,0.3859715646698864,0.08402541190919727,0.1854135916396423,-1.2952897277314197,-0.4213245059694718,0.7618730883422946,-0.23464880537146648,-1.7371251770094929],\"xaxis\":\"x9\",\"y\":[-0.9434643656074901,1.3444124766656895,0.17215909063527174,1.5537108414134235,-0.8910657518417112,0.9625961588955709,-0.7058012979046439,-0.8552277436696232,1.4718647392330557,-0.5667933660428515,-0.13808742621551356,-2.1593838274223716,-1.2164789868025245,0.6016906031522246,-0.8569527606176405,0.2538313681544378,0.9662815812595507,-1.1107794200315244,-0.49198421681841026,1.4333950492188858,0.8102746822753875,0.2722784351380484,-0.7779613530334486,-0.11726359178260841,-0.07580299986785653,-0.057168163538652804,-0.46843620115874907,0.28097168164343683,-0.6088775429730605,-1.499345603805868,0.1703427766461955,-0.4424946226581365,0.48147984724528303,-0.6220281105477253,2.2519035852945883,-1.2827110761298643,-0.08807562925290076,-0.584091630306514,0.18382780655640937,0.1787983022040505,0.19911199737135604,0.9643454769373196,0.8328190902756328,0.8343707828812497,1.1178891740417924,0.8856074976565256,-1.7145192750679596,-0.5855897567918643,0.5708138958813657,-0.8182849705937587,-1.9925783563554824,-1.248896832265893,-0.44740539286760544,2.249297379891929,-0.007105998157687052,0.006096193285520275,0.5519063561670956,-0.051574783887322305,0.8204387541719532,-0.33078874723067697,-0.655185252731514,-0.14456220270363163,0.41494809014388495,-1.0391737180128005,-0.7143709725774835,0.09697552242272921,-1.5237280027765399,-0.7988127472717743,1.6302857946111504,-0.052812423674299135,-0.8847578470900589,3.2684681581501107,-0.029685356661994993,-0.09678541069859871,0.173370680041757,-1.2981749752643537,1.3738875794910574,0.2588831786041221,-0.7751203954645283,1.0235422117199084,-0.17078991614864422,0.5178310017005542,1.4252487443336075,0.5986421771739376,0.00012468312148118674,-0.07918885046371128,-0.07066943142440128,0.27120551991121505,-0.17843715264909218,-0.6608657615075663,-0.7270807114405403,-0.26447327537479665,-2.0438668083832763,-0.2299981939576035,-0.8910449032322855,1.034275149566397,-0.9177435852018307,0.19894408500110364,-0.7164975130739492,1.2148894899779028],\"yaxis\":\"y9\",\"type\":\"scatter\"},{\"line\":{\"color\":\"rgba(128, 128, 128, 1.0)\",\"dash\":\"solid\",\"shape\":\"linear\",\"width\":1.3},\"marker\":{\"size\":2,\"symbol\":\"circle\"},\"mode\":\"markers\",\"name\":\"C\",\"text\":\"\",\"x\":[0.02113025316214141,-2.4679781393279625,0.483335436464977,0.23343275183544257,-0.013530670263819523,-0.25274605724693644,0.3473353391647001,0.05850946264135038,-0.33167398556150796,-0.5826505647985586,-0.5849294552086969,-0.31954105313749986,1.1986692559184746,0.5966633134733866,0.6735564992413137,-0.9235167788445138,-0.6352924694076183,1.9740394707525353,1.121083702891913,-1.4310412193140811,0.05236734426799687,1.1564237708409333,-0.862590797069598,0.9883197350285711,1.2405829125319803,-1.0349746567626237,1.1142415536603365,-0.510931014535598,0.33929255036864875,-1.7086447062048555,0.1623300555860231,-0.7894296447142766,0.27146494353613027,-0.9233581078784034,0.9239563585106843,1.240190084937,-0.24909041604582954,0.46770430331130614,1.087508384368392,0.7268497068857239,-1.9801224820571879,-0.3970011783608756,-0.8788799454353752,0.5246463683079379,-1.2308441568728488,1.1572020049571972,-1.9034609401747042,-0.044874475896686826,0.5636849694689087,-1.2124159074387677,1.528049782679351,1.2094085465743554,-0.6850443070661522,-0.9845636294532993,-0.9884039790626893,-0.262251577330043,1.9418229652153194,2.0214228285512976,-0.0966652922560624,-0.10214164808690887,0.06395063021477436,0.3820445412170909,0.2864661093929553,0.8494860488516242,-0.735311071083744,0.22491638213831677,-1.5771082822829272,0.34539482297280133,-0.403319262277709,-0.36892593978662797,-0.5724218689783241,-0.7071986529983127,0.4349982418571607,1.351847447933669,1.6166636282389513,0.10911788388401762,-2.2510302223138137,-0.6388474141987549,-0.7170590400106103,-0.3771644409300306,0.6891544594565927,-0.7584405091564508,0.6514487791821924,0.10571500752184819,-1.56410209229144,-0.661226422718267,0.6375051523459719,1.0505603467091036,-0.2043218769687843,0.18733893178586658,1.0311879603876744,0.6931802933281493,0.3879960879915357,-0.5919503305272049,0.02626106472165012,-0.5409760417361436,-0.10754065770234249,0.13368455578919725,0.47896581167577396,-0.11524343282222889],\"xaxis\":\"x10\",\"y\":[-0.9434643656074901,1.3444124766656895,0.17215909063527174,1.5537108414134235,-0.8910657518417112,0.9625961588955709,-0.7058012979046439,-0.8552277436696232,1.4718647392330557,-0.5667933660428515,-0.13808742621551356,-2.1593838274223716,-1.2164789868025245,0.6016906031522246,-0.8569527606176405,0.2538313681544378,0.9662815812595507,-1.1107794200315244,-0.49198421681841026,1.4333950492188858,0.8102746822753875,0.2722784351380484,-0.7779613530334486,-0.11726359178260841,-0.07580299986785653,-0.057168163538652804,-0.46843620115874907,0.28097168164343683,-0.6088775429730605,-1.499345603805868,0.1703427766461955,-0.4424946226581365,0.48147984724528303,-0.6220281105477253,2.2519035852945883,-1.2827110761298643,-0.08807562925290076,-0.584091630306514,0.18382780655640937,0.1787983022040505,0.19911199737135604,0.9643454769373196,0.8328190902756328,0.8343707828812497,1.1178891740417924,0.8856074976565256,-1.7145192750679596,-0.5855897567918643,0.5708138958813657,-0.8182849705937587,-1.9925783563554824,-1.248896832265893,-0.44740539286760544,2.249297379891929,-0.007105998157687052,0.006096193285520275,0.5519063561670956,-0.051574783887322305,0.8204387541719532,-0.33078874723067697,-0.655185252731514,-0.14456220270363163,0.41494809014388495,-1.0391737180128005,-0.7143709725774835,0.09697552242272921,-1.5237280027765399,-0.7988127472717743,1.6302857946111504,-0.052812423674299135,-0.8847578470900589,3.2684681581501107,-0.029685356661994993,-0.09678541069859871,0.173370680041757,-1.2981749752643537,1.3738875794910574,0.2588831786041221,-0.7751203954645283,1.0235422117199084,-0.17078991614864422,0.5178310017005542,1.4252487443336075,0.5986421771739376,0.00012468312148118674,-0.07918885046371128,-0.07066943142440128,0.27120551991121505,-0.17843715264909218,-0.6608657615075663,-0.7270807114405403,-0.26447327537479665,-2.0438668083832763,-0.2299981939576035,-0.8910449032322855,1.034275149566397,-0.9177435852018307,0.19894408500110364,-0.7164975130739492,1.2148894899779028],\"yaxis\":\"y10\",\"type\":\"scatter\"},{\"histfunc\":\"count\",\"histnorm\":\"\",\"marker\":{\"color\":\"rgba(50, 171, 96, 1.0)\",\"line\":{\"color\":\"#4D5663\",\"width\":1.3}},\"name\":\"C\",\"nbinsx\":10,\"opacity\":0.8,\"orientation\":\"v\",\"x\":[-0.9434643656074901,1.3444124766656895,0.17215909063527174,1.5537108414134235,-0.8910657518417112,0.9625961588955709,-0.7058012979046439,-0.8552277436696232,1.4718647392330557,-0.5667933660428515,-0.13808742621551356,-2.1593838274223716,-1.2164789868025245,0.6016906031522246,-0.8569527606176405,0.2538313681544378,0.9662815812595507,-1.1107794200315244,-0.49198421681841026,1.4333950492188858,0.8102746822753875,0.2722784351380484,-0.7779613530334486,-0.11726359178260841,-0.07580299986785653,-0.057168163538652804,-0.46843620115874907,0.28097168164343683,-0.6088775429730605,-1.499345603805868,0.1703427766461955,-0.4424946226581365,0.48147984724528303,-0.6220281105477253,2.2519035852945883,-1.2827110761298643,-0.08807562925290076,-0.584091630306514,0.18382780655640937,0.1787983022040505,0.19911199737135604,0.9643454769373196,0.8328190902756328,0.8343707828812497,1.1178891740417924,0.8856074976565256,-1.7145192750679596,-0.5855897567918643,0.5708138958813657,-0.8182849705937587,-1.9925783563554824,-1.248896832265893,-0.44740539286760544,2.249297379891929,-0.007105998157687052,0.006096193285520275,0.5519063561670956,-0.051574783887322305,0.8204387541719532,-0.33078874723067697,-0.655185252731514,-0.14456220270363163,0.41494809014388495,-1.0391737180128005,-0.7143709725774835,0.09697552242272921,-1.5237280027765399,-0.7988127472717743,1.6302857946111504,-0.052812423674299135,-0.8847578470900589,3.2684681581501107,-0.029685356661994993,-0.09678541069859871,0.173370680041757,-1.2981749752643537,1.3738875794910574,0.2588831786041221,-0.7751203954645283,1.0235422117199084,-0.17078991614864422,0.5178310017005542,1.4252487443336075,0.5986421771739376,0.00012468312148118674,-0.07918885046371128,-0.07066943142440128,0.27120551991121505,-0.17843715264909218,-0.6608657615075663,-0.7270807114405403,-0.26447327537479665,-2.0438668083832763,-0.2299981939576035,-0.8910449032322855,1.034275149566397,-0.9177435852018307,0.19894408500110364,-0.7164975130739492,1.2148894899779028],\"xaxis\":\"x11\",\"yaxis\":\"y11\",\"type\":\"histogram\"},{\"line\":{\"color\":\"rgba(128, 128, 128, 1.0)\",\"dash\":\"solid\",\"shape\":\"linear\",\"width\":1.3},\"marker\":{\"size\":2,\"symbol\":\"circle\"},\"mode\":\"markers\",\"name\":\"C\",\"text\":\"\",\"x\":[-0.9835317302822373,-0.602085452129363,0.7038156479662266,1.984095995297494,-0.7235930944526109,0.34180371172634566,1.6240904513430607,-2.596926088005319,-1.2168714050909983,0.8440421104254345,0.16922500771872154,-0.9118484850509705,1.2167090938038219,-1.8908544466553652,0.72350841523467,0.8720215982140032,0.7493892613533375,0.4092332958269358,-0.9169211121796843,0.2177840438471423,0.35721248770531744,-1.4009701304809954,-0.2468849733447492,1.3536297940967401,0.6471602894444082,1.6996312235381028,-0.03581837302474589,-0.4994937232070557,-0.5157880663881521,-0.21447973435086495,-1.3983631192688413,-0.051814319532285096,1.1034101470139979,-0.11133824418599521,-0.4403568329715678,-1.1083790709929835,-1.9697705701951271,-0.0307005264533092,0.5115907052546382,1.058260699174405,-0.3778204222077217,0.8902998209480225,-0.15595178828960424,1.7495572908370873,-2.1169646865707357,-1.9214149460540764,1.2208113989714382,-1.4097208383444755,-1.0807539677084463,-0.37636652583167246,-0.7253721652919294,-0.9803003945233395,1.3557398765711672,-0.3192142688300996,0.32856282893038424,0.6787554006630662,0.5543057406940548,0.5301275454067832,-1.2207874364283946,-0.736664542596436,1.6345288193550631,-0.20309780472812647,-0.3465455266138488,-0.8467389836181894,0.008226275620721746,-0.8407614205889379,-1.2030422882596896,-0.32769640233491126,0.07798247920353843,-0.22150142303399079,-1.2026607248521823,1.0592320852461656,-0.5194947728236432,-0.02008509492317327,-0.9434819554517148,0.024895693435208876,-0.8103435273153045,-1.2406744017535674,-0.3328402849146345,-0.17750229574983345,-0.45614954358203197,0.3960872033369166,-2.12299009828048,-0.2788854203709273,0.019928939876970125,-1.271604593412063,0.6579477188485843,-0.26507153754724055,-0.6486900871115029,-1.6124367249139295,0.051348172534486244,0.49693291464762784,-2.308935640488484,-1.285235970506294,-0.737053421390977,0.9178878747978111,-0.394630616388896,0.04903297606795281,0.3394151124652293,0.7340769051278897],\"xaxis\":\"x12\",\"y\":[-0.9434643656074901,1.3444124766656895,0.17215909063527174,1.5537108414134235,-0.8910657518417112,0.9625961588955709,-0.7058012979046439,-0.8552277436696232,1.4718647392330557,-0.5667933660428515,-0.13808742621551356,-2.1593838274223716,-1.2164789868025245,0.6016906031522246,-0.8569527606176405,0.2538313681544378,0.9662815812595507,-1.1107794200315244,-0.49198421681841026,1.4333950492188858,0.8102746822753875,0.2722784351380484,-0.7779613530334486,-0.11726359178260841,-0.07580299986785653,-0.057168163538652804,-0.46843620115874907,0.28097168164343683,-0.6088775429730605,-1.499345603805868,0.1703427766461955,-0.4424946226581365,0.48147984724528303,-0.6220281105477253,2.2519035852945883,-1.2827110761298643,-0.08807562925290076,-0.584091630306514,0.18382780655640937,0.1787983022040505,0.19911199737135604,0.9643454769373196,0.8328190902756328,0.8343707828812497,1.1178891740417924,0.8856074976565256,-1.7145192750679596,-0.5855897567918643,0.5708138958813657,-0.8182849705937587,-1.9925783563554824,-1.248896832265893,-0.44740539286760544,2.249297379891929,-0.007105998157687052,0.006096193285520275,0.5519063561670956,-0.051574783887322305,0.8204387541719532,-0.33078874723067697,-0.655185252731514,-0.14456220270363163,0.41494809014388495,-1.0391737180128005,-0.7143709725774835,0.09697552242272921,-1.5237280027765399,-0.7988127472717743,1.6302857946111504,-0.052812423674299135,-0.8847578470900589,3.2684681581501107,-0.029685356661994993,-0.09678541069859871,0.173370680041757,-1.2981749752643537,1.3738875794910574,0.2588831786041221,-0.7751203954645283,1.0235422117199084,-0.17078991614864422,0.5178310017005542,1.4252487443336075,0.5986421771739376,0.00012468312148118674,-0.07918885046371128,-0.07066943142440128,0.27120551991121505,-0.17843715264909218,-0.6608657615075663,-0.7270807114405403,-0.26447327537479665,-2.0438668083832763,-0.2299981939576035,-0.8910449032322855,1.034275149566397,-0.9177435852018307,0.19894408500110364,-0.7164975130739492,1.2148894899779028],\"yaxis\":\"y12\",\"type\":\"scatter\"},{\"line\":{\"color\":\"rgba(128, 128, 128, 1.0)\",\"dash\":\"solid\",\"shape\":\"linear\",\"width\":1.3},\"marker\":{\"size\":2,\"symbol\":\"circle\"},\"mode\":\"markers\",\"name\":\"D\",\"text\":\"\",\"x\":[0.7142777740002493,1.7199028467107027,-0.656803403254399,-0.37392620679314936,-0.31606590443921007,0.35505889405438235,0.30268661008777253,-0.20025345133011221,-0.7836855248050619,-0.8001492342950658,0.5139621668662798,0.6479247398677027,-0.7211676148282345,0.7194291364909836,-0.2163419153726224,-0.4804535209362682,-0.714837323622347,1.1990673445619522,0.32378499945067485,0.32720073545032413,-1.2416640093536817,-1.0964978401145988,-2.1451300195809617,-0.4095271017607454,-0.45316941062315785,-1.122925074551881,1.534771250157007,0.8082105077168469,0.2029478602650499,0.8792395730528462,1.6238072982147747,-1.689598035108892,0.7172442956307108,1.4796357413226466,0.10848653839183443,0.2651199463165854,-0.448360276786736,-0.8717512540566079,-1.673236517973046,0.15762999583840775,0.3231114754169684,-2.132193362543313,-1.9211723050134575,0.2923166142946065,1.0379779669930023,0.04206636875091591,-0.6015462970886982,-0.7081127368965313,-0.13272123239646805,2.289950608975294,-0.1742026494967424,0.59635132291716,0.991485617310549,-0.15785058610376146,0.15891339279876676,1.323390106354316,0.7895370254885591,0.3639551791777413,-2.55375949966317,-0.939382779591616,-0.8616920966398784,0.7238203508712924,2.0611264931219995,-1.0673993007785716,1.4850336351104063,-0.17536273373016378,-0.6586113604808225,1.0852382724029959,0.09988394766108045,0.26697145343793954,-0.508604167253295,-0.8952623555402414,-0.6681146819732109,0.1744415811250902,-0.09704809142761688,-0.3951710675259424,0.724433828075461,0.19331020672322452,1.31690463122668,-0.5019748382265561,0.21407155559326627,-1.2923542370415495,0.6016718634605939,-0.16503701845514213,1.5203243551375871,-0.6557452100418191,1.1703097186619138,0.4213445354585947,1.1003148707214743,0.1503838317476397,-0.9970229620212248,-0.10549357398256586,0.3859715646698864,0.08402541190919727,0.1854135916396423,-1.2952897277314197,-0.4213245059694718,0.7618730883422946,-0.23464880537146648,-1.7371251770094929],\"xaxis\":\"x13\",\"y\":[-0.9835317302822373,-0.602085452129363,0.7038156479662266,1.984095995297494,-0.7235930944526109,0.34180371172634566,1.6240904513430607,-2.596926088005319,-1.2168714050909983,0.8440421104254345,0.16922500771872154,-0.9118484850509705,1.2167090938038219,-1.8908544466553652,0.72350841523467,0.8720215982140032,0.7493892613533375,0.4092332958269358,-0.9169211121796843,0.2177840438471423,0.35721248770531744,-1.4009701304809954,-0.2468849733447492,1.3536297940967401,0.6471602894444082,1.6996312235381028,-0.03581837302474589,-0.4994937232070557,-0.5157880663881521,-0.21447973435086495,-1.3983631192688413,-0.051814319532285096,1.1034101470139979,-0.11133824418599521,-0.4403568329715678,-1.1083790709929835,-1.9697705701951271,-0.0307005264533092,0.5115907052546382,1.058260699174405,-0.3778204222077217,0.8902998209480225,-0.15595178828960424,1.7495572908370873,-2.1169646865707357,-1.9214149460540764,1.2208113989714382,-1.4097208383444755,-1.0807539677084463,-0.37636652583167246,-0.7253721652919294,-0.9803003945233395,1.3557398765711672,-0.3192142688300996,0.32856282893038424,0.6787554006630662,0.5543057406940548,0.5301275454067832,-1.2207874364283946,-0.736664542596436,1.6345288193550631,-0.20309780472812647,-0.3465455266138488,-0.8467389836181894,0.008226275620721746,-0.8407614205889379,-1.2030422882596896,-0.32769640233491126,0.07798247920353843,-0.22150142303399079,-1.2026607248521823,1.0592320852461656,-0.5194947728236432,-0.02008509492317327,-0.9434819554517148,0.024895693435208876,-0.8103435273153045,-1.2406744017535674,-0.3328402849146345,-0.17750229574983345,-0.45614954358203197,0.3960872033369166,-2.12299009828048,-0.2788854203709273,0.019928939876970125,-1.271604593412063,0.6579477188485843,-0.26507153754724055,-0.6486900871115029,-1.6124367249139295,0.051348172534486244,0.49693291464762784,-2.308935640488484,-1.285235970506294,-0.737053421390977,0.9178878747978111,-0.394630616388896,0.04903297606795281,0.3394151124652293,0.7340769051278897],\"yaxis\":\"y13\",\"type\":\"scatter\"},{\"line\":{\"color\":\"rgba(128, 128, 128, 1.0)\",\"dash\":\"solid\",\"shape\":\"linear\",\"width\":1.3},\"marker\":{\"size\":2,\"symbol\":\"circle\"},\"mode\":\"markers\",\"name\":\"D\",\"text\":\"\",\"x\":[0.02113025316214141,-2.4679781393279625,0.483335436464977,0.23343275183544257,-0.013530670263819523,-0.25274605724693644,0.3473353391647001,0.05850946264135038,-0.33167398556150796,-0.5826505647985586,-0.5849294552086969,-0.31954105313749986,1.1986692559184746,0.5966633134733866,0.6735564992413137,-0.9235167788445138,-0.6352924694076183,1.9740394707525353,1.121083702891913,-1.4310412193140811,0.05236734426799687,1.1564237708409333,-0.862590797069598,0.9883197350285711,1.2405829125319803,-1.0349746567626237,1.1142415536603365,-0.510931014535598,0.33929255036864875,-1.7086447062048555,0.1623300555860231,-0.7894296447142766,0.27146494353613027,-0.9233581078784034,0.9239563585106843,1.240190084937,-0.24909041604582954,0.46770430331130614,1.087508384368392,0.7268497068857239,-1.9801224820571879,-0.3970011783608756,-0.8788799454353752,0.5246463683079379,-1.2308441568728488,1.1572020049571972,-1.9034609401747042,-0.044874475896686826,0.5636849694689087,-1.2124159074387677,1.528049782679351,1.2094085465743554,-0.6850443070661522,-0.9845636294532993,-0.9884039790626893,-0.262251577330043,1.9418229652153194,2.0214228285512976,-0.0966652922560624,-0.10214164808690887,0.06395063021477436,0.3820445412170909,0.2864661093929553,0.8494860488516242,-0.735311071083744,0.22491638213831677,-1.5771082822829272,0.34539482297280133,-0.403319262277709,-0.36892593978662797,-0.5724218689783241,-0.7071986529983127,0.4349982418571607,1.351847447933669,1.6166636282389513,0.10911788388401762,-2.2510302223138137,-0.6388474141987549,-0.7170590400106103,-0.3771644409300306,0.6891544594565927,-0.7584405091564508,0.6514487791821924,0.10571500752184819,-1.56410209229144,-0.661226422718267,0.6375051523459719,1.0505603467091036,-0.2043218769687843,0.18733893178586658,1.0311879603876744,0.6931802933281493,0.3879960879915357,-0.5919503305272049,0.02626106472165012,-0.5409760417361436,-0.10754065770234249,0.13368455578919725,0.47896581167577396,-0.11524343282222889],\"xaxis\":\"x14\",\"y\":[-0.9835317302822373,-0.602085452129363,0.7038156479662266,1.984095995297494,-0.7235930944526109,0.34180371172634566,1.6240904513430607,-2.596926088005319,-1.2168714050909983,0.8440421104254345,0.16922500771872154,-0.9118484850509705,1.2167090938038219,-1.8908544466553652,0.72350841523467,0.8720215982140032,0.7493892613533375,0.4092332958269358,-0.9169211121796843,0.2177840438471423,0.35721248770531744,-1.4009701304809954,-0.2468849733447492,1.3536297940967401,0.6471602894444082,1.6996312235381028,-0.03581837302474589,-0.4994937232070557,-0.5157880663881521,-0.21447973435086495,-1.3983631192688413,-0.051814319532285096,1.1034101470139979,-0.11133824418599521,-0.4403568329715678,-1.1083790709929835,-1.9697705701951271,-0.0307005264533092,0.5115907052546382,1.058260699174405,-0.3778204222077217,0.8902998209480225,-0.15595178828960424,1.7495572908370873,-2.1169646865707357,-1.9214149460540764,1.2208113989714382,-1.4097208383444755,-1.0807539677084463,-0.37636652583167246,-0.7253721652919294,-0.9803003945233395,1.3557398765711672,-0.3192142688300996,0.32856282893038424,0.6787554006630662,0.5543057406940548,0.5301275454067832,-1.2207874364283946,-0.736664542596436,1.6345288193550631,-0.20309780472812647,-0.3465455266138488,-0.8467389836181894,0.008226275620721746,-0.8407614205889379,-1.2030422882596896,-0.32769640233491126,0.07798247920353843,-0.22150142303399079,-1.2026607248521823,1.0592320852461656,-0.5194947728236432,-0.02008509492317327,-0.9434819554517148,0.024895693435208876,-0.8103435273153045,-1.2406744017535674,-0.3328402849146345,-0.17750229574983345,-0.45614954358203197,0.3960872033369166,-2.12299009828048,-0.2788854203709273,0.019928939876970125,-1.271604593412063,0.6579477188485843,-0.26507153754724055,-0.6486900871115029,-1.6124367249139295,0.051348172534486244,0.49693291464762784,-2.308935640488484,-1.285235970506294,-0.737053421390977,0.9178878747978111,-0.394630616388896,0.04903297606795281,0.3394151124652293,0.7340769051278897],\"yaxis\":\"y14\",\"type\":\"scatter\"},{\"line\":{\"color\":\"rgba(128, 128, 128, 1.0)\",\"dash\":\"solid\",\"shape\":\"linear\",\"width\":1.3},\"marker\":{\"size\":2,\"symbol\":\"circle\"},\"mode\":\"markers\",\"name\":\"D\",\"text\":\"\",\"x\":[-0.9434643656074901,1.3444124766656895,0.17215909063527174,1.5537108414134235,-0.8910657518417112,0.9625961588955709,-0.7058012979046439,-0.8552277436696232,1.4718647392330557,-0.5667933660428515,-0.13808742621551356,-2.1593838274223716,-1.2164789868025245,0.6016906031522246,-0.8569527606176405,0.2538313681544378,0.9662815812595507,-1.1107794200315244,-0.49198421681841026,1.4333950492188858,0.8102746822753875,0.2722784351380484,-0.7779613530334486,-0.11726359178260841,-0.07580299986785653,-0.057168163538652804,-0.46843620115874907,0.28097168164343683,-0.6088775429730605,-1.499345603805868,0.1703427766461955,-0.4424946226581365,0.48147984724528303,-0.6220281105477253,2.2519035852945883,-1.2827110761298643,-0.08807562925290076,-0.584091630306514,0.18382780655640937,0.1787983022040505,0.19911199737135604,0.9643454769373196,0.8328190902756328,0.8343707828812497,1.1178891740417924,0.8856074976565256,-1.7145192750679596,-0.5855897567918643,0.5708138958813657,-0.8182849705937587,-1.9925783563554824,-1.248896832265893,-0.44740539286760544,2.249297379891929,-0.007105998157687052,0.006096193285520275,0.5519063561670956,-0.051574783887322305,0.8204387541719532,-0.33078874723067697,-0.655185252731514,-0.14456220270363163,0.41494809014388495,-1.0391737180128005,-0.7143709725774835,0.09697552242272921,-1.5237280027765399,-0.7988127472717743,1.6302857946111504,-0.052812423674299135,-0.8847578470900589,3.2684681581501107,-0.029685356661994993,-0.09678541069859871,0.173370680041757,-1.2981749752643537,1.3738875794910574,0.2588831786041221,-0.7751203954645283,1.0235422117199084,-0.17078991614864422,0.5178310017005542,1.4252487443336075,0.5986421771739376,0.00012468312148118674,-0.07918885046371128,-0.07066943142440128,0.27120551991121505,-0.17843715264909218,-0.6608657615075663,-0.7270807114405403,-0.26447327537479665,-2.0438668083832763,-0.2299981939576035,-0.8910449032322855,1.034275149566397,-0.9177435852018307,0.19894408500110364,-0.7164975130739492,1.2148894899779028],\"xaxis\":\"x15\",\"y\":[-0.9835317302822373,-0.602085452129363,0.7038156479662266,1.984095995297494,-0.7235930944526109,0.34180371172634566,1.6240904513430607,-2.596926088005319,-1.2168714050909983,0.8440421104254345,0.16922500771872154,-0.9118484850509705,1.2167090938038219,-1.8908544466553652,0.72350841523467,0.8720215982140032,0.7493892613533375,0.4092332958269358,-0.9169211121796843,0.2177840438471423,0.35721248770531744,-1.4009701304809954,-0.2468849733447492,1.3536297940967401,0.6471602894444082,1.6996312235381028,-0.03581837302474589,-0.4994937232070557,-0.5157880663881521,-0.21447973435086495,-1.3983631192688413,-0.051814319532285096,1.1034101470139979,-0.11133824418599521,-0.4403568329715678,-1.1083790709929835,-1.9697705701951271,-0.0307005264533092,0.5115907052546382,1.058260699174405,-0.3778204222077217,0.8902998209480225,-0.15595178828960424,1.7495572908370873,-2.1169646865707357,-1.9214149460540764,1.2208113989714382,-1.4097208383444755,-1.0807539677084463,-0.37636652583167246,-0.7253721652919294,-0.9803003945233395,1.3557398765711672,-0.3192142688300996,0.32856282893038424,0.6787554006630662,0.5543057406940548,0.5301275454067832,-1.2207874364283946,-0.736664542596436,1.6345288193550631,-0.20309780472812647,-0.3465455266138488,-0.8467389836181894,0.008226275620721746,-0.8407614205889379,-1.2030422882596896,-0.32769640233491126,0.07798247920353843,-0.22150142303399079,-1.2026607248521823,1.0592320852461656,-0.5194947728236432,-0.02008509492317327,-0.9434819554517148,0.024895693435208876,-0.8103435273153045,-1.2406744017535674,-0.3328402849146345,-0.17750229574983345,-0.45614954358203197,0.3960872033369166,-2.12299009828048,-0.2788854203709273,0.019928939876970125,-1.271604593412063,0.6579477188485843,-0.26507153754724055,-0.6486900871115029,-1.6124367249139295,0.051348172534486244,0.49693291464762784,-2.308935640488484,-1.285235970506294,-0.737053421390977,0.9178878747978111,-0.394630616388896,0.04903297606795281,0.3394151124652293,0.7340769051278897],\"yaxis\":\"y15\",\"type\":\"scatter\"},{\"histfunc\":\"count\",\"histnorm\":\"\",\"marker\":{\"color\":\"rgba(128, 0, 128, 1.0)\",\"line\":{\"color\":\"#4D5663\",\"width\":1.3}},\"name\":\"D\",\"nbinsx\":10,\"opacity\":0.8,\"orientation\":\"v\",\"x\":[-0.9835317302822373,-0.602085452129363,0.7038156479662266,1.984095995297494,-0.7235930944526109,0.34180371172634566,1.6240904513430607,-2.596926088005319,-1.2168714050909983,0.8440421104254345,0.16922500771872154,-0.9118484850509705,1.2167090938038219,-1.8908544466553652,0.72350841523467,0.8720215982140032,0.7493892613533375,0.4092332958269358,-0.9169211121796843,0.2177840438471423,0.35721248770531744,-1.4009701304809954,-0.2468849733447492,1.3536297940967401,0.6471602894444082,1.6996312235381028,-0.03581837302474589,-0.4994937232070557,-0.5157880663881521,-0.21447973435086495,-1.3983631192688413,-0.051814319532285096,1.1034101470139979,-0.11133824418599521,-0.4403568329715678,-1.1083790709929835,-1.9697705701951271,-0.0307005264533092,0.5115907052546382,1.058260699174405,-0.3778204222077217,0.8902998209480225,-0.15595178828960424,1.7495572908370873,-2.1169646865707357,-1.9214149460540764,1.2208113989714382,-1.4097208383444755,-1.0807539677084463,-0.37636652583167246,-0.7253721652919294,-0.9803003945233395,1.3557398765711672,-0.3192142688300996,0.32856282893038424,0.6787554006630662,0.5543057406940548,0.5301275454067832,-1.2207874364283946,-0.736664542596436,1.6345288193550631,-0.20309780472812647,-0.3465455266138488,-0.8467389836181894,0.008226275620721746,-0.8407614205889379,-1.2030422882596896,-0.32769640233491126,0.07798247920353843,-0.22150142303399079,-1.2026607248521823,1.0592320852461656,-0.5194947728236432,-0.02008509492317327,-0.9434819554517148,0.024895693435208876,-0.8103435273153045,-1.2406744017535674,-0.3328402849146345,-0.17750229574983345,-0.45614954358203197,0.3960872033369166,-2.12299009828048,-0.2788854203709273,0.019928939876970125,-1.271604593412063,0.6579477188485843,-0.26507153754724055,-0.6486900871115029,-1.6124367249139295,0.051348172534486244,0.49693291464762784,-2.308935640488484,-1.285235970506294,-0.737053421390977,0.9178878747978111,-0.394630616388896,0.04903297606795281,0.3394151124652293,0.7340769051278897],\"xaxis\":\"x16\",\"yaxis\":\"y16\",\"type\":\"histogram\"}],                        {\"bargap\":0.02,\"legend\":{\"bgcolor\":\"#F5F6F9\",\"font\":{\"color\":\"#4D5663\"}},\"paper_bgcolor\":\"#F5F6F9\",\"plot_bgcolor\":\"#F5F6F9\",\"showlegend\":false,\"template\":{\"data\":{\"barpolar\":[{\"marker\":{\"line\":{\"color\":\"#E5ECF6\",\"width\":0.5},\"pattern\":{\"fillmode\":\"overlay\",\"size\":10,\"solidity\":0.2}},\"type\":\"barpolar\"}],\"bar\":[{\"error_x\":{\"color\":\"#2a3f5f\"},\"error_y\":{\"color\":\"#2a3f5f\"},\"marker\":{\"line\":{\"color\":\"#E5ECF6\",\"width\":0.5},\"pattern\":{\"fillmode\":\"overlay\",\"size\":10,\"solidity\":0.2}},\"type\":\"bar\"}],\"carpet\":[{\"aaxis\":{\"endlinecolor\":\"#2a3f5f\",\"gridcolor\":\"white\",\"linecolor\":\"white\",\"minorgridcolor\":\"white\",\"startlinecolor\":\"#2a3f5f\"},\"baxis\":{\"endlinecolor\":\"#2a3f5f\",\"gridcolor\":\"white\",\"linecolor\":\"white\",\"minorgridcolor\":\"white\",\"startlinecolor\":\"#2a3f5f\"},\"type\":\"carpet\"}],\"choropleth\":[{\"colorbar\":{\"outlinewidth\":0,\"ticks\":\"\"},\"type\":\"choropleth\"}],\"contourcarpet\":[{\"colorbar\":{\"outlinewidth\":0,\"ticks\":\"\"},\"type\":\"contourcarpet\"}],\"contour\":[{\"colorbar\":{\"outlinewidth\":0,\"ticks\":\"\"},\"colorscale\":[[0.0,\"#0d0887\"],[0.1111111111111111,\"#46039f\"],[0.2222222222222222,\"#7201a8\"],[0.3333333333333333,\"#9c179e\"],[0.4444444444444444,\"#bd3786\"],[0.5555555555555556,\"#d8576b\"],[0.6666666666666666,\"#ed7953\"],[0.7777777777777778,\"#fb9f3a\"],[0.8888888888888888,\"#fdca26\"],[1.0,\"#f0f921\"]],\"type\":\"contour\"}],\"heatmapgl\":[{\"colorbar\":{\"outlinewidth\":0,\"ticks\":\"\"},\"colorscale\":[[0.0,\"#0d0887\"],[0.1111111111111111,\"#46039f\"],[0.2222222222222222,\"#7201a8\"],[0.3333333333333333,\"#9c179e\"],[0.4444444444444444,\"#bd3786\"],[0.5555555555555556,\"#d8576b\"],[0.6666666666666666,\"#ed7953\"],[0.7777777777777778,\"#fb9f3a\"],[0.8888888888888888,\"#fdca26\"],[1.0,\"#f0f921\"]],\"type\":\"heatmapgl\"}],\"heatmap\":[{\"colorbar\":{\"outlinewidth\":0,\"ticks\":\"\"},\"colorscale\":[[0.0,\"#0d0887\"],[0.1111111111111111,\"#46039f\"],[0.2222222222222222,\"#7201a8\"],[0.3333333333333333,\"#9c179e\"],[0.4444444444444444,\"#bd3786\"],[0.5555555555555556,\"#d8576b\"],[0.6666666666666666,\"#ed7953\"],[0.7777777777777778,\"#fb9f3a\"],[0.8888888888888888,\"#fdca26\"],[1.0,\"#f0f921\"]],\"type\":\"heatmap\"}],\"histogram2dcontour\":[{\"colorbar\":{\"outlinewidth\":0,\"ticks\":\"\"},\"colorscale\":[[0.0,\"#0d0887\"],[0.1111111111111111,\"#46039f\"],[0.2222222222222222,\"#7201a8\"],[0.3333333333333333,\"#9c179e\"],[0.4444444444444444,\"#bd3786\"],[0.5555555555555556,\"#d8576b\"],[0.6666666666666666,\"#ed7953\"],[0.7777777777777778,\"#fb9f3a\"],[0.8888888888888888,\"#fdca26\"],[1.0,\"#f0f921\"]],\"type\":\"histogram2dcontour\"}],\"histogram2d\":[{\"colorbar\":{\"outlinewidth\":0,\"ticks\":\"\"},\"colorscale\":[[0.0,\"#0d0887\"],[0.1111111111111111,\"#46039f\"],[0.2222222222222222,\"#7201a8\"],[0.3333333333333333,\"#9c179e\"],[0.4444444444444444,\"#bd3786\"],[0.5555555555555556,\"#d8576b\"],[0.6666666666666666,\"#ed7953\"],[0.7777777777777778,\"#fb9f3a\"],[0.8888888888888888,\"#fdca26\"],[1.0,\"#f0f921\"]],\"type\":\"histogram2d\"}],\"histogram\":[{\"marker\":{\"pattern\":{\"fillmode\":\"overlay\",\"size\":10,\"solidity\":0.2}},\"type\":\"histogram\"}],\"mesh3d\":[{\"colorbar\":{\"outlinewidth\":0,\"ticks\":\"\"},\"type\":\"mesh3d\"}],\"parcoords\":[{\"line\":{\"colorbar\":{\"outlinewidth\":0,\"ticks\":\"\"}},\"type\":\"parcoords\"}],\"pie\":[{\"automargin\":true,\"type\":\"pie\"}],\"scatter3d\":[{\"line\":{\"colorbar\":{\"outlinewidth\":0,\"ticks\":\"\"}},\"marker\":{\"colorbar\":{\"outlinewidth\":0,\"ticks\":\"\"}},\"type\":\"scatter3d\"}],\"scattercarpet\":[{\"marker\":{\"colorbar\":{\"outlinewidth\":0,\"ticks\":\"\"}},\"type\":\"scattercarpet\"}],\"scattergeo\":[{\"marker\":{\"colorbar\":{\"outlinewidth\":0,\"ticks\":\"\"}},\"type\":\"scattergeo\"}],\"scattergl\":[{\"marker\":{\"colorbar\":{\"outlinewidth\":0,\"ticks\":\"\"}},\"type\":\"scattergl\"}],\"scattermapbox\":[{\"marker\":{\"colorbar\":{\"outlinewidth\":0,\"ticks\":\"\"}},\"type\":\"scattermapbox\"}],\"scatterpolargl\":[{\"marker\":{\"colorbar\":{\"outlinewidth\":0,\"ticks\":\"\"}},\"type\":\"scatterpolargl\"}],\"scatterpolar\":[{\"marker\":{\"colorbar\":{\"outlinewidth\":0,\"ticks\":\"\"}},\"type\":\"scatterpolar\"}],\"scatter\":[{\"fillpattern\":{\"fillmode\":\"overlay\",\"size\":10,\"solidity\":0.2},\"type\":\"scatter\"}],\"scatterternary\":[{\"marker\":{\"colorbar\":{\"outlinewidth\":0,\"ticks\":\"\"}},\"type\":\"scatterternary\"}],\"surface\":[{\"colorbar\":{\"outlinewidth\":0,\"ticks\":\"\"},\"colorscale\":[[0.0,\"#0d0887\"],[0.1111111111111111,\"#46039f\"],[0.2222222222222222,\"#7201a8\"],[0.3333333333333333,\"#9c179e\"],[0.4444444444444444,\"#bd3786\"],[0.5555555555555556,\"#d8576b\"],[0.6666666666666666,\"#ed7953\"],[0.7777777777777778,\"#fb9f3a\"],[0.8888888888888888,\"#fdca26\"],[1.0,\"#f0f921\"]],\"type\":\"surface\"}],\"table\":[{\"cells\":{\"fill\":{\"color\":\"#EBF0F8\"},\"line\":{\"color\":\"white\"}},\"header\":{\"fill\":{\"color\":\"#C8D4E3\"},\"line\":{\"color\":\"white\"}},\"type\":\"table\"}]},\"layout\":{\"annotationdefaults\":{\"arrowcolor\":\"#2a3f5f\",\"arrowhead\":0,\"arrowwidth\":1},\"autotypenumbers\":\"strict\",\"coloraxis\":{\"colorbar\":{\"outlinewidth\":0,\"ticks\":\"\"}},\"colorscale\":{\"diverging\":[[0,\"#8e0152\"],[0.1,\"#c51b7d\"],[0.2,\"#de77ae\"],[0.3,\"#f1b6da\"],[0.4,\"#fde0ef\"],[0.5,\"#f7f7f7\"],[0.6,\"#e6f5d0\"],[0.7,\"#b8e186\"],[0.8,\"#7fbc41\"],[0.9,\"#4d9221\"],[1,\"#276419\"]],\"sequential\":[[0.0,\"#0d0887\"],[0.1111111111111111,\"#46039f\"],[0.2222222222222222,\"#7201a8\"],[0.3333333333333333,\"#9c179e\"],[0.4444444444444444,\"#bd3786\"],[0.5555555555555556,\"#d8576b\"],[0.6666666666666666,\"#ed7953\"],[0.7777777777777778,\"#fb9f3a\"],[0.8888888888888888,\"#fdca26\"],[1.0,\"#f0f921\"]],\"sequentialminus\":[[0.0,\"#0d0887\"],[0.1111111111111111,\"#46039f\"],[0.2222222222222222,\"#7201a8\"],[0.3333333333333333,\"#9c179e\"],[0.4444444444444444,\"#bd3786\"],[0.5555555555555556,\"#d8576b\"],[0.6666666666666666,\"#ed7953\"],[0.7777777777777778,\"#fb9f3a\"],[0.8888888888888888,\"#fdca26\"],[1.0,\"#f0f921\"]]},\"colorway\":[\"#636efa\",\"#EF553B\",\"#00cc96\",\"#ab63fa\",\"#FFA15A\",\"#19d3f3\",\"#FF6692\",\"#B6E880\",\"#FF97FF\",\"#FECB52\"],\"font\":{\"color\":\"#2a3f5f\"},\"geo\":{\"bgcolor\":\"white\",\"lakecolor\":\"white\",\"landcolor\":\"#E5ECF6\",\"showlakes\":true,\"showland\":true,\"subunitcolor\":\"white\"},\"hoverlabel\":{\"align\":\"left\"},\"hovermode\":\"closest\",\"mapbox\":{\"style\":\"light\"},\"paper_bgcolor\":\"white\",\"plot_bgcolor\":\"#E5ECF6\",\"polar\":{\"angularaxis\":{\"gridcolor\":\"white\",\"linecolor\":\"white\",\"ticks\":\"\"},\"bgcolor\":\"#E5ECF6\",\"radialaxis\":{\"gridcolor\":\"white\",\"linecolor\":\"white\",\"ticks\":\"\"}},\"scene\":{\"xaxis\":{\"backgroundcolor\":\"#E5ECF6\",\"gridcolor\":\"white\",\"gridwidth\":2,\"linecolor\":\"white\",\"showbackground\":true,\"ticks\":\"\",\"zerolinecolor\":\"white\"},\"yaxis\":{\"backgroundcolor\":\"#E5ECF6\",\"gridcolor\":\"white\",\"gridwidth\":2,\"linecolor\":\"white\",\"showbackground\":true,\"ticks\":\"\",\"zerolinecolor\":\"white\"},\"zaxis\":{\"backgroundcolor\":\"#E5ECF6\",\"gridcolor\":\"white\",\"gridwidth\":2,\"linecolor\":\"white\",\"showbackground\":true,\"ticks\":\"\",\"zerolinecolor\":\"white\"}},\"shapedefaults\":{\"line\":{\"color\":\"#2a3f5f\"}},\"ternary\":{\"aaxis\":{\"gridcolor\":\"white\",\"linecolor\":\"white\",\"ticks\":\"\"},\"baxis\":{\"gridcolor\":\"white\",\"linecolor\":\"white\",\"ticks\":\"\"},\"bgcolor\":\"#E5ECF6\",\"caxis\":{\"gridcolor\":\"white\",\"linecolor\":\"white\",\"ticks\":\"\"}},\"title\":{\"x\":0.05},\"xaxis\":{\"automargin\":true,\"gridcolor\":\"white\",\"linecolor\":\"white\",\"ticks\":\"\",\"title\":{\"standoff\":15},\"zerolinecolor\":\"white\",\"zerolinewidth\":2},\"yaxis\":{\"automargin\":true,\"gridcolor\":\"white\",\"linecolor\":\"white\",\"ticks\":\"\",\"title\":{\"standoff\":15},\"zerolinecolor\":\"white\",\"zerolinewidth\":2}}},\"title\":{\"font\":{\"color\":\"#4D5663\"}},\"xaxis\":{\"anchor\":\"y\",\"domain\":[0.0,0.2125],\"gridcolor\":\"#E1E5ED\",\"showgrid\":false,\"tickfont\":{\"color\":\"#4D5663\"},\"title\":{\"font\":{\"color\":\"#4D5663\"},\"text\":\"\"},\"zerolinecolor\":\"#E1E5ED\"},\"yaxis\":{\"anchor\":\"x\",\"domain\":[0.8025,1.0],\"gridcolor\":\"#E1E5ED\",\"showgrid\":false,\"tickfont\":{\"color\":\"#4D5663\"},\"title\":{\"font\":{\"color\":\"#4D5663\"},\"text\":\"\"},\"zerolinecolor\":\"#E1E5ED\"},\"xaxis2\":{\"anchor\":\"y2\",\"domain\":[0.2625,0.475],\"gridcolor\":\"#E1E5ED\",\"showgrid\":false,\"tickfont\":{\"color\":\"#4D5663\"},\"title\":{\"font\":{\"color\":\"#4D5663\"},\"text\":\"\"},\"zerolinecolor\":\"#E1E5ED\"},\"yaxis2\":{\"anchor\":\"x2\",\"domain\":[0.8025,1.0],\"gridcolor\":\"#E1E5ED\",\"showgrid\":false,\"tickfont\":{\"color\":\"#4D5663\"},\"title\":{\"font\":{\"color\":\"#4D5663\"},\"text\":\"\"},\"zerolinecolor\":\"#E1E5ED\"},\"xaxis3\":{\"anchor\":\"y3\",\"domain\":[0.525,0.7375],\"gridcolor\":\"#E1E5ED\",\"showgrid\":false,\"tickfont\":{\"color\":\"#4D5663\"},\"title\":{\"font\":{\"color\":\"#4D5663\"},\"text\":\"\"},\"zerolinecolor\":\"#E1E5ED\"},\"yaxis3\":{\"anchor\":\"x3\",\"domain\":[0.8025,1.0],\"gridcolor\":\"#E1E5ED\",\"showgrid\":false,\"tickfont\":{\"color\":\"#4D5663\"},\"title\":{\"font\":{\"color\":\"#4D5663\"},\"text\":\"\"},\"zerolinecolor\":\"#E1E5ED\"},\"xaxis4\":{\"anchor\":\"y4\",\"domain\":[0.7875,1.0],\"gridcolor\":\"#E1E5ED\",\"showgrid\":false,\"tickfont\":{\"color\":\"#4D5663\"},\"title\":{\"font\":{\"color\":\"#4D5663\"},\"text\":\"\"},\"zerolinecolor\":\"#E1E5ED\"},\"yaxis4\":{\"anchor\":\"x4\",\"domain\":[0.8025,1.0],\"gridcolor\":\"#E1E5ED\",\"showgrid\":false,\"tickfont\":{\"color\":\"#4D5663\"},\"title\":{\"font\":{\"color\":\"#4D5663\"},\"text\":\"\"},\"zerolinecolor\":\"#E1E5ED\"},\"xaxis5\":{\"anchor\":\"y5\",\"domain\":[0.0,0.2125],\"gridcolor\":\"#E1E5ED\",\"showgrid\":false,\"tickfont\":{\"color\":\"#4D5663\"},\"title\":{\"font\":{\"color\":\"#4D5663\"},\"text\":\"\"},\"zerolinecolor\":\"#E1E5ED\"},\"yaxis5\":{\"anchor\":\"x5\",\"domain\":[0.535,0.7325],\"gridcolor\":\"#E1E5ED\",\"showgrid\":false,\"tickfont\":{\"color\":\"#4D5663\"},\"title\":{\"font\":{\"color\":\"#4D5663\"},\"text\":\"\"},\"zerolinecolor\":\"#E1E5ED\"},\"xaxis6\":{\"anchor\":\"y6\",\"domain\":[0.2625,0.475],\"gridcolor\":\"#E1E5ED\",\"showgrid\":false,\"tickfont\":{\"color\":\"#4D5663\"},\"title\":{\"font\":{\"color\":\"#4D5663\"},\"text\":\"\"},\"zerolinecolor\":\"#E1E5ED\"},\"yaxis6\":{\"anchor\":\"x6\",\"domain\":[0.535,0.7325],\"gridcolor\":\"#E1E5ED\",\"showgrid\":false,\"tickfont\":{\"color\":\"#4D5663\"},\"title\":{\"font\":{\"color\":\"#4D5663\"},\"text\":\"\"},\"zerolinecolor\":\"#E1E5ED\"},\"xaxis7\":{\"anchor\":\"y7\",\"domain\":[0.525,0.7375],\"gridcolor\":\"#E1E5ED\",\"showgrid\":false,\"tickfont\":{\"color\":\"#4D5663\"},\"title\":{\"font\":{\"color\":\"#4D5663\"},\"text\":\"\"},\"zerolinecolor\":\"#E1E5ED\"},\"yaxis7\":{\"anchor\":\"x7\",\"domain\":[0.535,0.7325],\"gridcolor\":\"#E1E5ED\",\"showgrid\":false,\"tickfont\":{\"color\":\"#4D5663\"},\"title\":{\"font\":{\"color\":\"#4D5663\"},\"text\":\"\"},\"zerolinecolor\":\"#E1E5ED\"},\"xaxis8\":{\"anchor\":\"y8\",\"domain\":[0.7875,1.0],\"gridcolor\":\"#E1E5ED\",\"showgrid\":false,\"tickfont\":{\"color\":\"#4D5663\"},\"title\":{\"font\":{\"color\":\"#4D5663\"},\"text\":\"\"},\"zerolinecolor\":\"#E1E5ED\"},\"yaxis8\":{\"anchor\":\"x8\",\"domain\":[0.535,0.7325],\"gridcolor\":\"#E1E5ED\",\"showgrid\":false,\"tickfont\":{\"color\":\"#4D5663\"},\"title\":{\"font\":{\"color\":\"#4D5663\"},\"text\":\"\"},\"zerolinecolor\":\"#E1E5ED\"},\"xaxis9\":{\"anchor\":\"y9\",\"domain\":[0.0,0.2125],\"gridcolor\":\"#E1E5ED\",\"showgrid\":false,\"tickfont\":{\"color\":\"#4D5663\"},\"title\":{\"font\":{\"color\":\"#4D5663\"},\"text\":\"\"},\"zerolinecolor\":\"#E1E5ED\"},\"yaxis9\":{\"anchor\":\"x9\",\"domain\":[0.2675,0.465],\"gridcolor\":\"#E1E5ED\",\"showgrid\":false,\"tickfont\":{\"color\":\"#4D5663\"},\"title\":{\"font\":{\"color\":\"#4D5663\"},\"text\":\"\"},\"zerolinecolor\":\"#E1E5ED\"},\"xaxis10\":{\"anchor\":\"y10\",\"domain\":[0.2625,0.475],\"gridcolor\":\"#E1E5ED\",\"showgrid\":false,\"tickfont\":{\"color\":\"#4D5663\"},\"title\":{\"font\":{\"color\":\"#4D5663\"},\"text\":\"\"},\"zerolinecolor\":\"#E1E5ED\"},\"yaxis10\":{\"anchor\":\"x10\",\"domain\":[0.2675,0.465],\"gridcolor\":\"#E1E5ED\",\"showgrid\":false,\"tickfont\":{\"color\":\"#4D5663\"},\"title\":{\"font\":{\"color\":\"#4D5663\"},\"text\":\"\"},\"zerolinecolor\":\"#E1E5ED\"},\"xaxis11\":{\"anchor\":\"y11\",\"domain\":[0.525,0.7375],\"gridcolor\":\"#E1E5ED\",\"showgrid\":false,\"tickfont\":{\"color\":\"#4D5663\"},\"title\":{\"font\":{\"color\":\"#4D5663\"},\"text\":\"\"},\"zerolinecolor\":\"#E1E5ED\"},\"yaxis11\":{\"anchor\":\"x11\",\"domain\":[0.2675,0.465],\"gridcolor\":\"#E1E5ED\",\"showgrid\":false,\"tickfont\":{\"color\":\"#4D5663\"},\"title\":{\"font\":{\"color\":\"#4D5663\"},\"text\":\"\"},\"zerolinecolor\":\"#E1E5ED\"},\"xaxis12\":{\"anchor\":\"y12\",\"domain\":[0.7875,1.0],\"gridcolor\":\"#E1E5ED\",\"showgrid\":false,\"tickfont\":{\"color\":\"#4D5663\"},\"title\":{\"font\":{\"color\":\"#4D5663\"},\"text\":\"\"},\"zerolinecolor\":\"#E1E5ED\"},\"yaxis12\":{\"anchor\":\"x12\",\"domain\":[0.2675,0.465],\"gridcolor\":\"#E1E5ED\",\"showgrid\":false,\"tickfont\":{\"color\":\"#4D5663\"},\"title\":{\"font\":{\"color\":\"#4D5663\"},\"text\":\"\"},\"zerolinecolor\":\"#E1E5ED\"},\"xaxis13\":{\"anchor\":\"y13\",\"domain\":[0.0,0.2125],\"gridcolor\":\"#E1E5ED\",\"showgrid\":false,\"tickfont\":{\"color\":\"#4D5663\"},\"title\":{\"font\":{\"color\":\"#4D5663\"},\"text\":\"\"},\"zerolinecolor\":\"#E1E5ED\"},\"yaxis13\":{\"anchor\":\"x13\",\"domain\":[0.0,0.1975],\"gridcolor\":\"#E1E5ED\",\"showgrid\":false,\"tickfont\":{\"color\":\"#4D5663\"},\"title\":{\"font\":{\"color\":\"#4D5663\"},\"text\":\"\"},\"zerolinecolor\":\"#E1E5ED\"},\"xaxis14\":{\"anchor\":\"y14\",\"domain\":[0.2625,0.475],\"gridcolor\":\"#E1E5ED\",\"showgrid\":false,\"tickfont\":{\"color\":\"#4D5663\"},\"title\":{\"font\":{\"color\":\"#4D5663\"},\"text\":\"\"},\"zerolinecolor\":\"#E1E5ED\"},\"yaxis14\":{\"anchor\":\"x14\",\"domain\":[0.0,0.1975],\"gridcolor\":\"#E1E5ED\",\"showgrid\":false,\"tickfont\":{\"color\":\"#4D5663\"},\"title\":{\"font\":{\"color\":\"#4D5663\"},\"text\":\"\"},\"zerolinecolor\":\"#E1E5ED\"},\"xaxis15\":{\"anchor\":\"y15\",\"domain\":[0.525,0.7375],\"gridcolor\":\"#E1E5ED\",\"showgrid\":false,\"tickfont\":{\"color\":\"#4D5663\"},\"title\":{\"font\":{\"color\":\"#4D5663\"},\"text\":\"\"},\"zerolinecolor\":\"#E1E5ED\"},\"yaxis15\":{\"anchor\":\"x15\",\"domain\":[0.0,0.1975],\"gridcolor\":\"#E1E5ED\",\"showgrid\":false,\"tickfont\":{\"color\":\"#4D5663\"},\"title\":{\"font\":{\"color\":\"#4D5663\"},\"text\":\"\"},\"zerolinecolor\":\"#E1E5ED\"},\"xaxis16\":{\"anchor\":\"y16\",\"domain\":[0.7875,1.0],\"gridcolor\":\"#E1E5ED\",\"showgrid\":false,\"tickfont\":{\"color\":\"#4D5663\"},\"title\":{\"font\":{\"color\":\"#4D5663\"},\"text\":\"\"},\"zerolinecolor\":\"#E1E5ED\"},\"yaxis16\":{\"anchor\":\"x16\",\"domain\":[0.0,0.1975],\"gridcolor\":\"#E1E5ED\",\"showgrid\":false,\"tickfont\":{\"color\":\"#4D5663\"},\"title\":{\"font\":{\"color\":\"#4D5663\"},\"text\":\"\"},\"zerolinecolor\":\"#E1E5ED\"}},                        {\"showLink\": true, \"linkText\": \"Export to plot.ly\", \"plotlyServerURL\": \"https://plot.ly\", \"responsive\": true}                    ).then(function(){\n",
       "                            \n",
       "var gd = document.getElementById('958c4ca4-7eb7-48ca-b301-659243bb0eed');\n",
       "var x = new MutationObserver(function (mutations, observer) {{\n",
       "        var display = window.getComputedStyle(gd).display;\n",
       "        if (!display || display === 'none') {{\n",
       "            console.log([gd, 'removed!']);\n",
       "            Plotly.purge(gd);\n",
       "            observer.disconnect();\n",
       "        }}\n",
       "}});\n",
       "\n",
       "// Listen for the removal of the full notebook cells\n",
       "var notebookContainer = gd.closest('#notebook-container');\n",
       "if (notebookContainer) {{\n",
       "    x.observe(notebookContainer, {childList: true});\n",
       "}}\n",
       "\n",
       "// Listen for the clearing of the current output cell\n",
       "var outputEl = gd.closest('.output');\n",
       "if (outputEl) {{\n",
       "    x.observe(outputEl, {childList: true});\n",
       "}}\n",
       "\n",
       "                        })                };                });            </script>        </div>"
      ]
     },
     "metadata": {},
     "output_type": "display_data"
    }
   ],
   "source": [
    "df.scatter_matrix()"
   ]
  },
  {
   "cell_type": "markdown",
   "metadata": {
    "collapsed": true
   },
   "source": [
    "# Great Job!"
   ]
  },
  {
   "cell_type": "code",
   "execution_count": null,
   "metadata": {},
   "outputs": [],
   "source": []
  }
 ],
 "metadata": {
  "kernelspec": {
   "display_name": "Python 3 (ipykernel)",
   "language": "python",
   "name": "python3"
  },
  "language_info": {
   "codemirror_mode": {
    "name": "ipython",
    "version": 3
   },
   "file_extension": ".py",
   "mimetype": "text/x-python",
   "name": "python",
   "nbconvert_exporter": "python",
   "pygments_lexer": "ipython3",
   "version": "3.10.11"
  }
 },
 "nbformat": 4,
 "nbformat_minor": 1
}
