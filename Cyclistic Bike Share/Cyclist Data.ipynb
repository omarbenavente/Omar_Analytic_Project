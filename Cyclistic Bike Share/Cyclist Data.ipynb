{
 "cells": [
  {
   "cell_type": "markdown",
   "metadata": {},
   "source": [
    "# Cyclistic Bike Sharing Analysis\n",
    "\n",
    "### Objective\n",
    "- collecting all the Cyclist files in python\n",
    "- Cleaning & editing data in order to be usable in SQL for data analysis\n",
    "- Converting column to it's appropriate datatype"
   ]
  },
  {
   "cell_type": "code",
   "execution_count": 2,
   "metadata": {},
   "outputs": [],
   "source": [
    "# doing all the necessary imports\n",
    "import numpy as np\n",
    "import pandas as pd\n",
    "import glob\n",
    "import seaborn as sns\n",
    "import matplotlib.pyplot as plt\n",
    "\n",
    "import warnings\n",
    "warnings.filterwarnings('ignore')\n",
    "\n",
    "%matplotlib inline"
   ]
  },
  {
   "cell_type": "markdown",
   "metadata": {},
   "source": [
    "## Gathering, Cleaning, and Fixing Data"
   ]
  },
  {
   "cell_type": "code",
   "execution_count": 3,
   "metadata": {},
   "outputs": [],
   "source": [
    "# using glob to retrieve the all pathname for files in a list\n",
    "csv_files = glob.glob(r'/Users/omarbenavente/Downloads/cyclist/*csv')\n"
   ]
  },
  {
   "cell_type": "code",
   "execution_count": 4,
   "metadata": {},
   "outputs": [
    {
     "data": {
      "text/plain": [
       "['/Users/omarbenavente/Downloads/cyclist/202208-divvy-tripdata.csv',\n",
       " '/Users/omarbenavente/Downloads/cyclist/202303-divvy-tripdata.csv',\n",
       " '/Users/omarbenavente/Downloads/cyclist/202206-divvy-tripdata.csv',\n",
       " '/Users/omarbenavente/Downloads/cyclist/202210-divvy-tripdata.csv',\n",
       " '/Users/omarbenavente/Downloads/cyclist/202305-divvy-tripdata.csv',\n",
       " '/Users/omarbenavente/Downloads/cyclist/202212-divvy-tripdata.csv',\n",
       " '/Users/omarbenavente/Downloads/cyclist/202211-divvy-tripdata.csv',\n",
       " '/Users/omarbenavente/Downloads/cyclist/202304-divvy-tripdata.csv',\n",
       " '/Users/omarbenavente/Downloads/cyclist/202302-divvy-tripdata.csv',\n",
       " '/Users/omarbenavente/Downloads/cyclist/202207-divvy-tripdata.csv',\n",
       " '/Users/omarbenavente/Downloads/cyclist/202209-divvy-publictripdata.csv',\n",
       " '/Users/omarbenavente/Downloads/cyclist/202301-divvy-tripdata.csv']"
      ]
     },
     "execution_count": 4,
     "metadata": {},
     "output_type": "execute_result"
    }
   ],
   "source": [
    "csv_files"
   ]
  },
  {
   "cell_type": "code",
   "execution_count": 5,
   "metadata": {},
   "outputs": [],
   "source": [
    "# combining all the csv file in the glob list\n",
    "df = pd.concat([pd.read_csv(f,index_col=False) for f in csv_files ])"
   ]
  },
  {
   "cell_type": "code",
   "execution_count": 6,
   "metadata": {},
   "outputs": [
    {
     "data": {
      "text/html": [
       "<div>\n",
       "<style scoped>\n",
       "    .dataframe tbody tr th:only-of-type {\n",
       "        vertical-align: middle;\n",
       "    }\n",
       "\n",
       "    .dataframe tbody tr th {\n",
       "        vertical-align: top;\n",
       "    }\n",
       "\n",
       "    .dataframe thead th {\n",
       "        text-align: right;\n",
       "    }\n",
       "</style>\n",
       "<table border=\"1\" class=\"dataframe\">\n",
       "  <thead>\n",
       "    <tr style=\"text-align: right;\">\n",
       "      <th></th>\n",
       "      <th>ride_id</th>\n",
       "      <th>rideable_type</th>\n",
       "      <th>started_at</th>\n",
       "      <th>ended_at</th>\n",
       "      <th>start_station_name</th>\n",
       "      <th>start_station_id</th>\n",
       "      <th>end_station_name</th>\n",
       "      <th>end_station_id</th>\n",
       "      <th>start_lat</th>\n",
       "      <th>start_lng</th>\n",
       "      <th>end_lat</th>\n",
       "      <th>end_lng</th>\n",
       "      <th>member_casual</th>\n",
       "    </tr>\n",
       "  </thead>\n",
       "  <tbody>\n",
       "    <tr>\n",
       "      <th>0</th>\n",
       "      <td>550CF7EFEAE0C618</td>\n",
       "      <td>electric_bike</td>\n",
       "      <td>2022-08-07 21:34:15</td>\n",
       "      <td>2022-08-07 21:41:46</td>\n",
       "      <td>NaN</td>\n",
       "      <td>NaN</td>\n",
       "      <td>NaN</td>\n",
       "      <td>NaN</td>\n",
       "      <td>41.93</td>\n",
       "      <td>-87.69</td>\n",
       "      <td>41.94</td>\n",
       "      <td>-87.72</td>\n",
       "      <td>casual</td>\n",
       "    </tr>\n",
       "    <tr>\n",
       "      <th>1</th>\n",
       "      <td>DAD198F405F9C5F5</td>\n",
       "      <td>electric_bike</td>\n",
       "      <td>2022-08-08 14:39:21</td>\n",
       "      <td>2022-08-08 14:53:23</td>\n",
       "      <td>NaN</td>\n",
       "      <td>NaN</td>\n",
       "      <td>NaN</td>\n",
       "      <td>NaN</td>\n",
       "      <td>41.89</td>\n",
       "      <td>-87.64</td>\n",
       "      <td>41.92</td>\n",
       "      <td>-87.64</td>\n",
       "      <td>casual</td>\n",
       "    </tr>\n",
       "    <tr>\n",
       "      <th>2</th>\n",
       "      <td>E6F2BC47B65CB7FD</td>\n",
       "      <td>electric_bike</td>\n",
       "      <td>2022-08-08 15:29:50</td>\n",
       "      <td>2022-08-08 15:40:34</td>\n",
       "      <td>NaN</td>\n",
       "      <td>NaN</td>\n",
       "      <td>NaN</td>\n",
       "      <td>NaN</td>\n",
       "      <td>41.97</td>\n",
       "      <td>-87.69</td>\n",
       "      <td>41.97</td>\n",
       "      <td>-87.66</td>\n",
       "      <td>casual</td>\n",
       "    </tr>\n",
       "    <tr>\n",
       "      <th>3</th>\n",
       "      <td>F597830181C2E13C</td>\n",
       "      <td>electric_bike</td>\n",
       "      <td>2022-08-08 02:43:50</td>\n",
       "      <td>2022-08-08 02:58:53</td>\n",
       "      <td>NaN</td>\n",
       "      <td>NaN</td>\n",
       "      <td>NaN</td>\n",
       "      <td>NaN</td>\n",
       "      <td>41.94</td>\n",
       "      <td>-87.65</td>\n",
       "      <td>41.97</td>\n",
       "      <td>-87.69</td>\n",
       "      <td>casual</td>\n",
       "    </tr>\n",
       "    <tr>\n",
       "      <th>4</th>\n",
       "      <td>0CE689BB4E313E8D</td>\n",
       "      <td>electric_bike</td>\n",
       "      <td>2022-08-07 20:24:06</td>\n",
       "      <td>2022-08-07 20:29:58</td>\n",
       "      <td>NaN</td>\n",
       "      <td>NaN</td>\n",
       "      <td>NaN</td>\n",
       "      <td>NaN</td>\n",
       "      <td>41.85</td>\n",
       "      <td>-87.65</td>\n",
       "      <td>41.84</td>\n",
       "      <td>-87.66</td>\n",
       "      <td>casual</td>\n",
       "    </tr>\n",
       "  </tbody>\n",
       "</table>\n",
       "</div>"
      ],
      "text/plain": [
       "            ride_id  rideable_type           started_at             ended_at  \\\n",
       "0  550CF7EFEAE0C618  electric_bike  2022-08-07 21:34:15  2022-08-07 21:41:46   \n",
       "1  DAD198F405F9C5F5  electric_bike  2022-08-08 14:39:21  2022-08-08 14:53:23   \n",
       "2  E6F2BC47B65CB7FD  electric_bike  2022-08-08 15:29:50  2022-08-08 15:40:34   \n",
       "3  F597830181C2E13C  electric_bike  2022-08-08 02:43:50  2022-08-08 02:58:53   \n",
       "4  0CE689BB4E313E8D  electric_bike  2022-08-07 20:24:06  2022-08-07 20:29:58   \n",
       "\n",
       "  start_station_name start_station_id end_station_name end_station_id  \\\n",
       "0                NaN              NaN              NaN            NaN   \n",
       "1                NaN              NaN              NaN            NaN   \n",
       "2                NaN              NaN              NaN            NaN   \n",
       "3                NaN              NaN              NaN            NaN   \n",
       "4                NaN              NaN              NaN            NaN   \n",
       "\n",
       "   start_lat  start_lng  end_lat  end_lng member_casual  \n",
       "0      41.93     -87.69    41.94   -87.72        casual  \n",
       "1      41.89     -87.64    41.92   -87.64        casual  \n",
       "2      41.97     -87.69    41.97   -87.66        casual  \n",
       "3      41.94     -87.65    41.97   -87.69        casual  \n",
       "4      41.85     -87.65    41.84   -87.66        casual  "
      ]
     },
     "execution_count": 6,
     "metadata": {},
     "output_type": "execute_result"
    }
   ],
   "source": [
    "df.head()"
   ]
  },
  {
   "cell_type": "code",
   "execution_count": 7,
   "metadata": {},
   "outputs": [
    {
     "name": "stdout",
     "output_type": "stream",
     "text": [
      "<class 'pandas.core.frame.DataFrame'>\n",
      "Int64Index: 5829030 entries, 0 to 190300\n",
      "Data columns (total 13 columns):\n",
      " #   Column              Dtype  \n",
      "---  ------              -----  \n",
      " 0   ride_id             object \n",
      " 1   rideable_type       object \n",
      " 2   started_at          object \n",
      " 3   ended_at            object \n",
      " 4   start_station_name  object \n",
      " 5   start_station_id    object \n",
      " 6   end_station_name    object \n",
      " 7   end_station_id      object \n",
      " 8   start_lat           float64\n",
      " 9   start_lng           float64\n",
      " 10  end_lat             float64\n",
      " 11  end_lng             float64\n",
      " 12  member_casual       object \n",
      "dtypes: float64(4), object(9)\n",
      "memory usage: 622.6+ MB\n"
     ]
    }
   ],
   "source": [
    "df.info()\n",
    "# seems like started and ended at isn't datetime  we need to change it to datetime"
   ]
  },
  {
   "cell_type": "code",
   "execution_count": 8,
   "metadata": {},
   "outputs": [
    {
     "data": {
      "text/plain": [
       "0"
      ]
     },
     "execution_count": 8,
     "metadata": {},
     "output_type": "execute_result"
    }
   ],
   "source": [
    "df.duplicated().sum()\n",
    "# seems like this file doesn't have any duplicates"
   ]
  },
  {
   "cell_type": "code",
   "execution_count": 9,
   "metadata": {},
   "outputs": [
    {
     "data": {
      "text/plain": [
       "(5829030, 13)"
      ]
     },
     "execution_count": 9,
     "metadata": {},
     "output_type": "execute_result"
    }
   ],
   "source": [
    "df.shape\n",
    "# seems like we have a huge file "
   ]
  },
  {
   "cell_type": "code",
   "execution_count": 10,
   "metadata": {},
   "outputs": [
    {
     "data": {
      "text/plain": [
       "<Axes: >"
      ]
     },
     "execution_count": 10,
     "metadata": {},
     "output_type": "execute_result"
    },
    {
     "data": {
      "image/png": "[encoded data removed]",
      "text/plain": [
       "<Figure size 640x480 with 2 Axes>"
      ]
     },
     "metadata": {},
     "output_type": "display_data"
    }
   ],
   "source": [
    "sns.heatmap(df.isnull())"
   ]
  },
  {
   "cell_type": "code",
   "execution_count": 11,
   "metadata": {},
   "outputs": [
    {
     "data": {
      "text/plain": [
       "ride_id                    0\n",
       "rideable_type              0\n",
       "started_at                 0\n",
       "ended_at                   0\n",
       "start_station_name    834545\n",
       "start_station_id      834677\n",
       "end_station_name      891757\n",
       "end_station_id        891898\n",
       "start_lat                  0\n",
       "start_lng                  0\n",
       "end_lat                 5961\n",
       "end_lng                 5961\n",
       "member_casual              0\n",
       "dtype: int64"
      ]
     },
     "execution_count": 11,
     "metadata": {},
     "output_type": "execute_result"
    }
   ],
   "source": [
    "df.isnull().sum()"
   ]
  },
  {
   "cell_type": "code",
   "execution_count": 12,
   "metadata": {},
   "outputs": [
    {
     "data": {
      "text/plain": [
       "ride_id                0.000000\n",
       "rideable_type          0.000000\n",
       "started_at             0.000000\n",
       "ended_at               0.000000\n",
       "start_station_name    14.317048\n",
       "start_station_id      14.319312\n",
       "end_station_name      15.298549\n",
       "end_station_id        15.300968\n",
       "start_lat              0.000000\n",
       "start_lng              0.000000\n",
       "end_lat                0.102264\n",
       "end_lng                0.102264\n",
       "member_casual          0.000000\n",
       "dtype: float64"
      ]
     },
     "execution_count": 12,
     "metadata": {},
     "output_type": "execute_result"
    }
   ],
   "source": [
    "# % of null values in the data\n",
    "100*df.isnull().sum()/len(df)"
   ]
  },
  {
   "cell_type": "code",
   "execution_count": 13,
   "metadata": {},
   "outputs": [],
   "source": [
    "# dropping the nulls\n",
    "df = df.dropna()"
   ]
  },
  {
   "cell_type": "code",
   "execution_count": 14,
   "metadata": {},
   "outputs": [
    {
     "data": {
      "text/plain": [
       "ride_id               0\n",
       "rideable_type         0\n",
       "started_at            0\n",
       "ended_at              0\n",
       "start_station_name    0\n",
       "start_station_id      0\n",
       "end_station_name      0\n",
       "end_station_id        0\n",
       "start_lat             0\n",
       "start_lng             0\n",
       "end_lat               0\n",
       "end_lng               0\n",
       "member_casual         0\n",
       "dtype: int64"
      ]
     },
     "execution_count": 14,
     "metadata": {},
     "output_type": "execute_result"
    }
   ],
   "source": [
    "df.isnull().sum()"
   ]
  },
  {
   "cell_type": "code",
   "execution_count": 15,
   "metadata": {},
   "outputs": [],
   "source": [
    "df['started_at'] = pd.to_datetime(df['started_at'])"
   ]
  },
  {
   "cell_type": "code",
   "execution_count": 16,
   "metadata": {},
   "outputs": [],
   "source": [
    "df['ended_at'] = pd.to_datetime(df['ended_at'])"
   ]
  },
  {
   "cell_type": "code",
   "execution_count": 17,
   "metadata": {},
   "outputs": [
    {
     "data": {
      "text/plain": [
       "142      0 days 00:09:04\n",
       "271      0 days 00:00:45\n",
       "329      0 days 01:01:38\n",
       "357      0 days 00:14:18\n",
       "422      0 days 01:32:38\n",
       "               ...      \n",
       "190296   0 days 00:11:08\n",
       "190297   0 days 00:25:16\n",
       "190298   0 days 00:15:11\n",
       "190299   0 days 00:15:20\n",
       "190300   0 days 00:11:00\n",
       "Length: 4494681, dtype: timedelta64[ns]"
      ]
     },
     "execution_count": 17,
     "metadata": {},
     "output_type": "execute_result"
    }
   ],
   "source": [
    "df['ended_at'] - df['started_at']"
   ]
  },
  {
   "cell_type": "code",
   "execution_count": 18,
   "metadata": {},
   "outputs": [
    {
     "data": {
      "text/html": [
       "<div>\n",
       "<style scoped>\n",
       "    .dataframe tbody tr th:only-of-type {\n",
       "        vertical-align: middle;\n",
       "    }\n",
       "\n",
       "    .dataframe tbody tr th {\n",
       "        vertical-align: top;\n",
       "    }\n",
       "\n",
       "    .dataframe thead th {\n",
       "        text-align: right;\n",
       "    }\n",
       "</style>\n",
       "<table border=\"1\" class=\"dataframe\">\n",
       "  <thead>\n",
       "    <tr style=\"text-align: right;\">\n",
       "      <th></th>\n",
       "      <th>ride_id</th>\n",
       "      <th>rideable_type</th>\n",
       "      <th>started_at</th>\n",
       "      <th>ended_at</th>\n",
       "      <th>start_station_name</th>\n",
       "      <th>start_station_id</th>\n",
       "      <th>end_station_name</th>\n",
       "      <th>end_station_id</th>\n",
       "      <th>start_lat</th>\n",
       "      <th>start_lng</th>\n",
       "      <th>end_lat</th>\n",
       "      <th>end_lng</th>\n",
       "      <th>member_casual</th>\n",
       "    </tr>\n",
       "  </thead>\n",
       "  <tbody>\n",
       "    <tr>\n",
       "      <th>265788</th>\n",
       "      <td>BD0B84E552536029</td>\n",
       "      <td>electric_bike</td>\n",
       "      <td>2022-08-01 13:21:10</td>\n",
       "      <td>2022-08-01 13:21:05</td>\n",
       "      <td>Clark St &amp; Armitage Ave</td>\n",
       "      <td>13146</td>\n",
       "      <td>Clark St &amp; Armitage Ave</td>\n",
       "      <td>13146</td>\n",
       "      <td>41.918310</td>\n",
       "      <td>-87.636293</td>\n",
       "      <td>41.918306</td>\n",
       "      <td>-87.636282</td>\n",
       "      <td>member</td>\n",
       "    </tr>\n",
       "    <tr>\n",
       "      <th>288153</th>\n",
       "      <td>3D99C9D3AB75E23F</td>\n",
       "      <td>electric_bike</td>\n",
       "      <td>2022-08-22 13:05:10</td>\n",
       "      <td>2022-08-22 13:04:48</td>\n",
       "      <td>Streeter Dr &amp; Grand Ave</td>\n",
       "      <td>13022</td>\n",
       "      <td>Streeter Dr &amp; Grand Ave</td>\n",
       "      <td>13022</td>\n",
       "      <td>41.892139</td>\n",
       "      <td>-87.611958</td>\n",
       "      <td>41.892278</td>\n",
       "      <td>-87.612043</td>\n",
       "      <td>casual</td>\n",
       "    </tr>\n",
       "    <tr>\n",
       "      <th>595943</th>\n",
       "      <td>179F7874064251C8</td>\n",
       "      <td>classic_bike</td>\n",
       "      <td>2022-08-05 16:35:21</td>\n",
       "      <td>2022-08-05 16:35:20</td>\n",
       "      <td>Clark St &amp; Montrose Ave</td>\n",
       "      <td>KA1503000022</td>\n",
       "      <td>Clark St &amp; Montrose Ave</td>\n",
       "      <td>KA1503000022</td>\n",
       "      <td>41.961588</td>\n",
       "      <td>-87.666036</td>\n",
       "      <td>41.961588</td>\n",
       "      <td>-87.666036</td>\n",
       "      <td>casual</td>\n",
       "    </tr>\n",
       "    <tr>\n",
       "      <th>677294</th>\n",
       "      <td>C0C8DB0E2EA5B9E4</td>\n",
       "      <td>electric_bike</td>\n",
       "      <td>2022-08-25 00:40:51</td>\n",
       "      <td>2022-08-25 00:39:34</td>\n",
       "      <td>Lincoln Ave &amp; Roscoe St*</td>\n",
       "      <td>chargingstx5</td>\n",
       "      <td>Lincoln Ave &amp; Roscoe St*</td>\n",
       "      <td>chargingstx5</td>\n",
       "      <td>41.943302</td>\n",
       "      <td>-87.670862</td>\n",
       "      <td>41.943350</td>\n",
       "      <td>-87.670668</td>\n",
       "      <td>member</td>\n",
       "    </tr>\n",
       "    <tr>\n",
       "      <th>677528</th>\n",
       "      <td>953BF4B707AEE983</td>\n",
       "      <td>electric_bike</td>\n",
       "      <td>2022-08-27 12:44:27</td>\n",
       "      <td>2022-08-27 12:43:39</td>\n",
       "      <td>Lincoln Ave &amp; Roscoe St*</td>\n",
       "      <td>chargingstx5</td>\n",
       "      <td>Lincoln Ave &amp; Roscoe St*</td>\n",
       "      <td>chargingstx5</td>\n",
       "      <td>41.943289</td>\n",
       "      <td>-87.670938</td>\n",
       "      <td>41.943350</td>\n",
       "      <td>-87.670668</td>\n",
       "      <td>member</td>\n",
       "    </tr>\n",
       "    <tr>\n",
       "      <th>...</th>\n",
       "      <td>...</td>\n",
       "      <td>...</td>\n",
       "      <td>...</td>\n",
       "      <td>...</td>\n",
       "      <td>...</td>\n",
       "      <td>...</td>\n",
       "      <td>...</td>\n",
       "      <td>...</td>\n",
       "      <td>...</td>\n",
       "      <td>...</td>\n",
       "      <td>...</td>\n",
       "      <td>...</td>\n",
       "      <td>...</td>\n",
       "    </tr>\n",
       "    <tr>\n",
       "      <th>131600</th>\n",
       "      <td>5387FB2D8D6AC0F3</td>\n",
       "      <td>electric_bike</td>\n",
       "      <td>2022-09-30 17:27:30</td>\n",
       "      <td>2022-09-30 17:27:26</td>\n",
       "      <td>Halsted St &amp; Polk St</td>\n",
       "      <td>TA1307000121</td>\n",
       "      <td>Halsted St &amp; Polk St</td>\n",
       "      <td>TA1307000121</td>\n",
       "      <td>41.871709</td>\n",
       "      <td>-87.646788</td>\n",
       "      <td>41.871840</td>\n",
       "      <td>-87.646640</td>\n",
       "      <td>member</td>\n",
       "    </tr>\n",
       "    <tr>\n",
       "      <th>215969</th>\n",
       "      <td>871B757480E7208F</td>\n",
       "      <td>classic_bike</td>\n",
       "      <td>2022-09-14 17:47:44</td>\n",
       "      <td>2022-09-14 17:47:34</td>\n",
       "      <td>Lincoln Ave &amp; Roscoe St*</td>\n",
       "      <td>chargingstx5</td>\n",
       "      <td>Lincoln Ave &amp; Roscoe St*</td>\n",
       "      <td>chargingstx5</td>\n",
       "      <td>41.943350</td>\n",
       "      <td>-87.670668</td>\n",
       "      <td>41.943350</td>\n",
       "      <td>-87.670668</td>\n",
       "      <td>member</td>\n",
       "    </tr>\n",
       "    <tr>\n",
       "      <th>215983</th>\n",
       "      <td>4890C455C466940F</td>\n",
       "      <td>electric_bike</td>\n",
       "      <td>2022-09-08 18:00:55</td>\n",
       "      <td>2022-09-08 18:00:32</td>\n",
       "      <td>Lincoln Ave &amp; Roscoe St*</td>\n",
       "      <td>chargingstx5</td>\n",
       "      <td>Lincoln Ave &amp; Roscoe St*</td>\n",
       "      <td>chargingstx5</td>\n",
       "      <td>41.943246</td>\n",
       "      <td>-87.670936</td>\n",
       "      <td>41.943350</td>\n",
       "      <td>-87.670668</td>\n",
       "      <td>member</td>\n",
       "    </tr>\n",
       "    <tr>\n",
       "      <th>230627</th>\n",
       "      <td>BB630AE8E6017B58</td>\n",
       "      <td>electric_bike</td>\n",
       "      <td>2022-09-05 17:56:42</td>\n",
       "      <td>2022-09-05 17:56:41</td>\n",
       "      <td>Millennium Park</td>\n",
       "      <td>13008</td>\n",
       "      <td>Millennium Park</td>\n",
       "      <td>13008</td>\n",
       "      <td>41.881182</td>\n",
       "      <td>-87.623962</td>\n",
       "      <td>41.881032</td>\n",
       "      <td>-87.624084</td>\n",
       "      <td>casual</td>\n",
       "    </tr>\n",
       "    <tr>\n",
       "      <th>477655</th>\n",
       "      <td>47E70E6F8939C541</td>\n",
       "      <td>electric_bike</td>\n",
       "      <td>2022-09-08 15:55:54</td>\n",
       "      <td>2022-09-08 15:53:24</td>\n",
       "      <td>Halsted St &amp; Roscoe St</td>\n",
       "      <td>TA1309000025</td>\n",
       "      <td>Halsted St &amp; Roscoe St</td>\n",
       "      <td>TA1309000025</td>\n",
       "      <td>41.943648</td>\n",
       "      <td>-87.648931</td>\n",
       "      <td>41.943670</td>\n",
       "      <td>-87.648950</td>\n",
       "      <td>casual</td>\n",
       "    </tr>\n",
       "  </tbody>\n",
       "</table>\n",
       "<p>75 rows × 13 columns</p>\n",
       "</div>"
      ],
      "text/plain": [
       "                 ride_id  rideable_type          started_at  \\\n",
       "265788  BD0B84E552536029  electric_bike 2022-08-01 13:21:10   \n",
       "288153  3D99C9D3AB75E23F  electric_bike 2022-08-22 13:05:10   \n",
       "595943  179F7874064251C8   classic_bike 2022-08-05 16:35:21   \n",
       "677294  C0C8DB0E2EA5B9E4  electric_bike 2022-08-25 00:40:51   \n",
       "677528  953BF4B707AEE983  electric_bike 2022-08-27 12:44:27   \n",
       "...                  ...            ...                 ...   \n",
       "131600  5387FB2D8D6AC0F3  electric_bike 2022-09-30 17:27:30   \n",
       "215969  871B757480E7208F   classic_bike 2022-09-14 17:47:44   \n",
       "215983  4890C455C466940F  electric_bike 2022-09-08 18:00:55   \n",
       "230627  BB630AE8E6017B58  electric_bike 2022-09-05 17:56:42   \n",
       "477655  47E70E6F8939C541  electric_bike 2022-09-08 15:55:54   \n",
       "\n",
       "                  ended_at        start_station_name start_station_id  \\\n",
       "265788 2022-08-01 13:21:05   Clark St & Armitage Ave            13146   \n",
       "288153 2022-08-22 13:04:48   Streeter Dr & Grand Ave            13022   \n",
       "595943 2022-08-05 16:35:20   Clark St & Montrose Ave     KA1503000022   \n",
       "677294 2022-08-25 00:39:34  Lincoln Ave & Roscoe St*     chargingstx5   \n",
       "677528 2022-08-27 12:43:39  Lincoln Ave & Roscoe St*     chargingstx5   \n",
       "...                    ...                       ...              ...   \n",
       "131600 2022-09-30 17:27:26      Halsted St & Polk St     TA1307000121   \n",
       "215969 2022-09-14 17:47:34  Lincoln Ave & Roscoe St*     chargingstx5   \n",
       "215983 2022-09-08 18:00:32  Lincoln Ave & Roscoe St*     chargingstx5   \n",
       "230627 2022-09-05 17:56:41           Millennium Park            13008   \n",
       "477655 2022-09-08 15:53:24    Halsted St & Roscoe St     TA1309000025   \n",
       "\n",
       "                end_station_name end_station_id  start_lat  start_lng  \\\n",
       "265788   Clark St & Armitage Ave          13146  41.918310 -87.636293   \n",
       "288153   Streeter Dr & Grand Ave          13022  41.892139 -87.611958   \n",
       "595943   Clark St & Montrose Ave   KA1503000022  41.961588 -87.666036   \n",
       "677294  Lincoln Ave & Roscoe St*   chargingstx5  41.943302 -87.670862   \n",
       "677528  Lincoln Ave & Roscoe St*   chargingstx5  41.943289 -87.670938   \n",
       "...                          ...            ...        ...        ...   \n",
       "131600      Halsted St & Polk St   TA1307000121  41.871709 -87.646788   \n",
       "215969  Lincoln Ave & Roscoe St*   chargingstx5  41.943350 -87.670668   \n",
       "215983  Lincoln Ave & Roscoe St*   chargingstx5  41.943246 -87.670936   \n",
       "230627           Millennium Park          13008  41.881182 -87.623962   \n",
       "477655    Halsted St & Roscoe St   TA1309000025  41.943648 -87.648931   \n",
       "\n",
       "          end_lat    end_lng member_casual  \n",
       "265788  41.918306 -87.636282        member  \n",
       "288153  41.892278 -87.612043        casual  \n",
       "595943  41.961588 -87.666036        casual  \n",
       "677294  41.943350 -87.670668        member  \n",
       "677528  41.943350 -87.670668        member  \n",
       "...           ...        ...           ...  \n",
       "131600  41.871840 -87.646640        member  \n",
       "215969  41.943350 -87.670668        member  \n",
       "215983  41.943350 -87.670668        member  \n",
       "230627  41.881032 -87.624084        casual  \n",
       "477655  41.943670 -87.648950        casual  \n",
       "\n",
       "[75 rows x 13 columns]"
      ]
     },
     "execution_count": 18,
     "metadata": {},
     "output_type": "execute_result"
    }
   ],
   "source": [
    "df[df['started_at'] > df['ended_at']]"
   ]
  },
  {
   "cell_type": "code",
   "execution_count": 19,
   "metadata": {},
   "outputs": [
    {
     "data": {
      "text/plain": [
       "241C440C74CB31BB    1\n",
       "293DEA2769D8CCF9    1\n",
       "BB12DC1ABB14F851    1\n",
       "E0878D7639FD1A18    1\n",
       "17F10BBA3523CECB    1\n",
       "                   ..\n",
       "A62D0851CC3906AC    1\n",
       "D284D1886CFF4129    1\n",
       "D63BF2904D0460F2    1\n",
       "EB699855EAB5284D    1\n",
       "069971675AC7DC62    1\n",
       "Name: ride_id, Length: 4494681, dtype: int64"
      ]
     },
     "execution_count": 19,
     "metadata": {},
     "output_type": "execute_result"
    }
   ],
   "source": [
    "df['ride_id'].value_counts(ascending=False)\n",
    "# seems like there are not unique values on bike id. "
   ]
  },
  {
   "cell_type": "code",
   "execution_count": 20,
   "metadata": {},
   "outputs": [
    {
     "data": {
      "text/plain": [
       "(75, 13)"
      ]
     },
     "execution_count": 20,
     "metadata": {},
     "output_type": "execute_result"
    }
   ],
   "source": [
    "# checking if theres any start time is older than the end time\n",
    "df[df['started_at'] > df['ended_at']].shape"
   ]
  },
  {
   "cell_type": "code",
   "execution_count": 21,
   "metadata": {},
   "outputs": [],
   "source": [
    "# taking out rows that the column \"started_at\" comes after \"ended_at\"\n",
    "df = df[df['started_at'] < df['ended_at']]"
   ]
  },
  {
   "cell_type": "markdown",
   "metadata": {},
   "source": [
    "## Adding Columns\n",
    "- we want to add the day, month, year, and day of the week when people start biking"
   ]
  },
  {
   "cell_type": "code",
   "execution_count": 22,
   "metadata": {},
   "outputs": [],
   "source": [
    "df['hour'] = df['started_at'].dt.hour"
   ]
  },
  {
   "cell_type": "code",
   "execution_count": 23,
   "metadata": {},
   "outputs": [],
   "source": [
    "df['day'] = df['started_at'].dt.day"
   ]
  },
  {
   "cell_type": "code",
   "execution_count": 24,
   "metadata": {},
   "outputs": [],
   "source": [
    "df['day of week'] = df['started_at'].dt.day_of_week"
   ]
  },
  {
   "cell_type": "code",
   "execution_count": 25,
   "metadata": {},
   "outputs": [],
   "source": [
    "df['month'] = df['started_at'].dt.month"
   ]
  },
  {
   "cell_type": "code",
   "execution_count": 26,
   "metadata": {},
   "outputs": [],
   "source": [
    "df['year'] = df['started_at'].dt.year"
   ]
  },
  {
   "cell_type": "code",
   "execution_count": 27,
   "metadata": {},
   "outputs": [
    {
     "data": {
      "text/html": [
       "<div>\n",
       "<style scoped>\n",
       "    .dataframe tbody tr th:only-of-type {\n",
       "        vertical-align: middle;\n",
       "    }\n",
       "\n",
       "    .dataframe tbody tr th {\n",
       "        vertical-align: top;\n",
       "    }\n",
       "\n",
       "    .dataframe thead th {\n",
       "        text-align: right;\n",
       "    }\n",
       "</style>\n",
       "<table border=\"1\" class=\"dataframe\">\n",
       "  <thead>\n",
       "    <tr style=\"text-align: right;\">\n",
       "      <th></th>\n",
       "      <th>ride_id</th>\n",
       "      <th>rideable_type</th>\n",
       "      <th>started_at</th>\n",
       "      <th>ended_at</th>\n",
       "      <th>start_station_name</th>\n",
       "      <th>start_station_id</th>\n",
       "      <th>end_station_name</th>\n",
       "      <th>end_station_id</th>\n",
       "      <th>start_lat</th>\n",
       "      <th>start_lng</th>\n",
       "      <th>end_lat</th>\n",
       "      <th>end_lng</th>\n",
       "      <th>member_casual</th>\n",
       "      <th>hour</th>\n",
       "      <th>day</th>\n",
       "      <th>day of week</th>\n",
       "      <th>month</th>\n",
       "      <th>year</th>\n",
       "    </tr>\n",
       "  </thead>\n",
       "  <tbody>\n",
       "    <tr>\n",
       "      <th>142</th>\n",
       "      <td>241C440C74CB31BB</td>\n",
       "      <td>classic_bike</td>\n",
       "      <td>2022-08-05 16:13:36</td>\n",
       "      <td>2022-08-05 16:22:40</td>\n",
       "      <td>DuSable Museum</td>\n",
       "      <td>KA1503000075</td>\n",
       "      <td>Cottage Grove Ave &amp; 51st St</td>\n",
       "      <td>TA1309000067</td>\n",
       "      <td>41.791568</td>\n",
       "      <td>-87.607852</td>\n",
       "      <td>41.803038</td>\n",
       "      <td>-87.606615</td>\n",
       "      <td>casual</td>\n",
       "      <td>16</td>\n",
       "      <td>5</td>\n",
       "      <td>4</td>\n",
       "      <td>8</td>\n",
       "      <td>2022</td>\n",
       "    </tr>\n",
       "    <tr>\n",
       "      <th>271</th>\n",
       "      <td>53A7590B28ED25E2</td>\n",
       "      <td>classic_bike</td>\n",
       "      <td>2022-08-11 23:30:11</td>\n",
       "      <td>2022-08-11 23:30:56</td>\n",
       "      <td>California Ave &amp; Milwaukee Ave</td>\n",
       "      <td>13084</td>\n",
       "      <td>California Ave &amp; Milwaukee Ave</td>\n",
       "      <td>13084</td>\n",
       "      <td>41.922695</td>\n",
       "      <td>-87.697153</td>\n",
       "      <td>41.922695</td>\n",
       "      <td>-87.697153</td>\n",
       "      <td>casual</td>\n",
       "      <td>23</td>\n",
       "      <td>11</td>\n",
       "      <td>3</td>\n",
       "      <td>8</td>\n",
       "      <td>2022</td>\n",
       "    </tr>\n",
       "    <tr>\n",
       "      <th>329</th>\n",
       "      <td>C34EE790A58C0434</td>\n",
       "      <td>classic_bike</td>\n",
       "      <td>2022-08-21 14:09:08</td>\n",
       "      <td>2022-08-21 15:10:46</td>\n",
       "      <td>California Ave &amp; Division St</td>\n",
       "      <td>13256</td>\n",
       "      <td>California Ave &amp; Division St</td>\n",
       "      <td>13256</td>\n",
       "      <td>41.903029</td>\n",
       "      <td>-87.697474</td>\n",
       "      <td>41.903029</td>\n",
       "      <td>-87.697474</td>\n",
       "      <td>casual</td>\n",
       "      <td>14</td>\n",
       "      <td>21</td>\n",
       "      <td>6</td>\n",
       "      <td>8</td>\n",
       "      <td>2022</td>\n",
       "    </tr>\n",
       "    <tr>\n",
       "      <th>357</th>\n",
       "      <td>49259B4BA064D81B</td>\n",
       "      <td>electric_bike</td>\n",
       "      <td>2022-08-21 16:15:12</td>\n",
       "      <td>2022-08-21 16:29:30</td>\n",
       "      <td>Wood St &amp; Chicago Ave</td>\n",
       "      <td>637</td>\n",
       "      <td>Wood St &amp; Chicago Ave</td>\n",
       "      <td>637</td>\n",
       "      <td>41.895673</td>\n",
       "      <td>-87.672075</td>\n",
       "      <td>41.895634</td>\n",
       "      <td>-87.672069</td>\n",
       "      <td>casual</td>\n",
       "      <td>16</td>\n",
       "      <td>21</td>\n",
       "      <td>6</td>\n",
       "      <td>8</td>\n",
       "      <td>2022</td>\n",
       "    </tr>\n",
       "    <tr>\n",
       "      <th>422</th>\n",
       "      <td>BEE91D557E47FE83</td>\n",
       "      <td>classic_bike</td>\n",
       "      <td>2022-08-21 02:11:26</td>\n",
       "      <td>2022-08-21 03:44:04</td>\n",
       "      <td>California Ave &amp; Milwaukee Ave</td>\n",
       "      <td>13084</td>\n",
       "      <td>California Ave &amp; Milwaukee Ave</td>\n",
       "      <td>13084</td>\n",
       "      <td>41.922695</td>\n",
       "      <td>-87.697153</td>\n",
       "      <td>41.922695</td>\n",
       "      <td>-87.697153</td>\n",
       "      <td>casual</td>\n",
       "      <td>2</td>\n",
       "      <td>21</td>\n",
       "      <td>6</td>\n",
       "      <td>8</td>\n",
       "      <td>2022</td>\n",
       "    </tr>\n",
       "  </tbody>\n",
       "</table>\n",
       "</div>"
      ],
      "text/plain": [
       "              ride_id  rideable_type          started_at            ended_at  \\\n",
       "142  241C440C74CB31BB   classic_bike 2022-08-05 16:13:36 2022-08-05 16:22:40   \n",
       "271  53A7590B28ED25E2   classic_bike 2022-08-11 23:30:11 2022-08-11 23:30:56   \n",
       "329  C34EE790A58C0434   classic_bike 2022-08-21 14:09:08 2022-08-21 15:10:46   \n",
       "357  49259B4BA064D81B  electric_bike 2022-08-21 16:15:12 2022-08-21 16:29:30   \n",
       "422  BEE91D557E47FE83   classic_bike 2022-08-21 02:11:26 2022-08-21 03:44:04   \n",
       "\n",
       "                 start_station_name start_station_id  \\\n",
       "142                  DuSable Museum     KA1503000075   \n",
       "271  California Ave & Milwaukee Ave            13084   \n",
       "329    California Ave & Division St            13256   \n",
       "357           Wood St & Chicago Ave              637   \n",
       "422  California Ave & Milwaukee Ave            13084   \n",
       "\n",
       "                   end_station_name end_station_id  start_lat  start_lng  \\\n",
       "142     Cottage Grove Ave & 51st St   TA1309000067  41.791568 -87.607852   \n",
       "271  California Ave & Milwaukee Ave          13084  41.922695 -87.697153   \n",
       "329    California Ave & Division St          13256  41.903029 -87.697474   \n",
       "357           Wood St & Chicago Ave            637  41.895673 -87.672075   \n",
       "422  California Ave & Milwaukee Ave          13084  41.922695 -87.697153   \n",
       "\n",
       "       end_lat    end_lng member_casual  hour  day  day of week  month  year  \n",
       "142  41.803038 -87.606615        casual    16    5            4      8  2022  \n",
       "271  41.922695 -87.697153        casual    23   11            3      8  2022  \n",
       "329  41.903029 -87.697474        casual    14   21            6      8  2022  \n",
       "357  41.895634 -87.672069        casual    16   21            6      8  2022  \n",
       "422  41.922695 -87.697153        casual     2   21            6      8  2022  "
      ]
     },
     "execution_count": 27,
     "metadata": {},
     "output_type": "execute_result"
    }
   ],
   "source": [
    "df.head()"
   ]
  },
  {
   "cell_type": "code",
   "execution_count": 28,
   "metadata": {},
   "outputs": [
    {
     "name": "stdout",
     "output_type": "stream",
     "text": [
      "<class 'pandas.core.frame.DataFrame'>\n",
      "Int64Index: 4494342 entries, 142 to 190300\n",
      "Data columns (total 18 columns):\n",
      " #   Column              Dtype         \n",
      "---  ------              -----         \n",
      " 0   ride_id             object        \n",
      " 1   rideable_type       object        \n",
      " 2   started_at          datetime64[ns]\n",
      " 3   ended_at            datetime64[ns]\n",
      " 4   start_station_name  object        \n",
      " 5   start_station_id    object        \n",
      " 6   end_station_name    object        \n",
      " 7   end_station_id      object        \n",
      " 8   start_lat           float64       \n",
      " 9   start_lng           float64       \n",
      " 10  end_lat             float64       \n",
      " 11  end_lng             float64       \n",
      " 12  member_casual       object        \n",
      " 13  hour                int64         \n",
      " 14  day                 int64         \n",
      " 15  day of week         int64         \n",
      " 16  month               int64         \n",
      " 17  year                int64         \n",
      "dtypes: datetime64[ns](2), float64(4), int64(5), object(7)\n",
      "memory usage: 651.5+ MB\n"
     ]
    }
   ],
   "source": [
    "df.info()"
   ]
  },
  {
   "cell_type": "code",
   "execution_count": 29,
   "metadata": {},
   "outputs": [
    {
     "data": {
      "text/plain": [
       "array([4, 3, 6, 5, 1, 2, 0])"
      ]
     },
     "execution_count": 29,
     "metadata": {},
     "output_type": "execute_result"
    }
   ],
   "source": [
    "# we want to make the column \"day of week\" to a string so that we can change the number to the actually day\n",
    "# 0 - Monday, 1 - Tuesday, 2 - Wednesday, 3 - Thursday, 4 - Friday, 5 - Saturday, 6 - Sunday\n",
    "df['day of week'].unique()"
   ]
  },
  {
   "cell_type": "code",
   "execution_count": 30,
   "metadata": {},
   "outputs": [],
   "source": [
    "df['day of week'] = df['day of week'].astype(str)"
   ]
  },
  {
   "cell_type": "code",
   "execution_count": 31,
   "metadata": {},
   "outputs": [],
   "source": [
    "dow = {'0':'Monday','1':'Tuesday','2':'Wednesday','3':'Thursday','4':'Friday','5':'Saturday','6':'Sunday'}"
   ]
  },
  {
   "cell_type": "code",
   "execution_count": 32,
   "metadata": {},
   "outputs": [],
   "source": [
    "df['day of week'] = df['day of week'].map(dow)"
   ]
  },
  {
   "cell_type": "code",
   "execution_count": 33,
   "metadata": {},
   "outputs": [],
   "source": [
    "month = {'1':'January','2':'February','3':'March','4':'April','5':'May','6':'June','7':'July',\n",
    "         '8':'August','9':'September','10':'October','11':'November','12':'December'}\n",
    "df['month'] = df['month'].astype(str).map(month)"
   ]
  },
  {
   "cell_type": "code",
   "execution_count": 34,
   "metadata": {},
   "outputs": [
    {
     "data": {
      "text/html": [
       "<div>\n",
       "<style scoped>\n",
       "    .dataframe tbody tr th:only-of-type {\n",
       "        vertical-align: middle;\n",
       "    }\n",
       "\n",
       "    .dataframe tbody tr th {\n",
       "        vertical-align: top;\n",
       "    }\n",
       "\n",
       "    .dataframe thead th {\n",
       "        text-align: right;\n",
       "    }\n",
       "</style>\n",
       "<table border=\"1\" class=\"dataframe\">\n",
       "  <thead>\n",
       "    <tr style=\"text-align: right;\">\n",
       "      <th></th>\n",
       "      <th>ride_id</th>\n",
       "      <th>rideable_type</th>\n",
       "      <th>started_at</th>\n",
       "      <th>ended_at</th>\n",
       "      <th>start_station_name</th>\n",
       "      <th>start_station_id</th>\n",
       "      <th>end_station_name</th>\n",
       "      <th>end_station_id</th>\n",
       "      <th>start_lat</th>\n",
       "      <th>start_lng</th>\n",
       "      <th>end_lat</th>\n",
       "      <th>end_lng</th>\n",
       "      <th>member_casual</th>\n",
       "      <th>hour</th>\n",
       "      <th>day</th>\n",
       "      <th>day of week</th>\n",
       "      <th>month</th>\n",
       "      <th>year</th>\n",
       "    </tr>\n",
       "  </thead>\n",
       "  <tbody>\n",
       "    <tr>\n",
       "      <th>142</th>\n",
       "      <td>241C440C74CB31BB</td>\n",
       "      <td>classic_bike</td>\n",
       "      <td>2022-08-05 16:13:36</td>\n",
       "      <td>2022-08-05 16:22:40</td>\n",
       "      <td>DuSable Museum</td>\n",
       "      <td>KA1503000075</td>\n",
       "      <td>Cottage Grove Ave &amp; 51st St</td>\n",
       "      <td>TA1309000067</td>\n",
       "      <td>41.791568</td>\n",
       "      <td>-87.607852</td>\n",
       "      <td>41.803038</td>\n",
       "      <td>-87.606615</td>\n",
       "      <td>casual</td>\n",
       "      <td>16</td>\n",
       "      <td>5</td>\n",
       "      <td>Friday</td>\n",
       "      <td>August</td>\n",
       "      <td>2022</td>\n",
       "    </tr>\n",
       "    <tr>\n",
       "      <th>271</th>\n",
       "      <td>53A7590B28ED25E2</td>\n",
       "      <td>classic_bike</td>\n",
       "      <td>2022-08-11 23:30:11</td>\n",
       "      <td>2022-08-11 23:30:56</td>\n",
       "      <td>California Ave &amp; Milwaukee Ave</td>\n",
       "      <td>13084</td>\n",
       "      <td>California Ave &amp; Milwaukee Ave</td>\n",
       "      <td>13084</td>\n",
       "      <td>41.922695</td>\n",
       "      <td>-87.697153</td>\n",
       "      <td>41.922695</td>\n",
       "      <td>-87.697153</td>\n",
       "      <td>casual</td>\n",
       "      <td>23</td>\n",
       "      <td>11</td>\n",
       "      <td>Thursday</td>\n",
       "      <td>August</td>\n",
       "      <td>2022</td>\n",
       "    </tr>\n",
       "    <tr>\n",
       "      <th>329</th>\n",
       "      <td>C34EE790A58C0434</td>\n",
       "      <td>classic_bike</td>\n",
       "      <td>2022-08-21 14:09:08</td>\n",
       "      <td>2022-08-21 15:10:46</td>\n",
       "      <td>California Ave &amp; Division St</td>\n",
       "      <td>13256</td>\n",
       "      <td>California Ave &amp; Division St</td>\n",
       "      <td>13256</td>\n",
       "      <td>41.903029</td>\n",
       "      <td>-87.697474</td>\n",
       "      <td>41.903029</td>\n",
       "      <td>-87.697474</td>\n",
       "      <td>casual</td>\n",
       "      <td>14</td>\n",
       "      <td>21</td>\n",
       "      <td>Sunday</td>\n",
       "      <td>August</td>\n",
       "      <td>2022</td>\n",
       "    </tr>\n",
       "    <tr>\n",
       "      <th>357</th>\n",
       "      <td>49259B4BA064D81B</td>\n",
       "      <td>electric_bike</td>\n",
       "      <td>2022-08-21 16:15:12</td>\n",
       "      <td>2022-08-21 16:29:30</td>\n",
       "      <td>Wood St &amp; Chicago Ave</td>\n",
       "      <td>637</td>\n",
       "      <td>Wood St &amp; Chicago Ave</td>\n",
       "      <td>637</td>\n",
       "      <td>41.895673</td>\n",
       "      <td>-87.672075</td>\n",
       "      <td>41.895634</td>\n",
       "      <td>-87.672069</td>\n",
       "      <td>casual</td>\n",
       "      <td>16</td>\n",
       "      <td>21</td>\n",
       "      <td>Sunday</td>\n",
       "      <td>August</td>\n",
       "      <td>2022</td>\n",
       "    </tr>\n",
       "    <tr>\n",
       "      <th>422</th>\n",
       "      <td>BEE91D557E47FE83</td>\n",
       "      <td>classic_bike</td>\n",
       "      <td>2022-08-21 02:11:26</td>\n",
       "      <td>2022-08-21 03:44:04</td>\n",
       "      <td>California Ave &amp; Milwaukee Ave</td>\n",
       "      <td>13084</td>\n",
       "      <td>California Ave &amp; Milwaukee Ave</td>\n",
       "      <td>13084</td>\n",
       "      <td>41.922695</td>\n",
       "      <td>-87.697153</td>\n",
       "      <td>41.922695</td>\n",
       "      <td>-87.697153</td>\n",
       "      <td>casual</td>\n",
       "      <td>2</td>\n",
       "      <td>21</td>\n",
       "      <td>Sunday</td>\n",
       "      <td>August</td>\n",
       "      <td>2022</td>\n",
       "    </tr>\n",
       "  </tbody>\n",
       "</table>\n",
       "</div>"
      ],
      "text/plain": [
       "              ride_id  rideable_type          started_at            ended_at  \\\n",
       "142  241C440C74CB31BB   classic_bike 2022-08-05 16:13:36 2022-08-05 16:22:40   \n",
       "271  53A7590B28ED25E2   classic_bike 2022-08-11 23:30:11 2022-08-11 23:30:56   \n",
       "329  C34EE790A58C0434   classic_bike 2022-08-21 14:09:08 2022-08-21 15:10:46   \n",
       "357  49259B4BA064D81B  electric_bike 2022-08-21 16:15:12 2022-08-21 16:29:30   \n",
       "422  BEE91D557E47FE83   classic_bike 2022-08-21 02:11:26 2022-08-21 03:44:04   \n",
       "\n",
       "                 start_station_name start_station_id  \\\n",
       "142                  DuSable Museum     KA1503000075   \n",
       "271  California Ave & Milwaukee Ave            13084   \n",
       "329    California Ave & Division St            13256   \n",
       "357           Wood St & Chicago Ave              637   \n",
       "422  California Ave & Milwaukee Ave            13084   \n",
       "\n",
       "                   end_station_name end_station_id  start_lat  start_lng  \\\n",
       "142     Cottage Grove Ave & 51st St   TA1309000067  41.791568 -87.607852   \n",
       "271  California Ave & Milwaukee Ave          13084  41.922695 -87.697153   \n",
       "329    California Ave & Division St          13256  41.903029 -87.697474   \n",
       "357           Wood St & Chicago Ave            637  41.895673 -87.672075   \n",
       "422  California Ave & Milwaukee Ave          13084  41.922695 -87.697153   \n",
       "\n",
       "       end_lat    end_lng member_casual  hour  day day of week   month  year  \n",
       "142  41.803038 -87.606615        casual    16    5      Friday  August  2022  \n",
       "271  41.922695 -87.697153        casual    23   11    Thursday  August  2022  \n",
       "329  41.903029 -87.697474        casual    14   21      Sunday  August  2022  \n",
       "357  41.895634 -87.672069        casual    16   21      Sunday  August  2022  \n",
       "422  41.922695 -87.697153        casual     2   21      Sunday  August  2022  "
      ]
     },
     "execution_count": 34,
     "metadata": {},
     "output_type": "execute_result"
    }
   ],
   "source": [
    "df.head()"
   ]
  },
  {
   "cell_type": "code",
   "execution_count": 35,
   "metadata": {},
   "outputs": [],
   "source": [
    "# Since our data is now clean, we can export the file to csv, so that we can import the csv to SQL.\n",
    "\n",
    "df.to_csv('Cyclist Data.csv',index=False)"
   ]
  }
 ],
 "metadata": {
  "kernelspec": {
   "display_name": "base",
   "language": "python",
   "name": "python3"
  },
  "language_info": {
   "codemirror_mode": {
    "name": "ipython",
    "version": 3
   },
   "file_extension": ".py",
   "mimetype": "text/x-python",
   "name": "python",
   "nbconvert_exporter": "python",
   "pygments_lexer": "ipython3",
   "version": "3.10.11"
  }
 },
 "nbformat": 4,
 "nbformat_minor": 2
}
